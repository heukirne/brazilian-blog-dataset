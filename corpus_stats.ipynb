{
 "cells": [
  {
   "cell_type": "markdown",
   "metadata": {},
   "source": [
    "## Corpus Stats"
   ]
  },
  {
   "cell_type": "code",
   "execution_count": 1,
   "metadata": {
    "collapsed": true
   },
   "outputs": [],
   "source": [
    "import pandas as pd\n",
    "import numpy as np\n",
    "from scipy.stats import ttest_ind\n",
    "corpus = pd.read_csv('corpus.csv.gz', compression='gzip')"
   ]
  },
  {
   "cell_type": "code",
   "execution_count": 2,
   "metadata": {},
   "outputs": [
    {
     "data": {
      "text/plain": [
       "['Unnamed: 0',\n",
       " 'id',\n",
       " 'qual_a_melhor_classificao_para_esse_texto',\n",
       " 'qual_a_melhor_classificao_para_esse_texto:confidence',\n",
       " 'authorid',\n",
       " 'blogid',\n",
       " 'content',\n",
       " 'contentcount',\n",
       " 'date',\n",
       " 'firstpart',\n",
       " 'labels',\n",
       " 'me',\n",
       " 'polarity',\n",
       " 'postid',\n",
       " 'published',\n",
       " 'readmore',\n",
       " 'replies',\n",
       " 'rownum',\n",
       " 'title',\n",
       " 'titlecount',\n",
       " 'wpscount',\n",
       " 'year']"
      ]
     },
     "execution_count": 2,
     "metadata": {},
     "output_type": "execute_result"
    }
   ],
   "source": [
    "list(corpus.columns.values)"
   ]
  },
  {
   "cell_type": "markdown",
   "metadata": {},
   "source": [
    "## Contagem"
   ]
  },
  {
   "cell_type": "code",
   "execution_count": 3,
   "metadata": {},
   "outputs": [
    {
     "name": "stdout",
     "output_type": "stream",
     "text": [
      "Total do Corpus: 1000\n",
      "Postagens: 1000\n",
      "Blogs: 972\n",
      "Autores: 972\n"
     ]
    }
   ],
   "source": [
    "blogs = corpus[['blogid']].groupby(['blogid'])\n",
    "autores = corpus[['authorid']].groupby(['authorid'])\n",
    "postagens = corpus[['postid']].groupby(['postid'])\n",
    "print('Total do Corpus: %i' %len(corpus))\n",
    "print('Postagens: %i' %len(postagens))\n",
    "print('Blogs: %i' %len(blogs))\n",
    "print('Autores: %i' %len(autores))"
   ]
  },
  {
   "cell_type": "code",
   "execution_count": 4,
   "metadata": {},
   "outputs": [
    {
     "data": {
      "text/html": [
       "<div>\n",
       "<table border=\"1\" class=\"dataframe\">\n",
       "  <thead>\n",
       "    <tr>\n",
       "      <th></th>\n",
       "      <th>postid</th>\n",
       "    </tr>\n",
       "    <tr>\n",
       "      <th></th>\n",
       "      <th>count</th>\n",
       "    </tr>\n",
       "    <tr>\n",
       "      <th>qual_a_melhor_classificao_para_esse_texto</th>\n",
       "      <th></th>\n",
       "    </tr>\n",
       "  </thead>\n",
       "  <tbody>\n",
       "    <tr>\n",
       "      <th>diario</th>\n",
       "      <td>634</td>\n",
       "    </tr>\n",
       "    <tr>\n",
       "      <th>outro</th>\n",
       "      <td>366</td>\n",
       "    </tr>\n",
       "  </tbody>\n",
       "</table>\n",
       "</div>"
      ],
      "text/plain": [
       "                                          postid\n",
       "                                           count\n",
       "qual_a_melhor_classificao_para_esse_texto       \n",
       "diario                                       634\n",
       "outro                                        366"
      ]
     },
     "execution_count": 4,
     "metadata": {},
     "output_type": "execute_result"
    }
   ],
   "source": [
    "corpus[['postid','qual_a_melhor_classificao_para_esse_texto']].groupby(['qual_a_melhor_classificao_para_esse_texto']).agg(['count'])"
   ]
  },
  {
   "cell_type": "code",
   "execution_count": 5,
   "metadata": {},
   "outputs": [
    {
     "data": {
      "text/html": [
       "<div>\n",
       "<table border=\"1\" class=\"dataframe\">\n",
       "  <thead>\n",
       "    <tr style=\"text-align: right;\">\n",
       "      <th></th>\n",
       "      <th>count</th>\n",
       "    </tr>\n",
       "    <tr>\n",
       "      <th>qual_a_melhor_classificao_para_esse_texto:confidence</th>\n",
       "      <th></th>\n",
       "    </tr>\n",
       "  </thead>\n",
       "  <tbody>\n",
       "    <tr>\n",
       "      <th>1.0000</th>\n",
       "      <td>534</td>\n",
       "    </tr>\n",
       "    <tr>\n",
       "      <th>0.6667</th>\n",
       "      <td>11</td>\n",
       "    </tr>\n",
       "    <tr>\n",
       "      <th>0.6500</th>\n",
       "      <td>7</td>\n",
       "    </tr>\n",
       "    <tr>\n",
       "      <th>0.6707</th>\n",
       "      <td>7</td>\n",
       "    </tr>\n",
       "    <tr>\n",
       "      <th>0.6557</th>\n",
       "      <td>5</td>\n",
       "    </tr>\n",
       "  </tbody>\n",
       "</table>\n",
       "</div>"
      ],
      "text/plain": [
       "                                                    count\n",
       "qual_a_melhor_classificao_para_esse_texto:confi...       \n",
       "1.0000                                                534\n",
       "0.6667                                                 11\n",
       "0.6500                                                  7\n",
       "0.6707                                                  7\n",
       "0.6557                                                  5"
      ]
     },
     "execution_count": 5,
     "metadata": {},
     "output_type": "execute_result"
    }
   ],
   "source": [
    "confidence = corpus[['postid','qual_a_melhor_classificao_para_esse_texto:confidence']].groupby(['qual_a_melhor_classificao_para_esse_texto:confidence']).agg(['count'])\n",
    "confidence['postid'].sort_values('count',ascending=False).head(5)"
   ]
  },
  {
   "cell_type": "markdown",
   "metadata": {
    "collapsed": true
   },
   "source": [
    "## LIWC Stats"
   ]
  },
  {
   "cell_type": "code",
   "execution_count": 6,
   "metadata": {
    "collapsed": true
   },
   "outputs": [],
   "source": [
    "from liwc import LIWC\n",
    "liwc_class = LIWC()"
   ]
  },
  {
   "cell_type": "code",
   "execution_count": 28,
   "metadata": {},
   "outputs": [
    {
     "data": {
      "text/plain": [
       "(1000, 67)"
      ]
     },
     "execution_count": 28,
     "metadata": {},
     "output_type": "execute_result"
    }
   ],
   "source": [
    "#mtx = liwc_class.build_features(corpus['content'])\n",
    "columns = ['funct','pronoun','ppron','i','we','you','shehe','they','ipron','article','verb','auxverb','past','present','future','adverb','preps','conj','negate','quant','number','swear','social','family','friend','humans','affect','posemo','negemo','anx','anger','sad','cogmech','insight','cause','discrep','tentat','certain','inhib','incl','excl','percept','see','hear','feel','bio','body','health','sexual','ingest','relativ','motion','space','time','work','achieve','leisure','home','money','relig','death','assent','nonfl','filler']\n",
    "#df_liwc = pd.DataFrame(mtx, columns=columns)\n",
    "#df_liwc.to_csv('corpus_liwc_mtx.csv.gz', compression='gzip')\n",
    "df_liwc = pd.read_csv('corpus_liwc_mtx.csv.gz', compression='gzip')\n",
    "df_liwc.shape"
   ]
  },
  {
   "cell_type": "code",
   "execution_count": 29,
   "metadata": {},
   "outputs": [
    {
     "data": {
      "text/plain": [
       "(1000, 69)"
      ]
     },
     "execution_count": 29,
     "metadata": {},
     "output_type": "execute_result"
    }
   ],
   "source": [
    "df_liwc['class'] = corpus['qual_a_melhor_classificao_para_esse_texto']\n",
    "#df_liwc.to_csv('corpus_liwc_mtx.csv.gz', compression='gzip')\n",
    "df_liwc['confidence'] = corpus['qual_a_melhor_classificao_para_esse_texto:confidence']\n",
    "df_liwc['wc'] = corpus['contentcount']\n",
    "df_liwc.shape"
   ]
  },
  {
   "cell_type": "code",
   "execution_count": 9,
   "metadata": {
    "scrolled": true
   },
   "outputs": [
    {
     "data": {
      "text/plain": [
       "<matplotlib.axes._subplots.AxesSubplot at 0x10ceae438>"
      ]
     },
     "execution_count": 9,
     "metadata": {},
     "output_type": "execute_result"
    },
    {
     "data": {
      "image/png": "[encoded data removed]",
      "text/plain": [
       "<matplotlib.figure.Figure at 0x10ce21a90>"
      ]
     },
     "metadata": {},
     "output_type": "display_data"
    }
   ],
   "source": [
    "%matplotlib inline\n",
    "df_liwc['i'].plot.hist(bins=40)"
   ]
  },
  {
   "cell_type": "code",
   "execution_count": 10,
   "metadata": {
    "collapsed": true
   },
   "outputs": [],
   "source": [
    "diario = df_liwc[df_liwc['class'] == 'diario']\n",
    "outro = df_liwc[df_liwc['class'] == 'outro']"
   ]
  },
  {
   "cell_type": "markdown",
   "metadata": {
    "collapsed": true
   },
   "source": [
    "## Significance Test"
   ]
  },
  {
   "cell_type": "code",
   "execution_count": 12,
   "metadata": {
    "collapsed": true
   },
   "outputs": [],
   "source": [
    "stats = pd.DataFrame(data={'diario_mean': diario.mean(axis=0)}, index=columns)\n",
    "stats['diario_std'] = diario.std(axis=0)\n",
    "stats['outro_mean'] = outro.mean(axis=0)\n",
    "stats['outro_std'] = outro.std(axis=0)"
   ]
  },
  {
   "cell_type": "code",
   "execution_count": 13,
   "metadata": {
    "collapsed": true
   },
   "outputs": [],
   "source": [
    "significance = []\n",
    "for column in list(stats.index.values):\n",
    "    a = diario[column]\n",
    "    b = outro[column]\n",
    "    t, p = ttest_ind(a, b, equal_var=False)\n",
    "    significance.append(p)\n",
    "stats['significance'] = significance"
   ]
  },
  {
   "cell_type": "code",
   "execution_count": 14,
   "metadata": {},
   "outputs": [
    {
     "data": {
      "text/html": [
       "<div>\n",
       "<table border=\"1\" class=\"dataframe\">\n",
       "  <thead>\n",
       "    <tr style=\"text-align: right;\">\n",
       "      <th></th>\n",
       "      <th>diario_mean</th>\n",
       "      <th>diario_std</th>\n",
       "      <th>outro_mean</th>\n",
       "      <th>outro_std</th>\n",
       "      <th>significance</th>\n",
       "    </tr>\n",
       "  </thead>\n",
       "  <tbody>\n",
       "    <tr>\n",
       "      <th>you</th>\n",
       "      <td>24.984227</td>\n",
       "      <td>17.351575</td>\n",
       "      <td>33.683060</td>\n",
       "      <td>22.939064</td>\n",
       "      <td>6.072370e-10</td>\n",
       "    </tr>\n",
       "    <tr>\n",
       "      <th>shehe</th>\n",
       "      <td>23.246057</td>\n",
       "      <td>16.929909</td>\n",
       "      <td>30.959016</td>\n",
       "      <td>21.637638</td>\n",
       "      <td>7.419098e-09</td>\n",
       "    </tr>\n",
       "    <tr>\n",
       "      <th>i</th>\n",
       "      <td>10.492114</td>\n",
       "      <td>9.182412</td>\n",
       "      <td>7.661202</td>\n",
       "      <td>6.314582</td>\n",
       "      <td>1.159406e-08</td>\n",
       "    </tr>\n",
       "    <tr>\n",
       "      <th>nonfl</th>\n",
       "      <td>8.783912</td>\n",
       "      <td>6.730116</td>\n",
       "      <td>11.819672</td>\n",
       "      <td>8.811589</td>\n",
       "      <td>1.856881e-08</td>\n",
       "    </tr>\n",
       "    <tr>\n",
       "      <th>preps</th>\n",
       "      <td>51.424290</td>\n",
       "      <td>33.501382</td>\n",
       "      <td>64.909836</td>\n",
       "      <td>41.897789</td>\n",
       "      <td>1.945733e-07</td>\n",
       "    </tr>\n",
       "    <tr>\n",
       "      <th>they</th>\n",
       "      <td>6.481073</td>\n",
       "      <td>5.888145</td>\n",
       "      <td>8.871585</td>\n",
       "      <td>7.733394</td>\n",
       "      <td>4.123728e-07</td>\n",
       "    </tr>\n",
       "    <tr>\n",
       "      <th>article</th>\n",
       "      <td>28.154574</td>\n",
       "      <td>19.093056</td>\n",
       "      <td>35.508197</td>\n",
       "      <td>23.771600</td>\n",
       "      <td>5.726449e-07</td>\n",
       "    </tr>\n",
       "    <tr>\n",
       "      <th>work</th>\n",
       "      <td>8.996845</td>\n",
       "      <td>9.382515</td>\n",
       "      <td>12.795082</td>\n",
       "      <td>13.774866</td>\n",
       "      <td>3.514432e-06</td>\n",
       "    </tr>\n",
       "    <tr>\n",
       "      <th>space</th>\n",
       "      <td>36.197161</td>\n",
       "      <td>24.728426</td>\n",
       "      <td>44.469945</td>\n",
       "      <td>28.611482</td>\n",
       "      <td>4.515795e-06</td>\n",
       "    </tr>\n",
       "    <tr>\n",
       "      <th>relig</th>\n",
       "      <td>2.339117</td>\n",
       "      <td>3.063336</td>\n",
       "      <td>3.816940</td>\n",
       "      <td>6.015672</td>\n",
       "      <td>1.440279e-05</td>\n",
       "    </tr>\n",
       "    <tr>\n",
       "      <th>incl</th>\n",
       "      <td>52.332808</td>\n",
       "      <td>33.378692</td>\n",
       "      <td>62.489071</td>\n",
       "      <td>39.005214</td>\n",
       "      <td>3.355337e-05</td>\n",
       "    </tr>\n",
       "    <tr>\n",
       "      <th>ppron</th>\n",
       "      <td>41.629338</td>\n",
       "      <td>26.615152</td>\n",
       "      <td>49.415301</td>\n",
       "      <td>30.759557</td>\n",
       "      <td>5.801584e-05</td>\n",
       "    </tr>\n",
       "    <tr>\n",
       "      <th>achieve</th>\n",
       "      <td>11.230284</td>\n",
       "      <td>8.504471</td>\n",
       "      <td>13.937158</td>\n",
       "      <td>11.078494</td>\n",
       "      <td>6.077888e-05</td>\n",
       "    </tr>\n",
       "    <tr>\n",
       "      <th>swear</th>\n",
       "      <td>19.563091</td>\n",
       "      <td>13.400854</td>\n",
       "      <td>23.620219</td>\n",
       "      <td>16.404828</td>\n",
       "      <td>6.506922e-05</td>\n",
       "    </tr>\n",
       "    <tr>\n",
       "      <th>present</th>\n",
       "      <td>30.474763</td>\n",
       "      <td>20.674721</td>\n",
       "      <td>36.625683</td>\n",
       "      <td>25.039023</td>\n",
       "      <td>7.634271e-05</td>\n",
       "    </tr>\n",
       "    <tr>\n",
       "      <th>social</th>\n",
       "      <td>70.621451</td>\n",
       "      <td>46.262749</td>\n",
       "      <td>83.937158</td>\n",
       "      <td>53.930080</td>\n",
       "      <td>8.388890e-05</td>\n",
       "    </tr>\n",
       "    <tr>\n",
       "      <th>ipron</th>\n",
       "      <td>45.061514</td>\n",
       "      <td>30.213108</td>\n",
       "      <td>53.486339</td>\n",
       "      <td>35.338420</td>\n",
       "      <td>1.431158e-04</td>\n",
       "    </tr>\n",
       "    <tr>\n",
       "      <th>cogmech</th>\n",
       "      <td>143.269716</td>\n",
       "      <td>89.576596</td>\n",
       "      <td>167.158470</td>\n",
       "      <td>105.108591</td>\n",
       "      <td>2.830170e-04</td>\n",
       "    </tr>\n",
       "    <tr>\n",
       "      <th>funct</th>\n",
       "      <td>178.607256</td>\n",
       "      <td>108.565217</td>\n",
       "      <td>205.702186</td>\n",
       "      <td>124.264527</td>\n",
       "      <td>5.424437e-04</td>\n",
       "    </tr>\n",
       "    <tr>\n",
       "      <th>cause</th>\n",
       "      <td>16.840694</td>\n",
       "      <td>11.353776</td>\n",
       "      <td>19.885246</td>\n",
       "      <td>14.556567</td>\n",
       "      <td>6.155371e-04</td>\n",
       "    </tr>\n",
       "    <tr>\n",
       "      <th>anger</th>\n",
       "      <td>3.141956</td>\n",
       "      <td>3.860773</td>\n",
       "      <td>4.155738</td>\n",
       "      <td>4.940224</td>\n",
       "      <td>7.821701e-04</td>\n",
       "    </tr>\n",
       "    <tr>\n",
       "      <th>hear</th>\n",
       "      <td>5.070978</td>\n",
       "      <td>4.859772</td>\n",
       "      <td>6.251366</td>\n",
       "      <td>5.743579</td>\n",
       "      <td>9.930008e-04</td>\n",
       "    </tr>\n",
       "    <tr>\n",
       "      <th>pronoun</th>\n",
       "      <td>66.380126</td>\n",
       "      <td>42.398609</td>\n",
       "      <td>75.844262</td>\n",
       "      <td>47.231697</td>\n",
       "      <td>1.607680e-03</td>\n",
       "    </tr>\n",
       "    <tr>\n",
       "      <th>conj</th>\n",
       "      <td>36.238170</td>\n",
       "      <td>23.852861</td>\n",
       "      <td>41.612022</td>\n",
       "      <td>27.427159</td>\n",
       "      <td>1.839439e-03</td>\n",
       "    </tr>\n",
       "    <tr>\n",
       "      <th>auxverb</th>\n",
       "      <td>21.695584</td>\n",
       "      <td>14.665962</td>\n",
       "      <td>24.904372</td>\n",
       "      <td>17.209559</td>\n",
       "      <td>2.853321e-03</td>\n",
       "    </tr>\n",
       "    <tr>\n",
       "      <th>we</th>\n",
       "      <td>1.845426</td>\n",
       "      <td>2.926388</td>\n",
       "      <td>2.592896</td>\n",
       "      <td>4.360577</td>\n",
       "      <td>3.624577e-03</td>\n",
       "    </tr>\n",
       "    <tr>\n",
       "      <th>insight</th>\n",
       "      <td>23.429022</td>\n",
       "      <td>16.198771</td>\n",
       "      <td>26.737705</td>\n",
       "      <td>18.279925</td>\n",
       "      <td>4.199268e-03</td>\n",
       "    </tr>\n",
       "    <tr>\n",
       "      <th>affect</th>\n",
       "      <td>31.790221</td>\n",
       "      <td>21.111870</td>\n",
       "      <td>36.221311</td>\n",
       "      <td>24.800634</td>\n",
       "      <td>4.233169e-03</td>\n",
       "    </tr>\n",
       "    <tr>\n",
       "      <th>tentat</th>\n",
       "      <td>35.541009</td>\n",
       "      <td>24.362956</td>\n",
       "      <td>40.505464</td>\n",
       "      <td>28.290542</td>\n",
       "      <td>5.110023e-03</td>\n",
       "    </tr>\n",
       "    <tr>\n",
       "      <th>relativ</th>\n",
       "      <td>80.069401</td>\n",
       "      <td>49.956710</td>\n",
       "      <td>89.885246</td>\n",
       "      <td>55.202471</td>\n",
       "      <td>5.201037e-03</td>\n",
       "    </tr>\n",
       "    <tr>\n",
       "      <th>filler</th>\n",
       "      <td>0.514196</td>\n",
       "      <td>1.217547</td>\n",
       "      <td>0.341530</td>\n",
       "      <td>0.808023</td>\n",
       "      <td>7.280867e-03</td>\n",
       "    </tr>\n",
       "    <tr>\n",
       "      <th>death</th>\n",
       "      <td>0.935331</td>\n",
       "      <td>1.569027</td>\n",
       "      <td>1.229508</td>\n",
       "      <td>1.821276</td>\n",
       "      <td>9.933368e-03</td>\n",
       "    </tr>\n",
       "    <tr>\n",
       "      <th>discrep</th>\n",
       "      <td>23.044164</td>\n",
       "      <td>16.248697</td>\n",
       "      <td>25.909836</td>\n",
       "      <td>17.925265</td>\n",
       "      <td>1.199507e-02</td>\n",
       "    </tr>\n",
       "    <tr>\n",
       "      <th>excl</th>\n",
       "      <td>26.178233</td>\n",
       "      <td>18.893434</td>\n",
       "      <td>29.543716</td>\n",
       "      <td>21.191547</td>\n",
       "      <td>1.211292e-02</td>\n",
       "    </tr>\n",
       "    <tr>\n",
       "      <th>future</th>\n",
       "      <td>2.307571</td>\n",
       "      <td>2.498348</td>\n",
       "      <td>2.767760</td>\n",
       "      <td>3.041836</td>\n",
       "      <td>1.433428e-02</td>\n",
       "    </tr>\n",
       "    <tr>\n",
       "      <th>posemo</th>\n",
       "      <td>21.020505</td>\n",
       "      <td>14.059832</td>\n",
       "      <td>23.502732</td>\n",
       "      <td>16.394077</td>\n",
       "      <td>1.549142e-02</td>\n",
       "    </tr>\n",
       "    <tr>\n",
       "      <th>inhib</th>\n",
       "      <td>16.331230</td>\n",
       "      <td>11.474571</td>\n",
       "      <td>18.270492</td>\n",
       "      <td>12.674451</td>\n",
       "      <td>1.613420e-02</td>\n",
       "    </tr>\n",
       "    <tr>\n",
       "      <th>negemo</th>\n",
       "      <td>9.583596</td>\n",
       "      <td>8.499797</td>\n",
       "      <td>11.030055</td>\n",
       "      <td>9.523248</td>\n",
       "      <td>1.643633e-02</td>\n",
       "    </tr>\n",
       "    <tr>\n",
       "      <th>verb</th>\n",
       "      <td>54.425868</td>\n",
       "      <td>34.711699</td>\n",
       "      <td>60.065574</td>\n",
       "      <td>37.538817</td>\n",
       "      <td>1.895419e-02</td>\n",
       "    </tr>\n",
       "    <tr>\n",
       "      <th>quant</th>\n",
       "      <td>19.870662</td>\n",
       "      <td>13.489999</td>\n",
       "      <td>22.090164</td>\n",
       "      <td>15.427961</td>\n",
       "      <td>2.218331e-02</td>\n",
       "    </tr>\n",
       "    <tr>\n",
       "      <th>body</th>\n",
       "      <td>9.988959</td>\n",
       "      <td>8.245150</td>\n",
       "      <td>11.174863</td>\n",
       "      <td>8.099181</td>\n",
       "      <td>2.699876e-02</td>\n",
       "    </tr>\n",
       "    <tr>\n",
       "      <th>money</th>\n",
       "      <td>7.746057</td>\n",
       "      <td>6.381266</td>\n",
       "      <td>8.800546</td>\n",
       "      <td>7.815061</td>\n",
       "      <td>2.862587e-02</td>\n",
       "    </tr>\n",
       "    <tr>\n",
       "      <th>bio</th>\n",
       "      <td>23.477918</td>\n",
       "      <td>16.677415</td>\n",
       "      <td>25.795082</td>\n",
       "      <td>17.350823</td>\n",
       "      <td>3.943606e-02</td>\n",
       "    </tr>\n",
       "    <tr>\n",
       "      <th>health</th>\n",
       "      <td>3.766562</td>\n",
       "      <td>3.866952</td>\n",
       "      <td>4.423497</td>\n",
       "      <td>5.340812</td>\n",
       "      <td>3.966602e-02</td>\n",
       "    </tr>\n",
       "    <tr>\n",
       "      <th>certain</th>\n",
       "      <td>9.444795</td>\n",
       "      <td>7.118337</td>\n",
       "      <td>10.489071</td>\n",
       "      <td>8.114498</td>\n",
       "      <td>4.087516e-02</td>\n",
       "    </tr>\n",
       "    <tr>\n",
       "      <th>time</th>\n",
       "      <td>29.296530</td>\n",
       "      <td>19.365049</td>\n",
       "      <td>32.117486</td>\n",
       "      <td>22.149180</td>\n",
       "      <td>4.278769e-02</td>\n",
       "    </tr>\n",
       "    <tr>\n",
       "      <th>motion</th>\n",
       "      <td>23.077287</td>\n",
       "      <td>15.905190</td>\n",
       "      <td>25.215847</td>\n",
       "      <td>16.168797</td>\n",
       "      <td>4.303374e-02</td>\n",
       "    </tr>\n",
       "    <tr>\n",
       "      <th>number</th>\n",
       "      <td>5.626183</td>\n",
       "      <td>4.666510</td>\n",
       "      <td>6.297814</td>\n",
       "      <td>5.255275</td>\n",
       "      <td>4.306362e-02</td>\n",
       "    </tr>\n",
       "  </tbody>\n",
       "</table>\n",
       "</div>"
      ],
      "text/plain": [
       "         diario_mean  diario_std  outro_mean   outro_std  significance\n",
       "you        24.984227   17.351575   33.683060   22.939064  6.072370e-10\n",
       "shehe      23.246057   16.929909   30.959016   21.637638  7.419098e-09\n",
       "i          10.492114    9.182412    7.661202    6.314582  1.159406e-08\n",
       "nonfl       8.783912    6.730116   11.819672    8.811589  1.856881e-08\n",
       "preps      51.424290   33.501382   64.909836   41.897789  1.945733e-07\n",
       "they        6.481073    5.888145    8.871585    7.733394  4.123728e-07\n",
       "article    28.154574   19.093056   35.508197   23.771600  5.726449e-07\n",
       "work        8.996845    9.382515   12.795082   13.774866  3.514432e-06\n",
       "space      36.197161   24.728426   44.469945   28.611482  4.515795e-06\n",
       "relig       2.339117    3.063336    3.816940    6.015672  1.440279e-05\n",
       "incl       52.332808   33.378692   62.489071   39.005214  3.355337e-05\n",
       "ppron      41.629338   26.615152   49.415301   30.759557  5.801584e-05\n",
       "achieve    11.230284    8.504471   13.937158   11.078494  6.077888e-05\n",
       "swear      19.563091   13.400854   23.620219   16.404828  6.506922e-05\n",
       "present    30.474763   20.674721   36.625683   25.039023  7.634271e-05\n",
       "social     70.621451   46.262749   83.937158   53.930080  8.388890e-05\n",
       "ipron      45.061514   30.213108   53.486339   35.338420  1.431158e-04\n",
       "cogmech   143.269716   89.576596  167.158470  105.108591  2.830170e-04\n",
       "funct     178.607256  108.565217  205.702186  124.264527  5.424437e-04\n",
       "cause      16.840694   11.353776   19.885246   14.556567  6.155371e-04\n",
       "anger       3.141956    3.860773    4.155738    4.940224  7.821701e-04\n",
       "hear        5.070978    4.859772    6.251366    5.743579  9.930008e-04\n",
       "pronoun    66.380126   42.398609   75.844262   47.231697  1.607680e-03\n",
       "conj       36.238170   23.852861   41.612022   27.427159  1.839439e-03\n",
       "auxverb    21.695584   14.665962   24.904372   17.209559  2.853321e-03\n",
       "we          1.845426    2.926388    2.592896    4.360577  3.624577e-03\n",
       "insight    23.429022   16.198771   26.737705   18.279925  4.199268e-03\n",
       "affect     31.790221   21.111870   36.221311   24.800634  4.233169e-03\n",
       "tentat     35.541009   24.362956   40.505464   28.290542  5.110023e-03\n",
       "relativ    80.069401   49.956710   89.885246   55.202471  5.201037e-03\n",
       "filler      0.514196    1.217547    0.341530    0.808023  7.280867e-03\n",
       "death       0.935331    1.569027    1.229508    1.821276  9.933368e-03\n",
       "discrep    23.044164   16.248697   25.909836   17.925265  1.199507e-02\n",
       "excl       26.178233   18.893434   29.543716   21.191547  1.211292e-02\n",
       "future      2.307571    2.498348    2.767760    3.041836  1.433428e-02\n",
       "posemo     21.020505   14.059832   23.502732   16.394077  1.549142e-02\n",
       "inhib      16.331230   11.474571   18.270492   12.674451  1.613420e-02\n",
       "negemo      9.583596    8.499797   11.030055    9.523248  1.643633e-02\n",
       "verb       54.425868   34.711699   60.065574   37.538817  1.895419e-02\n",
       "quant      19.870662   13.489999   22.090164   15.427961  2.218331e-02\n",
       "body        9.988959    8.245150   11.174863    8.099181  2.699876e-02\n",
       "money       7.746057    6.381266    8.800546    7.815061  2.862587e-02\n",
       "bio        23.477918   16.677415   25.795082   17.350823  3.943606e-02\n",
       "health      3.766562    3.866952    4.423497    5.340812  3.966602e-02\n",
       "certain     9.444795    7.118337   10.489071    8.114498  4.087516e-02\n",
       "time       29.296530   19.365049   32.117486   22.149180  4.278769e-02\n",
       "motion     23.077287   15.905190   25.215847   16.168797  4.303374e-02\n",
       "number      5.626183    4.666510    6.297814    5.255275  4.306362e-02"
      ]
     },
     "execution_count": 14,
     "metadata": {},
     "output_type": "execute_result"
    }
   ],
   "source": [
    "stats_signify = stats[stats.significance <= 0.05]\n",
    "stats_signify.sort_values('significance',ascending=True)"
   ]
  },
  {
   "cell_type": "markdown",
   "metadata": {},
   "source": [
    "## Most Informative Psychological Categories"
   ]
  },
  {
   "cell_type": "code",
   "execution_count": 15,
   "metadata": {},
   "outputs": [
    {
     "data": {
      "text/html": [
       "<div>\n",
       "<table border=\"1\" class=\"dataframe\">\n",
       "  <thead>\n",
       "    <tr style=\"text-align: right;\">\n",
       "      <th></th>\n",
       "      <th>diario_mean</th>\n",
       "      <th>diario_std</th>\n",
       "      <th>outro_mean</th>\n",
       "      <th>outro_std</th>\n",
       "      <th>significance</th>\n",
       "    </tr>\n",
       "  </thead>\n",
       "  <tbody>\n",
       "    <tr>\n",
       "      <th>nonfl</th>\n",
       "      <td>8.783912</td>\n",
       "      <td>6.730116</td>\n",
       "      <td>11.819672</td>\n",
       "      <td>8.811589</td>\n",
       "      <td>1.856881e-08</td>\n",
       "    </tr>\n",
       "    <tr>\n",
       "      <th>work</th>\n",
       "      <td>8.996845</td>\n",
       "      <td>9.382515</td>\n",
       "      <td>12.795082</td>\n",
       "      <td>13.774866</td>\n",
       "      <td>3.514432e-06</td>\n",
       "    </tr>\n",
       "    <tr>\n",
       "      <th>space</th>\n",
       "      <td>36.197161</td>\n",
       "      <td>24.728426</td>\n",
       "      <td>44.469945</td>\n",
       "      <td>28.611482</td>\n",
       "      <td>4.515795e-06</td>\n",
       "    </tr>\n",
       "    <tr>\n",
       "      <th>relig</th>\n",
       "      <td>2.339117</td>\n",
       "      <td>3.063336</td>\n",
       "      <td>3.816940</td>\n",
       "      <td>6.015672</td>\n",
       "      <td>1.440279e-05</td>\n",
       "    </tr>\n",
       "    <tr>\n",
       "      <th>incl</th>\n",
       "      <td>52.332808</td>\n",
       "      <td>33.378692</td>\n",
       "      <td>62.489071</td>\n",
       "      <td>39.005214</td>\n",
       "      <td>3.355337e-05</td>\n",
       "    </tr>\n",
       "    <tr>\n",
       "      <th>achieve</th>\n",
       "      <td>11.230284</td>\n",
       "      <td>8.504471</td>\n",
       "      <td>13.937158</td>\n",
       "      <td>11.078494</td>\n",
       "      <td>6.077888e-05</td>\n",
       "    </tr>\n",
       "    <tr>\n",
       "      <th>swear</th>\n",
       "      <td>19.563091</td>\n",
       "      <td>13.400854</td>\n",
       "      <td>23.620219</td>\n",
       "      <td>16.404828</td>\n",
       "      <td>6.506922e-05</td>\n",
       "    </tr>\n",
       "    <tr>\n",
       "      <th>social</th>\n",
       "      <td>70.621451</td>\n",
       "      <td>46.262749</td>\n",
       "      <td>83.937158</td>\n",
       "      <td>53.930080</td>\n",
       "      <td>8.388890e-05</td>\n",
       "    </tr>\n",
       "    <tr>\n",
       "      <th>cogmech</th>\n",
       "      <td>143.269716</td>\n",
       "      <td>89.576596</td>\n",
       "      <td>167.158470</td>\n",
       "      <td>105.108591</td>\n",
       "      <td>2.830170e-04</td>\n",
       "    </tr>\n",
       "    <tr>\n",
       "      <th>cause</th>\n",
       "      <td>16.840694</td>\n",
       "      <td>11.353776</td>\n",
       "      <td>19.885246</td>\n",
       "      <td>14.556567</td>\n",
       "      <td>6.155371e-04</td>\n",
       "    </tr>\n",
       "    <tr>\n",
       "      <th>anger</th>\n",
       "      <td>3.141956</td>\n",
       "      <td>3.860773</td>\n",
       "      <td>4.155738</td>\n",
       "      <td>4.940224</td>\n",
       "      <td>7.821701e-04</td>\n",
       "    </tr>\n",
       "    <tr>\n",
       "      <th>hear</th>\n",
       "      <td>5.070978</td>\n",
       "      <td>4.859772</td>\n",
       "      <td>6.251366</td>\n",
       "      <td>5.743579</td>\n",
       "      <td>9.930008e-04</td>\n",
       "    </tr>\n",
       "    <tr>\n",
       "      <th>insight</th>\n",
       "      <td>23.429022</td>\n",
       "      <td>16.198771</td>\n",
       "      <td>26.737705</td>\n",
       "      <td>18.279925</td>\n",
       "      <td>4.199268e-03</td>\n",
       "    </tr>\n",
       "    <tr>\n",
       "      <th>affect</th>\n",
       "      <td>31.790221</td>\n",
       "      <td>21.111870</td>\n",
       "      <td>36.221311</td>\n",
       "      <td>24.800634</td>\n",
       "      <td>4.233169e-03</td>\n",
       "    </tr>\n",
       "    <tr>\n",
       "      <th>tentat</th>\n",
       "      <td>35.541009</td>\n",
       "      <td>24.362956</td>\n",
       "      <td>40.505464</td>\n",
       "      <td>28.290542</td>\n",
       "      <td>5.110023e-03</td>\n",
       "    </tr>\n",
       "  </tbody>\n",
       "</table>\n",
       "</div>"
      ],
      "text/plain": [
       "         diario_mean  diario_std  outro_mean   outro_std  significance\n",
       "nonfl       8.783912    6.730116   11.819672    8.811589  1.856881e-08\n",
       "work        8.996845    9.382515   12.795082   13.774866  3.514432e-06\n",
       "space      36.197161   24.728426   44.469945   28.611482  4.515795e-06\n",
       "relig       2.339117    3.063336    3.816940    6.015672  1.440279e-05\n",
       "incl       52.332808   33.378692   62.489071   39.005214  3.355337e-05\n",
       "achieve    11.230284    8.504471   13.937158   11.078494  6.077888e-05\n",
       "swear      19.563091   13.400854   23.620219   16.404828  6.506922e-05\n",
       "social     70.621451   46.262749   83.937158   53.930080  8.388890e-05\n",
       "cogmech   143.269716   89.576596  167.158470  105.108591  2.830170e-04\n",
       "cause      16.840694   11.353776   19.885246   14.556567  6.155371e-04\n",
       "anger       3.141956    3.860773    4.155738    4.940224  7.821701e-04\n",
       "hear        5.070978    4.859772    6.251366    5.743579  9.930008e-04\n",
       "insight    23.429022   16.198771   26.737705   18.279925  4.199268e-03\n",
       "affect     31.790221   21.111870   36.221311   24.800634  4.233169e-03\n",
       "tentat     35.541009   24.362956   40.505464   28.290542  5.110023e-03"
      ]
     },
     "execution_count": 15,
     "metadata": {},
     "output_type": "execute_result"
    }
   ],
   "source": [
    "psychological_columns = ['swear','social','family','friend','humans','affect','posemo','negemo','anx','anger','sad','cogmech','insight','cause','discrep','tentat','certain','inhib','incl','excl','percept','see','hear','feel','bio','body','health','sexual','ingest','relativ','motion','space','time','work','achieve','leisure','home','money','relig','death','assent','nonfl','filler']\n",
    "psychological_stats = stats_signify.ix[psychological_columns]\n",
    "psychological_stats.sort_values('significance',ascending=True).head(15)"
   ]
  },
  {
   "cell_type": "markdown",
   "metadata": {},
   "source": [
    "## Relative LIWC"
   ]
  },
  {
   "cell_type": "code",
   "execution_count": 31,
   "metadata": {},
   "outputs": [
    {
     "data": {
      "text/plain": [
       "array(['Unnamed: 0', 'Unnamed: 0.1', 'funct', 'pronoun', 'ppron', 'i',\n",
       "       'we', 'you', 'shehe', 'they', 'ipron', 'article', 'verb', 'auxverb',\n",
       "       'past', 'present', 'future', 'adverb', 'preps', 'conj', 'negate',\n",
       "       'quant', 'number', 'swear', 'social', 'family', 'friend', 'humans',\n",
       "       'affect', 'posemo', 'negemo', 'anx', 'anger', 'sad', 'cogmech',\n",
       "       'insight', 'cause', 'discrep', 'tentat', 'certain', 'inhib', 'incl',\n",
       "       'excl', 'percept', 'see', 'hear', 'feel', 'bio', 'body', 'health',\n",
       "       'sexual', 'ingest', 'relativ', 'motion', 'space', 'time', 'work',\n",
       "       'achieve', 'leisure', 'home', 'money', 'relig', 'death', 'assent',\n",
       "       'nonfl', 'filler', 'class', 'confidence', 'wc'], dtype=object)"
      ]
     },
     "execution_count": 31,
     "metadata": {},
     "output_type": "execute_result"
    }
   ],
   "source": [
    "prop_liwc = df_liwc\n",
    "prop_liwc.columns.values"
   ]
  },
  {
   "cell_type": "code",
   "execution_count": 32,
   "metadata": {},
   "outputs": [
    {
     "name": "stderr",
     "output_type": "stream",
     "text": [
      "/usr/local/lib/python3.6/site-packages/ipykernel_launcher.py:8: SettingWithCopyWarning: \n",
      "A value is trying to be set on a copy of a slice from a DataFrame\n",
      "\n",
      "See the caveats in the documentation: http://pandas.pydata.org/pandas-docs/stable/indexing.html#indexing-view-versus-copy\n",
      "  \n",
      "/usr/local/lib/python3.6/site-packages/ipykernel_launcher.py:9: SettingWithCopyWarning: \n",
      "A value is trying to be set on a copy of a slice from a DataFrame\n",
      "\n",
      "See the caveats in the documentation: http://pandas.pydata.org/pandas-docs/stable/indexing.html#indexing-view-versus-copy\n",
      "  if __name__ == '__main__':\n",
      "/usr/local/lib/python3.6/site-packages/ipykernel_launcher.py:10: SettingWithCopyWarning: \n",
      "A value is trying to be set on a copy of a slice from a DataFrame\n",
      "\n",
      "See the caveats in the documentation: http://pandas.pydata.org/pandas-docs/stable/indexing.html#indexing-view-versus-copy\n",
      "  # Remove the CWD from sys.path while we load stuff.\n"
     ]
    },
    {
     "data": {
      "text/plain": [
       "(997, 64)"
      ]
     },
     "execution_count": 32,
     "metadata": {},
     "output_type": "execute_result"
    }
   ],
   "source": [
    "prop_liwc.drop(prop_liwc.columns[0], axis=1,inplace=True)\n",
    "prop_liwc.drop(prop_liwc.columns[0], axis=1,inplace=True)\n",
    "prop_liwc = prop_liwc[prop_liwc.wc.apply(lambda x: str(x).isnumeric())]\n",
    "\n",
    "wc_vector = prop_liwc['wc']\n",
    "class_vector = prop_liwc['class']\n",
    "\n",
    "prop_liwc.drop('class',axis=1,inplace=True)\n",
    "prop_liwc.drop('confidence',axis=1,inplace=True)\n",
    "prop_liwc.drop('wc',axis=1,inplace=True)\n",
    "\n",
    "prop_liwc.shape"
   ]
  },
  {
   "cell_type": "code",
   "execution_count": 34,
   "metadata": {},
   "outputs": [
    {
     "name": "stderr",
     "output_type": "stream",
     "text": [
      "/usr/local/lib/python3.6/site-packages/ipykernel_launcher.py:1: RuntimeWarning: divide by zero encountered in true_divide\n",
      "  \"\"\"Entry point for launching an IPython kernel.\n",
      "/usr/local/lib/python3.6/site-packages/ipykernel_launcher.py:1: RuntimeWarning: invalid value encountered in true_divide\n",
      "  \"\"\"Entry point for launching an IPython kernel.\n"
     ]
    },
    {
     "data": {
      "text/plain": [
       "(997, 64)"
      ]
     },
     "execution_count": 34,
     "metadata": {},
     "output_type": "execute_result"
    }
   ],
   "source": [
    "prop_matrix = prop_liwc.as_matrix().astype(float) / wc_vector.as_matrix().astype(float)[:, np.newaxis]\n",
    "prop_liwc = pd.DataFrame(prop_matrix, columns=columns)\n",
    "prop_matrix.shape"
   ]
  },
  {
   "cell_type": "markdown",
   "metadata": {},
   "source": [
    "## Relative Significance"
   ]
  },
  {
   "cell_type": "code",
   "execution_count": 35,
   "metadata": {
    "collapsed": true
   },
   "outputs": [],
   "source": [
    "prop_liwc['class'] = class_vector\n",
    "prop_liwc['wc'] = wc_vector"
   ]
  },
  {
   "cell_type": "code",
   "execution_count": 36,
   "metadata": {
    "collapsed": true
   },
   "outputs": [],
   "source": [
    "diario = prop_liwc[prop_liwc['class'] == 'diario']\n",
    "outro = prop_liwc[prop_liwc['class'] == 'outro']"
   ]
  },
  {
   "cell_type": "code",
   "execution_count": 37,
   "metadata": {},
   "outputs": [
    {
     "name": "stdout",
     "output_type": "stream",
     "text": [
      "373.418383518\n",
      "458.842975207\n"
     ]
    }
   ],
   "source": [
    "print(diario['wc'].astype(float).mean())\n",
    "print(outro['wc'].astype(float).mean())"
   ]
  },
  {
   "cell_type": "code",
   "execution_count": 38,
   "metadata": {
    "collapsed": true
   },
   "outputs": [],
   "source": [
    "relative_stats = pd.DataFrame(data={'diario_mean': diario.mean(axis=0)}, index=columns)\n",
    "relative_stats['diario_std'] = diario.std(axis=0)\n",
    "relative_stats['outro_mean'] = outro.mean(axis=0)\n",
    "relative_stats['outro_std'] = outro.std(axis=0)"
   ]
  },
  {
   "cell_type": "code",
   "execution_count": 39,
   "metadata": {},
   "outputs": [
    {
     "data": {
      "text/html": [
       "<div>\n",
       "<table border=\"1\" class=\"dataframe\">\n",
       "  <thead>\n",
       "    <tr style=\"text-align: right;\">\n",
       "      <th></th>\n",
       "      <th>diario_mean</th>\n",
       "    </tr>\n",
       "  </thead>\n",
       "  <tbody>\n",
       "    <tr>\n",
       "      <th>funct</th>\n",
       "      <td>inf</td>\n",
       "    </tr>\n",
       "    <tr>\n",
       "      <th>auxverb</th>\n",
       "      <td>inf</td>\n",
       "    </tr>\n",
       "    <tr>\n",
       "      <th>quant</th>\n",
       "      <td>inf</td>\n",
       "    </tr>\n",
       "    <tr>\n",
       "      <th>negate</th>\n",
       "      <td>inf</td>\n",
       "    </tr>\n",
       "    <tr>\n",
       "      <th>conj</th>\n",
       "      <td>inf</td>\n",
       "    </tr>\n",
       "  </tbody>\n",
       "</table>\n",
       "</div>"
      ],
      "text/plain": [
       "         diario_mean\n",
       "funct            inf\n",
       "auxverb          inf\n",
       "quant            inf\n",
       "negate           inf\n",
       "conj             inf"
      ]
     },
     "execution_count": 39,
     "metadata": {},
     "output_type": "execute_result"
    }
   ],
   "source": [
    "liguistic_columns = ['funct','pronoun','ppron','i','we','you','shehe','they','ipron','article','verb','auxverb','past','present','future','adverb','preps','conj','negate','quant','number']\n",
    "liguistic_stats = relative_stats.ix[liguistic_columns]\n",
    "liguistic_stats[['diario_mean']].sort_values('diario_mean',ascending=False).head(5)"
   ]
  },
  {
   "cell_type": "code",
   "execution_count": 40,
   "metadata": {},
   "outputs": [
    {
     "data": {
      "text/html": [
       "<div>\n",
       "<table border=\"1\" class=\"dataframe\">\n",
       "  <thead>\n",
       "    <tr style=\"text-align: right;\">\n",
       "      <th></th>\n",
       "      <th>outro_mean</th>\n",
       "    </tr>\n",
       "  </thead>\n",
       "  <tbody>\n",
       "    <tr>\n",
       "      <th>funct</th>\n",
       "      <td>0.528775</td>\n",
       "    </tr>\n",
       "    <tr>\n",
       "      <th>pronoun</th>\n",
       "      <td>0.202378</td>\n",
       "    </tr>\n",
       "    <tr>\n",
       "      <th>verb</th>\n",
       "      <td>0.159233</td>\n",
       "    </tr>\n",
       "    <tr>\n",
       "      <th>preps</th>\n",
       "      <td>0.151184</td>\n",
       "    </tr>\n",
       "    <tr>\n",
       "      <th>ppron</th>\n",
       "      <td>0.131621</td>\n",
       "    </tr>\n",
       "  </tbody>\n",
       "</table>\n",
       "</div>"
      ],
      "text/plain": [
       "         outro_mean\n",
       "funct      0.528775\n",
       "pronoun    0.202378\n",
       "verb       0.159233\n",
       "preps      0.151184\n",
       "ppron      0.131621"
      ]
     },
     "execution_count": 40,
     "metadata": {},
     "output_type": "execute_result"
    }
   ],
   "source": [
    "liguistic_stats[['outro_mean']].sort_values('outro_mean',ascending=False).head(5)"
   ]
  },
  {
   "cell_type": "code",
   "execution_count": 41,
   "metadata": {},
   "outputs": [
    {
     "data": {
      "text/html": [
       "<div>\n",
       "<table border=\"1\" class=\"dataframe\">\n",
       "  <thead>\n",
       "    <tr style=\"text-align: right;\">\n",
       "      <th></th>\n",
       "      <th>diario_mean</th>\n",
       "    </tr>\n",
       "  </thead>\n",
       "  <tbody>\n",
       "    <tr>\n",
       "      <th>swear</th>\n",
       "      <td>inf</td>\n",
       "    </tr>\n",
       "    <tr>\n",
       "      <th>social</th>\n",
       "      <td>inf</td>\n",
       "    </tr>\n",
       "    <tr>\n",
       "      <th>feel</th>\n",
       "      <td>inf</td>\n",
       "    </tr>\n",
       "    <tr>\n",
       "      <th>bio</th>\n",
       "      <td>inf</td>\n",
       "    </tr>\n",
       "    <tr>\n",
       "      <th>body</th>\n",
       "      <td>inf</td>\n",
       "    </tr>\n",
       "  </tbody>\n",
       "</table>\n",
       "</div>"
      ],
      "text/plain": [
       "        diario_mean\n",
       "swear           inf\n",
       "social          inf\n",
       "feel            inf\n",
       "bio             inf\n",
       "body            inf"
      ]
     },
     "execution_count": 41,
     "metadata": {},
     "output_type": "execute_result"
    }
   ],
   "source": [
    "psychological_columns = ['swear','social','family','friend','humans','affect','posemo','negemo','anx','anger','sad','cogmech','insight','cause','discrep','tentat','certain','inhib','incl','excl','percept','see','hear','feel','bio','body','health','sexual','ingest','relativ','motion','space','time','work','achieve','leisure','home','money','relig','death','assent','nonfl','filler']\n",
    "psychological_stats = relative_stats.ix[psychological_columns]\n",
    "psychological_stats[['diario_mean']].sort_values('diario_mean',ascending=False).head(5)"
   ]
  },
  {
   "cell_type": "code",
   "execution_count": 42,
   "metadata": {},
   "outputs": [
    {
     "data": {
      "text/html": [
       "<div>\n",
       "<table border=\"1\" class=\"dataframe\">\n",
       "  <thead>\n",
       "    <tr style=\"text-align: right;\">\n",
       "      <th></th>\n",
       "      <th>outro_mean</th>\n",
       "    </tr>\n",
       "  </thead>\n",
       "  <tbody>\n",
       "    <tr>\n",
       "      <th>cogmech</th>\n",
       "      <td>0.409629</td>\n",
       "    </tr>\n",
       "    <tr>\n",
       "      <th>relativ</th>\n",
       "      <td>0.226960</td>\n",
       "    </tr>\n",
       "    <tr>\n",
       "      <th>social</th>\n",
       "      <td>0.216226</td>\n",
       "    </tr>\n",
       "    <tr>\n",
       "      <th>incl</th>\n",
       "      <td>0.154064</td>\n",
       "    </tr>\n",
       "    <tr>\n",
       "      <th>space</th>\n",
       "      <td>0.104359</td>\n",
       "    </tr>\n",
       "  </tbody>\n",
       "</table>\n",
       "</div>"
      ],
      "text/plain": [
       "         outro_mean\n",
       "cogmech    0.409629\n",
       "relativ    0.226960\n",
       "social     0.216226\n",
       "incl       0.154064\n",
       "space      0.104359"
      ]
     },
     "execution_count": 42,
     "metadata": {},
     "output_type": "execute_result"
    }
   ],
   "source": [
    "psychological_stats[['outro_mean']].sort_values('outro_mean',ascending=False).head(5)"
   ]
  },
  {
   "cell_type": "code",
   "execution_count": 43,
   "metadata": {
    "scrolled": true
   },
   "outputs": [
    {
     "data": {
      "text/html": [
       "<div>\n",
       "<table border=\"1\" class=\"dataframe\">\n",
       "  <thead>\n",
       "    <tr style=\"text-align: right;\">\n",
       "      <th></th>\n",
       "      <th>diario_mean</th>\n",
       "      <th>diario_std</th>\n",
       "      <th>outro_mean</th>\n",
       "      <th>outro_std</th>\n",
       "      <th>significance</th>\n",
       "      <th>diff</th>\n",
       "    </tr>\n",
       "  </thead>\n",
       "  <tbody>\n",
       "    <tr>\n",
       "      <th>i</th>\n",
       "      <td>10.492114</td>\n",
       "      <td>9.182412</td>\n",
       "      <td>7.661202</td>\n",
       "      <td>6.314582</td>\n",
       "      <td>1.159406e-08</td>\n",
       "      <td>2.830911</td>\n",
       "    </tr>\n",
       "    <tr>\n",
       "      <th>past</th>\n",
       "      <td>15.034700</td>\n",
       "      <td>12.828264</td>\n",
       "      <td>14.434426</td>\n",
       "      <td>11.205665</td>\n",
       "      <td>4.395911e-01</td>\n",
       "      <td>0.600274</td>\n",
       "    </tr>\n",
       "    <tr>\n",
       "      <th>friend</th>\n",
       "      <td>2.719243</td>\n",
       "      <td>3.192612</td>\n",
       "      <td>2.524590</td>\n",
       "      <td>2.807660</td>\n",
       "      <td>3.158384e-01</td>\n",
       "      <td>0.194653</td>\n",
       "    </tr>\n",
       "    <tr>\n",
       "      <th>filler</th>\n",
       "      <td>0.514196</td>\n",
       "      <td>1.217547</td>\n",
       "      <td>0.341530</td>\n",
       "      <td>0.808023</td>\n",
       "      <td>7.280867e-03</td>\n",
       "      <td>0.172666</td>\n",
       "    </tr>\n",
       "    <tr>\n",
       "      <th>home</th>\n",
       "      <td>1.996845</td>\n",
       "      <td>2.834005</td>\n",
       "      <td>1.836066</td>\n",
       "      <td>2.657718</td>\n",
       "      <td>3.687906e-01</td>\n",
       "      <td>0.160780</td>\n",
       "    </tr>\n",
       "  </tbody>\n",
       "</table>\n",
       "</div>"
      ],
      "text/plain": [
       "        diario_mean  diario_std  outro_mean  outro_std  significance      diff\n",
       "i         10.492114    9.182412    7.661202   6.314582  1.159406e-08  2.830911\n",
       "past      15.034700   12.828264   14.434426  11.205665  4.395911e-01  0.600274\n",
       "friend     2.719243    3.192612    2.524590   2.807660  3.158384e-01  0.194653\n",
       "filler     0.514196    1.217547    0.341530   0.808023  7.280867e-03  0.172666\n",
       "home       1.996845    2.834005    1.836066   2.657718  3.687906e-01  0.160780"
      ]
     },
     "execution_count": 43,
     "metadata": {},
     "output_type": "execute_result"
    }
   ],
   "source": [
    "stats['diff'] = stats['diario_mean'] - stats['outro_mean'] \n",
    "stats.sort_values('diff',ascending=False).head(5)"
   ]
  },
  {
   "cell_type": "code",
   "execution_count": 44,
   "metadata": {},
   "outputs": [
    {
     "data": {
      "text/html": [
       "<div>\n",
       "<table border=\"1\" class=\"dataframe\">\n",
       "  <thead>\n",
       "    <tr style=\"text-align: right;\">\n",
       "      <th></th>\n",
       "      <th>diario_mean</th>\n",
       "      <th>diario_std</th>\n",
       "      <th>outro_mean</th>\n",
       "      <th>outro_std</th>\n",
       "      <th>significance</th>\n",
       "      <th>diff</th>\n",
       "    </tr>\n",
       "  </thead>\n",
       "  <tbody>\n",
       "    <tr>\n",
       "      <th>funct</th>\n",
       "      <td>178.607256</td>\n",
       "      <td>108.565217</td>\n",
       "      <td>205.702186</td>\n",
       "      <td>124.264527</td>\n",
       "      <td>5.424437e-04</td>\n",
       "      <td>-27.094930</td>\n",
       "    </tr>\n",
       "    <tr>\n",
       "      <th>cogmech</th>\n",
       "      <td>143.269716</td>\n",
       "      <td>89.576596</td>\n",
       "      <td>167.158470</td>\n",
       "      <td>105.108591</td>\n",
       "      <td>2.830170e-04</td>\n",
       "      <td>-23.888754</td>\n",
       "    </tr>\n",
       "    <tr>\n",
       "      <th>preps</th>\n",
       "      <td>51.424290</td>\n",
       "      <td>33.501382</td>\n",
       "      <td>64.909836</td>\n",
       "      <td>41.897789</td>\n",
       "      <td>1.945733e-07</td>\n",
       "      <td>-13.485546</td>\n",
       "    </tr>\n",
       "    <tr>\n",
       "      <th>social</th>\n",
       "      <td>70.621451</td>\n",
       "      <td>46.262749</td>\n",
       "      <td>83.937158</td>\n",
       "      <td>53.930080</td>\n",
       "      <td>8.388890e-05</td>\n",
       "      <td>-13.315707</td>\n",
       "    </tr>\n",
       "    <tr>\n",
       "      <th>incl</th>\n",
       "      <td>52.332808</td>\n",
       "      <td>33.378692</td>\n",
       "      <td>62.489071</td>\n",
       "      <td>39.005214</td>\n",
       "      <td>3.355337e-05</td>\n",
       "      <td>-10.156263</td>\n",
       "    </tr>\n",
       "  </tbody>\n",
       "</table>\n",
       "</div>"
      ],
      "text/plain": [
       "         diario_mean  diario_std  outro_mean   outro_std  significance  \\\n",
       "funct     178.607256  108.565217  205.702186  124.264527  5.424437e-04   \n",
       "cogmech   143.269716   89.576596  167.158470  105.108591  2.830170e-04   \n",
       "preps      51.424290   33.501382   64.909836   41.897789  1.945733e-07   \n",
       "social     70.621451   46.262749   83.937158   53.930080  8.388890e-05   \n",
       "incl       52.332808   33.378692   62.489071   39.005214  3.355337e-05   \n",
       "\n",
       "              diff  \n",
       "funct   -27.094930  \n",
       "cogmech -23.888754  \n",
       "preps   -13.485546  \n",
       "social  -13.315707  \n",
       "incl    -10.156263  "
      ]
     },
     "execution_count": 44,
     "metadata": {},
     "output_type": "execute_result"
    }
   ],
   "source": [
    "stats.sort_values('diff',ascending=True).head(5)"
   ]
  },
  {
   "cell_type": "code",
   "execution_count": null,
   "metadata": {
    "collapsed": true
   },
   "outputs": [],
   "source": []
  }
 ],
 "metadata": {
  "kernelspec": {
   "display_name": "Python 3",
   "language": "python",
   "name": "python3"
  },
  "language_info": {
   "codemirror_mode": {
    "name": "ipython",
    "version": 3
   },
   "file_extension": ".py",
   "mimetype": "text/x-python",
   "name": "python",
   "nbconvert_exporter": "python",
   "pygments_lexer": "ipython3",
   "version": "3.6.1"
  }
 },
 "nbformat": 4,
 "nbformat_minor": 2
}
