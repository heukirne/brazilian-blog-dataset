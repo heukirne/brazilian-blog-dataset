{
 "cells": [
  {
   "cell_type": "markdown",
   "metadata": {
    "deletable": true,
    "editable": true
   },
   "source": [
    "## Corpus Stats"
   ]
  },
  {
   "cell_type": "code",
   "execution_count": 1,
   "metadata": {
    "collapsed": true,
    "deletable": true,
    "editable": true
   },
   "outputs": [],
   "source": [
    "import pandas as pd\n",
    "import numpy as np\n",
    "from scipy.stats import ttest_ind\n",
    "corpus = pd.read_csv('corpus.csv.gz', compression='gzip')"
   ]
  },
  {
   "cell_type": "code",
   "execution_count": 2,
   "metadata": {
    "collapsed": false,
    "deletable": true,
    "editable": true
   },
   "outputs": [
    {
     "data": {
      "text/plain": [
       "['Unnamed: 0',\n",
       " '_unit_id',\n",
       " '_golden',\n",
       " '_unit_state',\n",
       " '_trusted_judgments',\n",
       " '_last_judgment_at',\n",
       " 'qual_a_melhor_classificao_para_esse_texto',\n",
       " 'qual_a_melhor_classificao_para_esse_texto:confidence',\n",
       " 'authorid',\n",
       " 'blogid',\n",
       " 'content',\n",
       " 'contentcount',\n",
       " 'date',\n",
       " 'firstpart',\n",
       " 'labels',\n",
       " 'me',\n",
       " 'polarity',\n",
       " 'postid',\n",
       " 'published',\n",
       " 'qual_a_melhor_classificao_para_esse_texto_gold',\n",
       " 'readmore',\n",
       " 'replies',\n",
       " 'rownum',\n",
       " 'title',\n",
       " 'titlecount',\n",
       " 'wpscount',\n",
       " 'year']"
      ]
     },
     "execution_count": 2,
     "metadata": {},
     "output_type": "execute_result"
    }
   ],
   "source": [
    "list(corpus.columns.values)"
   ]
  },
  {
   "cell_type": "markdown",
   "metadata": {
    "deletable": true,
    "editable": true
   },
   "source": [
    "## Contagem"
   ]
  },
  {
   "cell_type": "code",
   "execution_count": 3,
   "metadata": {
    "collapsed": false,
    "deletable": true,
    "editable": true
   },
   "outputs": [
    {
     "name": "stdout",
     "output_type": "stream",
     "text": [
      "Total do Corpus: 1064\n",
      "Postagens: 1000\n",
      "Blogs: 972\n",
      "Autores: 972\n"
     ]
    }
   ],
   "source": [
    "blogs = corpus[['blogid']].groupby(['blogid'])\n",
    "autores = corpus[['authorid']].groupby(['authorid'])\n",
    "postagens = corpus[['postid']].groupby(['postid'])\n",
    "print('Total do Corpus: %i' %len(corpus))\n",
    "print('Postagens: %i' %len(postagens))\n",
    "print('Blogs: %i' %len(blogs))\n",
    "print('Autores: %i' %len(autores))"
   ]
  },
  {
   "cell_type": "code",
   "execution_count": 4,
   "metadata": {
    "collapsed": false,
    "deletable": true,
    "editable": true
   },
   "outputs": [
    {
     "data": {
      "text/html": [
       "<div>\n",
       "<table border=\"1\" class=\"dataframe\">\n",
       "  <thead>\n",
       "    <tr>\n",
       "      <th></th>\n",
       "      <th>postid</th>\n",
       "    </tr>\n",
       "    <tr>\n",
       "      <th></th>\n",
       "      <th>count</th>\n",
       "    </tr>\n",
       "    <tr>\n",
       "      <th>qual_a_melhor_classificao_para_esse_texto</th>\n",
       "      <th></th>\n",
       "    </tr>\n",
       "  </thead>\n",
       "  <tbody>\n",
       "    <tr>\n",
       "      <th>diario</th>\n",
       "      <td>672</td>\n",
       "    </tr>\n",
       "    <tr>\n",
       "      <th>outro</th>\n",
       "      <td>392</td>\n",
       "    </tr>\n",
       "  </tbody>\n",
       "</table>\n",
       "</div>"
      ],
      "text/plain": [
       "                                          postid\n",
       "                                           count\n",
       "qual_a_melhor_classificao_para_esse_texto       \n",
       "diario                                       672\n",
       "outro                                        392"
      ]
     },
     "execution_count": 4,
     "metadata": {},
     "output_type": "execute_result"
    }
   ],
   "source": [
    "corpus[['postid','qual_a_melhor_classificao_para_esse_texto']].groupby(['qual_a_melhor_classificao_para_esse_texto']).agg(['count'])"
   ]
  },
  {
   "cell_type": "code",
   "execution_count": 5,
   "metadata": {
    "collapsed": false,
    "deletable": true,
    "editable": true
   },
   "outputs": [
    {
     "data": {
      "text/html": [
       "<div>\n",
       "<table border=\"1\" class=\"dataframe\">\n",
       "  <thead>\n",
       "    <tr style=\"text-align: right;\">\n",
       "      <th></th>\n",
       "      <th>count</th>\n",
       "    </tr>\n",
       "    <tr>\n",
       "      <th>qual_a_melhor_classificao_para_esse_texto:confidence</th>\n",
       "      <th></th>\n",
       "    </tr>\n",
       "  </thead>\n",
       "  <tbody>\n",
       "    <tr>\n",
       "      <th>1.0000</th>\n",
       "      <td>551</td>\n",
       "    </tr>\n",
       "    <tr>\n",
       "      <th>0.6667</th>\n",
       "      <td>11</td>\n",
       "    </tr>\n",
       "    <tr>\n",
       "      <th>0.6500</th>\n",
       "      <td>7</td>\n",
       "    </tr>\n",
       "    <tr>\n",
       "      <th>0.6707</th>\n",
       "      <td>7</td>\n",
       "    </tr>\n",
       "    <tr>\n",
       "      <th>0.6557</th>\n",
       "      <td>5</td>\n",
       "    </tr>\n",
       "  </tbody>\n",
       "</table>\n",
       "</div>"
      ],
      "text/plain": [
       "                                                    count\n",
       "qual_a_melhor_classificao_para_esse_texto:confi...       \n",
       "1.0000                                                551\n",
       "0.6667                                                 11\n",
       "0.6500                                                  7\n",
       "0.6707                                                  7\n",
       "0.6557                                                  5"
      ]
     },
     "execution_count": 5,
     "metadata": {},
     "output_type": "execute_result"
    }
   ],
   "source": [
    "confidence = corpus[['postid','qual_a_melhor_classificao_para_esse_texto:confidence']].groupby(['qual_a_melhor_classificao_para_esse_texto:confidence']).agg(['count'])\n",
    "confidence['postid'].sort_values('count',ascending=False).head(5)"
   ]
  },
  {
   "cell_type": "code",
   "execution_count": 6,
   "metadata": {
    "collapsed": false,
    "deletable": true,
    "editable": true
   },
   "outputs": [
    {
     "data": {
      "text/html": [
       "<div>\n",
       "<table border=\"1\" class=\"dataframe\">\n",
       "  <thead>\n",
       "    <tr>\n",
       "      <th></th>\n",
       "      <th>postid</th>\n",
       "    </tr>\n",
       "    <tr>\n",
       "      <th></th>\n",
       "      <th>count</th>\n",
       "    </tr>\n",
       "    <tr>\n",
       "      <th>_golden</th>\n",
       "      <th></th>\n",
       "    </tr>\n",
       "  </thead>\n",
       "  <tbody>\n",
       "    <tr>\n",
       "      <th>False</th>\n",
       "      <td>1019</td>\n",
       "    </tr>\n",
       "    <tr>\n",
       "      <th>True</th>\n",
       "      <td>45</td>\n",
       "    </tr>\n",
       "  </tbody>\n",
       "</table>\n",
       "</div>"
      ],
      "text/plain": [
       "        postid\n",
       "         count\n",
       "_golden       \n",
       "False     1019\n",
       "True        45"
      ]
     },
     "execution_count": 6,
     "metadata": {},
     "output_type": "execute_result"
    }
   ],
   "source": [
    "corpus[['postid','_golden']].groupby(['_golden']).agg(['count'])"
   ]
  },
  {
   "cell_type": "code",
   "execution_count": 7,
   "metadata": {
    "collapsed": false,
    "deletable": true,
    "editable": true
   },
   "outputs": [
    {
     "data": {
      "text/html": [
       "<div>\n",
       "<table border=\"1\" class=\"dataframe\">\n",
       "  <thead>\n",
       "    <tr>\n",
       "      <th></th>\n",
       "      <th>postid</th>\n",
       "    </tr>\n",
       "    <tr>\n",
       "      <th></th>\n",
       "      <th>count</th>\n",
       "    </tr>\n",
       "    <tr>\n",
       "      <th>_trusted_judgments</th>\n",
       "      <th></th>\n",
       "    </tr>\n",
       "  </thead>\n",
       "  <tbody>\n",
       "    <tr>\n",
       "      <th>3</th>\n",
       "      <td>916</td>\n",
       "    </tr>\n",
       "    <tr>\n",
       "      <th>4</th>\n",
       "      <td>85</td>\n",
       "    </tr>\n",
       "    <tr>\n",
       "      <th>6</th>\n",
       "      <td>2</td>\n",
       "    </tr>\n",
       "  </tbody>\n",
       "</table>\n",
       "</div>"
      ],
      "text/plain": [
       "                   postid\n",
       "                    count\n",
       "_trusted_judgments       \n",
       "3                     916\n",
       "4                      85\n",
       "6                       2"
      ]
     },
     "execution_count": 7,
     "metadata": {},
     "output_type": "execute_result"
    }
   ],
   "source": [
    "corpus[['postid','_trusted_judgments']].groupby(['_trusted_judgments']).agg(['count']).head(3)"
   ]
  },
  {
   "cell_type": "markdown",
   "metadata": {
    "collapsed": true,
    "deletable": true,
    "editable": true
   },
   "source": [
    "## LIWC Stats"
   ]
  },
  {
   "cell_type": "code",
   "execution_count": 8,
   "metadata": {
    "collapsed": true
   },
   "outputs": [],
   "source": [
    "from liwc import LIWC\n",
    "liwc_class = LIWC()"
   ]
  },
  {
   "cell_type": "code",
   "execution_count": 9,
   "metadata": {
    "collapsed": false
   },
   "outputs": [],
   "source": [
    "#mtx = liwc_class.build_features(corpus['content'])\n",
    "columns = ['funct','pronoun','ppron','i','we','you','shehe','they','ipron','article','verb','auxverb','past','present','future','adverb','preps','conj','negate','quant','number','swear','social','family','friend','humans','affect','posemo','negemo','anx','anger','sad','cogmech','insight','cause','discrep','tentat','certain','inhib','incl','excl','percept','see','hear','feel','bio','body','health','sexual','ingest','relativ','motion','space','time','work','achieve','leisure','home','money','relig','death','assent','nonfl','filler']\n",
    "#df_liwc = pd.DataFrame(mtx, columns=columns)\n",
    "#df_liwc.to_csv('corpus_liwc_mtx.csv.gz', compression='gzip')\n",
    "df_liwc = pd.read_csv('corpus_liwc_mtx.csv.gz', compression='gzip')"
   ]
  },
  {
   "cell_type": "code",
   "execution_count": 10,
   "metadata": {
    "collapsed": false
   },
   "outputs": [],
   "source": [
    "df_liwc['class'] = corpus['qual_a_melhor_classificao_para_esse_texto']\n",
    "df_liwc['confidence'] = corpus['qual_a_melhor_classificao_para_esse_texto:confidence']"
   ]
  },
  {
   "cell_type": "code",
   "execution_count": 11,
   "metadata": {
    "collapsed": false
   },
   "outputs": [
    {
     "data": {
      "text/plain": [
       "<matplotlib.axes._subplots.AxesSubplot at 0x7fa8367df1d0>"
      ]
     },
     "execution_count": 11,
     "metadata": {},
     "output_type": "execute_result"
    },
    {
     "data": {
      "image/png": "[encoded data removed]",
      "text/plain": [
       "<matplotlib.figure.Figure at 0x7fa8380bc2b0>"
      ]
     },
     "metadata": {},
     "output_type": "display_data"
    }
   ],
   "source": [
    "%matplotlib inline\n",
    "df_liwc['i'].plot.hist(bins=40)"
   ]
  },
  {
   "cell_type": "code",
   "execution_count": 12,
   "metadata": {
    "collapsed": false
   },
   "outputs": [],
   "source": [
    "diario = df_liwc[df_liwc['class'] == 'diario']\n",
    "outro = df_liwc[df_liwc['class'] == 'outro']"
   ]
  },
  {
   "cell_type": "code",
   "execution_count": 13,
   "metadata": {
    "collapsed": false
   },
   "outputs": [],
   "source": [
    "stats = pd.DataFrame(data={'diario_mean': diario.mean(axis=0)}, index=columns)\n",
    "stats['diario_std'] = diario.std(axis=0)\n",
    "stats['outro_mean'] = outro.mean(axis=0)\n",
    "stats['outro_std'] = outro.std(axis=0)"
   ]
  },
  {
   "cell_type": "markdown",
   "metadata": {},
   "source": [
    "## Significance Test"
   ]
  },
  {
   "cell_type": "code",
   "execution_count": 14,
   "metadata": {
    "collapsed": false
   },
   "outputs": [],
   "source": [
    "significance = []\n",
    "for column in list(stats.index.values):\n",
    "    a = diario[column]\n",
    "    b = outro[column]\n",
    "    t, p = ttest_ind(a, b, equal_var=False)\n",
    "    significance.append(p > 0.05)"
   ]
  },
  {
   "cell_type": "code",
   "execution_count": 15,
   "metadata": {
    "collapsed": false
   },
   "outputs": [
    {
     "data": {
      "text/html": [
       "<div>\n",
       "<table border=\"1\" class=\"dataframe\">\n",
       "  <thead>\n",
       "    <tr style=\"text-align: right;\">\n",
       "      <th></th>\n",
       "      <th>diario_mean</th>\n",
       "      <th>diario_std</th>\n",
       "      <th>outro_mean</th>\n",
       "      <th>outro_std</th>\n",
       "      <th>significance</th>\n",
       "    </tr>\n",
       "  </thead>\n",
       "  <tbody>\n",
       "    <tr>\n",
       "      <th>past</th>\n",
       "      <td>15.406250</td>\n",
       "      <td>13.167051</td>\n",
       "      <td>14.512755</td>\n",
       "      <td>11.171064</td>\n",
       "      <td>True</td>\n",
       "    </tr>\n",
       "    <tr>\n",
       "      <th>adverb</th>\n",
       "      <td>14.162202</td>\n",
       "      <td>9.800949</td>\n",
       "      <td>14.369898</td>\n",
       "      <td>10.318628</td>\n",
       "      <td>True</td>\n",
       "    </tr>\n",
       "    <tr>\n",
       "      <th>negate</th>\n",
       "      <td>6.443452</td>\n",
       "      <td>5.638891</td>\n",
       "      <td>6.428571</td>\n",
       "      <td>5.473489</td>\n",
       "      <td>True</td>\n",
       "    </tr>\n",
       "    <tr>\n",
       "      <th>number</th>\n",
       "      <td>5.723214</td>\n",
       "      <td>4.709207</td>\n",
       "      <td>6.331633</td>\n",
       "      <td>5.210870</td>\n",
       "      <td>True</td>\n",
       "    </tr>\n",
       "    <tr>\n",
       "      <th>family</th>\n",
       "      <td>1.369048</td>\n",
       "      <td>2.689738</td>\n",
       "      <td>1.454082</td>\n",
       "      <td>2.927589</td>\n",
       "      <td>True</td>\n",
       "    </tr>\n",
       "    <tr>\n",
       "      <th>friend</th>\n",
       "      <td>2.747024</td>\n",
       "      <td>3.165809</td>\n",
       "      <td>2.494898</td>\n",
       "      <td>2.767176</td>\n",
       "      <td>True</td>\n",
       "    </tr>\n",
       "    <tr>\n",
       "      <th>humans</th>\n",
       "      <td>25.440476</td>\n",
       "      <td>17.003095</td>\n",
       "      <td>26.709184</td>\n",
       "      <td>18.361589</td>\n",
       "      <td>True</td>\n",
       "    </tr>\n",
       "    <tr>\n",
       "      <th>anx</th>\n",
       "      <td>1.830357</td>\n",
       "      <td>2.396800</td>\n",
       "      <td>1.783163</td>\n",
       "      <td>2.332122</td>\n",
       "      <td>True</td>\n",
       "    </tr>\n",
       "    <tr>\n",
       "      <th>sad</th>\n",
       "      <td>3.882440</td>\n",
       "      <td>3.966272</td>\n",
       "      <td>3.887755</td>\n",
       "      <td>3.750213</td>\n",
       "      <td>True</td>\n",
       "    </tr>\n",
       "    <tr>\n",
       "      <th>percept</th>\n",
       "      <td>21.793155</td>\n",
       "      <td>15.242415</td>\n",
       "      <td>23.135204</td>\n",
       "      <td>15.607710</td>\n",
       "      <td>True</td>\n",
       "    </tr>\n",
       "    <tr>\n",
       "      <th>see</th>\n",
       "      <td>6.397321</td>\n",
       "      <td>5.668029</td>\n",
       "      <td>6.747449</td>\n",
       "      <td>6.056004</td>\n",
       "      <td>True</td>\n",
       "    </tr>\n",
       "    <tr>\n",
       "      <th>feel</th>\n",
       "      <td>8.767857</td>\n",
       "      <td>7.301041</td>\n",
       "      <td>8.627551</td>\n",
       "      <td>6.939568</td>\n",
       "      <td>True</td>\n",
       "    </tr>\n",
       "    <tr>\n",
       "      <th>bio</th>\n",
       "      <td>23.787202</td>\n",
       "      <td>16.980772</td>\n",
       "      <td>25.596939</td>\n",
       "      <td>17.289051</td>\n",
       "      <td>True</td>\n",
       "    </tr>\n",
       "    <tr>\n",
       "      <th>body</th>\n",
       "      <td>10.178571</td>\n",
       "      <td>8.462292</td>\n",
       "      <td>11.114796</td>\n",
       "      <td>8.097209</td>\n",
       "      <td>True</td>\n",
       "    </tr>\n",
       "    <tr>\n",
       "      <th>health</th>\n",
       "      <td>3.754464</td>\n",
       "      <td>3.812773</td>\n",
       "      <td>4.329082</td>\n",
       "      <td>5.239665</td>\n",
       "      <td>True</td>\n",
       "    </tr>\n",
       "    <tr>\n",
       "      <th>sexual</th>\n",
       "      <td>5.361607</td>\n",
       "      <td>5.051026</td>\n",
       "      <td>5.242347</td>\n",
       "      <td>4.945735</td>\n",
       "      <td>True</td>\n",
       "    </tr>\n",
       "    <tr>\n",
       "      <th>ingest</th>\n",
       "      <td>25.089286</td>\n",
       "      <td>16.776547</td>\n",
       "      <td>25.931122</td>\n",
       "      <td>16.471252</td>\n",
       "      <td>True</td>\n",
       "    </tr>\n",
       "    <tr>\n",
       "      <th>motion</th>\n",
       "      <td>23.587798</td>\n",
       "      <td>16.241234</td>\n",
       "      <td>25.280612</td>\n",
       "      <td>16.029954</td>\n",
       "      <td>True</td>\n",
       "    </tr>\n",
       "    <tr>\n",
       "      <th>home</th>\n",
       "      <td>2.089286</td>\n",
       "      <td>2.870437</td>\n",
       "      <td>1.816327</td>\n",
       "      <td>2.599811</td>\n",
       "      <td>True</td>\n",
       "    </tr>\n",
       "    <tr>\n",
       "      <th>money</th>\n",
       "      <td>7.885417</td>\n",
       "      <td>6.523622</td>\n",
       "      <td>8.772959</td>\n",
       "      <td>7.762918</td>\n",
       "      <td>True</td>\n",
       "    </tr>\n",
       "    <tr>\n",
       "      <th>assent</th>\n",
       "      <td>1.075893</td>\n",
       "      <td>1.441936</td>\n",
       "      <td>1.260204</td>\n",
       "      <td>1.744160</td>\n",
       "      <td>True</td>\n",
       "    </tr>\n",
       "  </tbody>\n",
       "</table>\n",
       "</div>"
      ],
      "text/plain": [
       "         diario_mean  diario_std  outro_mean  outro_std significance\n",
       "past       15.406250   13.167051   14.512755  11.171064         True\n",
       "adverb     14.162202    9.800949   14.369898  10.318628         True\n",
       "negate      6.443452    5.638891    6.428571   5.473489         True\n",
       "number      5.723214    4.709207    6.331633   5.210870         True\n",
       "family      1.369048    2.689738    1.454082   2.927589         True\n",
       "friend      2.747024    3.165809    2.494898   2.767176         True\n",
       "humans     25.440476   17.003095   26.709184  18.361589         True\n",
       "anx         1.830357    2.396800    1.783163   2.332122         True\n",
       "sad         3.882440    3.966272    3.887755   3.750213         True\n",
       "percept    21.793155   15.242415   23.135204  15.607710         True\n",
       "see         6.397321    5.668029    6.747449   6.056004         True\n",
       "feel        8.767857    7.301041    8.627551   6.939568         True\n",
       "bio        23.787202   16.980772   25.596939  17.289051         True\n",
       "body       10.178571    8.462292   11.114796   8.097209         True\n",
       "health      3.754464    3.812773    4.329082   5.239665         True\n",
       "sexual      5.361607    5.051026    5.242347   4.945735         True\n",
       "ingest     25.089286   16.776547   25.931122  16.471252         True\n",
       "motion     23.587798   16.241234   25.280612  16.029954         True\n",
       "home        2.089286    2.870437    1.816327   2.599811         True\n",
       "money       7.885417    6.523622    8.772959   7.762918         True\n",
       "assent      1.075893    1.441936    1.260204   1.744160         True"
      ]
     },
     "execution_count": 15,
     "metadata": {},
     "output_type": "execute_result"
    }
   ],
   "source": [
    "stats['significance'] = significance\n",
    "stats_signify = stats[stats.significance == True]\n",
    "stats_signify"
   ]
  }
 ],
 "metadata": {
  "kernelspec": {
   "display_name": "Python 3",
   "language": "python",
   "name": "python3"
  },
  "language_info": {
   "codemirror_mode": {
    "name": "ipython",
    "version": 3
   },
   "file_extension": ".py",
   "mimetype": "text/x-python",
   "name": "python",
   "nbconvert_exporter": "python",
   "pygments_lexer": "ipython3",
   "version": "3.5.2"
  }
 },
 "nbformat": 4,
 "nbformat_minor": 2
}
