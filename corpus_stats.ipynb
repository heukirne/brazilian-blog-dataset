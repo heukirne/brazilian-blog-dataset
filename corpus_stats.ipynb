{
 "cells": [
  {
   "cell_type": "markdown",
   "metadata": {
    "deletable": true,
    "editable": true
   },
   "source": [
    "## Corpus Stats"
   ]
  },
  {
   "cell_type": "code",
   "execution_count": 314,
   "metadata": {
    "collapsed": true,
    "deletable": true,
    "editable": true
   },
   "outputs": [],
   "source": [
    "import pandas as pd\n",
    "import numpy as np\n",
    "from scipy.stats import ttest_ind\n",
    "corpus = pd.read_csv('corpus.csv.gz', compression='gzip')"
   ]
  },
  {
   "cell_type": "code",
   "execution_count": 315,
   "metadata": {
    "collapsed": false,
    "deletable": true,
    "editable": true
   },
   "outputs": [
    {
     "data": {
      "text/plain": [
       "['Unnamed: 0',\n",
       " '_unit_id',\n",
       " '_golden',\n",
       " '_unit_state',\n",
       " '_trusted_judgments',\n",
       " '_last_judgment_at',\n",
       " 'qual_a_melhor_classificao_para_esse_texto',\n",
       " 'qual_a_melhor_classificao_para_esse_texto:confidence',\n",
       " 'authorid',\n",
       " 'blogid',\n",
       " 'content',\n",
       " 'contentcount',\n",
       " 'date',\n",
       " 'firstpart',\n",
       " 'labels',\n",
       " 'me',\n",
       " 'polarity',\n",
       " 'postid',\n",
       " 'published',\n",
       " 'qual_a_melhor_classificao_para_esse_texto_gold',\n",
       " 'readmore',\n",
       " 'replies',\n",
       " 'rownum',\n",
       " 'title',\n",
       " 'titlecount',\n",
       " 'wpscount',\n",
       " 'year']"
      ]
     },
     "execution_count": 315,
     "metadata": {},
     "output_type": "execute_result"
    }
   ],
   "source": [
    "list(corpus.columns.values)"
   ]
  },
  {
   "cell_type": "markdown",
   "metadata": {
    "deletable": true,
    "editable": true
   },
   "source": [
    "## Contagem"
   ]
  },
  {
   "cell_type": "code",
   "execution_count": 316,
   "metadata": {
    "collapsed": false,
    "deletable": true,
    "editable": true
   },
   "outputs": [
    {
     "name": "stdout",
     "output_type": "stream",
     "text": [
      "Total do Corpus: 1064\n",
      "Postagens: 1000\n",
      "Blogs: 972\n",
      "Autores: 972\n"
     ]
    }
   ],
   "source": [
    "blogs = corpus[['blogid']].groupby(['blogid'])\n",
    "autores = corpus[['authorid']].groupby(['authorid'])\n",
    "postagens = corpus[['postid']].groupby(['postid'])\n",
    "print('Total do Corpus: %i' %len(corpus))\n",
    "print('Postagens: %i' %len(postagens))\n",
    "print('Blogs: %i' %len(blogs))\n",
    "print('Autores: %i' %len(autores))"
   ]
  },
  {
   "cell_type": "code",
   "execution_count": 317,
   "metadata": {
    "collapsed": false,
    "deletable": true,
    "editable": true
   },
   "outputs": [
    {
     "data": {
      "text/html": [
       "<div>\n",
       "<table border=\"1\" class=\"dataframe\">\n",
       "  <thead>\n",
       "    <tr>\n",
       "      <th></th>\n",
       "      <th>postid</th>\n",
       "    </tr>\n",
       "    <tr>\n",
       "      <th></th>\n",
       "      <th>count</th>\n",
       "    </tr>\n",
       "    <tr>\n",
       "      <th>qual_a_melhor_classificao_para_esse_texto</th>\n",
       "      <th></th>\n",
       "    </tr>\n",
       "  </thead>\n",
       "  <tbody>\n",
       "    <tr>\n",
       "      <th>diario</th>\n",
       "      <td>672</td>\n",
       "    </tr>\n",
       "    <tr>\n",
       "      <th>outro</th>\n",
       "      <td>392</td>\n",
       "    </tr>\n",
       "  </tbody>\n",
       "</table>\n",
       "</div>"
      ],
      "text/plain": [
       "                                          postid\n",
       "                                           count\n",
       "qual_a_melhor_classificao_para_esse_texto       \n",
       "diario                                       672\n",
       "outro                                        392"
      ]
     },
     "execution_count": 317,
     "metadata": {},
     "output_type": "execute_result"
    }
   ],
   "source": [
    "corpus[['postid','qual_a_melhor_classificao_para_esse_texto']].groupby(['qual_a_melhor_classificao_para_esse_texto']).agg(['count'])"
   ]
  },
  {
   "cell_type": "code",
   "execution_count": 318,
   "metadata": {
    "collapsed": false,
    "deletable": true,
    "editable": true
   },
   "outputs": [
    {
     "data": {
      "text/html": [
       "<div>\n",
       "<table border=\"1\" class=\"dataframe\">\n",
       "  <thead>\n",
       "    <tr style=\"text-align: right;\">\n",
       "      <th></th>\n",
       "      <th>count</th>\n",
       "    </tr>\n",
       "    <tr>\n",
       "      <th>qual_a_melhor_classificao_para_esse_texto:confidence</th>\n",
       "      <th></th>\n",
       "    </tr>\n",
       "  </thead>\n",
       "  <tbody>\n",
       "    <tr>\n",
       "      <th>1.0000</th>\n",
       "      <td>551</td>\n",
       "    </tr>\n",
       "    <tr>\n",
       "      <th>0.6667</th>\n",
       "      <td>11</td>\n",
       "    </tr>\n",
       "    <tr>\n",
       "      <th>0.6500</th>\n",
       "      <td>7</td>\n",
       "    </tr>\n",
       "    <tr>\n",
       "      <th>0.6707</th>\n",
       "      <td>7</td>\n",
       "    </tr>\n",
       "    <tr>\n",
       "      <th>0.6557</th>\n",
       "      <td>5</td>\n",
       "    </tr>\n",
       "  </tbody>\n",
       "</table>\n",
       "</div>"
      ],
      "text/plain": [
       "                                                    count\n",
       "qual_a_melhor_classificao_para_esse_texto:confi...       \n",
       "1.0000                                                551\n",
       "0.6667                                                 11\n",
       "0.6500                                                  7\n",
       "0.6707                                                  7\n",
       "0.6557                                                  5"
      ]
     },
     "execution_count": 318,
     "metadata": {},
     "output_type": "execute_result"
    }
   ],
   "source": [
    "confidence = corpus[['postid','qual_a_melhor_classificao_para_esse_texto:confidence']].groupby(['qual_a_melhor_classificao_para_esse_texto:confidence']).agg(['count'])\n",
    "confidence['postid'].sort_values('count',ascending=False).head(5)"
   ]
  },
  {
   "cell_type": "code",
   "execution_count": 319,
   "metadata": {
    "collapsed": false,
    "deletable": true,
    "editable": true
   },
   "outputs": [
    {
     "data": {
      "text/html": [
       "<div>\n",
       "<table border=\"1\" class=\"dataframe\">\n",
       "  <thead>\n",
       "    <tr>\n",
       "      <th></th>\n",
       "      <th>postid</th>\n",
       "    </tr>\n",
       "    <tr>\n",
       "      <th></th>\n",
       "      <th>count</th>\n",
       "    </tr>\n",
       "    <tr>\n",
       "      <th>_golden</th>\n",
       "      <th></th>\n",
       "    </tr>\n",
       "  </thead>\n",
       "  <tbody>\n",
       "    <tr>\n",
       "      <th>False</th>\n",
       "      <td>1019</td>\n",
       "    </tr>\n",
       "    <tr>\n",
       "      <th>True</th>\n",
       "      <td>45</td>\n",
       "    </tr>\n",
       "  </tbody>\n",
       "</table>\n",
       "</div>"
      ],
      "text/plain": [
       "        postid\n",
       "         count\n",
       "_golden       \n",
       "False     1019\n",
       "True        45"
      ]
     },
     "execution_count": 319,
     "metadata": {},
     "output_type": "execute_result"
    }
   ],
   "source": [
    "corpus[['postid','_golden']].groupby(['_golden']).agg(['count'])"
   ]
  },
  {
   "cell_type": "code",
   "execution_count": 320,
   "metadata": {
    "collapsed": false,
    "deletable": true,
    "editable": true
   },
   "outputs": [
    {
     "data": {
      "text/html": [
       "<div>\n",
       "<table border=\"1\" class=\"dataframe\">\n",
       "  <thead>\n",
       "    <tr>\n",
       "      <th></th>\n",
       "      <th>postid</th>\n",
       "    </tr>\n",
       "    <tr>\n",
       "      <th></th>\n",
       "      <th>count</th>\n",
       "    </tr>\n",
       "    <tr>\n",
       "      <th>_trusted_judgments</th>\n",
       "      <th></th>\n",
       "    </tr>\n",
       "  </thead>\n",
       "  <tbody>\n",
       "    <tr>\n",
       "      <th>3</th>\n",
       "      <td>916</td>\n",
       "    </tr>\n",
       "    <tr>\n",
       "      <th>4</th>\n",
       "      <td>85</td>\n",
       "    </tr>\n",
       "    <tr>\n",
       "      <th>6</th>\n",
       "      <td>2</td>\n",
       "    </tr>\n",
       "  </tbody>\n",
       "</table>\n",
       "</div>"
      ],
      "text/plain": [
       "                   postid\n",
       "                    count\n",
       "_trusted_judgments       \n",
       "3                     916\n",
       "4                      85\n",
       "6                       2"
      ]
     },
     "execution_count": 320,
     "metadata": {},
     "output_type": "execute_result"
    }
   ],
   "source": [
    "corpus[['postid','_trusted_judgments']].groupby(['_trusted_judgments']).agg(['count']).head(3)"
   ]
  },
  {
   "cell_type": "markdown",
   "metadata": {
    "collapsed": true,
    "deletable": true,
    "editable": true
   },
   "source": [
    "## LIWC Stats"
   ]
  },
  {
   "cell_type": "code",
   "execution_count": 321,
   "metadata": {
    "collapsed": true,
    "deletable": true,
    "editable": true
   },
   "outputs": [],
   "source": [
    "from liwc import LIWC\n",
    "liwc_class = LIWC()"
   ]
  },
  {
   "cell_type": "code",
   "execution_count": 322,
   "metadata": {
    "collapsed": false,
    "deletable": true,
    "editable": true
   },
   "outputs": [],
   "source": [
    "#mtx = liwc_class.build_features(corpus['content'])\n",
    "columns = ['funct','pronoun','ppron','i','we','you','shehe','they','ipron','article','verb','auxverb','past','present','future','adverb','preps','conj','negate','quant','number','swear','social','family','friend','humans','affect','posemo','negemo','anx','anger','sad','cogmech','insight','cause','discrep','tentat','certain','inhib','incl','excl','percept','see','hear','feel','bio','body','health','sexual','ingest','relativ','motion','space','time','work','achieve','leisure','home','money','relig','death','assent','nonfl','filler']\n",
    "#df_liwc = pd.DataFrame(mtx, columns=columns)\n",
    "#df_liwc.to_csv('corpus_liwc_mtx.csv.gz', compression='gzip')\n",
    "df_liwc = pd.read_csv('corpus_liwc_mtx.csv.gz', compression='gzip')"
   ]
  },
  {
   "cell_type": "code",
   "execution_count": 323,
   "metadata": {
    "collapsed": false,
    "deletable": true,
    "editable": true
   },
   "outputs": [],
   "source": [
    "df_liwc['class'] = corpus['qual_a_melhor_classificao_para_esse_texto']\n",
    "df_liwc['confidence'] = corpus['qual_a_melhor_classificao_para_esse_texto:confidence']\n",
    "df_liwc['wc'] = corpus['contentcount']\n",
    "df_liwc['judges'] = corpus['_trusted_judgments']"
   ]
  },
  {
   "cell_type": "code",
   "execution_count": 324,
   "metadata": {
    "collapsed": false,
    "deletable": true,
    "editable": true,
    "scrolled": true
   },
   "outputs": [
    {
     "data": {
      "text/plain": [
       "<matplotlib.axes._subplots.AxesSubplot at 0x7fc332be85c0>"
      ]
     },
     "execution_count": 324,
     "metadata": {},
     "output_type": "execute_result"
    },
    {
     "data": {
      "image/png": "[encoded data removed]",
      "text/plain": [
       "<matplotlib.figure.Figure at 0x7fc3394ea5f8>"
      ]
     },
     "metadata": {},
     "output_type": "display_data"
    }
   ],
   "source": [
    "%matplotlib inline\n",
    "df_liwc['i'].plot.hist(bins=40)"
   ]
  },
  {
   "cell_type": "code",
   "execution_count": 325,
   "metadata": {
    "collapsed": false,
    "deletable": true,
    "editable": true
   },
   "outputs": [],
   "source": [
    "diario = df_liwc[df_liwc['class'] == 'diario']\n",
    "outro = df_liwc[df_liwc['class'] == 'outro']\n",
    "#df_liwc.to_csv('corpus_liwc_mtx.csv.gz', compression='gzip')"
   ]
  },
  {
   "cell_type": "code",
   "execution_count": 326,
   "metadata": {
    "collapsed": true
   },
   "outputs": [],
   "source": [
    "## Significance Test"
   ]
  },
  {
   "cell_type": "code",
   "execution_count": 327,
   "metadata": {
    "collapsed": false,
    "deletable": true,
    "editable": true
   },
   "outputs": [],
   "source": [
    "stats = pd.DataFrame(data={'diario_mean': diario.mean(axis=0)}, index=columns)\n",
    "stats['diario_std'] = diario.std(axis=0)\n",
    "stats['outro_mean'] = outro.mean(axis=0)\n",
    "stats['outro_std'] = outro.std(axis=0)"
   ]
  },
  {
   "cell_type": "code",
   "execution_count": 328,
   "metadata": {
    "collapsed": false,
    "deletable": true,
    "editable": true
   },
   "outputs": [],
   "source": [
    "significance = []\n",
    "for column in list(stats.index.values):\n",
    "    a = diario[column]\n",
    "    b = outro[column]\n",
    "    t, p = ttest_ind(a, b, equal_var=False)\n",
    "    significance.append(p)\n",
    "stats['significance'] = significance"
   ]
  },
  {
   "cell_type": "code",
   "execution_count": 329,
   "metadata": {
    "collapsed": false,
    "deletable": true,
    "editable": true
   },
   "outputs": [
    {
     "data": {
      "text/html": [
       "<div>\n",
       "<table border=\"1\" class=\"dataframe\">\n",
       "  <thead>\n",
       "    <tr style=\"text-align: right;\">\n",
       "      <th></th>\n",
       "      <th>diario_mean</th>\n",
       "      <th>diario_std</th>\n",
       "      <th>outro_mean</th>\n",
       "      <th>outro_std</th>\n",
       "      <th>significance</th>\n",
       "    </tr>\n",
       "  </thead>\n",
       "  <tbody>\n",
       "    <tr>\n",
       "      <th>you</th>\n",
       "      <td>25.270833</td>\n",
       "      <td>17.399689</td>\n",
       "      <td>33.806122</td>\n",
       "      <td>22.928849</td>\n",
       "      <td>3.420557e-10</td>\n",
       "    </tr>\n",
       "    <tr>\n",
       "      <th>i</th>\n",
       "      <td>10.660714</td>\n",
       "      <td>9.296783</td>\n",
       "      <td>7.668367</td>\n",
       "      <td>6.401504</td>\n",
       "      <td>8.294430e-10</td>\n",
       "    </tr>\n",
       "    <tr>\n",
       "      <th>shehe</th>\n",
       "      <td>23.586310</td>\n",
       "      <td>16.951891</td>\n",
       "      <td>31.035714</td>\n",
       "      <td>21.520317</td>\n",
       "      <td>6.735804e-09</td>\n",
       "    </tr>\n",
       "    <tr>\n",
       "      <th>nonfl</th>\n",
       "      <td>8.895833</td>\n",
       "      <td>6.796675</td>\n",
       "      <td>11.864796</td>\n",
       "      <td>8.789356</td>\n",
       "      <td>1.297108e-08</td>\n",
       "    </tr>\n",
       "    <tr>\n",
       "      <th>preps</th>\n",
       "      <td>51.806548</td>\n",
       "      <td>33.466019</td>\n",
       "      <td>65.469388</td>\n",
       "      <td>42.111459</td>\n",
       "      <td>5.643705e-08</td>\n",
       "    </tr>\n",
       "    <tr>\n",
       "      <th>they</th>\n",
       "      <td>6.489583</td>\n",
       "      <td>5.819174</td>\n",
       "      <td>8.933673</td>\n",
       "      <td>7.705957</td>\n",
       "      <td>7.555235e-08</td>\n",
       "    </tr>\n",
       "    <tr>\n",
       "      <th>article</th>\n",
       "      <td>28.562500</td>\n",
       "      <td>19.251236</td>\n",
       "      <td>35.670918</td>\n",
       "      <td>23.800457</td>\n",
       "      <td>6.242151e-07</td>\n",
       "    </tr>\n",
       "    <tr>\n",
       "      <th>work</th>\n",
       "      <td>9.080357</td>\n",
       "      <td>9.309199</td>\n",
       "      <td>12.834184</td>\n",
       "      <td>13.677153</td>\n",
       "      <td>1.804873e-06</td>\n",
       "    </tr>\n",
       "    <tr>\n",
       "      <th>space</th>\n",
       "      <td>36.617560</td>\n",
       "      <td>24.918966</td>\n",
       "      <td>44.714286</td>\n",
       "      <td>28.687130</td>\n",
       "      <td>3.821845e-06</td>\n",
       "    </tr>\n",
       "    <tr>\n",
       "      <th>relig</th>\n",
       "      <td>2.305060</td>\n",
       "      <td>2.999370</td>\n",
       "      <td>3.719388</td>\n",
       "      <td>5.862694</td>\n",
       "      <td>1.059921e-05</td>\n",
       "    </tr>\n",
       "    <tr>\n",
       "      <th>incl</th>\n",
       "      <td>52.675595</td>\n",
       "      <td>33.467855</td>\n",
       "      <td>62.849490</td>\n",
       "      <td>39.100896</td>\n",
       "      <td>1.843630e-05</td>\n",
       "    </tr>\n",
       "    <tr>\n",
       "      <th>swear</th>\n",
       "      <td>19.636905</td>\n",
       "      <td>13.322851</td>\n",
       "      <td>23.614796</td>\n",
       "      <td>16.349667</td>\n",
       "      <td>4.826367e-05</td>\n",
       "    </tr>\n",
       "    <tr>\n",
       "      <th>achieve</th>\n",
       "      <td>11.369048</td>\n",
       "      <td>8.496732</td>\n",
       "      <td>14.022959</td>\n",
       "      <td>11.143655</td>\n",
       "      <td>5.171798e-05</td>\n",
       "    </tr>\n",
       "    <tr>\n",
       "      <th>present</th>\n",
       "      <td>30.619048</td>\n",
       "      <td>20.731858</td>\n",
       "      <td>36.670918</td>\n",
       "      <td>24.842344</td>\n",
       "      <td>5.292359e-05</td>\n",
       "    </tr>\n",
       "    <tr>\n",
       "      <th>ppron</th>\n",
       "      <td>42.119048</td>\n",
       "      <td>26.714433</td>\n",
       "      <td>49.448980</td>\n",
       "      <td>30.653537</td>\n",
       "      <td>8.888078e-05</td>\n",
       "    </tr>\n",
       "    <tr>\n",
       "      <th>social</th>\n",
       "      <td>71.464286</td>\n",
       "      <td>46.229408</td>\n",
       "      <td>84.040816</td>\n",
       "      <td>53.570551</td>\n",
       "      <td>1.135229e-04</td>\n",
       "    </tr>\n",
       "    <tr>\n",
       "      <th>ipron</th>\n",
       "      <td>45.732143</td>\n",
       "      <td>30.323585</td>\n",
       "      <td>53.461735</td>\n",
       "      <td>35.177861</td>\n",
       "      <td>2.992286e-04</td>\n",
       "    </tr>\n",
       "    <tr>\n",
       "      <th>cogmech</th>\n",
       "      <td>144.729167</td>\n",
       "      <td>89.574476</td>\n",
       "      <td>167.653061</td>\n",
       "      <td>104.864726</td>\n",
       "      <td>3.094344e-04</td>\n",
       "    </tr>\n",
       "    <tr>\n",
       "      <th>hear</th>\n",
       "      <td>5.104167</td>\n",
       "      <td>4.863365</td>\n",
       "      <td>6.255102</td>\n",
       "      <td>5.642479</td>\n",
       "      <td>7.824432e-04</td>\n",
       "    </tr>\n",
       "    <tr>\n",
       "      <th>funct</th>\n",
       "      <td>180.869048</td>\n",
       "      <td>108.879693</td>\n",
       "      <td>206.211735</td>\n",
       "      <td>123.861252</td>\n",
       "      <td>8.100833e-04</td>\n",
       "    </tr>\n",
       "    <tr>\n",
       "      <th>cause</th>\n",
       "      <td>17.102679</td>\n",
       "      <td>11.441936</td>\n",
       "      <td>19.885204</td>\n",
       "      <td>14.502124</td>\n",
       "      <td>1.195772e-03</td>\n",
       "    </tr>\n",
       "    <tr>\n",
       "      <th>anger</th>\n",
       "      <td>3.217262</td>\n",
       "      <td>3.883221</td>\n",
       "      <td>4.130102</td>\n",
       "      <td>4.918872</td>\n",
       "      <td>1.724691e-03</td>\n",
       "    </tr>\n",
       "    <tr>\n",
       "      <th>conj</th>\n",
       "      <td>36.617560</td>\n",
       "      <td>23.855149</td>\n",
       "      <td>41.622449</td>\n",
       "      <td>27.235457</td>\n",
       "      <td>2.581040e-03</td>\n",
       "    </tr>\n",
       "    <tr>\n",
       "      <th>insight</th>\n",
       "      <td>23.623512</td>\n",
       "      <td>16.233383</td>\n",
       "      <td>26.961735</td>\n",
       "      <td>18.424965</td>\n",
       "      <td>3.014987e-03</td>\n",
       "    </tr>\n",
       "    <tr>\n",
       "      <th>pronoun</th>\n",
       "      <td>67.293155</td>\n",
       "      <td>42.568420</td>\n",
       "      <td>75.801020</td>\n",
       "      <td>46.996340</td>\n",
       "      <td>3.300835e-03</td>\n",
       "    </tr>\n",
       "    <tr>\n",
       "      <th>filler</th>\n",
       "      <td>0.525298</td>\n",
       "      <td>1.214401</td>\n",
       "      <td>0.344388</td>\n",
       "      <td>0.794012</td>\n",
       "      <td>3.423192e-03</td>\n",
       "    </tr>\n",
       "    <tr>\n",
       "      <th>affect</th>\n",
       "      <td>31.848214</td>\n",
       "      <td>20.826461</td>\n",
       "      <td>36.150510</td>\n",
       "      <td>24.705949</td>\n",
       "      <td>3.859748e-03</td>\n",
       "    </tr>\n",
       "    <tr>\n",
       "      <th>we</th>\n",
       "      <td>1.854167</td>\n",
       "      <td>2.884696</td>\n",
       "      <td>2.553571</td>\n",
       "      <td>4.256746</td>\n",
       "      <td>4.003011e-03</td>\n",
       "    </tr>\n",
       "    <tr>\n",
       "      <th>death</th>\n",
       "      <td>0.934524</td>\n",
       "      <td>1.559127</td>\n",
       "      <td>1.255102</td>\n",
       "      <td>1.861228</td>\n",
       "      <td>4.193419e-03</td>\n",
       "    </tr>\n",
       "    <tr>\n",
       "      <th>auxverb</th>\n",
       "      <td>21.959821</td>\n",
       "      <td>14.776220</td>\n",
       "      <td>24.880102</td>\n",
       "      <td>17.005593</td>\n",
       "      <td>4.740068e-03</td>\n",
       "    </tr>\n",
       "    <tr>\n",
       "      <th>relativ</th>\n",
       "      <td>81.255952</td>\n",
       "      <td>50.425226</td>\n",
       "      <td>90.354592</td>\n",
       "      <td>55.027538</td>\n",
       "      <td>7.475411e-03</td>\n",
       "    </tr>\n",
       "    <tr>\n",
       "      <th>posemo</th>\n",
       "      <td>20.991071</td>\n",
       "      <td>13.854467</td>\n",
       "      <td>23.484694</td>\n",
       "      <td>16.403473</td>\n",
       "      <td>1.164625e-02</td>\n",
       "    </tr>\n",
       "    <tr>\n",
       "      <th>tentat</th>\n",
       "      <td>36.035714</td>\n",
       "      <td>24.378203</td>\n",
       "      <td>40.326531</td>\n",
       "      <td>28.024113</td>\n",
       "      <td>1.178188e-02</td>\n",
       "    </tr>\n",
       "    <tr>\n",
       "      <th>inhib</th>\n",
       "      <td>16.553571</td>\n",
       "      <td>11.557417</td>\n",
       "      <td>18.369898</td>\n",
       "      <td>12.825144</td>\n",
       "      <td>2.117132e-02</td>\n",
       "    </tr>\n",
       "    <tr>\n",
       "      <th>negemo</th>\n",
       "      <td>9.675595</td>\n",
       "      <td>8.420513</td>\n",
       "      <td>10.974490</td>\n",
       "      <td>9.436522</td>\n",
       "      <td>2.461458e-02</td>\n",
       "    </tr>\n",
       "    <tr>\n",
       "      <th>future</th>\n",
       "      <td>2.337798</td>\n",
       "      <td>2.487621</td>\n",
       "      <td>2.739796</td>\n",
       "      <td>2.997637</td>\n",
       "      <td>2.523211e-02</td>\n",
       "    </tr>\n",
       "    <tr>\n",
       "      <th>excl</th>\n",
       "      <td>26.501488</td>\n",
       "      <td>18.863222</td>\n",
       "      <td>29.367347</td>\n",
       "      <td>20.967220</td>\n",
       "      <td>2.601590e-02</td>\n",
       "    </tr>\n",
       "    <tr>\n",
       "      <th>quant</th>\n",
       "      <td>20.099702</td>\n",
       "      <td>13.479593</td>\n",
       "      <td>22.153061</td>\n",
       "      <td>15.369184</td>\n",
       "      <td>2.828284e-02</td>\n",
       "    </tr>\n",
       "    <tr>\n",
       "      <th>discrep</th>\n",
       "      <td>23.385417</td>\n",
       "      <td>16.302888</td>\n",
       "      <td>25.785714</td>\n",
       "      <td>17.760844</td>\n",
       "      <td>2.875692e-02</td>\n",
       "    </tr>\n",
       "    <tr>\n",
       "      <th>leisure</th>\n",
       "      <td>8.244048</td>\n",
       "      <td>6.877464</td>\n",
       "      <td>9.242347</td>\n",
       "      <td>7.390804</td>\n",
       "      <td>2.957012e-02</td>\n",
       "    </tr>\n",
       "    <tr>\n",
       "      <th>verb</th>\n",
       "      <td>55.102679</td>\n",
       "      <td>35.073436</td>\n",
       "      <td>60.119898</td>\n",
       "      <td>37.146470</td>\n",
       "      <td>3.038350e-02</td>\n",
       "    </tr>\n",
       "    <tr>\n",
       "      <th>certain</th>\n",
       "      <td>9.464286</td>\n",
       "      <td>7.046486</td>\n",
       "      <td>10.510204</td>\n",
       "      <td>8.107330</td>\n",
       "      <td>3.366779e-02</td>\n",
       "    </tr>\n",
       "    <tr>\n",
       "      <th>time</th>\n",
       "      <td>29.674107</td>\n",
       "      <td>19.414209</td>\n",
       "      <td>32.464286</td>\n",
       "      <td>22.119040</td>\n",
       "      <td>3.837927e-02</td>\n",
       "    </tr>\n",
       "  </tbody>\n",
       "</table>\n",
       "</div>"
      ],
      "text/plain": [
       "         diario_mean  diario_std  outro_mean   outro_std  significance\n",
       "you        25.270833   17.399689   33.806122   22.928849  3.420557e-10\n",
       "i          10.660714    9.296783    7.668367    6.401504  8.294430e-10\n",
       "shehe      23.586310   16.951891   31.035714   21.520317  6.735804e-09\n",
       "nonfl       8.895833    6.796675   11.864796    8.789356  1.297108e-08\n",
       "preps      51.806548   33.466019   65.469388   42.111459  5.643705e-08\n",
       "they        6.489583    5.819174    8.933673    7.705957  7.555235e-08\n",
       "article    28.562500   19.251236   35.670918   23.800457  6.242151e-07\n",
       "work        9.080357    9.309199   12.834184   13.677153  1.804873e-06\n",
       "space      36.617560   24.918966   44.714286   28.687130  3.821845e-06\n",
       "relig       2.305060    2.999370    3.719388    5.862694  1.059921e-05\n",
       "incl       52.675595   33.467855   62.849490   39.100896  1.843630e-05\n",
       "swear      19.636905   13.322851   23.614796   16.349667  4.826367e-05\n",
       "achieve    11.369048    8.496732   14.022959   11.143655  5.171798e-05\n",
       "present    30.619048   20.731858   36.670918   24.842344  5.292359e-05\n",
       "ppron      42.119048   26.714433   49.448980   30.653537  8.888078e-05\n",
       "social     71.464286   46.229408   84.040816   53.570551  1.135229e-04\n",
       "ipron      45.732143   30.323585   53.461735   35.177861  2.992286e-04\n",
       "cogmech   144.729167   89.574476  167.653061  104.864726  3.094344e-04\n",
       "hear        5.104167    4.863365    6.255102    5.642479  7.824432e-04\n",
       "funct     180.869048  108.879693  206.211735  123.861252  8.100833e-04\n",
       "cause      17.102679   11.441936   19.885204   14.502124  1.195772e-03\n",
       "anger       3.217262    3.883221    4.130102    4.918872  1.724691e-03\n",
       "conj       36.617560   23.855149   41.622449   27.235457  2.581040e-03\n",
       "insight    23.623512   16.233383   26.961735   18.424965  3.014987e-03\n",
       "pronoun    67.293155   42.568420   75.801020   46.996340  3.300835e-03\n",
       "filler      0.525298    1.214401    0.344388    0.794012  3.423192e-03\n",
       "affect     31.848214   20.826461   36.150510   24.705949  3.859748e-03\n",
       "we          1.854167    2.884696    2.553571    4.256746  4.003011e-03\n",
       "death       0.934524    1.559127    1.255102    1.861228  4.193419e-03\n",
       "auxverb    21.959821   14.776220   24.880102   17.005593  4.740068e-03\n",
       "relativ    81.255952   50.425226   90.354592   55.027538  7.475411e-03\n",
       "posemo     20.991071   13.854467   23.484694   16.403473  1.164625e-02\n",
       "tentat     36.035714   24.378203   40.326531   28.024113  1.178188e-02\n",
       "inhib      16.553571   11.557417   18.369898   12.825144  2.117132e-02\n",
       "negemo      9.675595    8.420513   10.974490    9.436522  2.461458e-02\n",
       "future      2.337798    2.487621    2.739796    2.997637  2.523211e-02\n",
       "excl       26.501488   18.863222   29.367347   20.967220  2.601590e-02\n",
       "quant      20.099702   13.479593   22.153061   15.369184  2.828284e-02\n",
       "discrep    23.385417   16.302888   25.785714   17.760844  2.875692e-02\n",
       "leisure     8.244048    6.877464    9.242347    7.390804  2.957012e-02\n",
       "verb       55.102679   35.073436   60.119898   37.146470  3.038350e-02\n",
       "certain     9.464286    7.046486   10.510204    8.107330  3.366779e-02\n",
       "time       29.674107   19.414209   32.464286   22.119040  3.837927e-02"
      ]
     },
     "execution_count": 329,
     "metadata": {},
     "output_type": "execute_result"
    }
   ],
   "source": [
    "stats_signify = stats[stats.significance <= 0.05]\n",
    "stats_signify.sort_values('significance',ascending=True)"
   ]
  },
  {
   "cell_type": "markdown",
   "metadata": {},
   "source": [
    "## Most Informative Psychological Categories"
   ]
  },
  {
   "cell_type": "code",
   "execution_count": 330,
   "metadata": {
    "collapsed": false
   },
   "outputs": [
    {
     "data": {
      "text/html": [
       "<div>\n",
       "<table border=\"1\" class=\"dataframe\">\n",
       "  <thead>\n",
       "    <tr style=\"text-align: right;\">\n",
       "      <th></th>\n",
       "      <th>diario_mean</th>\n",
       "      <th>diario_std</th>\n",
       "      <th>outro_mean</th>\n",
       "      <th>outro_std</th>\n",
       "      <th>significance</th>\n",
       "    </tr>\n",
       "  </thead>\n",
       "  <tbody>\n",
       "    <tr>\n",
       "      <th>nonfl</th>\n",
       "      <td>8.895833</td>\n",
       "      <td>6.796675</td>\n",
       "      <td>11.864796</td>\n",
       "      <td>8.789356</td>\n",
       "      <td>1.297108e-08</td>\n",
       "    </tr>\n",
       "    <tr>\n",
       "      <th>work</th>\n",
       "      <td>9.080357</td>\n",
       "      <td>9.309199</td>\n",
       "      <td>12.834184</td>\n",
       "      <td>13.677153</td>\n",
       "      <td>1.804873e-06</td>\n",
       "    </tr>\n",
       "    <tr>\n",
       "      <th>space</th>\n",
       "      <td>36.617560</td>\n",
       "      <td>24.918966</td>\n",
       "      <td>44.714286</td>\n",
       "      <td>28.687130</td>\n",
       "      <td>3.821845e-06</td>\n",
       "    </tr>\n",
       "    <tr>\n",
       "      <th>relig</th>\n",
       "      <td>2.305060</td>\n",
       "      <td>2.999370</td>\n",
       "      <td>3.719388</td>\n",
       "      <td>5.862694</td>\n",
       "      <td>1.059921e-05</td>\n",
       "    </tr>\n",
       "    <tr>\n",
       "      <th>incl</th>\n",
       "      <td>52.675595</td>\n",
       "      <td>33.467855</td>\n",
       "      <td>62.849490</td>\n",
       "      <td>39.100896</td>\n",
       "      <td>1.843630e-05</td>\n",
       "    </tr>\n",
       "    <tr>\n",
       "      <th>swear</th>\n",
       "      <td>19.636905</td>\n",
       "      <td>13.322851</td>\n",
       "      <td>23.614796</td>\n",
       "      <td>16.349667</td>\n",
       "      <td>4.826367e-05</td>\n",
       "    </tr>\n",
       "    <tr>\n",
       "      <th>achieve</th>\n",
       "      <td>11.369048</td>\n",
       "      <td>8.496732</td>\n",
       "      <td>14.022959</td>\n",
       "      <td>11.143655</td>\n",
       "      <td>5.171798e-05</td>\n",
       "    </tr>\n",
       "    <tr>\n",
       "      <th>social</th>\n",
       "      <td>71.464286</td>\n",
       "      <td>46.229408</td>\n",
       "      <td>84.040816</td>\n",
       "      <td>53.570551</td>\n",
       "      <td>1.135229e-04</td>\n",
       "    </tr>\n",
       "    <tr>\n",
       "      <th>cogmech</th>\n",
       "      <td>144.729167</td>\n",
       "      <td>89.574476</td>\n",
       "      <td>167.653061</td>\n",
       "      <td>104.864726</td>\n",
       "      <td>3.094344e-04</td>\n",
       "    </tr>\n",
       "    <tr>\n",
       "      <th>hear</th>\n",
       "      <td>5.104167</td>\n",
       "      <td>4.863365</td>\n",
       "      <td>6.255102</td>\n",
       "      <td>5.642479</td>\n",
       "      <td>7.824432e-04</td>\n",
       "    </tr>\n",
       "    <tr>\n",
       "      <th>cause</th>\n",
       "      <td>17.102679</td>\n",
       "      <td>11.441936</td>\n",
       "      <td>19.885204</td>\n",
       "      <td>14.502124</td>\n",
       "      <td>1.195772e-03</td>\n",
       "    </tr>\n",
       "    <tr>\n",
       "      <th>anger</th>\n",
       "      <td>3.217262</td>\n",
       "      <td>3.883221</td>\n",
       "      <td>4.130102</td>\n",
       "      <td>4.918872</td>\n",
       "      <td>1.724691e-03</td>\n",
       "    </tr>\n",
       "    <tr>\n",
       "      <th>insight</th>\n",
       "      <td>23.623512</td>\n",
       "      <td>16.233383</td>\n",
       "      <td>26.961735</td>\n",
       "      <td>18.424965</td>\n",
       "      <td>3.014987e-03</td>\n",
       "    </tr>\n",
       "    <tr>\n",
       "      <th>filler</th>\n",
       "      <td>0.525298</td>\n",
       "      <td>1.214401</td>\n",
       "      <td>0.344388</td>\n",
       "      <td>0.794012</td>\n",
       "      <td>3.423192e-03</td>\n",
       "    </tr>\n",
       "    <tr>\n",
       "      <th>affect</th>\n",
       "      <td>31.848214</td>\n",
       "      <td>20.826461</td>\n",
       "      <td>36.150510</td>\n",
       "      <td>24.705949</td>\n",
       "      <td>3.859748e-03</td>\n",
       "    </tr>\n",
       "  </tbody>\n",
       "</table>\n",
       "</div>"
      ],
      "text/plain": [
       "         diario_mean  diario_std  outro_mean   outro_std  significance\n",
       "nonfl       8.895833    6.796675   11.864796    8.789356  1.297108e-08\n",
       "work        9.080357    9.309199   12.834184   13.677153  1.804873e-06\n",
       "space      36.617560   24.918966   44.714286   28.687130  3.821845e-06\n",
       "relig       2.305060    2.999370    3.719388    5.862694  1.059921e-05\n",
       "incl       52.675595   33.467855   62.849490   39.100896  1.843630e-05\n",
       "swear      19.636905   13.322851   23.614796   16.349667  4.826367e-05\n",
       "achieve    11.369048    8.496732   14.022959   11.143655  5.171798e-05\n",
       "social     71.464286   46.229408   84.040816   53.570551  1.135229e-04\n",
       "cogmech   144.729167   89.574476  167.653061  104.864726  3.094344e-04\n",
       "hear        5.104167    4.863365    6.255102    5.642479  7.824432e-04\n",
       "cause      17.102679   11.441936   19.885204   14.502124  1.195772e-03\n",
       "anger       3.217262    3.883221    4.130102    4.918872  1.724691e-03\n",
       "insight    23.623512   16.233383   26.961735   18.424965  3.014987e-03\n",
       "filler      0.525298    1.214401    0.344388    0.794012  3.423192e-03\n",
       "affect     31.848214   20.826461   36.150510   24.705949  3.859748e-03"
      ]
     },
     "execution_count": 330,
     "metadata": {},
     "output_type": "execute_result"
    }
   ],
   "source": [
    "psychological_columns = ['swear','social','family','friend','humans','affect','posemo','negemo','anx','anger','sad','cogmech','insight','cause','discrep','tentat','certain','inhib','incl','excl','percept','see','hear','feel','bio','body','health','sexual','ingest','relativ','motion','space','time','work','achieve','leisure','home','money','relig','death','assent','nonfl','filler']\n",
    "psychological_stats = stats_signify.ix[psychological_columns]\n",
    "psychological_stats.sort_values('significance',ascending=True).head(15)"
   ]
  },
  {
   "cell_type": "markdown",
   "metadata": {},
   "source": [
    "## Relative LIWC"
   ]
  },
  {
   "cell_type": "code",
   "execution_count": 331,
   "metadata": {
    "collapsed": false
   },
   "outputs": [
    {
     "data": {
      "text/plain": [
       "(910, 64)"
      ]
     },
     "execution_count": 331,
     "metadata": {},
     "output_type": "execute_result"
    }
   ],
   "source": [
    "prop_liwc = df_liwc\n",
    "prop_liwc.drop(prop_liwc.columns[0], axis=1,inplace=True)\n",
    "prop_liwc.drop(prop_liwc.columns[0], axis=1,inplace=True)\n",
    "prop_liwc = prop_liwc[prop_liwc.wc.apply(lambda x: str(x).isnumeric())]\n",
    "prop_liwc = prop_liwc[prop_liwc['judges'] == 3]\n",
    "\n",
    "wc_vector = prop_liwc['wc']\n",
    "class_vector = prop_liwc['class']\n",
    "\n",
    "prop_liwc.drop('class',axis=1,inplace=True)\n",
    "prop_liwc.drop('judges',axis=1,inplace=True)\n",
    "prop_liwc.drop('confidence',axis=1,inplace=True)\n",
    "prop_liwc.drop('wc',axis=1,inplace=True)\n",
    "\n",
    "prop_liwc.shape"
   ]
  },
  {
   "cell_type": "code",
   "execution_count": 332,
   "metadata": {
    "collapsed": false
   },
   "outputs": [],
   "source": [
    "prop_matrix = prop_liwc.as_matrix().astype(float) / wc_vector.as_matrix().astype(float)[:, np.newaxis]\n",
    "prop_liwc = pd.DataFrame(prop_matrix, columns=columns)"
   ]
  },
  {
   "cell_type": "markdown",
   "metadata": {},
   "source": [
    "## Relative Significance"
   ]
  },
  {
   "cell_type": "code",
   "execution_count": 333,
   "metadata": {
    "collapsed": false
   },
   "outputs": [],
   "source": [
    "prop_liwc['class'] = class_vector\n",
    "prop_liwc['wc'] = wc_vector"
   ]
  },
  {
   "cell_type": "code",
   "execution_count": 334,
   "metadata": {
    "collapsed": false
   },
   "outputs": [],
   "source": [
    "diario = prop_liwc[prop_liwc['class'] == 'diario']\n",
    "outro = prop_liwc[prop_liwc['class'] == 'outro']"
   ]
  },
  {
   "cell_type": "code",
   "execution_count": 335,
   "metadata": {
    "collapsed": false
   },
   "outputs": [
    {
     "name": "stdout",
     "output_type": "stream",
     "text": [
      "370.052631579\n",
      "433.074576271\n"
     ]
    }
   ],
   "source": [
    "print(diario['wc'].astype(float).mean())\n",
    "print(outro['wc'].astype(float).mean())"
   ]
  },
  {
   "cell_type": "code",
   "execution_count": 336,
   "metadata": {
    "collapsed": false
   },
   "outputs": [],
   "source": [
    "relative_stats = pd.DataFrame(data={'diario_mean': diario.mean(axis=0)}, index=columns)\n",
    "relative_stats['diario_std'] = diario.std(axis=0)\n",
    "relative_stats['outro_mean'] = outro.mean(axis=0)\n",
    "relative_stats['outro_std'] = outro.std(axis=0)"
   ]
  },
  {
   "cell_type": "code",
   "execution_count": 337,
   "metadata": {
    "collapsed": false
   },
   "outputs": [
    {
     "data": {
      "text/html": [
       "<div>\n",
       "<table border=\"1\" class=\"dataframe\">\n",
       "  <thead>\n",
       "    <tr style=\"text-align: right;\">\n",
       "      <th></th>\n",
       "      <th>diario_mean</th>\n",
       "    </tr>\n",
       "  </thead>\n",
       "  <tbody>\n",
       "    <tr>\n",
       "      <th>funct</th>\n",
       "      <td>0.515579</td>\n",
       "    </tr>\n",
       "    <tr>\n",
       "      <th>pronoun</th>\n",
       "      <td>0.194006</td>\n",
       "    </tr>\n",
       "    <tr>\n",
       "      <th>verb</th>\n",
       "      <td>0.155130</td>\n",
       "    </tr>\n",
       "    <tr>\n",
       "      <th>preps</th>\n",
       "      <td>0.149230</td>\n",
       "    </tr>\n",
       "    <tr>\n",
       "      <th>ppron</th>\n",
       "      <td>0.125473</td>\n",
       "    </tr>\n",
       "  </tbody>\n",
       "</table>\n",
       "</div>"
      ],
      "text/plain": [
       "         diario_mean\n",
       "funct       0.515579\n",
       "pronoun     0.194006\n",
       "verb        0.155130\n",
       "preps       0.149230\n",
       "ppron       0.125473"
      ]
     },
     "execution_count": 337,
     "metadata": {},
     "output_type": "execute_result"
    }
   ],
   "source": [
    "liguistic_columns = ['funct','pronoun','ppron','i','we','you','shehe','they','ipron','article','verb','auxverb','past','present','future','adverb','preps','conj','negate','quant','number']\n",
    "liguistic_stats = relative_stats.ix[liguistic_columns]\n",
    "liguistic_stats[['diario_mean']].sort_values('diario_mean',ascending=False).head(5)"
   ]
  },
  {
   "cell_type": "code",
   "execution_count": 338,
   "metadata": {
    "collapsed": false
   },
   "outputs": [
    {
     "data": {
      "text/html": [
       "<div>\n",
       "<table border=\"1\" class=\"dataframe\">\n",
       "  <thead>\n",
       "    <tr style=\"text-align: right;\">\n",
       "      <th></th>\n",
       "      <th>outro_mean</th>\n",
       "    </tr>\n",
       "  </thead>\n",
       "  <tbody>\n",
       "    <tr>\n",
       "      <th>funct</th>\n",
       "      <td>0.655458</td>\n",
       "    </tr>\n",
       "    <tr>\n",
       "      <th>pronoun</th>\n",
       "      <td>0.246634</td>\n",
       "    </tr>\n",
       "    <tr>\n",
       "      <th>preps</th>\n",
       "      <td>0.193069</td>\n",
       "    </tr>\n",
       "    <tr>\n",
       "      <th>verb</th>\n",
       "      <td>0.192711</td>\n",
       "    </tr>\n",
       "    <tr>\n",
       "      <th>ppron</th>\n",
       "      <td>0.164515</td>\n",
       "    </tr>\n",
       "  </tbody>\n",
       "</table>\n",
       "</div>"
      ],
      "text/plain": [
       "         outro_mean\n",
       "funct      0.655458\n",
       "pronoun    0.246634\n",
       "preps      0.193069\n",
       "verb       0.192711\n",
       "ppron      0.164515"
      ]
     },
     "execution_count": 338,
     "metadata": {},
     "output_type": "execute_result"
    }
   ],
   "source": [
    "liguistic_stats[['outro_mean']].sort_values('outro_mean',ascending=False).head(5)"
   ]
  },
  {
   "cell_type": "code",
   "execution_count": 339,
   "metadata": {
    "collapsed": false
   },
   "outputs": [
    {
     "data": {
      "text/html": [
       "<div>\n",
       "<table border=\"1\" class=\"dataframe\">\n",
       "  <thead>\n",
       "    <tr style=\"text-align: right;\">\n",
       "      <th></th>\n",
       "      <th>diario_mean</th>\n",
       "    </tr>\n",
       "  </thead>\n",
       "  <tbody>\n",
       "    <tr>\n",
       "      <th>cogmech</th>\n",
       "      <td>0.406343</td>\n",
       "    </tr>\n",
       "    <tr>\n",
       "      <th>relativ</th>\n",
       "      <td>0.219136</td>\n",
       "    </tr>\n",
       "    <tr>\n",
       "      <th>social</th>\n",
       "      <td>0.205927</td>\n",
       "    </tr>\n",
       "    <tr>\n",
       "      <th>incl</th>\n",
       "      <td>0.150931</td>\n",
       "    </tr>\n",
       "    <tr>\n",
       "      <th>tentat</th>\n",
       "      <td>0.099767</td>\n",
       "    </tr>\n",
       "  </tbody>\n",
       "</table>\n",
       "</div>"
      ],
      "text/plain": [
       "         diario_mean\n",
       "cogmech     0.406343\n",
       "relativ     0.219136\n",
       "social      0.205927\n",
       "incl        0.150931\n",
       "tentat      0.099767"
      ]
     },
     "execution_count": 339,
     "metadata": {},
     "output_type": "execute_result"
    }
   ],
   "source": [
    "psychological_columns = ['swear','social','family','friend','humans','affect','posemo','negemo','anx','anger','sad','cogmech','insight','cause','discrep','tentat','certain','inhib','incl','excl','percept','see','hear','feel','bio','body','health','sexual','ingest','relativ','motion','space','time','work','achieve','leisure','home','money','relig','death','assent','nonfl','filler']\n",
    "psychological_stats = relative_stats.ix[psychological_columns]\n",
    "psychological_stats[['diario_mean']].sort_values('diario_mean',ascending=False).head(5)"
   ]
  },
  {
   "cell_type": "code",
   "execution_count": 340,
   "metadata": {
    "collapsed": false
   },
   "outputs": [
    {
     "data": {
      "text/html": [
       "<div>\n",
       "<table border=\"1\" class=\"dataframe\">\n",
       "  <thead>\n",
       "    <tr style=\"text-align: right;\">\n",
       "      <th></th>\n",
       "      <th>outro_mean</th>\n",
       "    </tr>\n",
       "  </thead>\n",
       "  <tbody>\n",
       "    <tr>\n",
       "      <th>cogmech</th>\n",
       "      <td>0.515686</td>\n",
       "    </tr>\n",
       "    <tr>\n",
       "      <th>relativ</th>\n",
       "      <td>0.284658</td>\n",
       "    </tr>\n",
       "    <tr>\n",
       "      <th>social</th>\n",
       "      <td>0.260138</td>\n",
       "    </tr>\n",
       "    <tr>\n",
       "      <th>incl</th>\n",
       "      <td>0.193542</td>\n",
       "    </tr>\n",
       "    <tr>\n",
       "      <th>tentat</th>\n",
       "      <td>0.130312</td>\n",
       "    </tr>\n",
       "  </tbody>\n",
       "</table>\n",
       "</div>"
      ],
      "text/plain": [
       "         outro_mean\n",
       "cogmech    0.515686\n",
       "relativ    0.284658\n",
       "social     0.260138\n",
       "incl       0.193542\n",
       "tentat     0.130312"
      ]
     },
     "execution_count": 340,
     "metadata": {},
     "output_type": "execute_result"
    }
   ],
   "source": [
    "psychological_stats[['outro_mean']].sort_values('outro_mean',ascending=False).head(5)"
   ]
  },
  {
   "cell_type": "code",
   "execution_count": 345,
   "metadata": {
    "collapsed": false,
    "scrolled": true
   },
   "outputs": [
    {
     "data": {
      "text/html": [
       "<div>\n",
       "<table border=\"1\" class=\"dataframe\">\n",
       "  <thead>\n",
       "    <tr style=\"text-align: right;\">\n",
       "      <th></th>\n",
       "      <th>diario_mean</th>\n",
       "      <th>diario_std</th>\n",
       "      <th>outro_mean</th>\n",
       "      <th>outro_std</th>\n",
       "      <th>significance</th>\n",
       "      <th>diff</th>\n",
       "    </tr>\n",
       "  </thead>\n",
       "  <tbody>\n",
       "    <tr>\n",
       "      <th>i</th>\n",
       "      <td>10.660714</td>\n",
       "      <td>9.296783</td>\n",
       "      <td>7.668367</td>\n",
       "      <td>6.401504</td>\n",
       "      <td>8.294430e-10</td>\n",
       "      <td>2.992347</td>\n",
       "    </tr>\n",
       "    <tr>\n",
       "      <th>past</th>\n",
       "      <td>15.406250</td>\n",
       "      <td>13.167051</td>\n",
       "      <td>14.512755</td>\n",
       "      <td>11.171064</td>\n",
       "      <td>2.395240e-01</td>\n",
       "      <td>0.893495</td>\n",
       "    </tr>\n",
       "    <tr>\n",
       "      <th>home</th>\n",
       "      <td>2.089286</td>\n",
       "      <td>2.870437</td>\n",
       "      <td>1.816327</td>\n",
       "      <td>2.599811</td>\n",
       "      <td>1.123867e-01</td>\n",
       "      <td>0.272959</td>\n",
       "    </tr>\n",
       "    <tr>\n",
       "      <th>friend</th>\n",
       "      <td>2.747024</td>\n",
       "      <td>3.165809</td>\n",
       "      <td>2.494898</td>\n",
       "      <td>2.767176</td>\n",
       "      <td>1.746669e-01</td>\n",
       "      <td>0.252126</td>\n",
       "    </tr>\n",
       "    <tr>\n",
       "      <th>filler</th>\n",
       "      <td>0.525298</td>\n",
       "      <td>1.214401</td>\n",
       "      <td>0.344388</td>\n",
       "      <td>0.794012</td>\n",
       "      <td>3.423192e-03</td>\n",
       "      <td>0.180910</td>\n",
       "    </tr>\n",
       "  </tbody>\n",
       "</table>\n",
       "</div>"
      ],
      "text/plain": [
       "        diario_mean  diario_std  outro_mean  outro_std  significance      diff\n",
       "i         10.660714    9.296783    7.668367   6.401504  8.294430e-10  2.992347\n",
       "past      15.406250   13.167051   14.512755  11.171064  2.395240e-01  0.893495\n",
       "home       2.089286    2.870437    1.816327   2.599811  1.123867e-01  0.272959\n",
       "friend     2.747024    3.165809    2.494898   2.767176  1.746669e-01  0.252126\n",
       "filler     0.525298    1.214401    0.344388   0.794012  3.423192e-03  0.180910"
      ]
     },
     "execution_count": 345,
     "metadata": {},
     "output_type": "execute_result"
    }
   ],
   "source": [
    "stats['diff'] = stats['diario_mean'] - stats['outro_mean'] \n",
    "stats.sort_values('diff',ascending=False).head(5)"
   ]
  },
  {
   "cell_type": "code",
   "execution_count": 346,
   "metadata": {
    "collapsed": false
   },
   "outputs": [
    {
     "data": {
      "text/html": [
       "<div>\n",
       "<table border=\"1\" class=\"dataframe\">\n",
       "  <thead>\n",
       "    <tr style=\"text-align: right;\">\n",
       "      <th></th>\n",
       "      <th>diario_mean</th>\n",
       "      <th>diario_std</th>\n",
       "      <th>outro_mean</th>\n",
       "      <th>outro_std</th>\n",
       "      <th>significance</th>\n",
       "      <th>diff</th>\n",
       "    </tr>\n",
       "  </thead>\n",
       "  <tbody>\n",
       "    <tr>\n",
       "      <th>funct</th>\n",
       "      <td>180.869048</td>\n",
       "      <td>108.879693</td>\n",
       "      <td>206.211735</td>\n",
       "      <td>123.861252</td>\n",
       "      <td>8.100833e-04</td>\n",
       "      <td>-25.342687</td>\n",
       "    </tr>\n",
       "    <tr>\n",
       "      <th>cogmech</th>\n",
       "      <td>144.729167</td>\n",
       "      <td>89.574476</td>\n",
       "      <td>167.653061</td>\n",
       "      <td>104.864726</td>\n",
       "      <td>3.094344e-04</td>\n",
       "      <td>-22.923895</td>\n",
       "    </tr>\n",
       "    <tr>\n",
       "      <th>preps</th>\n",
       "      <td>51.806548</td>\n",
       "      <td>33.466019</td>\n",
       "      <td>65.469388</td>\n",
       "      <td>42.111459</td>\n",
       "      <td>5.643705e-08</td>\n",
       "      <td>-13.662840</td>\n",
       "    </tr>\n",
       "    <tr>\n",
       "      <th>social</th>\n",
       "      <td>71.464286</td>\n",
       "      <td>46.229408</td>\n",
       "      <td>84.040816</td>\n",
       "      <td>53.570551</td>\n",
       "      <td>1.135229e-04</td>\n",
       "      <td>-12.576531</td>\n",
       "    </tr>\n",
       "    <tr>\n",
       "      <th>incl</th>\n",
       "      <td>52.675595</td>\n",
       "      <td>33.467855</td>\n",
       "      <td>62.849490</td>\n",
       "      <td>39.100896</td>\n",
       "      <td>1.843630e-05</td>\n",
       "      <td>-10.173895</td>\n",
       "    </tr>\n",
       "  </tbody>\n",
       "</table>\n",
       "</div>"
      ],
      "text/plain": [
       "         diario_mean  diario_std  outro_mean   outro_std  significance  \\\n",
       "funct     180.869048  108.879693  206.211735  123.861252  8.100833e-04   \n",
       "cogmech   144.729167   89.574476  167.653061  104.864726  3.094344e-04   \n",
       "preps      51.806548   33.466019   65.469388   42.111459  5.643705e-08   \n",
       "social     71.464286   46.229408   84.040816   53.570551  1.135229e-04   \n",
       "incl       52.675595   33.467855   62.849490   39.100896  1.843630e-05   \n",
       "\n",
       "              diff  \n",
       "funct   -25.342687  \n",
       "cogmech -22.923895  \n",
       "preps   -13.662840  \n",
       "social  -12.576531  \n",
       "incl    -10.173895  "
      ]
     },
     "execution_count": 346,
     "metadata": {},
     "output_type": "execute_result"
    }
   ],
   "source": [
    "stats.sort_values('diff',ascending=True).head(5)"
   ]
  },
  {
   "cell_type": "code",
   "execution_count": null,
   "metadata": {
    "collapsed": true
   },
   "outputs": [],
   "source": []
  }
 ],
 "metadata": {
  "kernelspec": {
   "display_name": "Python 3",
   "language": "python",
   "name": "python3"
  },
  "language_info": {
   "codemirror_mode": {
    "name": "ipython",
    "version": 3
   },
   "file_extension": ".py",
   "mimetype": "text/x-python",
   "name": "python",
   "nbconvert_exporter": "python",
   "pygments_lexer": "ipython3",
   "version": "3.5.2"
  }
 },
 "nbformat": 4,
 "nbformat_minor": 2
}
