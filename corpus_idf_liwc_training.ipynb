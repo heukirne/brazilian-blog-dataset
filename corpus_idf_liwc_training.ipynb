{
 "cells": [
  {
   "cell_type": "code",
   "execution_count": 1,
   "metadata": {
    "collapsed": false,
    "deletable": true,
    "editable": true
   },
   "outputs": [
    {
     "data": {
      "text/plain": [
       "(534, 68)"
      ]
     },
     "execution_count": 1,
     "metadata": {},
     "output_type": "execute_result"
    }
   ],
   "source": [
    "import pandas as pd\n",
    "import numpy as np\n",
    "from sklearn import preprocessing\n",
    "from sklearn.svm import SVC, LinearSVC\n",
    "from sklearn.model_selection import GridSearchCV, cross_val_score\n",
    "\n",
    "# load corpus\n",
    "corpus = pd.read_csv('corpus.csv.gz', compression='gzip')\n",
    "corpus = corpus[corpus['qual_a_melhor_classificao_para_esse_texto:confidence'] == 1]\n",
    "corpus = corpus.reset_index()\n",
    "\n",
    "corpus_feat = pd.read_csv('corpus_liwc_mtx.csv.gz', compression='gzip')\n",
    "corpus_feat.shape"
   ]
  },
  {
   "cell_type": "code",
   "execution_count": 2,
   "metadata": {
    "collapsed": true,
    "deletable": true,
    "editable": true
   },
   "outputs": [],
   "source": [
    "corpus_feat.drop('Unnamed: 0', axis=1,inplace=True)\n",
    "corpus_feat.drop('confidence', axis=1,inplace=True)"
   ]
  },
  {
   "cell_type": "code",
   "execution_count": 3,
   "metadata": {
    "collapsed": false,
    "deletable": true,
    "editable": true
   },
   "outputs": [
    {
     "name": "stdout",
     "output_type": "stream",
     "text": [
      "['diario' 'outro']\n",
      "0    1\n",
      "1   -1\n",
      "Name: class_, dtype: int64\n"
     ]
    }
   ],
   "source": [
    "# fix labels to binary\n",
    "def classFit(x):\n",
    "    if x['class'] == \"diario\":\n",
    "        return 1\n",
    "    else:\n",
    "        return -1\n",
    "    \n",
    "corpus_feat['class_'] = corpus_feat.apply(classFit,axis=1)\n",
    "target = corpus_feat['class_'].values\n",
    "\n",
    "print(corpus_feat['class'].values[:2])\n",
    "print(corpus_feat['class_'][:2])"
   ]
  },
  {
   "cell_type": "code",
   "execution_count": 4,
   "metadata": {
    "collapsed": true,
    "deletable": true,
    "editable": true
   },
   "outputs": [],
   "source": [
    "class_vector = corpus_feat['class']\n",
    "\n",
    "corpus_feat.drop('class',axis=1,inplace=True)\n",
    "corpus_feat.drop('class_',axis=1,inplace=True)\n",
    "corpus_feat.drop('wc',axis=1,inplace=True)"
   ]
  },
  {
   "cell_type": "code",
   "execution_count": 5,
   "metadata": {
    "collapsed": false,
    "deletable": true,
    "editable": true
   },
   "outputs": [
    {
     "data": {
      "text/plain": [
       "funct      73.0\n",
       "pronoun    25.0\n",
       "ppron      13.0\n",
       "i           3.0\n",
       "we          0.0\n",
       "you        10.0\n",
       "shehe       4.0\n",
       "they        5.0\n",
       "ipron      16.0\n",
       "article     9.0\n",
       "verb       19.0\n",
       "auxverb     5.0\n",
       "past        8.0\n",
       "present    10.0\n",
       "future      2.0\n",
       "adverb      2.0\n",
       "preps      32.0\n",
       "conj       12.0\n",
       "negate      1.0\n",
       "quant       6.0\n",
       "number      0.0\n",
       "swear       4.0\n",
       "social     27.0\n",
       "family      1.0\n",
       "friend      2.0\n",
       "humans     11.0\n",
       "affect     14.0\n",
       "posemo      5.0\n",
       "negemo      6.0\n",
       "anx         1.0\n",
       "           ... \n",
       "cause       8.0\n",
       "discrep     9.0\n",
       "tentat      7.0\n",
       "certain     5.0\n",
       "inhib      11.0\n",
       "incl       32.0\n",
       "excl        8.0\n",
       "percept    12.0\n",
       "see         5.0\n",
       "hear        0.0\n",
       "feel        4.0\n",
       "bio        11.0\n",
       "body        5.0\n",
       "health      3.0\n",
       "sexual      4.0\n",
       "ingest     11.0\n",
       "relativ    38.0\n",
       "motion      8.0\n",
       "space      25.0\n",
       "time       19.0\n",
       "work        2.0\n",
       "achieve     4.0\n",
       "leisure     1.0\n",
       "home        1.0\n",
       "money       4.0\n",
       "relig       0.0\n",
       "death       0.0\n",
       "assent      0.0\n",
       "nonfl       2.0\n",
       "filler      0.0\n",
       "Name: 0, dtype: float64"
      ]
     },
     "execution_count": 5,
     "metadata": {},
     "output_type": "execute_result"
    }
   ],
   "source": [
    "corpus_feat.ix[0]"
   ]
  },
  {
   "cell_type": "code",
   "execution_count": 6,
   "metadata": {
    "collapsed": false,
    "deletable": true,
    "editable": true
   },
   "outputs": [
    {
     "data": {
      "text/plain": [
       "funct      102564.0\n",
       "pronoun     37998.0\n",
       "ppron       24229.0\n",
       "i            5358.0\n",
       "we           1174.0\n",
       "you         15268.0\n",
       "shehe       14041.0\n",
       "they         3999.0\n",
       "ipron       26023.0\n",
       "article     16791.0\n",
       "verb        30461.0\n",
       "auxverb     12373.0\n",
       "past         8469.0\n",
       "present     17143.0\n",
       "future       1346.0\n",
       "adverb       7617.0\n",
       "preps       30952.0\n",
       "conj        20695.0\n",
       "negate       3412.0\n",
       "quant       11134.0\n",
       "number       3167.0\n",
       "swear       11493.0\n",
       "social      40817.0\n",
       "family        874.0\n",
       "friend       1499.0\n",
       "humans      14024.0\n",
       "affect      17833.0\n",
       "posemo      11615.0\n",
       "negemo       5512.0\n",
       "anx          1006.0\n",
       "             ...   \n",
       "cause        9480.0\n",
       "discrep     12908.0\n",
       "tentat      20134.0\n",
       "certain      5268.0\n",
       "inhib        9298.0\n",
       "incl        30839.0\n",
       "excl        14732.0\n",
       "percept     11694.0\n",
       "see          3429.0\n",
       "hear         2885.0\n",
       "feel         4561.0\n",
       "bio         13079.0\n",
       "body         5507.0\n",
       "health       2245.0\n",
       "sexual       2777.0\n",
       "ingest      13878.0\n",
       "relativ     45918.0\n",
       "motion      13172.0\n",
       "space       21634.0\n",
       "time        16935.0\n",
       "work         5677.0\n",
       "achieve      6584.0\n",
       "leisure      4601.0\n",
       "home         1170.0\n",
       "money        4376.0\n",
       "relig        1672.0\n",
       "death         576.0\n",
       "assent        617.0\n",
       "nonfl        5517.0\n",
       "filler        250.0\n",
       "dtype: float64"
      ]
     },
     "execution_count": 6,
     "metadata": {},
     "output_type": "execute_result"
    }
   ],
   "source": [
    "corpus_feat.sum(axis=0)"
   ]
  },
  {
   "cell_type": "code",
   "execution_count": 7,
   "metadata": {
    "collapsed": false,
    "deletable": true,
    "editable": true
   },
   "outputs": [],
   "source": [
    "for col in corpus_feat.columns:\n",
    "    corpus_feat[col] = corpus_feat[col]/corpus_feat[col].sum()"
   ]
  },
  {
   "cell_type": "code",
   "execution_count": 8,
   "metadata": {
    "collapsed": false,
    "deletable": true,
    "editable": true
   },
   "outputs": [
    {
     "data": {
      "text/plain": [
       "funct      0.000712\n",
       "pronoun    0.000658\n",
       "ppron      0.000537\n",
       "i          0.000560\n",
       "we         0.000000\n",
       "you        0.000655\n",
       "shehe      0.000285\n",
       "they       0.001250\n",
       "ipron      0.000615\n",
       "article    0.000536\n",
       "verb       0.000624\n",
       "auxverb    0.000404\n",
       "past       0.000945\n",
       "present    0.000583\n",
       "future     0.001486\n",
       "adverb     0.000263\n",
       "preps      0.001034\n",
       "conj       0.000580\n",
       "negate     0.000293\n",
       "quant      0.000539\n",
       "number     0.000000\n",
       "swear      0.000348\n",
       "social     0.000661\n",
       "family     0.001144\n",
       "friend     0.001334\n",
       "humans     0.000784\n",
       "affect     0.000785\n",
       "posemo     0.000430\n",
       "negemo     0.001089\n",
       "anx        0.000994\n",
       "             ...   \n",
       "cause      0.000844\n",
       "discrep    0.000697\n",
       "tentat     0.000348\n",
       "certain    0.000949\n",
       "inhib      0.001183\n",
       "incl       0.001038\n",
       "excl       0.000543\n",
       "percept    0.001026\n",
       "see        0.001458\n",
       "hear       0.000000\n",
       "feel       0.000877\n",
       "bio        0.000841\n",
       "body       0.000908\n",
       "health     0.001336\n",
       "sexual     0.001440\n",
       "ingest     0.000793\n",
       "relativ    0.000828\n",
       "motion     0.000607\n",
       "space      0.001156\n",
       "time       0.001122\n",
       "work       0.000352\n",
       "achieve    0.000608\n",
       "leisure    0.000217\n",
       "home       0.000855\n",
       "money      0.000914\n",
       "relig      0.000000\n",
       "death      0.000000\n",
       "assent     0.000000\n",
       "nonfl      0.000363\n",
       "filler     0.000000\n",
       "Name: 0, dtype: float64"
      ]
     },
     "execution_count": 8,
     "metadata": {},
     "output_type": "execute_result"
    }
   ],
   "source": [
    "corpus_feat.ix[0]"
   ]
  },
  {
   "cell_type": "code",
   "execution_count": 9,
   "metadata": {
    "collapsed": false,
    "deletable": true,
    "editable": true
   },
   "outputs": [
    {
     "data": {
      "text/plain": [
       "(534, 64)"
      ]
     },
     "execution_count": 9,
     "metadata": {},
     "output_type": "execute_result"
    }
   ],
   "source": [
    "data = corpus_feat.as_matrix().astype(float)\n",
    "data.shape"
   ]
  },
  {
   "cell_type": "markdown",
   "metadata": {
    "deletable": true,
    "editable": true
   },
   "source": [
    "## Evaluating SVM"
   ]
  },
  {
   "cell_type": "code",
   "execution_count": 10,
   "metadata": {
    "collapsed": false,
    "deletable": true,
    "editable": true
   },
   "outputs": [
    {
     "name": "stdout",
     "output_type": "stream",
     "text": [
      "Fitting 3 folds for each of 4 candidates, totalling 12 fits\n",
      "[CV] C=1, kernel=linear ..............................................\n",
      "[CV] C=1, kernel=linear ..............................................\n",
      "[CV] C=1, kernel=linear ..............................................\n",
      "[CV] ............... C=1, kernel=linear, score=0.649718, total=   0.0s\n",
      "[CV] ............... C=1, kernel=linear, score=0.646067, total=   0.0s\n",
      "[CV] C=1, kernel=rbf .................................................\n",
      "[CV] C=1, kernel=rbf .................................................\n",
      "[CV] ............... C=1, kernel=linear, score=0.648045, total=   0.0s\n",
      "[CV] .................. C=1, kernel=rbf, score=0.646067, total=   0.0s\n",
      "[CV] C=1, kernel=rbf .................................................\n",
      "[CV] C=10, kernel=linear .............................................\n",
      "[CV] .................. C=1, kernel=rbf, score=0.648045, total=   0.0s\n",
      "[CV] .............. C=10, kernel=linear, score=0.648045, total=   0.0s\n",
      "[CV] C=10, kernel=linear .............................................\n",
      "[CV] .................. C=1, kernel=rbf, score=0.649718, total=   0.0s\n",
      "[CV] .............. C=10, kernel=linear, score=0.646067, total=   0.0s\n",
      "[CV] C=10, kernel=linear .............................................\n",
      "[CV] .............. C=10, kernel=linear, score=0.649718, total=   0.0s\n",
      "[CV] C=10, kernel=rbf ................................................\n",
      "[CV] ................. C=10, kernel=rbf, score=0.648045, total=   0.0s\n",
      "[CV] C=10, kernel=rbf ................................................\n",
      "[CV] ................. C=10, kernel=rbf, score=0.646067, total=   0.0s\n",
      "[CV] C=10, kernel=rbf ................................................\n",
      "[CV] ................. C=10, kernel=rbf, score=0.649718, total=   0.0s\n"
     ]
    },
    {
     "name": "stderr",
     "output_type": "stream",
     "text": [
      "[Parallel(n_jobs=3)]: Done  12 out of  12 | elapsed:    0.2s remaining:    0.0s\n",
      "[Parallel(n_jobs=3)]: Done  12 out of  12 | elapsed:    0.2s finished\n"
     ]
    },
    {
     "data": {
      "text/plain": [
       "GridSearchCV(cv=3, error_score='raise',\n",
       "       estimator=SVC(C=1.0, cache_size=200, class_weight=None, coef0=0.0,\n",
       "  decision_function_shape=None, degree=3, gamma='auto', kernel='rbf',\n",
       "  max_iter=-1, probability=False, random_state=None, shrinking=True,\n",
       "  tol=0.001, verbose=False),\n",
       "       fit_params={}, iid=True, n_jobs=3,\n",
       "       param_grid={'C': [1, 10], 'kernel': ('linear', 'rbf')},\n",
       "       pre_dispatch='2*n_jobs', refit=True, return_train_score=True,\n",
       "       scoring='accuracy', verbose=3)"
      ]
     },
     "execution_count": 10,
     "metadata": {},
     "output_type": "execute_result"
    }
   ],
   "source": [
    "parameters = {'kernel':('linear', 'rbf'), 'C':[1, 10]}\n",
    "grid_search = GridSearchCV(SVC(), parameters, cv=3, n_jobs=3, verbose=3, scoring='accuracy')\n",
    "\n",
    "grid_search.fit(data, target)"
   ]
  },
  {
   "cell_type": "code",
   "execution_count": 11,
   "metadata": {
    "collapsed": false,
    "deletable": true,
    "editable": true
   },
   "outputs": [
    {
     "name": "stdout",
     "output_type": "stream",
     "text": [
      "SVC(C=1, cache_size=200, class_weight=None, coef0=0.0,\n",
      "  decision_function_shape=None, degree=3, gamma='auto', kernel='linear',\n",
      "  max_iter=-1, probability=False, random_state=None, shrinking=True,\n",
      "  tol=0.001, verbose=False)\n",
      "0.647940074906\n",
      "{'C': 1, 'kernel': 'linear'}\n"
     ]
    }
   ],
   "source": [
    "print(grid_search.best_estimator_)\n",
    "print(grid_search.best_score_)\n",
    "print(grid_search.best_params_)"
   ]
  },
  {
   "cell_type": "markdown",
   "metadata": {
    "deletable": true,
    "editable": true
   },
   "source": [
    "## Evaluating Naive Bayses"
   ]
  },
  {
   "cell_type": "code",
   "execution_count": 12,
   "metadata": {
    "collapsed": false,
    "deletable": true,
    "editable": true
   },
   "outputs": [
    {
     "name": "stdout",
     "output_type": "stream",
     "text": [
      "0.699760764395\n",
      "0.638488415847\n",
      "0.774285714286\n"
     ]
    }
   ],
   "source": [
    "from sklearn.naive_bayes import GaussianNB\n",
    "\n",
    "model = GaussianNB()\n",
    "\n",
    "acc = cross_val_score(model, data, target, cv=10, scoring='accuracy').mean()\n",
    "precision = cross_val_score(model, data, target, cv=10, scoring='precision').mean()\n",
    "recall = cross_val_score(model, data, target, cv=10, scoring='recall').mean()\n",
    "print(precision)\n",
    "print(acc)\n",
    "print(recall)"
   ]
  },
  {
   "cell_type": "code",
   "execution_count": 13,
   "metadata": {
    "collapsed": false,
    "deletable": true,
    "editable": true
   },
   "outputs": [
    {
     "name": "stdout",
     "output_type": "stream",
     "text": [
      "0.647960006451\n",
      "0.647960006451\n",
      "1.0\n",
      "0.786371486324\n"
     ]
    }
   ],
   "source": [
    "from sklearn.naive_bayes import MultinomialNB\n",
    "\n",
    "model = MultinomialNB()\n",
    "\n",
    "precision = cross_val_score(model, data, target, cv=10, scoring='precision').mean()\n",
    "acc = cross_val_score(model, data, target, cv=10, scoring='accuracy').mean()\n",
    "recall = cross_val_score(model, data, target, cv=10, scoring='recall').mean()\n",
    "fscore = cross_val_score(model, data, target, cv=10, scoring='f1').mean()\n",
    "print(precision)\n",
    "print(acc)\n",
    "print(recall)\n",
    "print(fscore)"
   ]
  },
  {
   "cell_type": "code",
   "execution_count": 14,
   "metadata": {
    "collapsed": false,
    "deletable": true,
    "editable": true
   },
   "outputs": [
    {
     "name": "stdout",
     "output_type": "stream",
     "text": [
      "P: acc(0.709737827715), prec(0.718379115118), rec(0.910581072492)\n",
      "AP: acc(0.724719101124), prec(0.750853825137), rec(0.87727896163)\n",
      "PA: acc(0.64606741573), prec(0.647236067697), rec(0.997005988024)\n",
      "PA1: acc(0.64606741573), prec(0.647236067697), rec(0.997005988024)\n",
      "PA2: acc(0.64606741573), prec(0.647236067697), rec(0.997005988024)\n",
      "PAK: acc(0.647940074906), prec(0.649056603774), rec(0.994212691935)\n",
      "CW: acc(0.692883895131), prec(0.69054129323), rec(0.968872311243)\n",
      "AL: acc(0.722846441948), prec(0.733480419195), rec(0.9051951962)\n"
     ]
    }
   ],
   "source": [
    "from sklearn.model_selection import KFold\n",
    "from sklearn.metrics import accuracy_score, precision_score, recall_score\n",
    "import oll\n",
    "import numpy as np\n",
    "\n",
    "## manual 10-fold cross-validation\n",
    "kf = KFold(n_splits=2, random_state=None, shuffle=False)\n",
    "\n",
    "methods = [\"P\" ,\"AP\" ,\"PA\" ,\"PA1\",\"PA2\" ,\"PAK\",\"CW\" ,\"AL\"]\n",
    "\n",
    "for m in methods:\n",
    "    accuracy = []\n",
    "    precision = []\n",
    "    recall = []\n",
    "    \n",
    "    for train_index, test_index in kf.split(data):\n",
    "        model = oll.oll(m, C=1)\n",
    "            \n",
    "        X_train, X_test = data[train_index], data[test_index]\n",
    "        y_train, y_test = target[train_index], target[test_index]\n",
    "        model.fit(X_train, y_train)\n",
    "        predicted = model.predict(X_test)\n",
    "\n",
    "        accuracy.append(accuracy_score(y_test, predicted))\n",
    "        precision.append(precision_score(y_test, predicted))\n",
    "        recall.append(recall_score(y_test, predicted))\n",
    "\n",
    "    print(m + ': acc(' + str(np.mean(accuracy)) \n",
    "          + '), prec(' + str(np.mean(precision))\n",
    "          + '), rec(' + str(np.mean(recall)) + ')'\n",
    "         )"
   ]
  },
  {
   "cell_type": "code",
   "execution_count": 17,
   "metadata": {
    "collapsed": false
   },
   "outputs": [
    {
     "name": "stdout",
     "output_type": "stream",
     "text": [
      "0.755301940766\n",
      "0.804989391302\n"
     ]
    }
   ],
   "source": [
    "from sklearn.ensemble import GradientBoostingClassifier\n",
    "\n",
    "model = GradientBoostingClassifier()\n",
    "\n",
    "precision = cross_val_score(model, data, target, cv=10, scoring='precision').mean()\n",
    "acc = cross_val_score(model, data, target, cv=10, scoring='accuracy').mean()\n",
    "recall = cross_val_score(model, data, target, cv=10, scoring='recall').mean()\n",
    "fscore = cross_val_score(model, data, target, cv=10, scoring='f1').mean()\n",
    "print(precision)\n",
    "print(fscore)"
   ]
  },
  {
   "cell_type": "code",
   "execution_count": null,
   "metadata": {
    "collapsed": true
   },
   "outputs": [],
   "source": []
  }
 ],
 "metadata": {
  "kernelspec": {
   "display_name": "Python 3",
   "language": "python",
   "name": "python3"
  },
  "language_info": {
   "codemirror_mode": {
    "name": "ipython",
    "version": 3
   },
   "file_extension": ".py",
   "mimetype": "text/x-python",
   "name": "python",
   "nbconvert_exporter": "python",
   "pygments_lexer": "ipython3",
   "version": "3.5.2"
  }
 },
 "nbformat": 4,
 "nbformat_minor": 2
}
