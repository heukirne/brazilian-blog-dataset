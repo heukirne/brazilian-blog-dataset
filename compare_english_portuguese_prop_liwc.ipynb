{
 "cells": [
  {
   "cell_type": "code",
   "execution_count": 98,
   "metadata": {
    "collapsed": true,
    "deletable": true,
    "editable": true
   },
   "outputs": [],
   "source": [
    "import pandas as pd\n",
    "import numpy as np\n",
    "from scipy.stats import wilcoxon\n",
    "\n",
    "portuguese_liwc = pd.read_csv('portuguese_stories_liwc.csv.gz', compression='gzip')\n",
    "english_liwc = pd.read_csv('icwsm09_stories_liwc.csv.gz', compression='gzip')"
   ]
  },
  {
   "cell_type": "code",
   "execution_count": 99,
   "metadata": {
    "collapsed": false,
    "deletable": true,
    "editable": true
   },
   "outputs": [
    {
     "name": "stdout",
     "output_type": "stream",
     "text": [
      "postuguese: 37746\n",
      "english: 383361\n"
     ]
    }
   ],
   "source": [
    "print(\"postuguese: \" + str(len(portuguese_liwc)))\n",
    "print(\"english: \" + str(len(english_liwc)))"
   ]
  },
  {
   "cell_type": "markdown",
   "metadata": {
    "deletable": true,
    "editable": true
   },
   "source": [
    "## Corpus Filter"
   ]
  },
  {
   "cell_type": "code",
   "execution_count": 100,
   "metadata": {
    "collapsed": false,
    "deletable": true,
    "editable": true
   },
   "outputs": [
    {
     "data": {
      "text/plain": [
       "28847"
      ]
     },
     "execution_count": 100,
     "metadata": {},
     "output_type": "execute_result"
    }
   ],
   "source": [
    "portuguese_liwc = portuguese_liwc[((portuguese_liwc['wc'] > 10) & (portuguese_liwc['wc'] < 1000))]\n",
    "portuguese_liwc = portuguese_liwc[((portuguese_liwc['wps'] > 3) & (portuguese_liwc['wps'] < 30))]\n",
    "portuguese_liwc = portuguese_liwc[portuguese_liwc['i'] > 2]\n",
    "portuguese_liwc = portuguese_liwc[(portuguese_liwc['negemo'] + portuguese_liwc['posemo']) > 2]\n",
    "portuguese_liwc = portuguese_liwc[portuguese_liwc['score'] > 0]\n",
    "len(portuguese_liwc)"
   ]
  },
  {
   "cell_type": "code",
   "execution_count": 101,
   "metadata": {
    "collapsed": false,
    "deletable": true,
    "editable": true
   },
   "outputs": [
    {
     "data": {
      "text/plain": [
       "161704"
      ]
     },
     "execution_count": 101,
     "metadata": {},
     "output_type": "execute_result"
    }
   ],
   "source": [
    "english_liwc = english_liwc[((english_liwc['wc'] > 10) & (english_liwc['wc'] < 1000))]\n",
    "english_liwc = english_liwc[((english_liwc['wps'] > 3) & (english_liwc['wps'] < 30))]\n",
    "english_liwc = english_liwc[english_liwc['i'] > 2]\n",
    "english_liwc = english_liwc[(english_liwc['negemo'] + english_liwc['posemo']) > 2]\n",
    "english_liwc = english_liwc[english_liwc['score'] > 0]\n",
    "len(english_liwc)"
   ]
  },
  {
   "cell_type": "markdown",
   "metadata": {},
   "source": [
    "## Proportional LIWC"
   ]
  },
  {
   "cell_type": "code",
   "execution_count": 102,
   "metadata": {
    "collapsed": false
   },
   "outputs": [
    {
     "data": {
      "text/plain": [
       "(28847, 64)"
      ]
     },
     "execution_count": 102,
     "metadata": {},
     "output_type": "execute_result"
    }
   ],
   "source": [
    "portuguese_feat = portuguese_liwc.drop(['Unnamed: 0','score','wc','wps'],axis=1)\n",
    "portuguese_wc = portuguese_liwc['wc']\n",
    "\n",
    "portuguese_data = portuguese_feat.as_matrix().astype(float) / portuguese_wc.as_matrix().astype(float)[:, np.newaxis]\n",
    "portuguese_data[np.isnan(portuguese_data)] = 0\n",
    "portuguese_data[portuguese_data >= 1E308] = 0\n",
    "portuguese_data.shape"
   ]
  },
  {
   "cell_type": "code",
   "execution_count": 103,
   "metadata": {
    "collapsed": false
   },
   "outputs": [
    {
     "data": {
      "text/plain": [
       "(161704, 64)"
      ]
     },
     "execution_count": 103,
     "metadata": {},
     "output_type": "execute_result"
    }
   ],
   "source": [
    "english_feat = english_liwc.drop(['Unnamed: 0','score','wc','wps'],axis=1)\n",
    "english_wc = english_liwc['wc']\n",
    "\n",
    "english_data = english_feat.as_matrix().astype(float) / english_wc.as_matrix().astype(float)[:, np.newaxis]\n",
    "english_data[np.isnan(english_data)] = 0\n",
    "english_data[english_data >= 1E308] = 0\n",
    "english_data.shape"
   ]
  },
  {
   "cell_type": "code",
   "execution_count": 104,
   "metadata": {
    "collapsed": false
   },
   "outputs": [
    {
     "data": {
      "text/plain": [
       "(28847, 64)"
      ]
     },
     "execution_count": 104,
     "metadata": {},
     "output_type": "execute_result"
    }
   ],
   "source": [
    "english_sample = english_data[np.random.choice(english_data.shape[0], len(portuguese_data), replace=False)]\n",
    "english_sample.shape"
   ]
  },
  {
   "cell_type": "code",
   "execution_count": 105,
   "metadata": {
    "collapsed": false
   },
   "outputs": [],
   "source": [
    "columns = ['funct','pronoun','ppron','i','we','you','shehe','they','ipron','article','verb','auxverb','past','present','future','adverb','preps','conj','negate','quant','number','swear','social','family','friend','humans','affect','posemo','negemo','anx','anger','sad','cogmech','insight','cause','discrep','tentat','certain','inhib','incl','excl','percept','see','hear','feel','bio','body','health','sexual','ingest','relativ','motion','space','time','work','achieve','leisure','home','money','relig','death','assent','nonfl','filler']"
   ]
  },
  {
   "cell_type": "markdown",
   "metadata": {
    "deletable": true,
    "editable": true
   },
   "source": [
    "## Wilcoxon Test"
   ]
  },
  {
   "cell_type": "code",
   "execution_count": 106,
   "metadata": {
    "collapsed": false,
    "deletable": true,
    "editable": true
   },
   "outputs": [],
   "source": [
    "def diff(x): \n",
    "    return abs(x['portuguese_mean'] - x['english_mean'])\n",
    "\n",
    "stats = pd.DataFrame(data={'portuguese_mean': np.mean(portuguese_data, axis=0)}, index=columns)\n",
    "stats['english_mean'] = np.mean(english_sample, axis=0)\n",
    "\n",
    "stats['diff'] = stats.apply(diff,axis=1)"
   ]
  },
  {
   "cell_type": "code",
   "execution_count": 107,
   "metadata": {
    "collapsed": false
   },
   "outputs": [],
   "source": [
    "significance = []\n",
    "for column in range(0,len(columns)):\n",
    "    a = portuguese_data[:,column]\n",
    "    b = english_sample[:,column]\n",
    "    t, p = wilcoxon(a, b)\n",
    "    significance.append(p)\n",
    "stats['significance'] = significance"
   ]
  },
  {
   "cell_type": "code",
   "execution_count": 108,
   "metadata": {
    "collapsed": false,
    "deletable": true,
    "editable": true
   },
   "outputs": [
    {
     "data": {
      "text/html": [
       "<div>\n",
       "<table border=\"1\" class=\"dataframe\">\n",
       "  <thead>\n",
       "    <tr style=\"text-align: right;\">\n",
       "      <th></th>\n",
       "      <th>portuguese_mean</th>\n",
       "      <th>english_mean</th>\n",
       "      <th>diff</th>\n",
       "      <th>significance</th>\n",
       "    </tr>\n",
       "  </thead>\n",
       "  <tbody>\n",
       "  </tbody>\n",
       "</table>\n",
       "</div>"
      ],
      "text/plain": [
       "Empty DataFrame\n",
       "Columns: [portuguese_mean, english_mean, diff, significance]\n",
       "Index: []"
      ]
     },
     "execution_count": 108,
     "metadata": {},
     "output_type": "execute_result"
    }
   ],
   "source": [
    "stats[stats.significance > 0.05].sort_values('significance',ascending=False)"
   ]
  },
  {
   "cell_type": "code",
   "execution_count": 109,
   "metadata": {
    "collapsed": false,
    "deletable": true,
    "editable": true
   },
   "outputs": [
    {
     "data": {
      "text/html": [
       "<div>\n",
       "<table border=\"1\" class=\"dataframe\">\n",
       "  <thead>\n",
       "    <tr style=\"text-align: right;\">\n",
       "      <th></th>\n",
       "      <th>portuguese_mean</th>\n",
       "      <th>english_mean</th>\n",
       "      <th>diff</th>\n",
       "      <th>significance</th>\n",
       "    </tr>\n",
       "  </thead>\n",
       "  <tbody>\n",
       "    <tr>\n",
       "      <th>assent</th>\n",
       "      <td>0.002881</td>\n",
       "      <td>0.002779</td>\n",
       "      <td>0.000102</td>\n",
       "      <td>8.559474e-18</td>\n",
       "    </tr>\n",
       "    <tr>\n",
       "      <th>future</th>\n",
       "      <td>0.005890</td>\n",
       "      <td>0.005425</td>\n",
       "      <td>0.000465</td>\n",
       "      <td>8.880326e-17</td>\n",
       "    </tr>\n",
       "    <tr>\n",
       "      <th>family</th>\n",
       "      <td>0.003254</td>\n",
       "      <td>0.004052</td>\n",
       "      <td>0.000798</td>\n",
       "      <td>1.107930e-76</td>\n",
       "    </tr>\n",
       "    <tr>\n",
       "      <th>anx</th>\n",
       "      <td>0.004410</td>\n",
       "      <td>0.003039</td>\n",
       "      <td>0.001371</td>\n",
       "      <td>1.639316e-279</td>\n",
       "    </tr>\n",
       "    <tr>\n",
       "      <th>death</th>\n",
       "      <td>0.002406</td>\n",
       "      <td>0.001021</td>\n",
       "      <td>0.001385</td>\n",
       "      <td>0.000000e+00</td>\n",
       "    </tr>\n",
       "    <tr>\n",
       "      <th>home</th>\n",
       "      <td>0.005356</td>\n",
       "      <td>0.007147</td>\n",
       "      <td>0.001791</td>\n",
       "      <td>1.028044e-190</td>\n",
       "    </tr>\n",
       "    <tr>\n",
       "      <th>filler</th>\n",
       "      <td>0.001459</td>\n",
       "      <td>0.003776</td>\n",
       "      <td>0.002318</td>\n",
       "      <td>0.000000e+00</td>\n",
       "    </tr>\n",
       "    <tr>\n",
       "      <th>anger</th>\n",
       "      <td>0.007910</td>\n",
       "      <td>0.005589</td>\n",
       "      <td>0.002321</td>\n",
       "      <td>0.000000e+00</td>\n",
       "    </tr>\n",
       "    <tr>\n",
       "      <th>we</th>\n",
       "      <td>0.004180</td>\n",
       "      <td>0.007415</td>\n",
       "      <td>0.003235</td>\n",
       "      <td>0.000000e+00</td>\n",
       "    </tr>\n",
       "    <tr>\n",
       "      <th>i</th>\n",
       "      <td>0.031258</td>\n",
       "      <td>0.034960</td>\n",
       "      <td>0.003703</td>\n",
       "      <td>2.030210e-25</td>\n",
       "    </tr>\n",
       "  </tbody>\n",
       "</table>\n",
       "</div>"
      ],
      "text/plain": [
       "        portuguese_mean  english_mean      diff   significance\n",
       "assent         0.002881      0.002779  0.000102   8.559474e-18\n",
       "future         0.005890      0.005425  0.000465   8.880326e-17\n",
       "family         0.003254      0.004052  0.000798   1.107930e-76\n",
       "anx            0.004410      0.003039  0.001371  1.639316e-279\n",
       "death          0.002406      0.001021  0.001385   0.000000e+00\n",
       "home           0.005356      0.007147  0.001791  1.028044e-190\n",
       "filler         0.001459      0.003776  0.002318   0.000000e+00\n",
       "anger          0.007910      0.005589  0.002321   0.000000e+00\n",
       "we             0.004180      0.007415  0.003235   0.000000e+00\n",
       "i              0.031258      0.034960  0.003703   2.030210e-25"
      ]
     },
     "execution_count": 109,
     "metadata": {},
     "output_type": "execute_result"
    }
   ],
   "source": [
    "stats[stats.significance < 0.05].sort_values('diff',ascending=True).head(10)"
   ]
  },
  {
   "cell_type": "code",
   "execution_count": 110,
   "metadata": {
    "collapsed": false,
    "deletable": true,
    "editable": true
   },
   "outputs": [
    {
     "data": {
      "text/html": [
       "<div>\n",
       "<table border=\"1\" class=\"dataframe\">\n",
       "  <thead>\n",
       "    <tr style=\"text-align: right;\">\n",
       "      <th></th>\n",
       "      <th>portuguese_mean</th>\n",
       "      <th>english_mean</th>\n",
       "      <th>diff</th>\n",
       "      <th>significance</th>\n",
       "    </tr>\n",
       "  </thead>\n",
       "  <tbody>\n",
       "    <tr>\n",
       "      <th>cogmech</th>\n",
       "      <td>0.371560</td>\n",
       "      <td>0.150263</td>\n",
       "      <td>0.221297</td>\n",
       "      <td>0.0</td>\n",
       "    </tr>\n",
       "    <tr>\n",
       "      <th>social</th>\n",
       "      <td>0.183999</td>\n",
       "      <td>0.070568</td>\n",
       "      <td>0.113431</td>\n",
       "      <td>0.0</td>\n",
       "    </tr>\n",
       "    <tr>\n",
       "      <th>incl</th>\n",
       "      <td>0.135478</td>\n",
       "      <td>0.053676</td>\n",
       "      <td>0.081802</td>\n",
       "      <td>0.0</td>\n",
       "    </tr>\n",
       "    <tr>\n",
       "      <th>ipron</th>\n",
       "      <td>0.116244</td>\n",
       "      <td>0.045323</td>\n",
       "      <td>0.070921</td>\n",
       "      <td>0.0</td>\n",
       "    </tr>\n",
       "    <tr>\n",
       "      <th>tentat</th>\n",
       "      <td>0.091577</td>\n",
       "      <td>0.022600</td>\n",
       "      <td>0.068977</td>\n",
       "      <td>0.0</td>\n",
       "    </tr>\n",
       "    <tr>\n",
       "      <th>relativ</th>\n",
       "      <td>0.210647</td>\n",
       "      <td>0.144416</td>\n",
       "      <td>0.066231</td>\n",
       "      <td>0.0</td>\n",
       "    </tr>\n",
       "    <tr>\n",
       "      <th>pronoun</th>\n",
       "      <td>0.175190</td>\n",
       "      <td>0.114345</td>\n",
       "      <td>0.060846</td>\n",
       "      <td>0.0</td>\n",
       "    </tr>\n",
       "    <tr>\n",
       "      <th>humans</th>\n",
       "      <td>0.066145</td>\n",
       "      <td>0.005807</td>\n",
       "      <td>0.060338</td>\n",
       "      <td>0.0</td>\n",
       "    </tr>\n",
       "    <tr>\n",
       "      <th>you</th>\n",
       "      <td>0.064564</td>\n",
       "      <td>0.004524</td>\n",
       "      <td>0.060040</td>\n",
       "      <td>0.0</td>\n",
       "    </tr>\n",
       "    <tr>\n",
       "      <th>ingest</th>\n",
       "      <td>0.064926</td>\n",
       "      <td>0.005943</td>\n",
       "      <td>0.058983</td>\n",
       "      <td>0.0</td>\n",
       "    </tr>\n",
       "  </tbody>\n",
       "</table>\n",
       "</div>"
      ],
      "text/plain": [
       "         portuguese_mean  english_mean      diff  significance\n",
       "cogmech         0.371560      0.150263  0.221297           0.0\n",
       "social          0.183999      0.070568  0.113431           0.0\n",
       "incl            0.135478      0.053676  0.081802           0.0\n",
       "ipron           0.116244      0.045323  0.070921           0.0\n",
       "tentat          0.091577      0.022600  0.068977           0.0\n",
       "relativ         0.210647      0.144416  0.066231           0.0\n",
       "pronoun         0.175190      0.114345  0.060846           0.0\n",
       "humans          0.066145      0.005807  0.060338           0.0\n",
       "you             0.064564      0.004524  0.060040           0.0\n",
       "ingest          0.064926      0.005943  0.058983           0.0"
      ]
     },
     "execution_count": 110,
     "metadata": {},
     "output_type": "execute_result"
    }
   ],
   "source": [
    "stats[stats.significance < 0.05].sort_values('diff',ascending=False).head(10)"
   ]
  }
 ],
 "metadata": {
  "kernelspec": {
   "display_name": "Python 3",
   "language": "python",
   "name": "python3"
  },
  "language_info": {
   "codemirror_mode": {
    "name": "ipython",
    "version": 3
   },
   "file_extension": ".py",
   "mimetype": "text/x-python",
   "name": "python",
   "nbconvert_exporter": "python",
   "pygments_lexer": "ipython3",
   "version": "3.5.2"
  }
 },
 "nbformat": 4,
 "nbformat_minor": 2
}
