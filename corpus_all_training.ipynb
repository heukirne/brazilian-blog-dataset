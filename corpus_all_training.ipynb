{
 "cells": [
  {
   "cell_type": "code",
   "execution_count": 111,
   "metadata": {
    "collapsed": true
   },
   "outputs": [],
   "source": [
    "import pandas as pd\n",
    "from sklearn import svm\n",
    "from sklearn.feature_extraction.text import TfidfVectorizer\n",
    "from sklearn.model_selection import GridSearchCV, cross_val_score\n",
    "from nltk.corpus import stopwords\n",
    "\n",
    "corpus_feat = pd.read_csv('corpus_liwc_mtx.csv.gz', compression='gzip')\n",
    "readability = pd.read_csv('corpus_readability.csv.gz', compression='gzip')\n",
    "corpus = pd.read_csv('corpus.csv.gz', compression='gzip')\n",
    "stopwords = stopwords.words(\"portuguese\")"
   ]
  },
  {
   "cell_type": "code",
   "execution_count": 112,
   "metadata": {},
   "outputs": [],
   "source": [
    "# filter corpus\n",
    "corpus = corpus[corpus['qual_a_melhor_classificao_para_esse_texto:confidence'] == 1]\n",
    "corpus = corpus.reset_index()"
   ]
  },
  {
   "cell_type": "code",
   "execution_count": 113,
   "metadata": {
    "collapsed": true
   },
   "outputs": [],
   "source": [
    "readability = readability.ix[corpus.index.values]"
   ]
  },
  {
   "cell_type": "code",
   "execution_count": 114,
   "metadata": {},
   "outputs": [
    {
     "name": "stdout",
     "output_type": "stream",
     "text": [
      "['diario' 'outro']\n",
      "0    1\n",
      "1   -1\n",
      "Name: class, dtype: int64\n"
     ]
    }
   ],
   "source": [
    "# fix labels to binary\n",
    "def classFit(x):\n",
    "    if x['qual_a_melhor_classificao_para_esse_texto'] == \"diario\":\n",
    "        return 1\n",
    "    else:\n",
    "        return -1\n",
    "    \n",
    "corpus['class'] = corpus.apply(classFit,axis=1)\n",
    "target = corpus['class'].values\n",
    "\n",
    "print(corpus['qual_a_melhor_classificao_para_esse_texto'].values[:2])\n",
    "print(corpus['class'][:2])"
   ]
  },
  {
   "cell_type": "code",
   "execution_count": 115,
   "metadata": {},
   "outputs": [
    {
     "data": {
      "text/plain": [
       "(534, 1003)"
      ]
     },
     "execution_count": 115,
     "metadata": {},
     "output_type": "execute_result"
    }
   ],
   "source": [
    "from scipy.sparse import hstack\n",
    "\n",
    "corpus_feat.drop('Unnamed: 0', axis=1,inplace=True)\n",
    "corpus_feat.drop('confidence', axis=1,inplace=True)\n",
    "corpus_feat.drop('wc', axis=1,inplace=True)\n",
    "liwc_data = corpus_feat.drop('class', 1)\n",
    "liwc_data[liwc_data < 0] = 0\n",
    "\n",
    "readability.drop('Unnamed: 0', axis=1,inplace=True)\n",
    "readability = readability.drop('class', 1)\n",
    "readability = readability.apply(pd.to_numeric, args=('coerce',))\n",
    "readability = readability.replace('NaN',0)\n",
    "readability[readability < 0] = 0\n",
    "\n",
    "tfidf_data = TfidfVectorizer(max_features=900, strip_accents='unicode', stop_words=stopwords).fit_transform(corpus.content)\n",
    "\n",
    "data = hstack((tfidf_data, liwc_data))\n",
    "data = hstack((data, readability_data.astype(float)))\n",
    "data.shape"
   ]
  },
  {
   "cell_type": "code",
   "execution_count": 116,
   "metadata": {},
   "outputs": [
    {
     "name": "stdout",
     "output_type": "stream",
     "text": [
      "0.796435979547\n",
      "0.730109390958\n",
      "0.783193277311\n"
     ]
    }
   ],
   "source": [
    "from sklearn.naive_bayes import GaussianNB, MultinomialNB\n",
    "\n",
    "model = GaussianNB()\n",
    "\n",
    "precision = cross_val_score(model, data.toarray(), target, cv=10, scoring='precision').mean()\n",
    "acc = cross_val_score(model, data.toarray(), target, cv=10, scoring='accuracy').mean()\n",
    "recall = cross_val_score(model, data.toarray(), target, cv=10, scoring='recall').mean()\n",
    "print(precision)\n",
    "print(acc)\n",
    "print(recall)"
   ]
  },
  {
   "cell_type": "code",
   "execution_count": 117,
   "metadata": {},
   "outputs": [
    {
     "name": "stdout",
     "output_type": "stream",
     "text": [
      "0.814847374847\n",
      "0.674770198355\n",
      "0.697731092437\n"
     ]
    }
   ],
   "source": [
    "model = svm.LinearSVC(C=50)\n",
    "\n",
    "precision = cross_val_score(model, data, target, cv=10, scoring='precision').mean()\n",
    "acc = cross_val_score(model, data, target, cv=10, scoring='accuracy').mean()\n",
    "recall = cross_val_score(model, data, target, cv=10, scoring='recall').mean()\n",
    "print(precision)\n",
    "print(acc)\n",
    "print(recall)"
   ]
  },
  {
   "cell_type": "code",
   "execution_count": 119,
   "metadata": {},
   "outputs": [
    {
     "name": "stdout",
     "output_type": "stream",
     "text": [
      "P: acc(0.653808525507), prec(0.653152559201), rec(0.990423387097)\n",
      "AP: acc(0.648287910552), prec(0.651924152018), rec(0.98)\n",
      "PA: acc(0.648183088749), prec(0.648183088749), rec(1.0)\n",
      "PA1: acc(0.648183088749), prec(0.648183088749), rec(1.0)\n",
      "PA2: acc(0.648183088749), prec(0.648183088749), rec(1.0)\n"
     ]
    },
    {
     "name": "stderr",
     "output_type": "stream",
     "text": [
      "/usr/local/lib/python3.6/site-packages/sklearn/metrics/classification.py:1113: UndefinedMetricWarning: Precision is ill-defined and being set to 0.0 due to no predicted samples.\n",
      "  'precision', 'predicted', average, warn_for)\n"
     ]
    },
    {
     "name": "stdout",
     "output_type": "stream",
     "text": [
      "PAK: acc(0.351816911251), prec(0.0), rec(0.0)\n",
      "CW: acc(0.659119496855), prec(0.720205718914), rec(0.77749752189)\n",
      "AL: acc(0.648183088749), prec(0.648183088749), rec(1.0)\n"
     ]
    }
   ],
   "source": [
    "from sklearn.model_selection import KFold\n",
    "from sklearn.metrics import accuracy_score, precision_score, recall_score\n",
    "import numpy as np\n",
    "import oll\n",
    "\n",
    "## manual 10-fold cross-validation\n",
    "kf = KFold(n_splits=10, random_state=None, shuffle=False)\n",
    "\n",
    "methods = [\"P\" ,\"AP\" ,\"PA\" ,\"PA1\",\"PA2\" ,\"PAK\",\"CW\" ,\"AL\"]\n",
    "\n",
    "for m in methods:\n",
    "\n",
    "    accuracy = []\n",
    "    precision = []\n",
    "    recall = []\n",
    "    \n",
    "    for train_index, test_index in kf.split(data):\n",
    "        model = oll.oll(m, C=1)\n",
    "        \n",
    "        X_train, X_test = data.toarray()[train_index], data.toarray()[test_index]\n",
    "        y_train, y_test = target[train_index], target[test_index]\n",
    "        model.fit(X_train, y_train)\n",
    "        predicted = model.predict(X_test)\n",
    "\n",
    "        accuracy.append(accuracy_score(y_test, predicted))\n",
    "        precision.append(precision_score(y_test, predicted))\n",
    "        recall.append(recall_score(y_test, predicted))\n",
    "\n",
    "    print(m + ': acc(' + str(np.mean(accuracy)) \n",
    "          + '), prec(' + str(np.mean(precision))\n",
    "          + '), rec(' + str(np.mean(recall)) + ')'\n",
    "         )"
   ]
  },
  {
   "cell_type": "code",
   "execution_count": null,
   "metadata": {
    "collapsed": true
   },
   "outputs": [],
   "source": []
  }
 ],
 "metadata": {
  "kernelspec": {
   "display_name": "Python 3",
   "language": "python",
   "name": "python3"
  },
  "language_info": {
   "codemirror_mode": {
    "name": "ipython",
    "version": 3
   },
   "file_extension": ".py",
   "mimetype": "text/x-python",
   "name": "python",
   "nbconvert_exporter": "python",
   "pygments_lexer": "ipython3",
   "version": "3.6.1"
  }
 },
 "nbformat": 4,
 "nbformat_minor": 2
}
