{
 "cells": [
  {
   "cell_type": "code",
   "execution_count": 4,
   "metadata": {
    "collapsed": true
   },
   "outputs": [],
   "source": [
    "import pandas as pd\n",
    "import numpy as np\n",
    "from sklearn import svm\n",
    "from sklearn import preprocessing\n",
    "from sklearn.feature_extraction.text import TfidfVectorizer\n",
    "from sklearn.model_selection import GridSearchCV, cross_val_score\n",
    "from nltk.corpus import stopwords\n",
    "\n",
    "corpus = pd.read_csv('corpus.csv.gz', compression='gzip')\n",
    "corpus = corpus[corpus['qual_a_melhor_classificao_para_esse_texto:confidence'] == 1]\n",
    "stopwords = stopwords.words(\"portuguese\")"
   ]
  },
  {
   "cell_type": "code",
   "execution_count": 5,
   "metadata": {},
   "outputs": [
    {
     "name": "stdout",
     "output_type": "stream",
     "text": [
      "['diario' 'outro']\n",
      "466    1\n",
      "467   -1\n",
      "Name: class, dtype: int64\n"
     ]
    }
   ],
   "source": [
    "# fix labels to binary\n",
    "def classFit(x):\n",
    "    if x['qual_a_melhor_classificao_para_esse_texto'] == \"diario\":\n",
    "        return 1\n",
    "    else:\n",
    "        return -1\n",
    "    \n",
    "corpus['class'] = corpus.apply(classFit,axis=1)\n",
    "target = corpus['class'].values\n",
    "\n",
    "print(corpus['qual_a_melhor_classificao_para_esse_texto'].values[:2])\n",
    "print(corpus['class'][:2])"
   ]
  },
  {
   "cell_type": "code",
   "execution_count": 6,
   "metadata": {},
   "outputs": [
    {
     "data": {
      "text/plain": [
       "(534, 1000)"
      ]
     },
     "execution_count": 6,
     "metadata": {},
     "output_type": "execute_result"
    }
   ],
   "source": [
    "data = TfidfVectorizer(max_features=1000, strip_accents='unicode', stop_words=stopwords).fit_transform(corpus.content)\n",
    "data.shape"
   ]
  },
  {
   "cell_type": "code",
   "execution_count": 31,
   "metadata": {
    "scrolled": true
   },
   "outputs": [
    {
     "name": "stdout",
     "output_type": "stream",
     "text": [
      "0.789107396871\n",
      "0.788405095952\n",
      "0.921848739496\n"
     ]
    }
   ],
   "source": [
    "from sklearn.naive_bayes import MultinomialNB, GaussianNB\n",
    "\n",
    "model = MultinomialNB(alpha=0.001)\n",
    "\n",
    "precision = cross_val_score(model, data.toarray(), target, cv=10, scoring='precision').mean()\n",
    "acc = cross_val_score(model, data.toarray(), target, cv=10, scoring='accuracy').mean()\n",
    "recall = cross_val_score(model, data.toarray(), target, cv=10, scoring='recall').mean()\n",
    "print(precision)\n",
    "print(acc)\n",
    "print(recall)"
   ]
  },
  {
   "cell_type": "code",
   "execution_count": 32,
   "metadata": {},
   "outputs": [
    {
     "name": "stdout",
     "output_type": "stream",
     "text": [
      "0.773815562407\n",
      "0.734204160619\n",
      "0.835462184874\n"
     ]
    }
   ],
   "source": [
    "model = svm.LinearSVC(C=2.15)\n",
    "\n",
    "precision = cross_val_score(model, data.toarray(), target, cv=10, scoring='precision').mean()\n",
    "acc = cross_val_score(model, data.toarray(), target, cv=10, scoring='accuracy').mean()\n",
    "recall = cross_val_score(model, data.toarray(), target, cv=10, scoring='recall').mean()\n",
    "print(precision)\n",
    "print(acc)\n",
    "print(recall)"
   ]
  },
  {
   "cell_type": "markdown",
   "metadata": {},
   "source": [
    "## Grid Search"
   ]
  },
  {
   "cell_type": "code",
   "execution_count": 9,
   "metadata": {},
   "outputs": [
    {
     "name": "stdout",
     "output_type": "stream",
     "text": [
      "Fitting 10 folds for each of 14 candidates, totalling 140 fits\n",
      "[CV] C=0.001, kernel=rbf .............................................\n",
      "[CV] C=0.001, kernel=rbf .............................................\n",
      "[CV] C=0.001, kernel=rbf .............................................\n",
      "[CV] C=0.001, kernel=rbf .............................................\n",
      "[CV] C=0.001, kernel=rbf .............................................\n",
      "[CV] C=0.001, kernel=rbf .............................................\n",
      "[CV] C=0.001, kernel=rbf .............................................\n",
      "[CV] C=0.001, kernel=rbf .............................................\n",
      "[CV] C=0.001, kernel=rbf .............................................\n",
      "[CV] C=0.001, kernel=rbf .............................................\n",
      "[CV] .............. C=0.001, kernel=rbf, score=0.648148, total=   0.7s\n",
      "[CV] C=0.001, kernel=linear ..........................................\n",
      "[CV] .............. C=0.001, kernel=rbf, score=0.648148, total=   0.7s\n",
      "[CV] .............. C=0.001, kernel=rbf, score=0.648148, total=   0.7s\n",
      "[CV] .............. C=0.001, kernel=rbf, score=0.648148, total=   0.7s\n",
      "[CV] C=0.001, kernel=linear ..........................................\n",
      "[CV] C=0.001, kernel=linear ..........................................\n",
      "[CV] .............. C=0.001, kernel=rbf, score=0.648148, total=   0.6s\n",
      "[CV] .............. C=0.001, kernel=rbf, score=0.653846, total=   0.6s\n",
      "[CV] .............. C=0.001, kernel=rbf, score=0.641509, total=   0.6s\n",
      "[CV] .............. C=0.001, kernel=rbf, score=0.648148, total=   0.6s\n",
      "[CV] .............. C=0.001, kernel=rbf, score=0.653846, total=   0.6s\n",
      "[CV] .............. C=0.001, kernel=rbf, score=0.641509, total=   0.6s\n",
      "[CV] C=0.001, kernel=linear ..........................................\n",
      "[CV] C=0.001, kernel=linear ..........................................\n",
      "[CV] C=0.001, kernel=linear ..........................................\n",
      "[CV] C=0.001, kernel=linear ..........................................\n",
      "[CV] C=0.001, kernel=linear ..........................................\n",
      "[CV] C=0.001, kernel=linear ..........................................\n",
      "[CV] C=0.001, kernel=linear ..........................................\n",
      "[CV] ........... C=0.001, kernel=linear, score=0.648148, total=   0.7s\n",
      "[CV] C=0.0464158883361, kernel=rbf ...................................\n",
      "[CV] ........... C=0.001, kernel=linear, score=0.648148, total=   0.7s\n",
      "[CV] C=0.0464158883361, kernel=rbf ...................................\n",
      "[CV] ........... C=0.001, kernel=linear, score=0.648148, total=   0.8s\n",
      "[CV] ........... C=0.001, kernel=linear, score=0.648148, total=   0.7s\n",
      "[CV] C=0.0464158883361, kernel=rbf ...................................\n",
      "[CV] ........... C=0.001, kernel=linear, score=0.641509, total=   0.6s\n",
      "[CV] C=0.0464158883361, kernel=rbf ...................................\n",
      "[CV] C=0.0464158883361, kernel=rbf ...................................\n",
      "[CV] ........... C=0.001, kernel=linear, score=0.648148, total=   0.6s\n",
      "[CV] C=0.0464158883361, kernel=rbf ...................................\n",
      "[CV] ........... C=0.001, kernel=linear, score=0.653846, total=   0.6s\n"
     ]
    },
    {
     "name": "stderr",
     "output_type": "stream",
     "text": [
      "[Parallel(n_jobs=10)]: Done  12 tasks      | elapsed:    2.6s\n"
     ]
    },
    {
     "name": "stdout",
     "output_type": "stream",
     "text": [
      "[CV] ........... C=0.001, kernel=linear, score=0.653846, total=   0.6s\n",
      "[CV] ........... C=0.001, kernel=linear, score=0.641509, total=   0.6s\n",
      "[CV] ........... C=0.001, kernel=linear, score=0.648148, total=   0.6s\n",
      "[CV] C=0.0464158883361, kernel=rbf ...................................\n",
      "[CV] C=0.0464158883361, kernel=rbf ...................................\n",
      "[CV] C=0.0464158883361, kernel=rbf ...................................\n",
      "[CV] C=0.0464158883361, kernel=rbf ...................................\n",
      "[CV] .... C=0.0464158883361, kernel=rbf, score=0.648148, total=   0.9s\n",
      "[CV] C=0.0464158883361, kernel=linear ................................\n",
      "[CV] .... C=0.0464158883361, kernel=rbf, score=0.648148, total=   0.9s\n",
      "[CV] C=0.0464158883361, kernel=linear ................................\n",
      "[CV] .... C=0.0464158883361, kernel=rbf, score=0.648148, total=   0.9s\n",
      "[CV] C=0.0464158883361, kernel=linear ................................\n",
      "[CV] .... C=0.0464158883361, kernel=rbf, score=0.653846, total=   0.9s\n",
      "[CV] C=0.0464158883361, kernel=linear ................................\n",
      "[CV] .... C=0.0464158883361, kernel=rbf, score=0.641509, total=   0.8s\n",
      "[CV] .... C=0.0464158883361, kernel=rbf, score=0.648148, total=   1.0s\n",
      "[CV] C=0.0464158883361, kernel=linear ................................\n",
      "[CV] C=0.0464158883361, kernel=linear ................................\n",
      "[CV] .... C=0.0464158883361, kernel=rbf, score=0.648148, total=   1.0s\n",
      "[CV] .... C=0.0464158883361, kernel=rbf, score=0.648148, total=   1.0s\n",
      "[CV] .... C=0.0464158883361, kernel=rbf, score=0.641509, total=   0.9s\n",
      "[CV] C=0.0464158883361, kernel=linear ................................\n",
      "[CV] C=0.0464158883361, kernel=linear ................................\n",
      "[CV] C=0.0464158883361, kernel=linear ................................\n",
      "[CV] .... C=0.0464158883361, kernel=rbf, score=0.653846, total=   0.9s\n",
      "[CV] C=0.0464158883361, kernel=linear ................................\n",
      "[CV] . C=0.0464158883361, kernel=linear, score=0.648148, total=   1.0s\n",
      "[CV] C=2.15443469003, kernel=rbf .....................................\n",
      "[CV] . C=0.0464158883361, kernel=linear, score=0.648148, total=   1.0s\n",
      "[CV] . C=0.0464158883361, kernel=linear, score=0.648148, total=   1.0s\n",
      "[CV] C=2.15443469003, kernel=rbf .....................................\n",
      "[CV] C=2.15443469003, kernel=rbf .....................................\n",
      "[CV] . C=0.0464158883361, kernel=linear, score=0.648148, total=   1.0s\n",
      "[CV] C=2.15443469003, kernel=rbf .....................................\n",
      "[CV] . C=0.0464158883361, kernel=linear, score=0.648148, total=   1.1s\n",
      "[CV] . C=0.0464158883361, kernel=linear, score=0.648148, total=   1.0s\n",
      "[CV] C=2.15443469003, kernel=rbf .....................................\n",
      "[CV] . C=0.0464158883361, kernel=linear, score=0.641509, total=   1.1s\n",
      "[CV] C=2.15443469003, kernel=rbf .....................................\n",
      "[CV] C=2.15443469003, kernel=rbf .....................................\n",
      "[CV] . C=0.0464158883361, kernel=linear, score=0.653846, total=   1.0s\n",
      "[CV] C=2.15443469003, kernel=rbf .....................................\n",
      "[CV] . C=0.0464158883361, kernel=linear, score=0.653846, total=   1.1s\n",
      "[CV] . C=0.0464158883361, kernel=linear, score=0.641509, total=   1.0s\n",
      "[CV] C=2.15443469003, kernel=rbf .....................................\n",
      "[CV] C=2.15443469003, kernel=rbf .....................................\n",
      "[CV] ...... C=2.15443469003, kernel=rbf, score=0.648148, total=   1.0s\n",
      "[CV] ...... C=2.15443469003, kernel=rbf, score=0.648148, total=   0.9s\n",
      "[CV] C=2.15443469003, kernel=linear ..................................\n",
      "[CV] C=2.15443469003, kernel=linear ..................................\n",
      "[CV] ...... C=2.15443469003, kernel=rbf, score=0.648148, total=   0.9s\n",
      "[CV] C=2.15443469003, kernel=linear ..................................\n",
      "[CV] ...... C=2.15443469003, kernel=rbf, score=0.648148, total=   1.0s\n",
      "[CV] ...... C=2.15443469003, kernel=rbf, score=0.648148, total=   1.0s\n",
      "[CV] C=2.15443469003, kernel=linear ..................................\n",
      "[CV] C=2.15443469003, kernel=linear ..................................\n",
      "[CV] ...... C=2.15443469003, kernel=rbf, score=0.648148, total=   1.0s\n",
      "[CV] ...... C=2.15443469003, kernel=rbf, score=0.641509, total=   1.0s\n",
      "[CV] C=2.15443469003, kernel=linear ..................................\n",
      "[CV] ...... C=2.15443469003, kernel=rbf, score=0.641509, total=   0.9s\n",
      "[CV] C=2.15443469003, kernel=linear ..................................\n",
      "[CV] C=2.15443469003, kernel=linear ..................................\n",
      "[CV] ...... C=2.15443469003, kernel=rbf, score=0.653846, total=   1.0s\n",
      "[CV] ...... C=2.15443469003, kernel=rbf, score=0.653846, total=   1.1s\n",
      "[CV] C=2.15443469003, kernel=linear ..................................\n",
      "[CV] C=2.15443469003, kernel=linear ..................................\n",
      "[CV] ... C=2.15443469003, kernel=linear, score=0.685185, total=   0.8s\n",
      "[CV] ... C=2.15443469003, kernel=linear, score=0.703704, total=   0.9s\n",
      "[CV] C=100.0, kernel=rbf .............................................\n",
      "[CV] C=100.0, kernel=rbf .............................................\n",
      "[CV] ... C=2.15443469003, kernel=linear, score=0.722222, total=   0.9s\n",
      "[CV] C=100.0, kernel=rbf .............................................\n",
      "[CV] ... C=2.15443469003, kernel=linear, score=0.722222, total=   0.9s\n",
      "[CV] ... C=2.15443469003, kernel=linear, score=0.759259, total=   0.9s\n",
      "[CV] C=100.0, kernel=rbf .............................................\n",
      "[CV] C=100.0, kernel=rbf .............................................\n",
      "[CV] ... C=2.15443469003, kernel=linear, score=0.754717, total=   0.8s\n",
      "[CV] ... C=2.15443469003, kernel=linear, score=0.711538, total=   0.8s\n",
      "[CV] C=100.0, kernel=rbf .............................................\n",
      "[CV] C=100.0, kernel=rbf .............................................\n",
      "[CV] ... C=2.15443469003, kernel=linear, score=0.814815, total=   0.9s\n",
      "[CV] ... C=2.15443469003, kernel=linear, score=0.754717, total=   0.9s\n",
      "[CV] C=100.0, kernel=rbf .............................................\n",
      "[CV] C=100.0, kernel=rbf .............................................\n",
      "[CV] ... C=2.15443469003, kernel=linear, score=0.711538, total=   0.8s\n",
      "[CV] C=100.0, kernel=rbf .............................................\n",
      "[CV] .............. C=100.0, kernel=rbf, score=0.703704, total=   0.7s\n",
      "[CV] .............. C=100.0, kernel=rbf, score=0.648148, total=   0.7s\n",
      "[CV] C=100.0, kernel=linear ..........................................\n",
      "[CV] C=100.0, kernel=linear ..........................................\n",
      "[CV] .............. C=100.0, kernel=rbf, score=0.666667, total=   0.7s\n",
      "[CV] C=100.0, kernel=linear ..........................................\n",
      "[CV] .............. C=100.0, kernel=rbf, score=0.685185, total=   0.6s\n",
      "[CV] C=100.0, kernel=linear ..........................................\n",
      "[CV] .............. C=100.0, kernel=rbf, score=0.666667, total=   0.7s\n",
      "[CV] C=100.0, kernel=linear ..........................................\n",
      "[CV] .............. C=100.0, kernel=rbf, score=0.666667, total=   0.6s\n",
      "[CV] .............. C=100.0, kernel=rbf, score=0.679245, total=   0.6s\n",
      "[CV] .............. C=100.0, kernel=rbf, score=0.692308, total=   0.6s\n",
      "[CV] .............. C=100.0, kernel=rbf, score=0.660377, total=   0.6s\n",
      "[CV] C=100.0, kernel=linear ..........................................\n",
      "[CV] C=100.0, kernel=linear ..........................................\n",
      "[CV] C=100.0, kernel=linear ..........................................\n",
      "[CV] .............. C=100.0, kernel=rbf, score=0.673077, total=   0.6s\n",
      "[CV] C=100.0, kernel=linear ..........................................\n",
      "[CV] C=100.0, kernel=linear ..........................................\n",
      "[CV] ........... C=100.0, kernel=linear, score=0.648148, total=   0.7s\n",
      "[CV] C=4641.58883361, kernel=rbf .....................................\n",
      "[CV] ........... C=100.0, kernel=linear, score=0.703704, total=   0.7s\n",
      "[CV] ........... C=100.0, kernel=linear, score=0.685185, total=   0.7s\n",
      "[CV] C=4641.58883361, kernel=rbf .....................................\n",
      "[CV] C=4641.58883361, kernel=rbf .....................................\n",
      "[CV] ........... C=100.0, kernel=linear, score=0.685185, total=   0.7s\n",
      "[CV] C=4641.58883361, kernel=rbf .....................................\n",
      "[CV] ........... C=100.0, kernel=linear, score=0.777778, total=   0.7s\n"
     ]
    },
    {
     "name": "stdout",
     "output_type": "stream",
     "text": [
      "[CV] ........... C=100.0, kernel=linear, score=0.796296, total=   0.6s\n",
      "[CV] C=4641.58883361, kernel=rbf .....................................\n",
      "[CV] C=4641.58883361, kernel=rbf .....................................\n",
      "[CV] ........... C=100.0, kernel=linear, score=0.716981, total=   0.7s\n",
      "[CV] ........... C=100.0, kernel=linear, score=0.692308, total=   0.7s\n",
      "[CV] ........... C=100.0, kernel=linear, score=0.711538, total=   0.6s\n",
      "[CV] C=4641.58883361, kernel=rbf .....................................\n",
      "[CV] C=4641.58883361, kernel=rbf .....................................\n",
      "[CV] ........... C=100.0, kernel=linear, score=0.679245, total=   0.7s\n",
      "[CV] C=4641.58883361, kernel=rbf .....................................\n",
      "[CV] C=4641.58883361, kernel=rbf .....................................\n",
      "[CV] ...... C=4641.58883361, kernel=rbf, score=0.666667, total=   0.7s\n",
      "[CV] C=4641.58883361, kernel=linear ..................................\n",
      "[CV] ...... C=4641.58883361, kernel=rbf, score=0.703704, total=   0.7s\n",
      "[CV] ...... C=4641.58883361, kernel=rbf, score=0.685185, total=   0.7s\n",
      "[CV] C=4641.58883361, kernel=linear ..................................\n",
      "[CV] C=4641.58883361, kernel=linear ..................................\n",
      "[CV] ...... C=4641.58883361, kernel=rbf, score=0.648148, total=   0.7s\n",
      "[CV] C=4641.58883361, kernel=linear ..................................\n",
      "[CV] ...... C=4641.58883361, kernel=rbf, score=0.740741, total=   0.6s\n",
      "[CV] ...... C=4641.58883361, kernel=rbf, score=0.833333, total=   0.7s\n",
      "[CV] C=4641.58883361, kernel=linear ..................................\n",
      "[CV] ...... C=4641.58883361, kernel=rbf, score=0.754717, total=   0.6s\n",
      "[CV] C=4641.58883361, kernel=linear ..................................\n",
      "[CV] C=4641.58883361, kernel=linear ..................................\n",
      "[CV] ...... C=4641.58883361, kernel=rbf, score=0.735849, total=   0.6s\n",
      "[CV] ...... C=4641.58883361, kernel=rbf, score=0.711538, total=   0.6s\n",
      "[CV] C=4641.58883361, kernel=linear ..................................\n",
      "[CV] ...... C=4641.58883361, kernel=rbf, score=0.750000, total=   0.6s\n",
      "[CV] C=4641.58883361, kernel=linear ..................................\n",
      "[CV] C=4641.58883361, kernel=linear ..................................\n",
      "[CV] ... C=4641.58883361, kernel=linear, score=0.648148, total=   1.0s\n",
      "[CV] C=215443.469003, kernel=rbf .....................................\n",
      "[CV] ... C=4641.58883361, kernel=linear, score=0.703704, total=   0.9s\n",
      "[CV] ... C=4641.58883361, kernel=linear, score=0.685185, total=   0.9s\n",
      "[CV] C=215443.469003, kernel=rbf .....................................\n",
      "[CV] C=215443.469003, kernel=rbf .....................................\n",
      "[CV] ... C=4641.58883361, kernel=linear, score=0.685185, total=   0.9s\n",
      "[CV] C=215443.469003, kernel=rbf .....................................\n",
      "[CV] ... C=4641.58883361, kernel=linear, score=0.777778, total=   0.8s\n",
      "[CV] ... C=4641.58883361, kernel=linear, score=0.692308, total=   0.8s\n",
      "[CV] ... C=4641.58883361, kernel=linear, score=0.796296, total=   0.8s\n",
      "[CV] C=215443.469003, kernel=rbf .....................................\n",
      "[CV] ... C=4641.58883361, kernel=linear, score=0.716981, total=   0.8s\n",
      "[CV] C=215443.469003, kernel=rbf .....................................\n",
      "[CV] C=215443.469003, kernel=rbf .....................................\n",
      "[CV] C=215443.469003, kernel=rbf .....................................\n",
      "[CV] ... C=4641.58883361, kernel=linear, score=0.711538, total=   0.8s\n",
      "[CV] ... C=4641.58883361, kernel=linear, score=0.679245, total=   0.8s\n",
      "[CV] C=215443.469003, kernel=rbf .....................................\n",
      "[CV] C=215443.469003, kernel=rbf .....................................\n",
      "[CV] ...... C=215443.469003, kernel=rbf, score=0.666667, total=   0.7s\n",
      "[CV] C=215443.469003, kernel=linear ..................................\n",
      "[CV] ...... C=215443.469003, kernel=rbf, score=0.685185, total=   0.7s\n",
      "[CV] C=215443.469003, kernel=linear ..................................\n",
      "[CV] ...... C=215443.469003, kernel=rbf, score=0.703704, total=   0.8s\n",
      "[CV] C=215443.469003, kernel=linear ..................................\n",
      "[CV] ...... C=215443.469003, kernel=rbf, score=0.685185, total=   0.7s\n",
      "[CV] C=215443.469003, kernel=linear ..................................\n",
      "[CV] ...... C=215443.469003, kernel=rbf, score=0.777778, total=   0.7s\n",
      "[CV] ...... C=215443.469003, kernel=rbf, score=0.679245, total=   0.6s\n",
      "[CV] C=215443.469003, kernel=linear ..................................\n",
      "[CV] ...... C=215443.469003, kernel=rbf, score=0.716981, total=   0.7s\n",
      "[CV] ...... C=215443.469003, kernel=rbf, score=0.711538, total=   0.6s\n",
      "[CV] C=215443.469003, kernel=linear ..................................\n",
      "[CV] C=215443.469003, kernel=linear ..................................\n",
      "[CV] C=215443.469003, kernel=linear ..................................\n",
      "[CV] ...... C=215443.469003, kernel=rbf, score=0.692308, total=   0.6s\n",
      "[CV] ...... C=215443.469003, kernel=rbf, score=0.796296, total=   0.7s\n",
      "[CV] C=215443.469003, kernel=linear ..................................\n",
      "[CV] C=215443.469003, kernel=linear ..................................\n"
     ]
    },
    {
     "name": "stderr",
     "output_type": "stream",
     "text": [
      "[Parallel(n_jobs=10)]: Done 108 tasks      | elapsed:   16.1s\n"
     ]
    },
    {
     "name": "stdout",
     "output_type": "stream",
     "text": [
      "[CV] ... C=215443.469003, kernel=linear, score=0.648148, total=   0.7s\n",
      "[CV] C=10000000.0, kernel=rbf ........................................\n",
      "[CV] ... C=215443.469003, kernel=linear, score=0.703704, total=   0.7s\n",
      "[CV] C=10000000.0, kernel=rbf ........................................\n",
      "[CV] ... C=215443.469003, kernel=linear, score=0.685185, total=   0.7s\n",
      "[CV] ... C=215443.469003, kernel=linear, score=0.685185, total=   0.6s\n",
      "[CV] C=10000000.0, kernel=rbf ........................................\n",
      "[CV] C=10000000.0, kernel=rbf ........................................\n",
      "[CV] ... C=215443.469003, kernel=linear, score=0.716981, total=   0.6s\n",
      "[CV] C=10000000.0, kernel=rbf ........................................\n",
      "[CV] ... C=215443.469003, kernel=linear, score=0.796296, total=   0.6s\n",
      "[CV] ... C=215443.469003, kernel=linear, score=0.777778, total=   0.6s\n",
      "[CV] C=10000000.0, kernel=rbf ........................................\n",
      "[CV] C=10000000.0, kernel=rbf ........................................\n",
      "[CV] ... C=215443.469003, kernel=linear, score=0.692308, total=   0.6s\n",
      "[CV] C=10000000.0, kernel=rbf ........................................\n",
      "[CV] ... C=215443.469003, kernel=linear, score=0.711538, total=   0.6s\n",
      "[CV] ... C=215443.469003, kernel=linear, score=0.679245, total=   0.7s\n",
      "[CV] C=10000000.0, kernel=rbf ........................................\n",
      "[CV] C=10000000.0, kernel=rbf ........................................\n",
      "[CV] ......... C=10000000.0, kernel=rbf, score=0.666667, total=   0.7s\n",
      "[CV] C=10000000.0, kernel=linear .....................................\n",
      "[CV] ......... C=10000000.0, kernel=rbf, score=0.703704, total=   0.7s\n",
      "[CV] C=10000000.0, kernel=linear .....................................\n",
      "[CV] ......... C=10000000.0, kernel=rbf, score=0.685185, total=   0.7s\n",
      "[CV] C=10000000.0, kernel=linear .....................................\n",
      "[CV] ......... C=10000000.0, kernel=rbf, score=0.685185, total=   0.7s\n",
      "[CV] C=10000000.0, kernel=linear .....................................\n",
      "[CV] ......... C=10000000.0, kernel=rbf, score=0.777778, total=   0.7s\n",
      "[CV] C=10000000.0, kernel=linear .....................................\n",
      "[CV] ......... C=10000000.0, kernel=rbf, score=0.716981, total=   0.7s\n",
      "[CV] ......... C=10000000.0, kernel=rbf, score=0.796296, total=   0.7s\n",
      "[CV] ......... C=10000000.0, kernel=rbf, score=0.711538, total=   0.6s\n",
      "[CV] ......... C=10000000.0, kernel=rbf, score=0.679245, total=   0.6s\n",
      "[CV] C=10000000.0, kernel=linear .....................................\n",
      "[CV] C=10000000.0, kernel=linear .....................................\n",
      "[CV] C=10000000.0, kernel=linear .....................................\n",
      "[CV] C=10000000.0, kernel=linear .....................................\n",
      "[CV] ......... C=10000000.0, kernel=rbf, score=0.692308, total=   0.6s\n",
      "[CV] C=10000000.0, kernel=linear .....................................\n",
      "[CV] ...... C=10000000.0, kernel=linear, score=0.648148, total=   1.0s\n",
      "[CV] ...... C=10000000.0, kernel=linear, score=0.685185, total=   1.0s\n",
      "[CV] ...... C=10000000.0, kernel=linear, score=0.703704, total=   1.0s\n",
      "[CV] ...... C=10000000.0, kernel=linear, score=0.685185, total=   1.0s\n",
      "[CV] ...... C=10000000.0, kernel=linear, score=0.777778, total=   0.8s\n",
      "[CV] ...... C=10000000.0, kernel=linear, score=0.796296, total=   0.8s\n",
      "[CV] ...... C=10000000.0, kernel=linear, score=0.679245, total=   0.8s\n",
      "[CV] ...... C=10000000.0, kernel=linear, score=0.692308, total=   0.7s\n",
      "[CV] ...... C=10000000.0, kernel=linear, score=0.716981, total=   0.8s\n",
      "[CV] ...... C=10000000.0, kernel=linear, score=0.711538, total=   0.7s\n"
     ]
    },
    {
     "name": "stderr",
     "output_type": "stream",
     "text": [
      "[Parallel(n_jobs=10)]: Done 140 out of 140 | elapsed:   19.8s finished\n"
     ]
    },
    {
     "data": {
      "text/plain": [
       "GridSearchCV(cv=10, error_score='raise',\n",
       "       estimator=SVC(C=1.0, cache_size=200, class_weight=None, coef0=0.0,\n",
       "  decision_function_shape=None, degree=3, gamma='auto', kernel='rbf',\n",
       "  max_iter=-1, probability=False, random_state=None, shrinking=True,\n",
       "  tol=0.001, verbose=False),\n",
       "       fit_params={}, iid=True, n_jobs=10,\n",
       "       param_grid=[{'kernel': ['rbf', 'linear'], 'C': array([  1.00000e-03,   4.64159e-02,   2.15443e+00,   1.00000e+02,\n",
       "         4.64159e+03,   2.15443e+05,   1.00000e+07])}],\n",
       "       pre_dispatch='2*n_jobs', refit=True, return_train_score=True,\n",
       "       scoring=None, verbose=3)"
      ]
     },
     "execution_count": 9,
     "metadata": {},
     "output_type": "execute_result"
    }
   ],
   "source": [
    "c_range = np.logspace(-3,7,7)\n",
    "param_grid = [\n",
    "    {'kernel': ['rbf', 'linear'], 'C': c_range},\n",
    "]\n",
    "grid_search = GridSearchCV(svm.SVC(), param_grid, cv=10, verbose=3, n_jobs=10)\n",
    "grid_search.fit(data, target)"
   ]
  },
  {
   "cell_type": "code",
   "execution_count": 10,
   "metadata": {},
   "outputs": [
    {
     "name": "stdout",
     "output_type": "stream",
     "text": [
      "SVC(C=2.1544346900318843, cache_size=200, class_weight=None, coef0=0.0,\n",
      "  decision_function_shape=None, degree=3, gamma='auto', kernel='linear',\n",
      "  max_iter=-1, probability=False, random_state=None, shrinking=True,\n",
      "  tol=0.001, verbose=False)\n",
      "0.734082397004\n",
      "{'C': 2.1544346900318843, 'kernel': 'linear'}\n"
     ]
    }
   ],
   "source": [
    "print(grid_search.best_estimator_)\n",
    "print(grid_search.best_score_)\n",
    "print(grid_search.best_params_)"
   ]
  },
  {
   "cell_type": "code",
   "execution_count": 11,
   "metadata": {},
   "outputs": [
    {
     "name": "stdout",
     "output_type": "stream",
     "text": [
      "0.772455738114\n",
      "0.733991829275\n",
      "0.837983193277\n"
     ]
    }
   ],
   "source": [
    "model = svm.SVC(kernel='linear',C=2.15,gamma=0.1)\n",
    "\n",
    "precision = cross_val_score(model, data, target, cv=10, scoring='precision').mean()\n",
    "acc = cross_val_score(model, data, target, cv=10, scoring='accuracy').mean()\n",
    "recall = cross_val_score(model, data, target, cv=10, scoring='recall').mean()\n",
    "print(precision)\n",
    "print(acc)\n",
    "print(recall)"
   ]
  },
  {
   "cell_type": "code",
   "execution_count": 29,
   "metadata": {},
   "outputs": [
    {
     "name": "stdout",
     "output_type": "stream",
     "text": [
      "Fitting 10 folds for each of 7 candidates, totalling 70 fits\n",
      "[CV] alpha=0.001 .....................................................\n",
      "[CV] alpha=0.001 .....................................................\n",
      "[CV] alpha=0.001 .....................................................\n",
      "[CV] alpha=0.001 .....................................................\n",
      "[CV] alpha=0.001 .....................................................\n",
      "[CV] alpha=0.001 .....................................................\n",
      "[CV] ...................... alpha=0.001, score=0.777778, total=   0.0s\n",
      "[CV] alpha=0.001 .....................................................\n",
      "[CV] alpha=0.001 .....................................................\n",
      "[CV] alpha=0.001 .....................................................\n",
      "[CV] ...................... alpha=0.001, score=0.722222, total=   0.0s\n",
      "[CV] ...................... alpha=0.001, score=0.759259, total=   0.0s\n",
      "[CV] alpha=0.001 .....................................................\n",
      "[CV] alpha=0.01 ......................................................\n",
      "[CV] ...................... alpha=0.001, score=0.773585, total=   0.0s\n",
      "[CV] alpha=0.01 ......................................................\n",
      "[CV] ...................... alpha=0.001, score=0.769231, total=   0.0s\n",
      "[CV] ...................... alpha=0.001, score=0.833333, total=   0.1s\n",
      "[CV] alpha=0.01 ......................................................\n",
      "[CV] ...................... alpha=0.001, score=0.796296, total=   0.1s\n",
      "[CV] ...................... alpha=0.001, score=0.833333, total=   0.1s\n",
      "[CV] ...................... alpha=0.001, score=0.811321, total=   0.0s\n",
      "[CV] ...................... alpha=0.001, score=0.807692, total=   0.0s\n",
      "[CV] ....................... alpha=0.01, score=0.722222, total=   0.0s\n",
      "[CV] alpha=0.01 ......................................................\n",
      "[CV] ....................... alpha=0.01, score=0.777778, total=   0.0s\n",
      "[CV] alpha=0.01 ......................................................\n",
      "[CV] ....................... alpha=0.01, score=0.759259, total=   0.0s\n",
      "[CV] alpha=0.01 ......................................................\n",
      "[CV] ....................... alpha=0.01, score=0.796296, total=   0.0s\n",
      "[CV] alpha=0.1 .......................................................\n",
      "[CV] alpha=0.01 ......................................................\n",
      "[CV] alpha=0.01 ......................................................\n",
      "[CV] alpha=0.01 ......................................................\n",
      "[CV] alpha=0.01 ......................................................\n",
      "[CV] ....................... alpha=0.01, score=0.833333, total=   0.0s\n",
      "[CV] ....................... alpha=0.01, score=0.833333, total=   0.0s\n",
      "[CV] ....................... alpha=0.01, score=0.811321, total=   0.0s\n",
      "[CV] ....................... alpha=0.01, score=0.769231, total=   0.0s\n",
      "[CV] alpha=0.1 .......................................................\n",
      "[CV] alpha=0.1 .......................................................\n",
      "[CV] ....................... alpha=0.01, score=0.807692, total=   0.0s\n",
      "[CV] ....................... alpha=0.01, score=0.773585, total=   0.0s\n",
      "[CV] ........................ alpha=0.1, score=0.703704, total=   0.0s\n",
      "[CV] alpha=0.1 .......................................................\n",
      "[CV] ........................ alpha=0.1, score=0.740741, total=   0.0s\n",
      "[CV] ........................ alpha=0.1, score=0.773585, total=   0.0s\n",
      "[CV] alpha=1.0 .......................................................\n",
      "[CV] alpha=1.0 .......................................................\n",
      "[CV] alpha=0.1 .......................................................\n",
      "[CV] alpha=0.1 .......................................................\n",
      "[CV] alpha=0.1 .......................................................\n",
      "[CV] alpha=1.0 .......................................................\n",
      "[CV] ........................ alpha=0.1, score=0.851852, total=   0.0s\n",
      "[CV] alpha=1.0 .......................................................\n",
      "[CV] alpha=1.0 .......................................................\n",
      "[CV] alpha=0.1 .......................................................\n",
      "[CV] alpha=0.1 .......................................................\n",
      "[CV] ........................ alpha=1.0, score=0.685185, total=   0.0s\n",
      "[CV] ........................ alpha=1.0, score=0.703704, total=   0.0s\n",
      "[CV] ........................ alpha=0.1, score=0.769231, total=   0.0s\n",
      "[CV] ........................ alpha=0.1, score=0.777778, total=   0.0s\n",
      "[CV] ........................ alpha=0.1, score=0.796296, total=   0.0s\n",
      "[CV] alpha=0.1 .......................................................\n",
      "[CV] ........................ alpha=1.0, score=0.833333, total=   0.0s\n",
      "[CV] alpha=1.0 .......................................................\n",
      "[CV] ........................ alpha=1.0, score=0.773585, total=   0.0s\n",
      "[CV] alpha=10.0 ......................................................\n",
      "[CV] alpha=1.0 .......................................................\n",
      "[CV] ........................ alpha=0.1, score=0.754717, total=   0.0s\n",
      "[CV] ........................ alpha=1.0, score=0.769231, total=   0.0s\n",
      "[CV] ........................ alpha=0.1, score=0.814815, total=   0.0s\n",
      "[CV] alpha=1.0 .......................................................\n",
      "[CV] alpha=10.0 ......................................................\n",
      "[CV] alpha=10.0 ......................................................\n",
      "[CV] alpha=1.0 .......................................................\n",
      "[CV] ........................ alpha=0.1, score=0.769231, total=   0.0s\n",
      "[CV] ....................... alpha=10.0, score=0.648148, total=   0.0s\n",
      "[CV] alpha=1.0 .......................................................\n",
      "[CV] ........................ alpha=1.0, score=0.740741, total=   0.0s\n",
      "[CV] ........................ alpha=1.0, score=0.777778, total=   0.0s\n",
      "[CV] alpha=10.0 ......................................................\n",
      "[CV] ....................... alpha=10.0, score=0.648148, total=   0.0s\n",
      "[CV] alpha=10.0 ......................................................\n",
      "[CV] ........................ alpha=1.0, score=0.773585, total=   0.0s\n",
      "[CV] alpha=100.0 .....................................................\n",
      "[CV] ........................ alpha=1.0, score=0.759259, total=   0.0s\n",
      "[CV] alpha=100.0 .....................................................\n",
      "[CV] alpha=10.0 ......................................................\n",
      "[CV] alpha=10.0 ......................................................\n",
      "[CV] ........................ alpha=1.0, score=0.807692, total=   0.0s\n",
      "[CV] ....................... alpha=10.0, score=0.648148, total=   0.0s\n",
      "[CV] alpha=10.0 ......................................................\n",
      "[CV] ....................... alpha=10.0, score=0.641509, total=   0.0s\n",
      "[CV] alpha=100.0 .....................................................\n",
      "[CV] ....................... alpha=10.0, score=0.648148, total=   0.0s\n",
      "[CV] ....................... alpha=10.0, score=0.653846, total=   0.0s\n",
      "[CV] alpha=100.0 .....................................................\n"
     ]
    },
    {
     "name": "stderr",
     "output_type": "stream",
     "text": [
      "[Parallel(n_jobs=10)]: Done  12 tasks      | elapsed:    0.2s\n"
     ]
    },
    {
     "name": "stdout",
     "output_type": "stream",
     "text": [
      "[CV] ...................... alpha=100.0, score=0.648148, total=   0.0s\n",
      "[CV] ....................... alpha=10.0, score=0.648148, total=   0.0s\n",
      "[CV] ...................... alpha=100.0, score=0.648148, total=   0.0s\n",
      "[CV] alpha=100.0 .....................................................\n",
      "[CV] alpha=10.0 ......................................................\n",
      "[CV] alpha=10.0 ......................................................\n",
      "[CV] ...................... alpha=100.0, score=0.648148, total=   0.0s\n",
      "[CV] alpha=100.0 .....................................................\n",
      "[CV] alpha=1000.0 ....................................................\n",
      "[CV] ....................... alpha=10.0, score=0.648148, total=   0.0s\n",
      "[CV] ...................... alpha=100.0, score=0.641509, total=   0.0s\n",
      "[CV] alpha=1000.0 ....................................................\n",
      "[CV] alpha=100.0 .....................................................\n",
      "[CV] alpha=1000.0 ....................................................\n",
      "[CV] ...................... alpha=100.0, score=0.653846, total=   0.0s\n",
      "[CV] alpha=100.0 .....................................................\n",
      "[CV] ...................... alpha=100.0, score=0.648148, total=   0.0s\n",
      "[CV] ..................... alpha=1000.0, score=0.648148, total=   0.0s\n",
      "[CV] ..................... alpha=1000.0, score=0.648148, total=   0.0s\n",
      "[CV] ....................... alpha=10.0, score=0.641509, total=   0.0s\n",
      "[CV] ...................... alpha=100.0, score=0.648148, total=   0.0s\n",
      "[CV] alpha=100.0 .....................................................\n",
      "[CV] ....................... alpha=10.0, score=0.653846, total=   0.0s\n",
      "[CV] alpha=1000.0 ....................................................\n",
      "[CV] alpha=100.0 .....................................................\n",
      "[CV] ...................... alpha=100.0, score=0.648148, total=   0.0s\n",
      "[CV] ..................... alpha=1000.0, score=0.653846, total=   0.0s\n",
      "[CV] alpha=1000.0 ....................................................\n",
      "[CV] ...................... alpha=100.0, score=0.653846, total=   0.0s\n",
      "[CV] ...................... alpha=100.0, score=0.641509, total=   0.0s\n",
      "[CV] ..................... alpha=1000.0, score=0.648148, total=   0.0s\n",
      "[CV] alpha=1000.0 ....................................................\n",
      "[CV] ..................... alpha=1000.0, score=0.648148, total=   0.0s\n",
      "[CV] alpha=1000.0 ....................................................\n",
      "[CV] alpha=1000.0 ....................................................\n",
      "[CV] ..................... alpha=1000.0, score=0.653846, total=   0.0s\n",
      "[CV] ..................... alpha=1000.0, score=0.648148, total=   0.0s\n",
      "[CV] alpha=1000.0 ....................................................\n",
      "[CV] ..................... alpha=1000.0, score=0.641509, total=   0.0s\n",
      "[CV] alpha=1000.0 ....................................................\n",
      "[CV] ..................... alpha=1000.0, score=0.648148, total=   0.0s\n",
      "[CV] ..................... alpha=1000.0, score=0.641509, total=   0.0s\n"
     ]
    },
    {
     "name": "stderr",
     "output_type": "stream",
     "text": [
      "[Parallel(n_jobs=10)]: Done  70 out of  70 | elapsed:    0.5s finished\n"
     ]
    },
    {
     "data": {
      "text/plain": [
       "GridSearchCV(cv=10, error_score='raise',\n",
       "       estimator=MultinomialNB(alpha=1.0, class_prior=None, fit_prior=True),\n",
       "       fit_params={}, iid=True, n_jobs=10,\n",
       "       param_grid={'alpha': array([  1.00000e-03,   1.00000e-02,   1.00000e-01,   1.00000e+00,\n",
       "         1.00000e+01,   1.00000e+02,   1.00000e+03])},\n",
       "       pre_dispatch='2*n_jobs', refit=True, return_train_score=True,\n",
       "       scoring=None, verbose=3)"
      ]
     },
     "execution_count": 29,
     "metadata": {},
     "output_type": "execute_result"
    }
   ],
   "source": [
    "nb_params = { 'alpha': np.logspace(-3, 3, 7)}\n",
    "\n",
    "grid_search = GridSearchCV(MultinomialNB(), nb_params, cv=10, verbose=3, n_jobs=10)\n",
    "grid_search.fit(data, target)"
   ]
  },
  {
   "cell_type": "code",
   "execution_count": 30,
   "metadata": {},
   "outputs": [
    {
     "name": "stdout",
     "output_type": "stream",
     "text": [
      "MultinomialNB(alpha=0.001, class_prior=None, fit_prior=True)\n",
      "0.788389513109\n",
      "{'alpha': 0.001}\n"
     ]
    }
   ],
   "source": [
    "print(grid_search.best_estimator_)\n",
    "print(grid_search.best_score_)\n",
    "print(grid_search.best_params_)"
   ]
  },
  {
   "cell_type": "code",
   "execution_count": 14,
   "metadata": {},
   "outputs": [
    {
     "name": "stdout",
     "output_type": "stream",
     "text": [
      "Fitting 10 folds for each of 7 candidates, totalling 70 fits\n",
      "[CV] alpha=0.001 .....................................................\n",
      "[CV] alpha=0.001 .....................................................\n",
      "[CV] alpha=0.001 .....................................................\n",
      "[CV] alpha=0.001 .....................................................\n",
      "[CV] ...................... alpha=0.001, score=0.722222, total=   0.0s\n",
      "[CV] alpha=0.001 .....................................................\n",
      "[CV] ...................... alpha=0.001, score=0.796296, total=   0.0s\n",
      "[CV] alpha=0.001 .....................................................\n",
      "[CV] alpha=0.001 .....................................................\n",
      "[CV] ...................... alpha=0.001, score=0.685185, total=   0.0s\n",
      "[CV] alpha=0.001 .....................................................\n",
      "[CV] ...................... alpha=0.001, score=0.759259, total=   0.0s\n",
      "[CV] alpha=0.001 .....................................................\n",
      "[CV] ...................... alpha=0.001, score=0.851852, total=   0.0s\n",
      "[CV] ...................... alpha=0.001, score=0.792453, total=   0.0s\n",
      "[CV] ...................... alpha=0.001, score=0.870370, total=   0.0s\n",
      "[CV] alpha=0.01 ......................................................\n",
      "[CV] alpha=0.001 .....................................................\n",
      "[CV] alpha=0.01 ......................................................\n",
      "[CV] alpha=0.01 ......................................................\n",
      "[CV] ....................... alpha=0.01, score=0.740741, total=   0.0s\n",
      "[CV] ...................... alpha=0.001, score=0.811321, total=   0.0s\n",
      "[CV] alpha=0.01 ......................................................\n",
      "[CV] ....................... alpha=0.01, score=0.685185, total=   0.0s\n",
      "[CV] ....................... alpha=0.01, score=0.722222, total=   0.0s\n",
      "[CV] alpha=0.01 ......................................................\n",
      "[CV] ....................... alpha=0.01, score=0.796296, total=   0.0s\n",
      "[CV] alpha=0.01 ......................................................\n",
      "[CV] ...................... alpha=0.001, score=0.826923, total=   0.0s\n",
      "[CV] ...................... alpha=0.001, score=0.807692, total=   0.0s\n",
      "[CV] alpha=0.01 ......................................................\n",
      "[CV] alpha=0.01 ......................................................\n",
      "[CV] alpha=0.01 ......................................................\n",
      "[CV] ....................... alpha=0.01, score=0.870370, total=   0.0s\n",
      "[CV] ....................... alpha=0.01, score=0.792453, total=   0.0s\n",
      "[CV] ....................... alpha=0.01, score=0.826923, total=   0.0s\n",
      "[CV] alpha=0.01 ......................................................\n",
      "[CV] alpha=0.1 .......................................................\n",
      "[CV] ....................... alpha=0.01, score=0.851852, total=   0.0s\n",
      "[CV] ....................... alpha=0.01, score=0.811321, total=   0.0s\n",
      "[CV] alpha=0.1 .......................................................\n",
      "[CV] ....................... alpha=0.01, score=0.807692, total=   0.0s\n",
      "[CV] alpha=0.1 .......................................................\n",
      "[CV] alpha=1.0 .......................................................\n",
      "[CV] alpha=1.0 .......................................................\n",
      "[CV] alpha=10.0 ......................................................\n",
      "[CV] ........................ alpha=0.1, score=0.826923, total=   0.0s\n",
      "[CV] alpha=0.1 .......................................................\n",
      "[CV] ........................ alpha=1.0, score=0.759259, total=   0.0s\n",
      "[CV] alpha=1.0 .......................................................\n",
      "[CV] ........................ alpha=0.1, score=0.685185, total=   0.0s\n",
      "[CV] ....................... alpha=10.0, score=0.629630, total=   0.0s\n",
      "[CV] alpha=0.1 .......................................................\n",
      "[CV] ........................ alpha=0.1, score=0.870370, total=   0.0s\n",
      "[CV] alpha=100.0 .....................................................\n",
      "[CV] alpha=10.0 ......................................................\n",
      "[CV] alpha=0.1 .......................................................\n",
      "[CV] alpha=10.0 ......................................................\n",
      "[CV] alpha=100.0 .....................................................\n",
      "[CV] ........................ alpha=0.1, score=0.788462, total=   0.0s\n",
      "[CV] ........................ alpha=1.0, score=0.722222, total=   0.0s\n",
      "[CV] alpha=10.0 ......................................................\n",
      "[CV] ........................ alpha=0.1, score=0.851852, total=   0.0s\n",
      "[CV] ........................ alpha=0.1, score=0.722222, total=   0.0s\n",
      "[CV] ........................ alpha=1.0, score=0.830189, total=   0.0s\n",
      "[CV] ....................... alpha=10.0, score=0.769231, total=   0.0s\n",
      "[CV] ....................... alpha=10.0, score=0.759259, total=   0.0s\n",
      "[CV] ...................... alpha=100.0, score=0.641509, total=   0.0s\n",
      "[CV] alpha=1.0 .......................................................\n",
      "[CV] ....................... alpha=10.0, score=0.722222, total=   0.0s\n",
      "[CV] alpha=1.0 .......................................................\n",
      "[CV] alpha=1.0 .......................................................\n",
      "[CV] alpha=0.1 .......................................................\n",
      "[CV] alpha=0.1 .......................................................\n",
      "[CV] ...................... alpha=100.0, score=0.648148, total=   0.0s\n",
      "[CV] alpha=10.0 ......................................................\n",
      "[CV] alpha=10.0 ......................................................\n",
      "[CV] alpha=100.0 .....................................................\n",
      "[CV] ........................ alpha=1.0, score=0.851852, total=   0.0s\n",
      "[CV] ........................ alpha=0.1, score=0.792453, total=   0.0s\n",
      "[CV] alpha=100.0 .....................................................\n",
      "[CV] alpha=0.1 .......................................................\n",
      "[CV] ........................ alpha=1.0, score=0.811321, total=   0.0s\n",
      "[CV] ....................... alpha=10.0, score=0.692308, total=   0.0s\n",
      "[CV] alpha=10.0 ......................................................\n",
      "[CV] ........................ alpha=1.0, score=0.666667, total=   0.0s\n",
      "[CV] ....................... alpha=10.0, score=0.703704, total=   0.0s\n"
     ]
    },
    {
     "name": "stderr",
     "output_type": "stream",
     "text": [
      "[Parallel(n_jobs=10)]: Done  12 tasks      | elapsed:    0.2s\n"
     ]
    },
    {
     "name": "stdout",
     "output_type": "stream",
     "text": [
      "[CV] ...................... alpha=100.0, score=0.641509, total=   0.0s\n",
      "[CV] alpha=100.0 .....................................................\n",
      "[CV] alpha=1.0 .......................................................\n",
      "[CV] ...................... alpha=100.0, score=0.648148, total=   0.0s\n",
      "[CV] alpha=1.0 .......................................................\n",
      "[CV] alpha=100.0 .....................................................\n",
      "[CV] ........................ alpha=0.1, score=0.811321, total=   0.0s\n",
      "[CV] alpha=100.0 .....................................................\n",
      "[CV] alpha=1.0 .......................................................\n",
      "[CV] ...................... alpha=100.0, score=0.653846, total=   0.0s\n",
      "[CV] ...................... alpha=100.0, score=0.648148, total=   0.0s\n",
      "[CV] ........................ alpha=1.0, score=0.846154, total=   0.0s\n",
      "[CV] ....................... alpha=10.0, score=0.629630, total=   0.0s\n",
      "[CV] alpha=100.0 .....................................................\n",
      "[CV] alpha=1000.0 ....................................................\n",
      "[CV] alpha=10.0 ......................................................\n",
      "[CV] ........................ alpha=1.0, score=0.870370, total=   0.0s\n",
      "[CV] ........................ alpha=0.1, score=0.796296, total=   0.0s\n",
      "[CV] alpha=1.0 .......................................................\n",
      "[CV] alpha=10.0 ......................................................\n",
      "[CV] alpha=1000.0 ....................................................\n",
      "[CV] alpha=0.1 .......................................................\n",
      "[CV] ...................... alpha=100.0, score=0.648148, total=   0.0s\n",
      "[CV] alpha=100.0 .....................................................\n",
      "[CV] ........................ alpha=1.0, score=0.722222, total=   0.0s\n",
      "[CV] ....................... alpha=10.0, score=0.703704, total=   0.0s\n",
      "[CV] ........................ alpha=0.1, score=0.740741, total=   0.0s\n",
      "[CV] ..................... alpha=1000.0, score=0.648148, total=   0.0s\n",
      "[CV] ........................ alpha=1.0, score=0.769231, total=   0.0s\n",
      "[CV] alpha=1000.0 ....................................................\n",
      "[CV] alpha=100.0 .....................................................\n",
      "[CV] ....................... alpha=10.0, score=0.754717, total=   0.0s\n",
      "[CV] alpha=10.0 ......................................................\n",
      "[CV] ...................... alpha=100.0, score=0.648148, total=   0.0s\n",
      "[CV] alpha=1000.0 ....................................................\n",
      "[CV] ...................... alpha=100.0, score=0.653846, total=   0.0s\n",
      "[CV] ..................... alpha=1000.0, score=0.648148, total=   0.0s\n",
      "[CV] ..................... alpha=1000.0, score=0.653846, total=   0.0s\n",
      "[CV] alpha=1000.0 ....................................................\n",
      "[CV] ....................... alpha=10.0, score=0.735849, total=   0.0s\n",
      "[CV] alpha=1000.0 ....................................................\n",
      "[CV] ...................... alpha=100.0, score=0.648148, total=   0.0s\n",
      "[CV] ..................... alpha=1000.0, score=0.653846, total=   0.0s\n",
      "[CV] ..................... alpha=1000.0, score=0.648148, total=   0.0s\n",
      "[CV] alpha=1000.0 ....................................................\n",
      "[CV] ..................... alpha=1000.0, score=0.648148, total=   0.0s\n",
      "[CV] alpha=1000.0 ....................................................\n",
      "[CV] ..................... alpha=1000.0, score=0.641509, total=   0.0s\n",
      "[CV] alpha=1000.0 ....................................................\n",
      "[CV] ..................... alpha=1000.0, score=0.648148, total=   0.0s\n",
      "[CV] alpha=1000.0 ....................................................\n",
      "[CV] ..................... alpha=1000.0, score=0.641509, total=   0.0s\n",
      "[CV] ..................... alpha=1000.0, score=0.648148, total=   0.0s\n"
     ]
    },
    {
     "name": "stderr",
     "output_type": "stream",
     "text": [
      "[Parallel(n_jobs=10)]: Done  70 out of  70 | elapsed:    0.6s finished\n"
     ]
    },
    {
     "data": {
      "text/plain": [
       "GridSearchCV(cv=10, error_score='raise',\n",
       "       estimator=BernoulliNB(alpha=1.0, binarize=0.0, class_prior=None, fit_prior=True),\n",
       "       fit_params={}, iid=True, n_jobs=10,\n",
       "       param_grid={'alpha': array([  1.00000e-03,   1.00000e-02,   1.00000e-01,   1.00000e+00,\n",
       "         1.00000e+01,   1.00000e+02,   1.00000e+03])},\n",
       "       pre_dispatch='2*n_jobs', refit=True, return_train_score=True,\n",
       "       scoring=None, verbose=3)"
      ]
     },
     "execution_count": 14,
     "metadata": {},
     "output_type": "execute_result"
    }
   ],
   "source": [
    "from sklearn.naive_bayes import BernoulliNB\n",
    "\n",
    "nb_params = { 'alpha': np.logspace(-3, 3, 7) }\n",
    "\n",
    "grid_search = GridSearchCV(BernoulliNB(), nb_params, cv=10, verbose=3, n_jobs=10)\n",
    "grid_search.fit(data, target)"
   ]
  },
  {
   "cell_type": "code",
   "execution_count": 15,
   "metadata": {},
   "outputs": [
    {
     "name": "stdout",
     "output_type": "stream",
     "text": [
      "BernoulliNB(alpha=0.001, binarize=0.0, class_prior=None, fit_prior=True)\n",
      "0.792134831461\n",
      "{'alpha': 0.001}\n"
     ]
    }
   ],
   "source": [
    "print(grid_search.best_estimator_)\n",
    "print(grid_search.best_score_)\n",
    "print(grid_search.best_params_)"
   ]
  },
  {
   "cell_type": "code",
   "execution_count": 33,
   "metadata": {},
   "outputs": [
    {
     "name": "stdout",
     "output_type": "stream",
     "text": [
      "0.823478967689\n",
      "0.792357415471\n",
      "0.866974789916\n"
     ]
    }
   ],
   "source": [
    "model = BernoulliNB(alpha=0.001)\n",
    "\n",
    "precision = cross_val_score(model, data.toarray(), target, cv=10, scoring='precision').mean()\n",
    "acc = cross_val_score(model, data.toarray(), target, cv=10, scoring='accuracy').mean()\n",
    "recall = cross_val_score(model, data.toarray(), target, cv=10, scoring='recall').mean()\n",
    "print(precision)\n",
    "print(acc)\n",
    "print(recall)"
   ]
  },
  {
   "cell_type": "code",
   "execution_count": 24,
   "metadata": {},
   "outputs": [
    {
     "name": "stdout",
     "output_type": "stream",
     "text": [
      "0.722199214086\n",
      "0.643077729398\n",
      "0.725798319328\n"
     ]
    }
   ],
   "source": [
    "from sklearn.tree import DecisionTreeClassifier \n",
    "\n",
    "model = DecisionTreeClassifier()\n",
    "\n",
    "precision = cross_val_score(model, data, target, cv=10, scoring='precision').mean()\n",
    "acc = cross_val_score(model, data, target, cv=10, scoring='accuracy').mean()\n",
    "recall = cross_val_score(model, data, target, cv=10, scoring='recall').mean()\n",
    "print(precision)\n",
    "print(acc)\n",
    "print(recall)"
   ]
  },
  {
   "cell_type": "code",
   "execution_count": 35,
   "metadata": {},
   "outputs": [
    {
     "name": "stdout",
     "output_type": "stream",
     "text": [
      "0.746387998711\n",
      "0.717788797506\n",
      "0.803697478992\n"
     ]
    }
   ],
   "source": [
    "from sklearn.ensemble import RandomForestClassifier\n",
    "\n",
    "model = RandomForestClassifier()\n",
    "\n",
    "acc = cross_val_score(model, data, target, cv=10, scoring='accuracy').mean()\n",
    "recall = cross_val_score(model, data, target, cv=10, scoring='recall').mean()\n",
    "precision = cross_val_score(model, data, target, cv=10, scoring='precision').mean()\n",
    "\n",
    "print(precision)\n",
    "print(acc)\n",
    "print(recall)"
   ]
  },
  {
   "cell_type": "code",
   "execution_count": 34,
   "metadata": {},
   "outputs": [
    {
     "name": "stdout",
     "output_type": "stream",
     "text": [
      "0.781902872052\n",
      "0.707785034672\n",
      "0.81218487395\n"
     ]
    }
   ],
   "source": [
    "from sklearn.linear_model import SGDClassifier\n",
    "\n",
    "model = SGDClassifier()\n",
    "\n",
    "precision = cross_val_score(model, data, target, cv=10, scoring='precision').mean()\n",
    "acc = cross_val_score(model, data, target, cv=10, scoring='accuracy').mean()\n",
    "recall = cross_val_score(model, data, target, cv=10, scoring='recall').mean()\n",
    "print(precision)\n",
    "print(acc)\n",
    "print(recall)"
   ]
  },
  {
   "cell_type": "code",
   "execution_count": 26,
   "metadata": {},
   "outputs": [
    {
     "name": "stdout",
     "output_type": "stream",
     "text": [
      "0.731940547979\n",
      "0.722810836962\n",
      "0.907731092437\n"
     ]
    }
   ],
   "source": [
    "from sklearn.neighbors import KNeighborsClassifier\n",
    "\n",
    "model = KNeighborsClassifier()\n",
    "\n",
    "precision = cross_val_score(model, data, target, cv=10, scoring='precision').mean()\n",
    "acc = cross_val_score(model, data, target, cv=10, scoring='accuracy').mean()\n",
    "recall = cross_val_score(model, data, target, cv=10, scoring='recall').mean()\n",
    "print(precision)\n",
    "print(acc)\n",
    "print(recall)"
   ]
  },
  {
   "cell_type": "code",
   "execution_count": 27,
   "metadata": {},
   "outputs": [
    {
     "name": "stdout",
     "output_type": "stream",
     "text": [
      "0.706852811913\n",
      "0.603202440467\n",
      "0.68243697479\n"
     ]
    }
   ],
   "source": [
    "from sklearn.tree import ExtraTreeClassifier\n",
    "\n",
    "model = ExtraTreeClassifier()\n",
    "\n",
    "precision = cross_val_score(model, data, target, cv=10, scoring='precision').mean()\n",
    "acc = cross_val_score(model, data, target, cv=10, scoring='accuracy').mean()\n",
    "recall = cross_val_score(model, data, target, cv=10, scoring='recall').mean()\n",
    "print(precision)\n",
    "print(acc)\n",
    "print(recall)"
   ]
  },
  {
   "cell_type": "markdown",
   "metadata": {},
   "source": [
    "### confidence-weighted linear classifier (Dredze et al., 2008)"
   ]
  },
  {
   "cell_type": "code",
   "execution_count": 21,
   "metadata": {},
   "outputs": [
    {
     "name": "stdout",
     "output_type": "stream",
     "text": [
      "P: acc(0.779026217228), prec(0.804893499089), rec(0.896029170709)\n",
      "AP: acc(0.803370786517), prec(0.835126035397), rec(0.877061519419)\n",
      "PA: acc(0.823970037453), prec(0.802823715693), rec(0.982437359917)\n",
      "PA1: acc(0.823970037453), prec(0.802823715693), rec(0.982437359917)\n",
      "PA2: acc(0.807116104869), prec(0.784251189424), rec(0.982437359917)\n",
      "PAK: acc(0.833333333333), prec(0.82180398998), rec(0.988023952096)\n",
      "CW: acc(0.850187265918), prec(0.839162112933), rec(0.973455323989)\n",
      "AL: acc(0.807116104869), prec(0.822371719873), rec(0.896815307932)\n"
     ]
    }
   ],
   "source": [
    "from sklearn.model_selection import KFold\n",
    "from sklearn.metrics import accuracy_score, precision_score, recall_score\n",
    "import oll\n",
    "\n",
    "## manual 10-fold cross-validation\n",
    "kf = KFold(n_splits=2, random_state=None, shuffle=False)\n",
    "\n",
    "methods = [\"P\" ,\"AP\" ,\"PA\" ,\"PA1\",\"PA2\" ,\"PAK\",\"CW\" ,\"AL\"]\n",
    "\n",
    "for m in methods:\n",
    "    model = oll.oll(m, C=1)\n",
    "\n",
    "    accuracy = []\n",
    "    precision = []\n",
    "    recall = []\n",
    "    \n",
    "    for train_index, test_index in kf.split(data):\n",
    "\n",
    "        X_train, X_test = data[train_index], data[test_index]\n",
    "        y_train, y_test = target[train_index], target[test_index]\n",
    "        model.fit(X_train, y_train)\n",
    "        predicted = model.predict(X_test)\n",
    "\n",
    "        accuracy.append(accuracy_score(y_test, predicted))\n",
    "        precision.append(precision_score(y_test, predicted))\n",
    "        recall.append(recall_score(y_test, predicted))\n",
    "\n",
    "    print(m + ': acc(' + str(np.mean(accuracy)) \n",
    "          + '), prec(' + str(np.mean(precision))\n",
    "          + '), rec(' + str(np.mean(recall)) + ')'\n",
    "         )"
   ]
  },
  {
   "cell_type": "code",
   "execution_count": 22,
   "metadata": {
    "collapsed": true
   },
   "outputs": [],
   "source": [
    "import oll\n",
    "\n",
    "model = oll.oll(\"CW\", C=1)\n",
    "model.fit(data, target)\n",
    "predicted = model.predict(data)\n",
    "scores = model.scores(data)"
   ]
  }
 ],
 "metadata": {
  "kernelspec": {
   "display_name": "Python 3",
   "language": "python",
   "name": "python3"
  },
  "language_info": {
   "codemirror_mode": {
    "name": "ipython",
    "version": 3
   },
   "file_extension": ".py",
   "mimetype": "text/x-python",
   "name": "python",
   "nbconvert_exporter": "python",
   "pygments_lexer": "ipython3",
   "version": "3.6.1"
  }
 },
 "nbformat": 4,
 "nbformat_minor": 1
}
