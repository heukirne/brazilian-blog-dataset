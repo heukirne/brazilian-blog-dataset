{
 "cells": [
  {
   "cell_type": "code",
   "execution_count": 1,
   "metadata": {},
   "outputs": [
    {
     "data": {
      "text/plain": [
       "(534, 68)"
      ]
     },
     "execution_count": 1,
     "metadata": {},
     "output_type": "execute_result"
    }
   ],
   "source": [
    "import pandas as pd\n",
    "import numpy as np\n",
    "from scipy.stats import wilcoxon\n",
    "\n",
    "# load corpus\n",
    "corpus = pd.read_csv('corpus.csv.gz', compression='gzip')\n",
    "corpus = corpus[corpus['qual_a_melhor_classificao_para_esse_texto:confidence'] == 1]\n",
    "corpus = corpus.reset_index()\n",
    "\n",
    "corpus_feat = pd.read_csv('corpus_liwc_mtx.csv.gz', compression='gzip')\n",
    "corpus_feat.shape"
   ]
  },
  {
   "cell_type": "code",
   "execution_count": 2,
   "metadata": {
    "collapsed": true
   },
   "outputs": [],
   "source": [
    "import re\n",
    "\n",
    "def wc(x): \n",
    "    try:\n",
    "        return len(re.findall(r'\\w+', x['content']))\n",
    "    except:\n",
    "        return 0\n",
    "    \n",
    "corpus['wc'] = corpus.apply(wc,axis=1)\n",
    "corpus_feat['wc'] = corpus['wc']"
   ]
  },
  {
   "cell_type": "code",
   "execution_count": 3,
   "metadata": {
    "collapsed": true
   },
   "outputs": [],
   "source": [
    "corpus_feat.drop('Unnamed: 0', axis=1,inplace=True)\n",
    "corpus_feat.drop('confidence', axis=1,inplace=True)"
   ]
  },
  {
   "cell_type": "code",
   "execution_count": 4,
   "metadata": {
    "collapsed": true
   },
   "outputs": [],
   "source": [
    "wc_vector = corpus_feat['wc']\n",
    "class_vector = corpus_feat['class']\n",
    "\n",
    "corpus_feat.drop('class',axis=1,inplace=True)\n",
    "corpus_feat.drop('wc',axis=1,inplace=True)"
   ]
  },
  {
   "cell_type": "code",
   "execution_count": 5,
   "metadata": {},
   "outputs": [
    {
     "name": "stderr",
     "output_type": "stream",
     "text": [
      "/usr/local/lib/python3.6/site-packages/ipykernel_launcher.py:1: RuntimeWarning: invalid value encountered in true_divide\n",
      "  \"\"\"Entry point for launching an IPython kernel.\n"
     ]
    },
    {
     "data": {
      "text/plain": [
       "(534, 64)"
      ]
     },
     "execution_count": 5,
     "metadata": {},
     "output_type": "execute_result"
    }
   ],
   "source": [
    "data = corpus_feat.as_matrix().astype(float) / wc_vector.as_matrix().astype(float)[:, np.newaxis]\n",
    "data[np.isnan(data)] = 0\n",
    "data[data >= 1E308] = 0\n",
    "data.shape"
   ]
  },
  {
   "cell_type": "code",
   "execution_count": 6,
   "metadata": {
    "collapsed": true
   },
   "outputs": [],
   "source": [
    "columns = ['funct','pronoun','ppron','i','we','you','shehe','they','ipron','article','verb','auxverb','past','present','future','adverb','preps','conj','negate','quant','number','swear','social','family','friend','humans','affect','posemo','negemo','anx','anger','sad','cogmech','insight','cause','discrep','tentat','certain','inhib','incl','excl','percept','see','hear','feel','bio','body','health','sexual','ingest','relativ','motion','space','time','work','achieve','leisure','home','money','relig','death','assent','nonfl','filler']\n",
    "prop_liwc = pd.DataFrame(data, columns=columns)\n",
    "prop_liwc['class'] = class_vector"
   ]
  },
  {
   "cell_type": "code",
   "execution_count": 7,
   "metadata": {
    "collapsed": true
   },
   "outputs": [],
   "source": [
    "outro = prop_liwc[prop_liwc['class'] == 'outro']\n",
    "diario = prop_liwc[prop_liwc['class'] == 'diario']"
   ]
  },
  {
   "cell_type": "code",
   "execution_count": 8,
   "metadata": {
    "collapsed": true
   },
   "outputs": [],
   "source": [
    "def diff(x): \n",
    "    return (x['diario_mean']) - (x['outro_mean'])\n",
    "    #return 100 * ((x['diario_mean']/diario.wc.mean()) - (x['outro_mean']/outro.wc.mean()))\n",
    "    \n",
    "stats = pd.DataFrame(data={'diario_mean': diario.mean(axis=0)}, index=columns)\n",
    "stats['diario_std'] = diario.std(axis=0)\n",
    "stats['outro_mean'] = outro.mean(axis=0)\n",
    "stats['outro_std'] = outro.std(axis=0)\n",
    "stats['diff'] = stats.apply(diff,axis=1)\n",
    "stats = stats * 100"
   ]
  },
  {
   "cell_type": "code",
   "execution_count": 9,
   "metadata": {
    "collapsed": true
   },
   "outputs": [],
   "source": [
    "outro = prop_liwc[prop_liwc['class'] == 'outro']\n",
    "diario = prop_liwc[prop_liwc['class'] == 'diario'].sample(len(outro))\n",
    "\n",
    "significance = []\n",
    "for column in list(stats.index.values):\n",
    "    a = diario[column]\n",
    "    b = outro[column]\n",
    "    t, p = wilcoxon(a, b)\n",
    "    significance.append(p)\n",
    "stats['significance'] = significance"
   ]
  },
  {
   "cell_type": "markdown",
   "metadata": {},
   "source": [
    "### Wilcoxon Rejected Linguistic Categories"
   ]
  },
  {
   "cell_type": "code",
   "execution_count": 10,
   "metadata": {},
   "outputs": [
    {
     "data": {
      "text/html": [
       "<div>\n",
       "<table border=\"1\" class=\"dataframe\">\n",
       "  <thead>\n",
       "    <tr style=\"text-align: right;\">\n",
       "      <th></th>\n",
       "      <th>diario_mean</th>\n",
       "      <th>diario_std</th>\n",
       "      <th>outro_mean</th>\n",
       "      <th>outro_std</th>\n",
       "      <th>diff</th>\n",
       "      <th>significance</th>\n",
       "    </tr>\n",
       "  </thead>\n",
       "  <tbody>\n",
       "    <tr>\n",
       "      <th>funct</th>\n",
       "      <td>48.074812</td>\n",
       "      <td>6.240477</td>\n",
       "      <td>44.914592</td>\n",
       "      <td>6.389209</td>\n",
       "      <td>3.160221</td>\n",
       "      <td>1.280426e-06</td>\n",
       "    </tr>\n",
       "    <tr>\n",
       "      <th>verb</th>\n",
       "      <td>14.640012</td>\n",
       "      <td>3.383896</td>\n",
       "      <td>13.058287</td>\n",
       "      <td>3.319171</td>\n",
       "      <td>1.581725</td>\n",
       "      <td>1.797862e-05</td>\n",
       "    </tr>\n",
       "    <tr>\n",
       "      <th>i</th>\n",
       "      <td>3.443419</td>\n",
       "      <td>2.105991</td>\n",
       "      <td>1.939779</td>\n",
       "      <td>1.614582</td>\n",
       "      <td>1.503640</td>\n",
       "      <td>1.288248e-13</td>\n",
       "    </tr>\n",
       "    <tr>\n",
       "      <th>pronoun</th>\n",
       "      <td>18.011798</td>\n",
       "      <td>4.372227</td>\n",
       "      <td>16.738534</td>\n",
       "      <td>4.048724</td>\n",
       "      <td>1.273263</td>\n",
       "      <td>9.235415e-04</td>\n",
       "    </tr>\n",
       "    <tr>\n",
       "      <th>past</th>\n",
       "      <td>4.339875</td>\n",
       "      <td>2.268508</td>\n",
       "      <td>3.251727</td>\n",
       "      <td>1.721237</td>\n",
       "      <td>1.088148</td>\n",
       "      <td>2.202102e-07</td>\n",
       "    </tr>\n",
       "    <tr>\n",
       "      <th>quant</th>\n",
       "      <td>5.374879</td>\n",
       "      <td>1.811825</td>\n",
       "      <td>4.521710</td>\n",
       "      <td>1.636805</td>\n",
       "      <td>0.853169</td>\n",
       "      <td>8.834720e-06</td>\n",
       "    </tr>\n",
       "    <tr>\n",
       "      <th>adverb</th>\n",
       "      <td>3.801350</td>\n",
       "      <td>1.571370</td>\n",
       "      <td>2.972749</td>\n",
       "      <td>1.349097</td>\n",
       "      <td>0.828601</td>\n",
       "      <td>1.574009e-05</td>\n",
       "    </tr>\n",
       "    <tr>\n",
       "      <th>conj</th>\n",
       "      <td>9.588038</td>\n",
       "      <td>2.314788</td>\n",
       "      <td>8.958689</td>\n",
       "      <td>2.294111</td>\n",
       "      <td>0.629350</td>\n",
       "      <td>6.504289e-03</td>\n",
       "    </tr>\n",
       "    <tr>\n",
       "      <th>negate</th>\n",
       "      <td>1.697326</td>\n",
       "      <td>1.182546</td>\n",
       "      <td>1.352419</td>\n",
       "      <td>0.931901</td>\n",
       "      <td>0.344907</td>\n",
       "      <td>1.190520e-03</td>\n",
       "    </tr>\n",
       "    <tr>\n",
       "      <th>present</th>\n",
       "      <td>7.815691</td>\n",
       "      <td>2.640534</td>\n",
       "      <td>7.912399</td>\n",
       "      <td>2.738010</td>\n",
       "      <td>-0.096709</td>\n",
       "      <td>4.654905e-02</td>\n",
       "    </tr>\n",
       "    <tr>\n",
       "      <th>they</th>\n",
       "      <td>1.613463</td>\n",
       "      <td>1.174379</td>\n",
       "      <td>2.020093</td>\n",
       "      <td>1.167320</td>\n",
       "      <td>-0.406630</td>\n",
       "      <td>1.820203e-03</td>\n",
       "    </tr>\n",
       "    <tr>\n",
       "      <th>article</th>\n",
       "      <td>7.246217</td>\n",
       "      <td>2.025399</td>\n",
       "      <td>7.858596</td>\n",
       "      <td>2.066490</td>\n",
       "      <td>-0.612378</td>\n",
       "      <td>3.751991e-02</td>\n",
       "    </tr>\n",
       "    <tr>\n",
       "      <th>shehe</th>\n",
       "      <td>5.729460</td>\n",
       "      <td>2.008560</td>\n",
       "      <td>6.969947</td>\n",
       "      <td>2.039647</td>\n",
       "      <td>-1.240487</td>\n",
       "      <td>1.154592e-07</td>\n",
       "    </tr>\n",
       "    <tr>\n",
       "      <th>preps</th>\n",
       "      <td>13.385029</td>\n",
       "      <td>3.045543</td>\n",
       "      <td>14.666125</td>\n",
       "      <td>3.216046</td>\n",
       "      <td>-1.281096</td>\n",
       "      <td>3.517698e-04</td>\n",
       "    </tr>\n",
       "    <tr>\n",
       "      <th>you</th>\n",
       "      <td>6.368339</td>\n",
       "      <td>2.258465</td>\n",
       "      <td>7.655838</td>\n",
       "      <td>2.295980</td>\n",
       "      <td>-1.287499</td>\n",
       "      <td>2.112228e-06</td>\n",
       "    </tr>\n",
       "  </tbody>\n",
       "</table>\n",
       "</div>"
      ],
      "text/plain": [
       "         diario_mean  diario_std  outro_mean  outro_std      diff  \\\n",
       "funct      48.074812    6.240477   44.914592   6.389209  3.160221   \n",
       "verb       14.640012    3.383896   13.058287   3.319171  1.581725   \n",
       "i           3.443419    2.105991    1.939779   1.614582  1.503640   \n",
       "pronoun    18.011798    4.372227   16.738534   4.048724  1.273263   \n",
       "past        4.339875    2.268508    3.251727   1.721237  1.088148   \n",
       "quant       5.374879    1.811825    4.521710   1.636805  0.853169   \n",
       "adverb      3.801350    1.571370    2.972749   1.349097  0.828601   \n",
       "conj        9.588038    2.314788    8.958689   2.294111  0.629350   \n",
       "negate      1.697326    1.182546    1.352419   0.931901  0.344907   \n",
       "present     7.815691    2.640534    7.912399   2.738010 -0.096709   \n",
       "they        1.613463    1.174379    2.020093   1.167320 -0.406630   \n",
       "article     7.246217    2.025399    7.858596   2.066490 -0.612378   \n",
       "shehe       5.729460    2.008560    6.969947   2.039647 -1.240487   \n",
       "preps      13.385029    3.045543   14.666125   3.216046 -1.281096   \n",
       "you         6.368339    2.258465    7.655838   2.295980 -1.287499   \n",
       "\n",
       "         significance  \n",
       "funct    1.280426e-06  \n",
       "verb     1.797862e-05  \n",
       "i        1.288248e-13  \n",
       "pronoun  9.235415e-04  \n",
       "past     2.202102e-07  \n",
       "quant    8.834720e-06  \n",
       "adverb   1.574009e-05  \n",
       "conj     6.504289e-03  \n",
       "negate   1.190520e-03  \n",
       "present  4.654905e-02  \n",
       "they     1.820203e-03  \n",
       "article  3.751991e-02  \n",
       "shehe    1.154592e-07  \n",
       "preps    3.517698e-04  \n",
       "you      2.112228e-06  "
      ]
     },
     "execution_count": 10,
     "metadata": {},
     "output_type": "execute_result"
    }
   ],
   "source": [
    "linguistic_columns = ['funct','pronoun','ppron','i','we','you','shehe','they','ipron','article','verb','auxverb','past','present','future','adverb','preps','conj','negate','quant','number']\n",
    "linguistic_stats = stats.ix[linguistic_columns]\n",
    "linguistic_stats.sort_values('diff',ascending=False)\n",
    "linguistic_stats[linguistic_stats.significance <= 0.05].sort_values('diff',ascending=False)"
   ]
  },
  {
   "cell_type": "markdown",
   "metadata": {},
   "source": [
    "### Wilcoxon Rejected Linguistic Categories"
   ]
  },
  {
   "cell_type": "code",
   "execution_count": 11,
   "metadata": {},
   "outputs": [
    {
     "data": {
      "text/html": [
       "<div>\n",
       "<table border=\"1\" class=\"dataframe\">\n",
       "  <thead>\n",
       "    <tr style=\"text-align: right;\">\n",
       "      <th></th>\n",
       "      <th>diario_mean</th>\n",
       "      <th>diario_std</th>\n",
       "      <th>outro_mean</th>\n",
       "      <th>outro_std</th>\n",
       "      <th>diff</th>\n",
       "      <th>significance</th>\n",
       "    </tr>\n",
       "  </thead>\n",
       "  <tbody>\n",
       "    <tr>\n",
       "      <th>ppron</th>\n",
       "      <td>11.286512</td>\n",
       "      <td>3.014084</td>\n",
       "      <td>11.265673</td>\n",
       "      <td>3.006212</td>\n",
       "      <td>0.020839</td>\n",
       "      <td>0.584986</td>\n",
       "    </tr>\n",
       "    <tr>\n",
       "      <th>future</th>\n",
       "      <td>0.594461</td>\n",
       "      <td>0.529025</td>\n",
       "      <td>0.549943</td>\n",
       "      <td>0.557398</td>\n",
       "      <td>0.044517</td>\n",
       "      <td>0.176078</td>\n",
       "    </tr>\n",
       "    <tr>\n",
       "      <th>ipron</th>\n",
       "      <td>11.785252</td>\n",
       "      <td>3.022925</td>\n",
       "      <td>11.517185</td>\n",
       "      <td>2.908371</td>\n",
       "      <td>0.268067</td>\n",
       "      <td>0.166759</td>\n",
       "    </tr>\n",
       "    <tr>\n",
       "      <th>number</th>\n",
       "      <td>1.495991</td>\n",
       "      <td>0.971771</td>\n",
       "      <td>1.311089</td>\n",
       "      <td>0.785835</td>\n",
       "      <td>0.184902</td>\n",
       "      <td>0.101707</td>\n",
       "    </tr>\n",
       "    <tr>\n",
       "      <th>auxverb</th>\n",
       "      <td>5.849782</td>\n",
       "      <td>2.112848</td>\n",
       "      <td>5.321220</td>\n",
       "      <td>2.042196</td>\n",
       "      <td>0.528562</td>\n",
       "      <td>0.090922</td>\n",
       "    </tr>\n",
       "    <tr>\n",
       "      <th>we</th>\n",
       "      <td>0.426263</td>\n",
       "      <td>0.555506</td>\n",
       "      <td>0.553866</td>\n",
       "      <td>0.739920</td>\n",
       "      <td>-0.127603</td>\n",
       "      <td>0.051890</td>\n",
       "    </tr>\n",
       "  </tbody>\n",
       "</table>\n",
       "</div>"
      ],
      "text/plain": [
       "         diario_mean  diario_std  outro_mean  outro_std      diff  \\\n",
       "ppron      11.286512    3.014084   11.265673   3.006212  0.020839   \n",
       "future      0.594461    0.529025    0.549943   0.557398  0.044517   \n",
       "ipron      11.785252    3.022925   11.517185   2.908371  0.268067   \n",
       "number      1.495991    0.971771    1.311089   0.785835  0.184902   \n",
       "auxverb     5.849782    2.112848    5.321220   2.042196  0.528562   \n",
       "we          0.426263    0.555506    0.553866   0.739920 -0.127603   \n",
       "\n",
       "         significance  \n",
       "ppron        0.584986  \n",
       "future       0.176078  \n",
       "ipron        0.166759  \n",
       "number       0.101707  \n",
       "auxverb      0.090922  \n",
       "we           0.051890  "
      ]
     },
     "execution_count": 11,
     "metadata": {},
     "output_type": "execute_result"
    }
   ],
   "source": [
    "linguistic_stats[linguistic_stats.significance > 0.05].sort_values('significance',ascending=False)"
   ]
  },
  {
   "cell_type": "markdown",
   "metadata": {},
   "source": [
    "### Wilcoxon Rejected Psychological Categories"
   ]
  },
  {
   "cell_type": "code",
   "execution_count": 16,
   "metadata": {},
   "outputs": [
    {
     "data": {
      "text/html": [
       "<div>\n",
       "<table border=\"1\" class=\"dataframe\">\n",
       "  <thead>\n",
       "    <tr style=\"text-align: right;\">\n",
       "      <th></th>\n",
       "      <th>diario_mean</th>\n",
       "      <th>diario_std</th>\n",
       "      <th>outro_mean</th>\n",
       "      <th>outro_std</th>\n",
       "      <th>diff</th>\n",
       "      <th>significance</th>\n",
       "    </tr>\n",
       "  </thead>\n",
       "  <tbody>\n",
       "    <tr>\n",
       "      <th>home</th>\n",
       "      <td>0.590785</td>\n",
       "      <td>0.740793</td>\n",
       "      <td>0.431651</td>\n",
       "      <td>0.592966</td>\n",
       "      <td>0.159134</td>\n",
       "      <td>0.000689</td>\n",
       "    </tr>\n",
       "    <tr>\n",
       "      <th>anx</th>\n",
       "      <td>0.478541</td>\n",
       "      <td>0.568647</td>\n",
       "      <td>0.375735</td>\n",
       "      <td>0.418989</td>\n",
       "      <td>0.102806</td>\n",
       "      <td>0.034675</td>\n",
       "    </tr>\n",
       "    <tr>\n",
       "      <th>filler</th>\n",
       "      <td>0.155947</td>\n",
       "      <td>0.344473</td>\n",
       "      <td>0.083384</td>\n",
       "      <td>0.270106</td>\n",
       "      <td>0.072563</td>\n",
       "      <td>0.001704</td>\n",
       "    </tr>\n",
       "    <tr>\n",
       "      <th>anger</th>\n",
       "      <td>0.727392</td>\n",
       "      <td>0.687519</td>\n",
       "      <td>0.926319</td>\n",
       "      <td>0.913580</td>\n",
       "      <td>-0.198927</td>\n",
       "      <td>0.033156</td>\n",
       "    </tr>\n",
       "    <tr>\n",
       "      <th>nonfl</th>\n",
       "      <td>2.267855</td>\n",
       "      <td>1.115228</td>\n",
       "      <td>2.670826</td>\n",
       "      <td>1.146495</td>\n",
       "      <td>-0.402970</td>\n",
       "      <td>0.007251</td>\n",
       "    </tr>\n",
       "    <tr>\n",
       "      <th>work</th>\n",
       "      <td>2.302282</td>\n",
       "      <td>1.718505</td>\n",
       "      <td>2.747805</td>\n",
       "      <td>1.991083</td>\n",
       "      <td>-0.445523</td>\n",
       "      <td>0.006322</td>\n",
       "    </tr>\n",
       "  </tbody>\n",
       "</table>\n",
       "</div>"
      ],
      "text/plain": [
       "        diario_mean  diario_std  outro_mean  outro_std      diff  significance\n",
       "home       0.590785    0.740793    0.431651   0.592966  0.159134      0.000689\n",
       "anx        0.478541    0.568647    0.375735   0.418989  0.102806      0.034675\n",
       "filler     0.155947    0.344473    0.083384   0.270106  0.072563      0.001704\n",
       "anger      0.727392    0.687519    0.926319   0.913580 -0.198927      0.033156\n",
       "nonfl      2.267855    1.115228    2.670826   1.146495 -0.402970      0.007251\n",
       "work       2.302282    1.718505    2.747805   1.991083 -0.445523      0.006322"
      ]
     },
     "execution_count": 16,
     "metadata": {},
     "output_type": "execute_result"
    }
   ],
   "source": [
    "psychological_columns = ['swear','social','family','friend','humans','affect','posemo','negemo','anx','anger','sad','cogmech','insight','cause','discrep','tentat','certain','inhib','incl','excl','percept','see','hear','feel','bio','body','health','sexual','ingest','relativ','motion','space','time','work','achieve','leisure','home','money','relig','death','assent','nonfl','filler']\n",
    "psychoProc_stats = stats.ix[psychological_columns]\n",
    "psychoProc_stats[psychoProc_stats.significance <= 0.05].sort_values('diff',ascending=False).tail(6)"
   ]
  },
  {
   "cell_type": "markdown",
   "metadata": {},
   "source": [
    "### Wilcoxon Not Rejected Psychological Categories"
   ]
  },
  {
   "cell_type": "code",
   "execution_count": 13,
   "metadata": {},
   "outputs": [
    {
     "data": {
      "text/html": [
       "<div>\n",
       "<table border=\"1\" class=\"dataframe\">\n",
       "  <thead>\n",
       "    <tr style=\"text-align: right;\">\n",
       "      <th></th>\n",
       "      <th>diario_mean</th>\n",
       "      <th>diario_std</th>\n",
       "      <th>outro_mean</th>\n",
       "      <th>outro_std</th>\n",
       "      <th>diff</th>\n",
       "      <th>significance</th>\n",
       "    </tr>\n",
       "  </thead>\n",
       "  <tbody>\n",
       "    <tr>\n",
       "      <th>negemo</th>\n",
       "      <td>2.493855</td>\n",
       "      <td>1.572730</td>\n",
       "      <td>2.424255</td>\n",
       "      <td>1.580562</td>\n",
       "      <td>0.069600</td>\n",
       "      <td>0.994617</td>\n",
       "    </tr>\n",
       "    <tr>\n",
       "      <th>incl</th>\n",
       "      <td>13.843956</td>\n",
       "      <td>2.971938</td>\n",
       "      <td>13.900658</td>\n",
       "      <td>2.923731</td>\n",
       "      <td>-0.056702</td>\n",
       "      <td>0.818957</td>\n",
       "    </tr>\n",
       "    <tr>\n",
       "      <th>family</th>\n",
       "      <td>0.426120</td>\n",
       "      <td>0.766946</td>\n",
       "      <td>0.401683</td>\n",
       "      <td>0.805169</td>\n",
       "      <td>0.024437</td>\n",
       "      <td>0.751502</td>\n",
       "    </tr>\n",
       "    <tr>\n",
       "      <th>health</th>\n",
       "      <td>1.047675</td>\n",
       "      <td>0.991947</td>\n",
       "      <td>0.968300</td>\n",
       "      <td>0.923305</td>\n",
       "      <td>0.079375</td>\n",
       "      <td>0.713529</td>\n",
       "    </tr>\n",
       "    <tr>\n",
       "      <th>hear</th>\n",
       "      <td>1.342451</td>\n",
       "      <td>1.059902</td>\n",
       "      <td>1.368052</td>\n",
       "      <td>1.056469</td>\n",
       "      <td>-0.025601</td>\n",
       "      <td>0.709812</td>\n",
       "    </tr>\n",
       "    <tr>\n",
       "      <th>social</th>\n",
       "      <td>18.581261</td>\n",
       "      <td>4.463031</td>\n",
       "      <td>18.555436</td>\n",
       "      <td>4.583370</td>\n",
       "      <td>0.025824</td>\n",
       "      <td>0.623259</td>\n",
       "    </tr>\n",
       "  </tbody>\n",
       "</table>\n",
       "</div>"
      ],
      "text/plain": [
       "        diario_mean  diario_std  outro_mean  outro_std      diff  significance\n",
       "negemo     2.493855    1.572730    2.424255   1.580562  0.069600      0.994617\n",
       "incl      13.843956    2.971938   13.900658   2.923731 -0.056702      0.818957\n",
       "family     0.426120    0.766946    0.401683   0.805169  0.024437      0.751502\n",
       "health     1.047675    0.991947    0.968300   0.923305  0.079375      0.713529\n",
       "hear       1.342451    1.059902    1.368052   1.056469 -0.025601      0.709812\n",
       "social    18.581261    4.463031   18.555436   4.583370  0.025824      0.623259"
      ]
     },
     "execution_count": 13,
     "metadata": {},
     "output_type": "execute_result"
    }
   ],
   "source": [
    "psychoProc_stats[psychoProc_stats.significance > 0.05].sort_values('significance',ascending=False).head(6)"
   ]
  },
  {
   "cell_type": "code",
   "execution_count": null,
   "metadata": {
    "collapsed": true
   },
   "outputs": [],
   "source": []
  }
 ],
 "metadata": {
  "kernelspec": {
   "display_name": "Python 3",
   "language": "python",
   "name": "python3"
  },
  "language_info": {
   "codemirror_mode": {
    "name": "ipython",
    "version": 3
   },
   "file_extension": ".py",
   "mimetype": "text/x-python",
   "name": "python",
   "nbconvert_exporter": "python",
   "pygments_lexer": "ipython3",
   "version": "3.6.1"
  }
 },
 "nbformat": 4,
 "nbformat_minor": 2
}
