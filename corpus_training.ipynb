{
 "cells": [
  {
   "cell_type": "code",
   "execution_count": 1,
   "metadata": {
    "collapsed": false,
    "deletable": true,
    "editable": true
   },
   "outputs": [],
   "source": [
    "import pandas as pd\n",
    "from sklearn import preprocessing\n",
    "from sklearn.svm import SVC, LinearSVC\n",
    "from sklearn.model_selection import GridSearchCV, cross_val_score\n",
    "\n",
    "# load corpus\n",
    "corpus_feat = pd.read_csv('corpus_liwc_mtx.csv.gz', compression='gzip')\n",
    "\n",
    "# fix labels to binary\n",
    "lb = preprocessing.LabelBinarizer(neg_label=1, pos_label=2)\n",
    "target = lb.fit_transform(corpus_feat['class'].values)\n",
    "c, r = target.shape\n",
    "target = target.reshape(c,)\n",
    "\n",
    "# generate features matrix\n",
    "corpus_feat.drop(corpus_feat.columns[0], axis=1,inplace=True)\n",
    "corpus_feat.drop(corpus_feat.columns[0], axis=1,inplace=True)\n",
    "data = corpus_feat.drop('class', 1).values"
   ]
  },
  {
   "cell_type": "markdown",
   "metadata": {},
   "source": [
    "## Evaluating SVM"
   ]
  },
  {
   "cell_type": "code",
   "execution_count": 2,
   "metadata": {
    "collapsed": false,
    "deletable": true,
    "editable": true
   },
   "outputs": [
    {
     "name": "stderr",
     "output_type": "stream",
     "text": [
      "/usr/local/lib/python2.7/site-packages/sklearn/metrics/classification.py:1113: UndefinedMetricWarning: F-score is ill-defined and being set to 0.0 due to no predicted samples.\n",
      "  'precision', 'predicted', average, warn_for)\n"
     ]
    },
    {
     "name": "stdout",
     "output_type": "stream",
     "text": [
      "0.566686727055\n",
      "0.589081062194\n",
      "0.581343283582\n"
     ]
    }
   ],
   "source": [
    "model = LinearSVC()\n",
    "\n",
    "f1 = cross_val_score(model, data, target, cv=10, scoring='f1').mean()\n",
    "acc = cross_val_score(model, data, target, cv=10, scoring='accuracy').mean()\n",
    "recall = cross_val_score(model, data, target, cv=10, scoring='recall').mean()\n",
    "print(f1)\n",
    "print(acc)\n",
    "print(recall)"
   ]
  },
  {
   "cell_type": "markdown",
   "metadata": {},
   "source": [
    "## Evaluating Naive Bayses"
   ]
  },
  {
   "cell_type": "code",
   "execution_count": 3,
   "metadata": {
    "collapsed": false
   },
   "outputs": [
    {
     "name": "stdout",
     "output_type": "stream",
     "text": [
      "0.722082210923\n",
      "0.623881900769\n",
      "0.775087796313\n"
     ]
    }
   ],
   "source": [
    "from sklearn.naive_bayes import GaussianNB\n",
    "\n",
    "model = GaussianNB()\n",
    "\n",
    "f1 = cross_val_score(model, data, target, cv=10, scoring='f1').mean()\n",
    "acc = cross_val_score(model, data, target, cv=10, scoring='accuracy').mean()\n",
    "recall = cross_val_score(model, data, target, cv=10, scoring='recall').mean()\n",
    "print(f1)\n",
    "print(acc)\n",
    "print(recall)"
   ]
  },
  {
   "cell_type": "code",
   "execution_count": 4,
   "metadata": {
    "collapsed": false
   },
   "outputs": [
    {
     "name": "stdout",
     "output_type": "stream",
     "text": [
      "0.716315827689\n",
      "0.649336128581\n",
      "0.700856014047\n"
     ]
    }
   ],
   "source": [
    "from sklearn.naive_bayes import MultinomialNB\n",
    "\n",
    "model = MultinomialNB()\n",
    "\n",
    "f1 = cross_val_score(model, data, target, cv=10, scoring='f1').mean()\n",
    "acc = cross_val_score(model, data, target, cv=10, scoring='accuracy').mean()\n",
    "recall = cross_val_score(model, data, target, cv=10, scoring='recall').mean()\n",
    "print(f1)\n",
    "print(acc)\n",
    "print(recall)"
   ]
  }
 ],
 "metadata": {
  "kernelspec": {
   "display_name": "Python 2",
   "language": "python",
   "name": "python2"
  },
  "language_info": {
   "codemirror_mode": {
    "name": "ipython",
    "version": 2
   },
   "file_extension": ".py",
   "mimetype": "text/x-python",
   "name": "python",
   "nbconvert_exporter": "python",
   "pygments_lexer": "ipython2",
   "version": "2.7.11"
  }
 },
 "nbformat": 4,
 "nbformat_minor": 2
}
