{
 "cells": [
  {
   "cell_type": "code",
   "execution_count": 58,
   "metadata": {
    "collapsed": false,
    "deletable": true,
    "editable": true
   },
   "outputs": [
    {
     "data": {
      "text/plain": [
       "(37746, 20)"
      ]
     },
     "execution_count": 58,
     "metadata": {},
     "output_type": "execute_result"
    }
   ],
   "source": [
    "import pandas as pd\n",
    "import numpy as np\n",
    "from sklearn import preprocessing\n",
    "from sklearn.externals import joblib\n",
    "from sklearn.feature_extraction.text import TfidfVectorizer\n",
    "from nltk.corpus import stopwords\n",
    "from sklearn.naive_bayes import MultinomialNB\n",
    "\n",
    "corpus = pd.read_csv('corpus.csv.gz', compression='gzip')\n",
    "posts = pd.read_csv('posts_count_me_pol.csv.gz', compression='gzip', error_bad_lines=False)\n",
    "stopwords = stopwords.words(\"portuguese\")\n",
    "feature_names = pd.read_csv('feature_names.csv')\n",
    "\n",
    "posts = posts[posts['me'] > 2]\n",
    "posts = posts[posts['polarity'] > 2]\n",
    "posts = posts.reset_index()\n",
    "posts.shape"
   ]
  },
  {
   "cell_type": "code",
   "execution_count": 59,
   "metadata": {
    "collapsed": false,
    "deletable": true,
    "editable": true
   },
   "outputs": [
    {
     "data": {
      "text/plain": [
       "(496, 28)"
      ]
     },
     "execution_count": 59,
     "metadata": {},
     "output_type": "execute_result"
    }
   ],
   "source": [
    "corpus = pd.read_csv('corpus.csv.gz', compression='gzip')\n",
    "#corpus = corpus[corpus['_golden'] == False]\n",
    "corpus = corpus[corpus['qual_a_melhor_classificao_para_esse_texto:confidence'] == 1]\n",
    "corpus = corpus[corpus['_trusted_judgments'] == 3]\n",
    "corpus = corpus.reset_index()\n",
    "corpus.shape"
   ]
  },
  {
   "cell_type": "code",
   "execution_count": 60,
   "metadata": {
    "collapsed": false,
    "deletable": true,
    "editable": true
   },
   "outputs": [],
   "source": [
    "# fix labels to binary\n",
    "lb = preprocessing.LabelBinarizer(neg_label=1, pos_label=2)\n",
    "target = lb.fit_transform(corpus['qual_a_melhor_classificao_para_esse_texto'].values)\n",
    "c, r = target.shape\n",
    "target = target.reshape(c,)\n",
    "corpus['class'] = target"
   ]
  },
  {
   "cell_type": "code",
   "execution_count": 61,
   "metadata": {
    "collapsed": false,
    "deletable": true,
    "editable": true
   },
   "outputs": [
    {
     "data": {
      "text/html": [
       "<div>\n",
       "<table border=\"1\" class=\"dataframe\">\n",
       "  <thead>\n",
       "    <tr style=\"text-align: right;\">\n",
       "      <th></th>\n",
       "      <th>qual_a_melhor_classificao_para_esse_texto</th>\n",
       "      <th>class</th>\n",
       "    </tr>\n",
       "  </thead>\n",
       "  <tbody>\n",
       "    <tr>\n",
       "      <th>176</th>\n",
       "      <td>outro</td>\n",
       "      <td>2</td>\n",
       "    </tr>\n",
       "    <tr>\n",
       "      <th>470</th>\n",
       "      <td>diario</td>\n",
       "      <td>1</td>\n",
       "    </tr>\n",
       "    <tr>\n",
       "      <th>83</th>\n",
       "      <td>outro</td>\n",
       "      <td>2</td>\n",
       "    </tr>\n",
       "    <tr>\n",
       "      <th>217</th>\n",
       "      <td>outro</td>\n",
       "      <td>2</td>\n",
       "    </tr>\n",
       "    <tr>\n",
       "      <th>198</th>\n",
       "      <td>diario</td>\n",
       "      <td>1</td>\n",
       "    </tr>\n",
       "  </tbody>\n",
       "</table>\n",
       "</div>"
      ],
      "text/plain": [
       "    qual_a_melhor_classificao_para_esse_texto  class\n",
       "176                                     outro      2\n",
       "470                                    diario      1\n",
       "83                                      outro      2\n",
       "217                                     outro      2\n",
       "198                                    diario      1"
      ]
     },
     "execution_count": 61,
     "metadata": {},
     "output_type": "execute_result"
    }
   ],
   "source": [
    "corpus[['qual_a_melhor_classificao_para_esse_texto','class']].sample(5)"
   ]
  },
  {
   "cell_type": "code",
   "execution_count": 62,
   "metadata": {
    "collapsed": false,
    "deletable": true,
    "editable": true
   },
   "outputs": [],
   "source": [
    "posts['class'] = 0\n",
    "column_idx = posts.columns.get_loc('class')\n",
    "\n",
    "for idx_corpus in corpus.index:\n",
    "    postid = corpus.iloc[idx_corpus].postid\n",
    "    idx_post = posts[posts['postID']==postid].index\n",
    "    posts.iloc[idx_post,column_idx] = corpus.iloc[idx_corpus]['class']"
   ]
  },
  {
   "cell_type": "code",
   "execution_count": 63,
   "metadata": {
    "collapsed": false,
    "deletable": true,
    "editable": true
   },
   "outputs": [
    {
     "data": {
      "text/plain": [
       "(37746, 800)"
      ]
     },
     "execution_count": 63,
     "metadata": {},
     "output_type": "execute_result"
    }
   ],
   "source": [
    "vectorizer = TfidfVectorizer(ngram_range=(1,1), strip_accents='unicode', \n",
    "                             stop_words=stopwords, vocabulary=feature_names['0'].values)\n",
    "data = vectorizer.fit_transform(posts.content)\n",
    "data.shape"
   ]
  },
  {
   "cell_type": "code",
   "execution_count": 64,
   "metadata": {
    "collapsed": false,
    "deletable": true,
    "editable": true
   },
   "outputs": [],
   "source": [
    "matrixPD = pd.DataFrame(data.toarray())\n",
    "matrixPD['class'] = posts['class']\n",
    "matrixPD = matrixPD[matrixPD['class'] > 0]\n",
    "matrixPD.shape\n",
    "\n",
    "label = matrixPD['class'].values\n",
    "features = matrixPD.drop('class',axis=1)"
   ]
  },
  {
   "cell_type": "code",
   "execution_count": 65,
   "metadata": {
    "collapsed": false,
    "deletable": true,
    "editable": true
   },
   "outputs": [
    {
     "data": {
      "text/plain": [
       "0.76210324129651863"
      ]
     },
     "execution_count": 65,
     "metadata": {},
     "output_type": "execute_result"
    }
   ],
   "source": [
    "from sklearn.model_selection import cross_val_score\n",
    "model = MultinomialNB()\n",
    "model.fit(features, label)\n",
    "cross_val_score(model, features, label, cv=10, scoring='accuracy').mean()"
   ]
  },
  {
   "cell_type": "code",
   "execution_count": 66,
   "metadata": {
    "collapsed": false,
    "deletable": true,
    "editable": true
   },
   "outputs": [],
   "source": [
    "posts['prediction'] = model.predict(data)"
   ]
  },
  {
   "cell_type": "code",
   "execution_count": 67,
   "metadata": {
    "collapsed": false,
    "deletable": true,
    "editable": true
   },
   "outputs": [
    {
     "name": "stdout",
     "output_type": "stream",
     "text": [
      "Postagens: 33712\n",
      "Blogs: 15290\n",
      "Autores: 15637\n"
     ]
    }
   ],
   "source": [
    "storyPosts = posts[posts['prediction']==1]\n",
    "blogs = storyPosts[['posts.csv']].groupby(['posts.csv'])\n",
    "autores = storyPosts[['authorID']].groupby(['authorID'])\n",
    "print('Postagens: %i' %len(storyPosts))\n",
    "print('Blogs: %i' %len(blogs))\n",
    "print('Autores: %i' %len(autores))"
   ]
  },
  {
   "cell_type": "code",
   "execution_count": 68,
   "metadata": {
    "collapsed": false,
    "deletable": true,
    "editable": true
   },
   "outputs": [
    {
     "name": "stderr",
     "output_type": "stream",
     "text": [
      "/usr/local/lib/python3.5/dist-packages/ipykernel/__main__.py:1: SettingWithCopyWarning: \n",
      "A value is trying to be set on a copy of a slice from a DataFrame.\n",
      "Try using .loc[row_indexer,col_indexer] = value instead\n",
      "\n",
      "See the caveats in the documentation: http://pandas.pydata.org/pandas-docs/stable/indexing.html#indexing-view-versus-copy\n",
      "  if __name__ == '__main__':\n"
     ]
    },
    {
     "data": {
      "text/html": [
       "<div>\n",
       "<table border=\"1\" class=\"dataframe\">\n",
       "  <thead>\n",
       "    <tr style=\"text-align: right;\">\n",
       "      <th></th>\n",
       "      <th>count</th>\n",
       "      <th>mean</th>\n",
       "    </tr>\n",
       "    <tr>\n",
       "      <th>blogID</th>\n",
       "      <th></th>\n",
       "      <th></th>\n",
       "    </tr>\n",
       "  </thead>\n",
       "  <tbody>\n",
       "    <tr>\n",
       "      <th>2074759621198619904</th>\n",
       "      <td>10</td>\n",
       "      <td>637.6</td>\n",
       "    </tr>\n",
       "    <tr>\n",
       "      <th>2450457143799924224</th>\n",
       "      <td>10</td>\n",
       "      <td>623.3</td>\n",
       "    </tr>\n",
       "    <tr>\n",
       "      <th>1435403649444620800</th>\n",
       "      <td>10</td>\n",
       "      <td>674.4</td>\n",
       "    </tr>\n",
       "    <tr>\n",
       "      <th>1298259038914305792</th>\n",
       "      <td>10</td>\n",
       "      <td>472.6</td>\n",
       "    </tr>\n",
       "    <tr>\n",
       "      <th>1922045236865661952</th>\n",
       "      <td>10</td>\n",
       "      <td>280.1</td>\n",
       "    </tr>\n",
       "    <tr>\n",
       "      <th>2421741074400311808</th>\n",
       "      <td>10</td>\n",
       "      <td>227.6</td>\n",
       "    </tr>\n",
       "    <tr>\n",
       "      <th>2237344542579056128</th>\n",
       "      <td>10</td>\n",
       "      <td>464.5</td>\n",
       "    </tr>\n",
       "    <tr>\n",
       "      <th>1505707847476654336</th>\n",
       "      <td>10</td>\n",
       "      <td>466.6</td>\n",
       "    </tr>\n",
       "    <tr>\n",
       "      <th>2060068719634800128</th>\n",
       "      <td>10</td>\n",
       "      <td>318.6</td>\n",
       "    </tr>\n",
       "    <tr>\n",
       "      <th>1679079252531209216</th>\n",
       "      <td>10</td>\n",
       "      <td>358.3</td>\n",
       "    </tr>\n",
       "  </tbody>\n",
       "</table>\n",
       "</div>"
      ],
      "text/plain": [
       "                     count   mean\n",
       "blogID                           \n",
       "2074759621198619904     10  637.6\n",
       "2450457143799924224     10  623.3\n",
       "1435403649444620800     10  674.4\n",
       "1298259038914305792     10  472.6\n",
       "1922045236865661952     10  280.1\n",
       "2421741074400311808     10  227.6\n",
       "2237344542579056128     10  464.5\n",
       "1505707847476654336     10  466.6\n",
       "2060068719634800128     10  318.6\n",
       "1679079252531209216     10  358.3"
      ]
     },
     "execution_count": 68,
     "metadata": {},
     "output_type": "execute_result"
    }
   ],
   "source": [
    "storyPosts['blogID'] = storyPosts['posts.csv'].astype(int).astype('str')\n",
    "groupReflex = storyPosts[['blogID','contentCount']].groupby(['blogID']).agg(['count','mean'])\n",
    "groupReflex['contentCount'].sort_values('count',ascending=False).head(10)"
   ]
  },
  {
   "cell_type": "code",
   "execution_count": 70,
   "metadata": {
    "collapsed": false,
    "deletable": true,
    "editable": true
   },
   "outputs": [
    {
     "data": {
      "text/plain": [
       "881"
      ]
     },
     "execution_count": 70,
     "metadata": {},
     "output_type": "execute_result"
    }
   ],
   "source": [
    "len(groupReflex[groupReflex['contentCount']['count'] >= 6])"
   ]
  },
  {
   "cell_type": "code",
   "execution_count": 75,
   "metadata": {
    "collapsed": false,
    "deletable": true,
    "editable": true
   },
   "outputs": [
    {
     "data": {
      "text/plain": [
       "contentCount  count      5985.000000\n",
       "              mean     371094.764286\n",
       "dtype: float64"
      ]
     },
     "execution_count": 75,
     "metadata": {},
     "output_type": "execute_result"
    }
   ],
   "source": [
    "groupReflex[groupReflex['contentCount']['count'] >= 6].sum()"
   ]
  },
  {
   "cell_type": "code",
   "execution_count": null,
   "metadata": {
    "collapsed": true
   },
   "outputs": [],
   "source": []
  }
 ],
 "metadata": {
  "kernelspec": {
   "display_name": "Python 3",
   "language": "python",
   "name": "python3"
  },
  "language_info": {
   "codemirror_mode": {
    "name": "ipython",
    "version": 3
   },
   "file_extension": ".py",
   "mimetype": "text/x-python",
   "name": "python",
   "nbconvert_exporter": "python",
   "pygments_lexer": "ipython3",
   "version": "3.5.2"
  }
 },
 "nbformat": 4,
 "nbformat_minor": 2
}
