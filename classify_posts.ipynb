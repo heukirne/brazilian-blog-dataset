{
 "cells": [
  {
   "cell_type": "code",
   "execution_count": 1,
   "metadata": {
    "collapsed": false,
    "deletable": true,
    "editable": true
   },
   "outputs": [
    {
     "data": {
      "text/plain": [
       "(37746, 20)"
      ]
     },
     "execution_count": 1,
     "metadata": {},
     "output_type": "execute_result"
    }
   ],
   "source": [
    "import pandas as pd\n",
    "import numpy as np\n",
    "from sklearn import preprocessing\n",
    "from sklearn.externals import joblib\n",
    "from sklearn.feature_extraction.text import TfidfVectorizer\n",
    "from nltk.corpus import stopwords\n",
    "from sklearn.naive_bayes import MultinomialNB\n",
    "\n",
    "corpus = pd.read_csv('corpus.csv.gz', compression='gzip')\n",
    "posts = pd.read_csv('posts_count_me_pol.csv.gz', compression='gzip', error_bad_lines=False)\n",
    "stopwords = stopwords.words(\"portuguese\")\n",
    "feature_names = pd.read_csv('feature_names.csv')\n",
    "\n",
    "posts = posts[posts['me'] > 2]\n",
    "posts = posts[posts['polarity'] > 2]\n",
    "posts = posts[posts.contentCount.apply(lambda x: str(x).isnumeric())]\n",
    "posts = posts.reset_index()\n",
    "posts.shape"
   ]
  },
  {
   "cell_type": "code",
   "execution_count": 2,
   "metadata": {
    "collapsed": false,
    "deletable": true,
    "editable": true
   },
   "outputs": [
    {
     "name": "stdout",
     "output_type": "stream",
     "text": [
      "['diario' 'diario']\n",
      "0    1\n",
      "1    1\n",
      "Name: class, dtype: int64\n"
     ]
    }
   ],
   "source": [
    "corpus = corpus[corpus['qual_a_melhor_classificao_para_esse_texto:confidence'] == 1]\n",
    "corpus = corpus.reset_index()\n",
    "\n",
    "# fix labels to binary\n",
    "def classFit(x):\n",
    "    if x['qual_a_melhor_classificao_para_esse_texto'] == \"diario\":\n",
    "        return 1\n",
    "    else:\n",
    "        return -1\n",
    "    \n",
    "corpus['class'] = corpus.apply(classFit,axis=1)\n",
    "target = corpus['class'].values\n",
    "\n",
    "print(corpus['qual_a_melhor_classificao_para_esse_texto'].values[:2])\n",
    "print(corpus['class'][:2])"
   ]
  },
  {
   "cell_type": "code",
   "execution_count": 3,
   "metadata": {
    "collapsed": false,
    "deletable": true,
    "editable": true
   },
   "outputs": [],
   "source": [
    "posts['class'] = 0\n",
    "column_idx = posts.columns.get_loc('class')\n",
    "\n",
    "for idx_corpus in corpus.index:\n",
    "    postid = corpus.iloc[idx_corpus].postid\n",
    "    idx_post = posts[posts['postID']==postid].index\n",
    "    posts.iloc[idx_post,column_idx] = corpus.iloc[idx_corpus]['class']"
   ]
  },
  {
   "cell_type": "code",
   "execution_count": 4,
   "metadata": {
    "collapsed": false,
    "deletable": true,
    "editable": true
   },
   "outputs": [
    {
     "data": {
      "text/plain": [
       "(37746, 2300)"
      ]
     },
     "execution_count": 4,
     "metadata": {},
     "output_type": "execute_result"
    }
   ],
   "source": [
    "vectorizer = TfidfVectorizer(strip_accents='unicode', \n",
    "                             stop_words=stopwords, vocabulary=feature_names['0'].values)\n",
    "data = vectorizer.fit_transform(posts.content)\n",
    "data.shape"
   ]
  },
  {
   "cell_type": "code",
   "execution_count": 5,
   "metadata": {
    "collapsed": false,
    "deletable": true,
    "editable": true
   },
   "outputs": [
    {
     "name": "stdout",
     "output_type": "stream",
     "text": [
      "(534, 2301)\n"
     ]
    }
   ],
   "source": [
    "matrixPD = pd.DataFrame(data.toarray())\n",
    "matrixPD['class'] = posts['class']\n",
    "matrixPD = matrixPD[matrixPD['class'] != 0]\n",
    "print(matrixPD.shape)\n",
    "\n",
    "label = matrixPD['class'].values\n",
    "features = matrixPD.drop('class',axis=1).values"
   ]
  },
  {
   "cell_type": "code",
   "execution_count": 6,
   "metadata": {
    "collapsed": false,
    "deletable": true,
    "editable": true
   },
   "outputs": [
    {
     "name": "stdout",
     "output_type": "stream",
     "text": [
      "NB: acc(0.786727947105), prec(0.785005776291), rec(0.92781512605)\n"
     ]
    }
   ],
   "source": [
    "from sklearn.model_selection import cross_val_score\n",
    "\n",
    "modelNB = MultinomialNB(alpha=0.01)\n",
    "modelNB.fit(features, label)\n",
    "acc = cross_val_score(modelNB, features, label, cv=10, scoring='accuracy').mean()\n",
    "prec = cross_val_score(modelNB, features, label, cv=10, scoring='precision').mean()\n",
    "rec = cross_val_score(modelNB, features, label, cv=10, scoring='recall').mean()\n",
    "\n",
    "print('NB: acc(' + str(acc) \n",
    "          + '), prec(' + str(prec)\n",
    "          + '), rec(' + str(rec) + ')'\n",
    "         )"
   ]
  },
  {
   "cell_type": "code",
   "execution_count": 7,
   "metadata": {
    "collapsed": false,
    "deletable": true,
    "editable": true
   },
   "outputs": [
    {
     "name": "stdout",
     "output_type": "stream",
     "text": [
      "CW: acc(0.782771535581), prec(0.789214199029), rec(0.907514450867)\n"
     ]
    }
   ],
   "source": [
    "from sklearn.model_selection import KFold\n",
    "from sklearn.metrics import accuracy_score, precision_score, recall_score\n",
    "import oll\n",
    "\n",
    "accuracy = []\n",
    "precision = []\n",
    "recall = []\n",
    "kf = KFold(n_splits=2, random_state=None, shuffle=False)\n",
    "\n",
    "for train_index, test_index in kf.split(features):\n",
    "\n",
    "    modelCW = oll.oll(\"CW\", C=2)\n",
    "    \n",
    "    X_train, X_test = features[train_index], features[test_index]\n",
    "    y_train, y_test = label[train_index], label[test_index]\n",
    "    modelCW.fit(X_train, y_train)\n",
    "    predicted = modelCW.predict(X_test)\n",
    "\n",
    "    accuracy.append(accuracy_score(y_test, predicted))\n",
    "    precision.append(precision_score(y_test, predicted))\n",
    "    recall.append(recall_score(y_test, predicted))\n",
    "\n",
    "#1 - 779,788,901\n",
    "#2 - 782,789,907\n",
    "#3 - 780,782,916\n",
    "#4 - 782,781,921\n",
    "#5 - 779,778,921\n",
    "#10- 777,772,930\n",
    "    \n",
    "print('CW: acc(' + str(np.mean(accuracy)) \n",
    "          + '), prec(' + str(np.mean(precision))\n",
    "          + '), rec(' + str(np.mean(recall)) + ')'\n",
    "         )"
   ]
  },
  {
   "cell_type": "code",
   "execution_count": 8,
   "metadata": {
    "collapsed": true,
    "deletable": true,
    "editable": true
   },
   "outputs": [],
   "source": [
    "posts['prediction'] = modelCW.predict(data)\n",
    "posts['confidence'] = modelCW.scores(data)"
   ]
  },
  {
   "cell_type": "code",
   "execution_count": 9,
   "metadata": {
    "collapsed": false,
    "deletable": true,
    "editable": true
   },
   "outputs": [
    {
     "name": "stdout",
     "output_type": "stream",
     "text": [
      "Postagens: 30542\n",
      "Blogs: 14090\n",
      "Autores: 14401\n"
     ]
    }
   ],
   "source": [
    "storyPosts = posts[posts['confidence'] > 0] #positive class\n",
    "blogs = storyPosts[['posts.csv']].groupby(['posts.csv'])\n",
    "autores = storyPosts[['authorID']].groupby(['authorID'])\n",
    "print('Postagens: %i' %len(storyPosts))\n",
    "print('Blogs: %i' %len(blogs))\n",
    "print('Autores: %i' %len(autores))"
   ]
  },
  {
   "cell_type": "code",
   "execution_count": 10,
   "metadata": {
    "collapsed": false,
    "deletable": true,
    "editable": true
   },
   "outputs": [
    {
     "name": "stderr",
     "output_type": "stream",
     "text": [
      "/usr/local/lib/python3.5/dist-packages/ipykernel/__main__.py:1: SettingWithCopyWarning: \n",
      "A value is trying to be set on a copy of a slice from a DataFrame.\n",
      "Try using .loc[row_indexer,col_indexer] = value instead\n",
      "\n",
      "See the caveats in the documentation: http://pandas.pydata.org/pandas-docs/stable/indexing.html#indexing-view-versus-copy\n",
      "  if __name__ == '__main__':\n"
     ]
    },
    {
     "data": {
      "text/html": [
       "<div>\n",
       "<table border=\"1\" class=\"dataframe\">\n",
       "  <thead>\n",
       "    <tr style=\"text-align: right;\">\n",
       "      <th></th>\n",
       "      <th>count</th>\n",
       "      <th>mean</th>\n",
       "    </tr>\n",
       "    <tr>\n",
       "      <th>blogID</th>\n",
       "      <th></th>\n",
       "      <th></th>\n",
       "    </tr>\n",
       "  </thead>\n",
       "  <tbody>\n",
       "    <tr>\n",
       "      <th>1423861485554136832</th>\n",
       "      <td>10</td>\n",
       "      <td>403.4</td>\n",
       "    </tr>\n",
       "    <tr>\n",
       "      <th>1775307651847132928</th>\n",
       "      <td>10</td>\n",
       "      <td>730.3</td>\n",
       "    </tr>\n",
       "    <tr>\n",
       "      <th>1298259038914305792</th>\n",
       "      <td>10</td>\n",
       "      <td>472.6</td>\n",
       "    </tr>\n",
       "    <tr>\n",
       "      <th>2171485080582464512</th>\n",
       "      <td>10</td>\n",
       "      <td>511.1</td>\n",
       "    </tr>\n",
       "    <tr>\n",
       "      <th>2060068719634800128</th>\n",
       "      <td>10</td>\n",
       "      <td>318.6</td>\n",
       "    </tr>\n",
       "    <tr>\n",
       "      <th>2359837956202366464</th>\n",
       "      <td>10</td>\n",
       "      <td>321.8</td>\n",
       "    </tr>\n",
       "    <tr>\n",
       "      <th>2421741074400311808</th>\n",
       "      <td>10</td>\n",
       "      <td>227.6</td>\n",
       "    </tr>\n",
       "    <tr>\n",
       "      <th>1679079252531209216</th>\n",
       "      <td>10</td>\n",
       "      <td>358.3</td>\n",
       "    </tr>\n",
       "    <tr>\n",
       "      <th>1505707847476654336</th>\n",
       "      <td>10</td>\n",
       "      <td>466.6</td>\n",
       "    </tr>\n",
       "    <tr>\n",
       "      <th>197663378953815200</th>\n",
       "      <td>10</td>\n",
       "      <td>470.3</td>\n",
       "    </tr>\n",
       "  </tbody>\n",
       "</table>\n",
       "</div>"
      ],
      "text/plain": [
       "                     count   mean\n",
       "blogID                           \n",
       "1423861485554136832     10  403.4\n",
       "1775307651847132928     10  730.3\n",
       "1298259038914305792     10  472.6\n",
       "2171485080582464512     10  511.1\n",
       "2060068719634800128     10  318.6\n",
       "2359837956202366464     10  321.8\n",
       "2421741074400311808     10  227.6\n",
       "1679079252531209216     10  358.3\n",
       "1505707847476654336     10  466.6\n",
       "197663378953815200      10  470.3"
      ]
     },
     "execution_count": 10,
     "metadata": {},
     "output_type": "execute_result"
    }
   ],
   "source": [
    "storyPosts['blogID'] = storyPosts['posts.csv'].astype(int).astype('str')\n",
    "groupReflex = storyPosts[['blogID','contentCount']].groupby(['blogID']).agg(['count','mean'])\n",
    "groupReflex['contentCount'].sort_values('count',ascending=False).head(10)"
   ]
  },
  {
   "cell_type": "code",
   "execution_count": 11,
   "metadata": {
    "collapsed": false,
    "deletable": true,
    "editable": true
   },
   "outputs": [
    {
     "data": {
      "text/plain": [
       "769"
      ]
     },
     "execution_count": 11,
     "metadata": {},
     "output_type": "execute_result"
    }
   ],
   "source": [
    "len(groupReflex[groupReflex['contentCount']['count'] >= 6])"
   ]
  },
  {
   "cell_type": "code",
   "execution_count": 12,
   "metadata": {
    "collapsed": false,
    "deletable": true,
    "editable": true
   },
   "outputs": [
    {
     "data": {
      "text/plain": [
       "contentCount  count      5215.00000\n",
       "              mean     321383.39246\n",
       "dtype: float64"
      ]
     },
     "execution_count": 12,
     "metadata": {},
     "output_type": "execute_result"
    }
   ],
   "source": [
    "groupReflex[groupReflex['contentCount']['count'] >= 6].sum()"
   ]
  },
  {
   "cell_type": "code",
   "execution_count": 26,
   "metadata": {
    "collapsed": false,
    "deletable": true,
    "editable": true
   },
   "outputs": [
    {
     "data": {
      "text/plain": [
       "5215"
      ]
     },
     "execution_count": 26,
     "metadata": {},
     "output_type": "execute_result"
    }
   ],
   "source": [
    "storyBlogsIDs = groupReflex[groupReflex['contentCount']['count'] >= 6].index.values\n",
    "storyBlogPosts = storyPosts[storyPosts['blogID'].isin(storyBlogsIDs)]\n",
    "len(storyBlogPosts)"
   ]
  },
  {
   "cell_type": "code",
   "execution_count": 27,
   "metadata": {
    "collapsed": true
   },
   "outputs": [],
   "source": [
    "storyBlogPosts.to_csv('story_blog_posts.csv.gz', compression='gzip')"
   ]
  },
  {
   "cell_type": "code",
   "execution_count": null,
   "metadata": {
    "collapsed": true
   },
   "outputs": [],
   "source": []
  }
 ],
 "metadata": {
  "kernelspec": {
   "display_name": "Python 3",
   "language": "python",
   "name": "python3"
  },
  "language_info": {
   "codemirror_mode": {
    "name": "ipython",
    "version": 3
   },
   "file_extension": ".py",
   "mimetype": "text/x-python",
   "name": "python",
   "nbconvert_exporter": "python",
   "pygments_lexer": "ipython3",
   "version": "3.5.2"
  }
 },
 "nbformat": 4,
 "nbformat_minor": 2
}
