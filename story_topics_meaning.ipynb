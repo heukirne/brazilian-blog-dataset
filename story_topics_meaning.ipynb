{
 "cells": [
  {
   "cell_type": "code",
   "execution_count": 1,
   "metadata": {
    "collapsed": true,
    "deletable": true,
    "editable": true
   },
   "outputs": [],
   "source": [
    "import pandas as pd\n",
    "import numpy as np\n",
    "from sklearn.feature_extraction.text import TfidfVectorizer, CountVectorizer\n",
    "from sklearn.decomposition import PCA, LatentDirichletAllocation\n",
    "from nltk.corpus import stopwords\n",
    "from scipy.stats import wilcoxon\n",
    "import matplotlib.pyplot as plt\n",
    "\n",
    "corpus = pd.read_csv('story_blog_posts.csv.gz', compression='gzip')\n",
    "stopwords = stopwords.words(\"portuguese\")"
   ]
  },
  {
   "cell_type": "code",
   "execution_count": 37,
   "metadata": {
    "collapsed": true,
    "deletable": true,
    "editable": true
   },
   "outputs": [],
   "source": [
    "n_features = 2000\n",
    "n_top_words = 20"
   ]
  },
  {
   "cell_type": "code",
   "execution_count": 26,
   "metadata": {
    "collapsed": true,
    "deletable": true,
    "editable": true
   },
   "outputs": [],
   "source": [
    "def print_top_words(model, feature_names, n_top_words, data):\n",
    "    for topic_idx, topic in enumerate(model.components_):\n",
    "        print(\"Topic #%d Avg(%.5f):\" % (topic_idx, data.mean(axis=0)[topic_idx]))\n",
    "        print(\" \".join([feature_names[i]\n",
    "                        for i in topic.argsort()[:-n_top_words - 1:-1]]))\n",
    "    print()\n",
    "    \n",
    "def diff(x): \n",
    "    return (x['diario_mean']) - (x['outro_mean'])"
   ]
  },
  {
   "cell_type": "code",
   "execution_count": 11,
   "metadata": {
    "collapsed": false,
    "deletable": true,
    "editable": true
   },
   "outputs": [],
   "source": [
    "from nltk.corpus import floresta\n",
    "from nltk import DefaultTagger, AffixTagger, UnigramTagger, BigramTagger, TrigramTagger\n",
    "import nltk \n",
    "sent_tokenizer=nltk.data.load('tokenizers/punkt/portuguese.pickle')\n",
    "\n",
    "#tagged_sents = floresta.tagged_sents()\n",
    "#t0 = DefaultTagger('H+n') # if word not known, just guess \"noun\"\n",
    "#affix_tagger = AffixTagger(tagged_sents, backoff=t0)\n",
    "#unigram_tagger = UnigramTagger(tagged_sents, cutoff=0, backoff=affix_tagger)\n",
    "#bigram_tagger = BigramTagger(tagged_sents, cutoff=0, backoff=unigram_tagger)\n",
    "#trigram_tagger = TrigramTagger(tagged_sents, cutoff=0, backoff=bigram_tagger)\n",
    "\n",
    "import pickle\n",
    "#affix_file = open('portuguese_affix_tagger.pickle', 'wb')\n",
    "#pickle.dump(affix_tagger, affix_file)\n",
    "#affix_file.close()\n",
    "\n",
    "#unigram_file = open('portuguese_unigram_tagger.pickle', 'wb')\n",
    "#pickle.dump(unigram_tagger, unigram_file)\n",
    "#unigram_file.close()\n",
    "\n",
    "#bigram_file = open('portuguese_bigram_tagger.pickle', 'wb')\n",
    "#pickle.dump(bigram_tagger, bigram_file)\n",
    "#bigram_file.close()\n",
    "\n",
    "#trigram_file = open('portuguese_trigram_tagger.pickle', 'wb')\n",
    "#pickle.dump(trigram_tagger, trigram_file)\n",
    "#trigram_file.close()"
   ]
  },
  {
   "cell_type": "code",
   "execution_count": 5,
   "metadata": {
    "collapsed": false,
    "deletable": true,
    "editable": true
   },
   "outputs": [],
   "source": [
    "with open('portuguese_affix_tagger.pickle', 'rb') as f: affix_tagger = pickle.load(f)\n",
    "with open('portuguese_unigram_tagger.pickle', 'rb') as f: unigram_tagger = pickle.load(f)\n",
    "with open('portuguese_bigram_tagger.pickle', 'rb') as f: bigram_tagger = pickle.load(f)\n",
    "with open('portuguese_trigram_tagger.pickle', 'rb') as f: trigram_tagger = pickle.load(f)"
   ]
  },
  {
   "cell_type": "code",
   "execution_count": null,
   "metadata": {
    "collapsed": false,
    "deletable": true,
    "editable": true
   },
   "outputs": [],
   "source": [
    "from nltk import tokenize\n",
    "\n",
    "def simplify_tag(t):\n",
    "    if t and \"+\" in t:\n",
    "        return t[t.index(\"+\")+1:]\n",
    "    else:\n",
    "        return t\n",
    "\n",
    "def content_words(sentence):\n",
    "    #Nouns, verbs, adjectives and adverbs \n",
    "    tags = trigram_tagger.tag(tokenize.word_tokenize(sentence))\n",
    "    tags = [(w ,simplify_tag(t)) for (w,t) in tags]\n",
    "\n",
    "    words = []\n",
    "    for (word, tag) in tags:\n",
    "        if tag in ['adv','adj','v-fin','n']:\n",
    "          words.append(word)\n",
    "\n",
    "    return ' '.join(words)\n",
    "\n",
    "sentences = []\n",
    "for text in corpus.content:\n",
    "    for sentence in sent_tokenizer.tokenize(text):\n",
    "        sentences.append(content_words(sentence))"
   ]
  },
  {
   "cell_type": "code",
   "execution_count": 64,
   "metadata": {
    "collapsed": false,
    "deletable": true,
    "editable": true
   },
   "outputs": [],
   "source": [
    "tf_vectorizer = CountVectorizer(max_df=0.95, min_df=2, strip_accents='unicode',\n",
    "                                max_features=n_features,\n",
    "                                stop_words=stopwords)\n",
    "tf = tf_vectorizer.fit_transform(sentences)"
   ]
  },
  {
   "cell_type": "code",
   "execution_count": 75,
   "metadata": {
    "collapsed": false,
    "deletable": true,
    "editable": true
   },
   "outputs": [],
   "source": [
    "n_topics = 50\n",
    "lda = LatentDirichletAllocation(n_topics=n_topics, max_iter=5,\n",
    "                                learning_method='online',\n",
    "                                learning_offset=50.,\n",
    "                                random_state=0)\n",
    "data = lda.fit_transform(tf)"
   ]
  },
  {
   "cell_type": "code",
   "execution_count": 76,
   "metadata": {
    "collapsed": false,
    "deletable": true,
    "editable": true,
    "scrolled": false
   },
   "outputs": [
    {
     "name": "stdout",
     "output_type": "stream",
     "text": [
      "Topic #0 Avg(0.01458):\n",
      "consegui assunto otimo roupa interessante numero gostaria peguei maximo blogs deste devem tv legais desenho ira querida canal lagrimas le\n",
      "Topic #1 Avg(0.01841):\n",
      "blog hora fiquei momento podem chegou video neste imagem leitura conheci cha tirei pagina detalhe lapis ritmo presenca capa comentario\n",
      "Topic #2 Avg(0.01666):\n",
      "lado amigos mes diz caminho veio meninas show detalhes voce planos proprio 2012 casal parei fome bracos precisamos meta experiencias\n",
      "Topic #3 Avg(0.01530):\n",
      "vontade amiga gostei prova cheiro comida livre louca forno significa anime restaurante doces saudades memoria funciona frango justo et mora\n",
      "Topic #4 Avg(0.01879):\n",
      "onde posso atras cheguei usei resultado marca forca exatamente coloquei podemos terra vestido decoracao delicia leva igual km oleo hidratacao\n",
      "Topic #5 Avg(0.01876):\n",
      "bom ano novo manha passei palavras comecou deveria ca parede suficiente tema pratica levou culpa mensagem maio abri 2015 correria\n",
      "Topic #6 Avg(0.01741):\n",
      "coisas primeiro quiser inicio comentarios falei acima novas existem dessas peso postagem volto basta andar altura traz cantinho decisao redor\n",
      "Topic #7 Avg(0.01442):\n",
      "beijos loja direito pequena dai contrario desta paz novos escolha longo menino tomei provavelmente conseguia pernas 2013 gostaram achou fiquem\n",
      "Topic #8 Avg(0.01798):\n",
      "livro verdade pessoa mal espaco normal grupo mesa semanas lembra motivos gostoso felizes partes periodo lingua evento maiores capaz alimentacao\n",
      "Topic #9 Avg(0.02720):\n",
      "tempo entao tao sim vi comigo familia mulher dor lembro triste irma descobri sentimento trouxe resolveu passava entretanto desespero especie\n",
      "Topic #10 Avg(0.02309):\n",
      "hoje pouco gosto ne problema comecei ok cores ultimo domingo pecas calca sabado possa sexta saia novidades compras trabalhos sombra\n",
      "Topic #11 Avg(0.02135):\n",
      "vezes amor fica fiz cabelo dentro mao produtos alto deixei acontece ficamos importa almoco calor embalagem comi excelente situacoes media\n",
      "Topic #12 Avg(0.01930):\n",
      "la cidade afinal principalmente apesar preco fundo papel adoro onibus chao moda branco cozinha va comum compra esperava menor espelho\n",
      "Topic #13 Avg(0.02691):\n",
      "dia vai filme frente pena vale festa sol fico serio confesso li filhos grandes usa verde azul venho fogo relacionamento\n",
      "Topic #14 Avg(0.05082):\n",
      "nao sei post enquanto deixa certo baixo pergunta infelizmente precisava tom respeito opcao caro pensa ambiente parou chato colega der\n",
      "Topic #15 Avg(0.02506):\n",
      "aqui vou quase to vem ajuda los questao ferias amigas unhas area centro flores chama maravilhosa precisar vista make frutas\n",
      "Topic #16 Avg(0.01626):\n",
      "vamos boa linda cedo sorte conhece bolsa esmalte mudanca velho achava extremamente novidade academia acao sociais fofo redes negocio kkk\n",
      "Topic #17 Avg(0.02414):\n",
      "so agora amo legal novamente longe mulheres voltei lista continua fizeram ingredientes diante vermelho pequenos geralmente ordem xicara limpeza lembrancas\n",
      "Topic #18 Avg(0.01986):\n",
      "casa menos nova falta massa hotel leite carro deixou doce sozinha pouquinho finalmente diferenca completamente totalmente saude necessario chegamos coragem\n",
      "Topic #19 Avg(0.02102):\n",
      "coisa sabe noite quer nesse demais viagem tarde unica pe desculpa impossivel realidade atraves tentei passamos monte google imagens cobertura\n",
      "Topic #20 Avg(0.01639):\n",
      "semana espero quarto porta proximo amanha boca base qualidade pq resto tras entrei pude alma gostou precisam pegou capitulo trabalha\n",
      "Topic #21 Avg(0.01899):\n",
      "ha logo feliz enfim consigo momentos vejo feira jogo acabei casamento celular carinho receita nisso alegria falo som cartao visita\n",
      "Topic #22 Avg(0.01493):\n",
      "desse pontos dica relacao menina felicidade desejo projeto encontro breve desafio 2016 instagram verao titulo destino segue acordo link sexo\n",
      "Topic #23 Avg(0.01979):\n",
      "meio fotos achei ali cor importante sabia comeco criancas encontrei texto sorriso ar preto bonita paixao raiva paginas rosa recomendo\n",
      "Topic #24 Avg(0.01671):\n",
      "apenas foto final boas motivo abaixo olho banheiro ultimos saiu peito veja abraco fofa algo chorei on humano kkkk acessorios\n",
      "Topic #25 Avg(0.01978):\n",
      "assim cara queria pro nome tava comprei rua junto fazem opiniao corrida arte lindos anda programa esqueci passaram loucura desculpem\n",
      "Topic #26 Avg(0.01888):\n",
      "disse ate trabalho deu bastante vao rapido marido beijo chocolate percebi janeiro nota computador sabor prato camera esperanca senhora velha\n",
      "Topic #27 Avg(0.02286):\n",
      "nao antes estao fez conta talvez maior meses simplesmente possivel faca estilo deixe ama fase posts by carne pudesse terceiro\n",
      "Topic #28 Avg(0.01615):\n",
      "livros serie sala passo aula iria aprendi curso favor morte peca gracas nele total paciencia nicole professor professora passeio conto\n",
      "Topic #29 Avg(0.01822):\n",
      "pode lugar ficou sai especial presente etc desses mar quantidade recebi ganhei jamais duvidas apartamento pronta saudavel todo mudei leitor\n",
      "Topic #30 Avg(0.01922):\n",
      "nunca volta horas ia ah corpo amigo praia homem fala garota vim quente oportunidade busca manteiga escolhi pensamentos dizia dura\n",
      "Topic #31 Avg(0.01733):\n",
      "faz precisa sinto aconteceu atencao maos ruim sensacao faculdade saudade meia ficam haha unico inclusive modelo papai rotina sono ceu\n",
      "Topic #32 Avg(0.02070):\n",
      "pessoas grande tanto deve lo medo exemplo experiencia acabou amei sonhos duvida mamae cheia porque curto conheco prefiro preguica fa\n",
      "Topic #33 Avg(0.02413):\n",
      "sempre vez primeira fim preciso forte passa ultima linha crianca decidi maneira incrivel mascara acaba metade vcs branca sente contas\n",
      "Topic #34 Avg(0.01627):\n",
      "realmente sera dificil olha quanto faco quis filho caso acha ideias namorado futuro canto vive panela doi imagina incriveis convite\n",
      "Topic #35 Avg(0.01737):\n",
      "mundo pais pai causa senti cama bolo filmes parecia aniversario ficaram perguntou enorme blusa ovos pau costas gravida fila clima\n",
      "Topic #36 Avg(0.01984):\n",
      "ainda historia tipo cima epoca sonho comeca luz homens sentia frase possui opcoes naquela love vergonha calma plano metas estaria\n",
      "Topic #37 Avg(0.02903):\n",
      "bem vida melhor quero havia produto passou problemas fazia podia real voz via torna mudou emprego turma agradavel social conhecia\n",
      "Topic #38 Avg(0.01996):\n",
      "sao simples site pessoal pior musicas melhores somente dicas tamanho chuva paulo http contato geral praticamente informacoes profissional prazer telefone\n",
      "Topic #39 Avg(0.01898):\n",
      "mae agua minutos nada perto pensei oi maioria filha banho situacao local segundo efeito vivo tempos mercado pes lojas bacana\n",
      "Topic #40 Avg(0.02146):\n",
      "ai parte forma the resolvi cafe proxima ve personagens acucar pronto valor conversa historias aulas sucesso sal reais temporada nela\n",
      "Topic #41 Avg(0.02109):\n",
      "tambem alem ideia existe acredito you alias sentido modo ingles personagem palavra brilho processo ouvi natural alta videos fique daqueles\n",
      "Topic #42 Avg(0.01835):\n",
      "super ponto ola lugares in roupas mente diferentes creme of po my it sinal leitores querem pediu parque entanto gostava\n",
      "Topic #43 Avg(0.01734):\n",
      "acho dias claro disso ontem digo estranho cheio bons colecao sopa inteiro presentes chance barato continuo mini episodio ri acham\n",
      "Topic #44 Avg(0.01706):\n",
      "vc coracao cabeca jeito porem escola rosto amar viu penso falou sentimentos irmao cuidado dizem direcao entrada controle hospital 99\n",
      "Topic #45 Avg(0.01688):\n",
      "diferente poderia rs pra leve dei frio surpresa bonito look amizade guarda perguntei sozinho estado objetivo daquela oque confortavel dificuldade\n",
      "Topic #46 Avg(0.02078):\n",
      "gente anos dessa musica certeza gosta seguinte pequeno maravilhoso bebe idade galera carlos inteira mega povo original trem jovem valeu\n",
      "Topic #47 Avg(0.01562):\n",
      "ta facil chega dinheiro ser beleza adorei encontra conseguiu sangue principal 2011 autora cerveja portanto entende nivel danca troca passagem\n",
      "Topic #48 Avg(0.01829):\n",
      "pele olhos parece nessa fato olhar perfeito otima estavamos las espera dava rsrs queijo pedi virou pao ficava acordei mistura\n",
      "Topic #49 Avg(0.02028):\n",
      "ja pois uso cabelos segunda poder consegue maquiagem sabem graca fios moca senhor tratamento resposta anterior versao resultados acompanha respondi\n",
      "\n"
     ]
    }
   ],
   "source": [
    "tf_feature_names = tf_vectorizer.get_feature_names()\n",
    "print_top_words(lda, tf_feature_names, n_top_words, data)"
   ]
  },
  {
   "cell_type": "code",
   "execution_count": 77,
   "metadata": {
    "collapsed": false,
    "deletable": true,
    "editable": true
   },
   "outputs": [
    {
     "data": {
      "text/plain": [
       "<matplotlib.figure.Figure at 0x7fe04215d1d0>"
      ]
     },
     "metadata": {},
     "output_type": "display_data"
    },
    {
     "data": {
      "image/png": "[encoded data removed]",
      "text/plain": [
       "<matplotlib.figure.Figure at 0x7fe04215d5f8>"
      ]
     },
     "metadata": {},
     "output_type": "display_data"
    }
   ],
   "source": [
    "%matplotlib inline\n",
    "\n",
    "plt.figure()\n",
    "plt.matshow(np.transpose(data))   \n",
    "plt.gca().set_aspect('auto')\n",
    "plt.title('DIARIO topic proportions')\n",
    "plt.ylabel('topics')\n",
    "plt.xlabel('documents')\n",
    "plt.show()"
   ]
  },
  {
   "cell_type": "code",
   "execution_count": 73,
   "metadata": {
    "collapsed": false,
    "deletable": true,
    "editable": true
   },
   "outputs": [
    {
     "data": {
      "text/plain": [
       "(134955, 65)"
      ]
     },
     "execution_count": 73,
     "metadata": {},
     "output_type": "execute_result"
    }
   ],
   "source": [
    "story_liwc = pd.read_csv('story_liwc.csv.gz', compression='gzip')\n",
    "story_liwc.shape"
   ]
  },
  {
   "cell_type": "code",
   "execution_count": 74,
   "metadata": {
    "collapsed": false,
    "deletable": true,
    "editable": true
   },
   "outputs": [
    {
     "data": {
      "text/plain": [
       "(134955, 30)"
      ]
     },
     "execution_count": 74,
     "metadata": {},
     "output_type": "execute_result"
    }
   ],
   "source": [
    "data.shape"
   ]
  },
  {
   "cell_type": "code",
   "execution_count": 78,
   "metadata": {
    "collapsed": true,
    "deletable": true,
    "editable": true
   },
   "outputs": [],
   "source": [
    "topics = pd.DataFrame(data, columns=range(0,n_topics), index=story_liwc.index.values)"
   ]
  },
  {
   "cell_type": "code",
   "execution_count": 2,
   "metadata": {
    "collapsed": false,
    "deletable": true,
    "editable": true
   },
   "outputs": [
    {
     "data": {
      "text/plain": [
       "(134955, 116)"
      ]
     },
     "execution_count": 2,
     "metadata": {},
     "output_type": "execute_result"
    }
   ],
   "source": [
    "#result = pd.concat([story_liwc, topics], axis=1)\n",
    "#result.to_csv('story_liwc_topics.csv.gz', compression='gzip')\n",
    "result = pd.read_csv('story_liwc_topics.csv.gz', compression='gzip')\n",
    "result.shape"
   ]
  },
  {
   "cell_type": "code",
   "execution_count": 89,
   "metadata": {
    "collapsed": false,
    "deletable": true,
    "editable": true
   },
   "outputs": [],
   "source": [
    "#top 5 topics: \n",
    "# Topic #14 Avg(0.05082):\n",
    "# Topic #37 Avg(0.02903):\n",
    "# Topic #9 Avg(0.02720):\n",
    "# Topic #13 Avg(0.02691):\n",
    "# Topic #15 Avg(0.02506):"
   ]
  },
  {
   "cell_type": "code",
   "execution_count": 17,
   "metadata": {
    "collapsed": false
   },
   "outputs": [
    {
     "data": {
      "text/plain": [
       "134955"
      ]
     },
     "execution_count": 17,
     "metadata": {},
     "output_type": "execute_result"
    }
   ],
   "source": [
    "sentences = []\n",
    "for text in corpus.content:\n",
    "    sentences.extend(sent_tokenizer.tokenize(text))\n",
    "len(sentences)"
   ]
  },
  {
   "cell_type": "code",
   "execution_count": 6,
   "metadata": {
    "collapsed": true,
    "deletable": true,
    "editable": true
   },
   "outputs": [],
   "source": [
    "def polarity(x):\n",
    "    return x['posemo'] - x['negemo'] \n",
    "\n",
    "result['polarity'] = result.apply(polarity,axis=1)"
   ]
  },
  {
   "cell_type": "code",
   "execution_count": 33,
   "metadata": {
    "collapsed": false,
    "deletable": true,
    "editable": true,
    "scrolled": false
   },
   "outputs": [
    {
     "name": "stdout",
     "output_type": "stream",
     "text": [
      "TOPIC: 14\n",
      "-------------\n",
      "Mas esse post não é um post de reclamação, é um post de reflexão.\n",
      "Não, não e não.\n",
      "Não, não e não.\n",
      "-------------\n",
      "Total: 5108, pos: 0.2960062646828504, neg: 0.1528974158183242\n",
      "-------------\n",
      "social     2.057753\n",
      "relativ    1.814800\n",
      "humans     0.734143\n",
      "space      0.652310\n",
      "motion     0.635082\n",
      "bio        0.583399\n",
      "time       0.550313\n",
      "swear      0.492365\n",
      "ingest     0.488841\n",
      "achieve    0.295810\n",
      "body       0.268403\n",
      "money      0.243540\n",
      "leisure    0.203406\n",
      "work       0.192052\n",
      "sexual     0.131363\n",
      "dtype: float64\n",
      "-------------\n",
      "TOPIC: 37\n",
      "-------------\n",
      "Will Traynor mudou a vida de Louisa Clark, Louisa Clark mudou a vida de Will Traynor, e os dois mudaram a minha.\n",
      "Bem, quero deixar bem claro que isso tem mais a ver com a minha vida real, com a minha vida social fora da internet.\n",
      "Bem, bem melhor.\n",
      "-------------\n",
      "Total: 2119, pos: 0.6007550731477111, neg: 0.06370929683813119\n",
      "-------------\n",
      "relativ    1.726758\n",
      "social     1.708353\n",
      "space      0.736196\n",
      "bio        0.641340\n",
      "humans     0.558754\n",
      "time       0.520529\n",
      "motion     0.500236\n",
      "swear      0.441246\n",
      "ingest     0.420009\n",
      "health     0.260972\n",
      "achieve    0.224162\n",
      "body       0.199622\n",
      "work       0.164228\n",
      "money      0.162341\n",
      "leisure    0.141104\n",
      "dtype: float64\n",
      "-------------\n",
      "TOPIC: 9\n",
      "-------------\n",
      "Do tempo calmo que para, prepara o solo, semeia, colhe e contempla cada tempo, o tempo todo.\n",
      "Obrigada Roger pelo confronto semestral com realidades tão diferentes e ao mesmo tempo tão necessárias que exemplificam teus ensinamentos.\n",
      "Sim, sim e sim!\n",
      "-------------\n",
      "Total: 1961, pos: 0.2855685874553799, neg: 0.14737378888322283\n",
      "-------------\n",
      "relativ    1.668536\n",
      "social     1.427843\n",
      "humans     0.651198\n",
      "space      0.554819\n",
      "time       0.510964\n",
      "bio        0.476288\n",
      "motion     0.454360\n",
      "ingest     0.405405\n",
      "swear      0.359001\n",
      "achieve    0.186130\n",
      "body       0.171341\n",
      "leisure    0.145334\n",
      "work       0.135135\n",
      "money      0.133605\n",
      "sexual     0.116777\n",
      "dtype: float64\n",
      "-------------\n",
      "TOPIC: 13\n",
      "-------------\n",
      "vai estudar, vai ler, vai conversar.\n",
      "Deus que dia que isso vai mudar, quando vai acontecer???????????\n",
      "Mas ao Sol do dia a dia mesmo.\n",
      "-------------\n",
      "Total: 1922, pos: 0.2559833506763788, neg: 0.17793964620187305\n",
      "-------------\n",
      "relativ    2.275234\n",
      "social     1.686264\n",
      "ingest     1.107180\n",
      "space      0.916753\n",
      "time       0.880853\n",
      "motion     0.773673\n",
      "bio        0.636316\n",
      "humans     0.531217\n",
      "swear      0.438085\n",
      "leisure    0.243496\n",
      "achieve    0.212799\n",
      "work       0.210718\n",
      "body       0.200832\n",
      "money      0.194589\n",
      "health     0.160770\n",
      "dtype: float64\n",
      "-------------\n",
      "TOPIC: 15\n",
      "-------------\n",
      "JB; vou ligar e voce me ajuda.\n",
      "JB: vou precisar!\n",
      "Mas, aos poucos vou contando, aqui mesmo.\n",
      "-------------\n",
      "Total: 1839, pos: 0.2544861337683524, neg: 0.08428493746601413\n",
      "-------------\n",
      "relativ    1.643828\n",
      "social     1.246330\n",
      "motion     0.708537\n",
      "space      0.657966\n",
      "ingest     0.646547\n",
      "time       0.524742\n",
      "humans     0.475802\n",
      "swear      0.433931\n",
      "bio        0.356716\n",
      "achieve    0.226754\n",
      "leisure    0.189233\n",
      "work       0.174008\n",
      "money      0.158238\n",
      "body       0.152257\n",
      "sexual     0.081022\n",
      "dtype: float64\n",
      "-------------\n"
     ]
    }
   ],
   "source": [
    "psychological_columns = ['swear','social','family','friend','humans','bio','body','health','sexual','ingest','relativ','motion','space','time','work','achieve','leisure','home','money','relig','death']\n",
    "threshold = 0.3\n",
    "top5_topics = ['14','37','9','13','15']\n",
    "\n",
    "for Ttopics in top5_topics:\n",
    "    print(\"TOPIC: \" + str(Ttopics))\n",
    "    print(\"-------------\")\n",
    "    for i in range(0,3):\n",
    "        idx = result.sort_values(Ttopics,ascending=False).head(3).values[i][0]\n",
    "        print(sentences[int(idx)])\n",
    "    print(\"-------------\")\n",
    "    total = len(result[(result[Ttopics] > threshold)])\n",
    "    pos = len(result[(result[Ttopics] > threshold) & (result['polarity'] > 0)]) / total\n",
    "    neg = len(result[(result[Ttopics] > threshold) & (result['polarity'] < 0)]) / total\n",
    "    print(\"Total: \" + str(total) + \", pos: \" + str(pos) + \", neg: \" + str(neg))\n",
    "    print(\"-------------\")\n",
    "    print(result[psychological_columns][(result[Ttopics] > threshold)].mean().sort_values(ascending=False).head(15))\n",
    "    print(\"-------------\")"
   ]
  },
  {
   "cell_type": "code",
   "execution_count": null,
   "metadata": {
    "collapsed": true,
    "deletable": true,
    "editable": true
   },
   "outputs": [],
   "source": []
  }
 ],
 "metadata": {
  "kernelspec": {
   "display_name": "Python 3",
   "language": "python",
   "name": "python3"
  },
  "language_info": {
   "codemirror_mode": {
    "name": "ipython",
    "version": 3
   },
   "file_extension": ".py",
   "mimetype": "text/x-python",
   "name": "python",
   "nbconvert_exporter": "python",
   "pygments_lexer": "ipython3",
   "version": "3.5.2"
  }
 },
 "nbformat": 4,
 "nbformat_minor": 2
}
