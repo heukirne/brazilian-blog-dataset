{
 "cells": [
  {
   "cell_type": "code",
   "execution_count": 20,
   "metadata": {
    "collapsed": true,
    "deletable": true,
    "editable": true
   },
   "outputs": [],
   "source": [
    "import unicodedata\n",
    "import pandas as pd\n",
    "import gensim\n",
    "import nltk"
   ]
  },
  {
   "cell_type": "code",
   "execution_count": 2,
   "metadata": {
    "collapsed": false,
    "deletable": true,
    "editable": true
   },
   "outputs": [
    {
     "data": {
      "text/plain": [
       "(37746, 20)"
      ]
     },
     "execution_count": 2,
     "metadata": {},
     "output_type": "execute_result"
    }
   ],
   "source": [
    "posts = pd.read_csv('posts_count_me_pol.csv.gz', compression='gzip', error_bad_lines=False)\n",
    "posts = posts[posts['me'] > 2]\n",
    "posts = posts[posts['polarity'] > 2]\n",
    "posts = posts[posts.contentCount.apply(lambda x: str(x).isnumeric())]\n",
    "posts = posts.reset_index()\n",
    "posts.shape"
   ]
  },
  {
   "cell_type": "code",
   "execution_count": 16,
   "metadata": {
    "collapsed": true
   },
   "outputs": [],
   "source": [
    "def remove_accents(input_str):\n",
    "    nfkd_form = unicodedata.normalize('NFKD', input_str)\n",
    "    return u\"\".join([c for c in nfkd_form if not unicodedata.combining(c)])"
   ]
  },
  {
   "cell_type": "code",
   "execution_count": 33,
   "metadata": {
    "collapsed": false,
    "deletable": true,
    "editable": true
   },
   "outputs": [
    {
     "name": "stdout",
     "output_type": "stream",
     "text": [
      "Process contents: 37746\n",
      "Process sentences: 847660\n",
      "Process tokens: 847660\n"
     ]
    }
   ],
   "source": [
    "sent_tokenizer = nltk.data.load('tokenizers/punkt/portuguese.pickle')\n",
    "reg_tokenizer = nltk.tokenize.RegexpTokenizer(r'\\w+')\n",
    "\n",
    "sentences_list = posts.apply(lambda row: sent_tokenizer.tokenize(row['content']), axis=1)\n",
    "\n",
    "print(\"Process contents:\", len(sentences_list))\n",
    "\n",
    "sentences = []\n",
    "for sentence in sentences_list:\n",
    "    sentences.extend(sentence)\n",
    "\n",
    "print(\"Process sentences:\", len(sentences))\n",
    "    \n",
    "sentences_tokens = []\n",
    "for sentence in sentences:\n",
    "    tokens = reg_tokenizer.tokenize(sentence)\n",
    "    sentences_tokens.append( [remove_accents(w.lower()) for w in tokens] )\n",
    "    \n",
    "print(\"Process tokens:\", len(sentences_tokens))"
   ]
  },
  {
   "cell_type": "code",
   "execution_count": 34,
   "metadata": {
    "collapsed": false,
    "deletable": true,
    "editable": true
   },
   "outputs": [],
   "source": [
    "# train model\n",
    "model = gensim.models.Word2Vec(sentences_tokens, size=300, workers=16, iter=10, negative=20)\n",
    "# trim memory\n",
    "model.init_sims(replace=True)\n",
    "# save model\n",
    "model.save('post_word2vec.mdl')\n",
    "model.wv.save_word2vec_format('post_word2vec.bin', binary=True)"
   ]
  },
  {
   "cell_type": "code",
   "execution_count": 35,
   "metadata": {
    "collapsed": false,
    "deletable": true,
    "editable": true
   },
   "outputs": [
    {
     "name": "stdout",
     "output_type": "stream",
     "text": [
      "Number of tokens in Word2Vec: 66112\n"
     ]
    }
   ],
   "source": [
    "# creta a dict \n",
    "w2v = dict(zip(model.wv.index2word, model.wv.syn0))\n",
    "print (\"Number of tokens in Word2Vec:\", len(w2v.keys()))"
   ]
  },
  {
   "cell_type": "code",
   "execution_count": 40,
   "metadata": {
    "collapsed": false,
    "deletable": true,
    "editable": true
   },
   "outputs": [
    {
     "data": {
      "text/plain": [
       "[('sentimento', 0.8009729385375977),\n",
       " ('afeto', 0.7898211479187012),\n",
       " ('egoismo', 0.7882105112075806),\n",
       " ('gozo', 0.7722449898719788),\n",
       " ('contentamento', 0.7682509422302246),\n",
       " ('zelo', 0.766608715057373),\n",
       " ('sofrimento', 0.7666018605232239),\n",
       " ('arrependimento', 0.7656380534172058),\n",
       " ('perdao', 0.7592653632164001),\n",
       " ('anseio', 0.7586473226547241)]"
      ]
     },
     "execution_count": 40,
     "metadata": {},
     "output_type": "execute_result"
    }
   ],
   "source": [
    "model.most_similar_cosmul('amor',topn=10)"
   ]
  },
  {
   "cell_type": "code",
   "execution_count": null,
   "metadata": {
    "collapsed": true
   },
   "outputs": [],
   "source": []
  }
 ],
 "metadata": {
  "kernelspec": {
   "display_name": "Python 3",
   "language": "python",
   "name": "python3"
  },
  "language_info": {
   "codemirror_mode": {
    "name": "ipython",
    "version": 3
   },
   "file_extension": ".py",
   "mimetype": "text/x-python",
   "name": "python",
   "nbconvert_exporter": "python",
   "pygments_lexer": "ipython3",
   "version": "3.5.2"
  }
 },
 "nbformat": 4,
 "nbformat_minor": 2
}
