{
 "cells": [
  {
   "cell_type": "code",
   "execution_count": 8,
   "metadata": {
    "collapsed": false,
    "deletable": true,
    "editable": true
   },
   "outputs": [],
   "source": [
    "import pandas as pd\n",
    "import numpy as np\n",
    "import nltk\n",
    "from liwc import LIWC\n",
    "\n",
    "liwc_class = LIWC()\n",
    "stories = pd.read_csv('story_blog_posts.csv.gz', compression='gzip')"
   ]
  },
  {
   "cell_type": "code",
   "execution_count": 14,
   "metadata": {
    "collapsed": false,
    "deletable": true,
    "editable": true
   },
   "outputs": [
    {
     "name": "stdout",
     "output_type": "stream",
     "text": [
      "134955\n",
      "134955\n",
      "134955\n"
     ]
    }
   ],
   "source": [
    "sent_tokenizer=nltk.data.load('tokenizers/punkt/portuguese.pickle')\n",
    "sentences = []\n",
    "owner = []\n",
    "date = []\n",
    "#for idx in stories.index.values:\n",
    "    #post_sentences = sent_tokenizer.tokenize(stories.content[idx])\n",
    "    #sentences.extend(post_sentences)\n",
    "    #for item in post_sentences:\n",
    "        #owner.append(stories.authorID[idx])\n",
    "        #date.append(stories.published[idx])\n",
    "    #if idx > 10: break\n",
    "    \n",
    "print(len(sentences))\n",
    "print(len(owner))\n",
    "print(len(date))"
   ]
  },
  {
   "cell_type": "code",
   "execution_count": 15,
   "metadata": {
    "collapsed": false,
    "deletable": true,
    "editable": true
   },
   "outputs": [
    {
     "data": {
      "text/plain": [
       "(134955, 67)"
      ]
     },
     "execution_count": 15,
     "metadata": {},
     "output_type": "execute_result"
    }
   ],
   "source": [
    "#mtx = liwc_class.build_features(sentences)\n",
    "columns = ['funct','pronoun','ppron','i','we','you','shehe','they','ipron','article','verb','auxverb','past','present','future','adverb','preps','conj','negate','quant','number','swear','social','family','friend','humans','affect','posemo','negemo','anx','anger','sad','cogmech','insight','cause','discrep','tentat','certain','inhib','incl','excl','percept','see','hear','feel','bio','body','health','sexual','ingest','relativ','motion','space','time','work','achieve','leisure','home','money','relig','death','assent','nonfl','filler']\n",
    "#story_liwc = pd.DataFrame(mtx, columns=columns)\n",
    "#story_liwc.to_csv('story_liwc.csv.gz', compression='gzip')\n",
    "story_liwc = pd.read_csv('story_liwc.csv.gz', compression='gzip')\n",
    "\n",
    "#story_liwc['authorID'] = owner\n",
    "#story_liwc['published'] = date\n",
    "#story_liwc.to_csv('story_liwc_author.csv.gz', compression='gzip')\n",
    "\n",
    "story_liwc.shape"
   ]
  },
  {
   "cell_type": "code",
   "execution_count": 5,
   "metadata": {
    "collapsed": false,
    "deletable": true,
    "editable": true
   },
   "outputs": [
    {
     "name": "stdout",
     "output_type": "stream",
     "text": [
      "37331\n",
      "14534\n"
     ]
    },
    {
     "data": {
      "text/plain": [
       "43544"
      ]
     },
     "execution_count": 5,
     "metadata": {},
     "output_type": "execute_result"
    }
   ],
   "source": [
    "neg_sentences = story_liwc[story_liwc['negemo'].astype(bool)]\n",
    "print(len(neg_sentences))\n",
    "neg_sentences = neg_sentences[neg_sentences['posemo'] == 0]\n",
    "print(len(neg_sentences))\n",
    "pos_sentences = story_liwc[story_liwc['posemo'].astype(bool)]\n",
    "pos_sentences = pos_sentences[pos_sentences['negemo'] == 0]\n",
    "len(pos_sentences)"
   ]
  },
  {
   "cell_type": "code",
   "execution_count": 6,
   "metadata": {
    "collapsed": false,
    "deletable": true,
    "editable": true
   },
   "outputs": [],
   "source": [
    "def diff(x):\n",
    "    return x['posemo'] - x['negemo'] \n",
    "\n",
    "total = len(neg_sentences) + len(pos_sentences)\n",
    "sentence_polarities = pd.DataFrame(data={'negemo': (neg_sentences.astype(bool).sum() / total)}, index=columns)\n",
    "sentence_polarities['posemo'] = (pos_sentences.astype(bool).sum() / total)\n",
    "sentence_polarities['diff'] = sentence_polarities.apply(diff,axis=1)"
   ]
  },
  {
   "cell_type": "code",
   "execution_count": 7,
   "metadata": {
    "collapsed": false,
    "deletable": true,
    "editable": true
   },
   "outputs": [
    {
     "data": {
      "text/html": [
       "<div>\n",
       "<table border=\"1\" class=\"dataframe\">\n",
       "  <thead>\n",
       "    <tr style=\"text-align: right;\">\n",
       "      <th></th>\n",
       "      <th>negemo</th>\n",
       "      <th>posemo</th>\n",
       "      <th>diff</th>\n",
       "    </tr>\n",
       "  </thead>\n",
       "  <tbody>\n",
       "    <tr>\n",
       "      <th>i</th>\n",
       "      <td>0.079221</td>\n",
       "      <td>0.244275</td>\n",
       "      <td>0.165054</td>\n",
       "    </tr>\n",
       "    <tr>\n",
       "      <th>we</th>\n",
       "      <td>0.012707</td>\n",
       "      <td>0.045835</td>\n",
       "      <td>0.033128</td>\n",
       "    </tr>\n",
       "    <tr>\n",
       "      <th>you</th>\n",
       "      <td>0.143807</td>\n",
       "      <td>0.448345</td>\n",
       "      <td>0.304539</td>\n",
       "    </tr>\n",
       "    <tr>\n",
       "      <th>shehe</th>\n",
       "      <td>0.137367</td>\n",
       "      <td>0.424498</td>\n",
       "      <td>0.287131</td>\n",
       "    </tr>\n",
       "    <tr>\n",
       "      <th>they</th>\n",
       "      <td>0.049588</td>\n",
       "      <td>0.158149</td>\n",
       "      <td>0.108561</td>\n",
       "    </tr>\n",
       "    <tr>\n",
       "      <th>family</th>\n",
       "      <td>0.011209</td>\n",
       "      <td>0.035866</td>\n",
       "      <td>0.024656</td>\n",
       "    </tr>\n",
       "    <tr>\n",
       "      <th>friend</th>\n",
       "      <td>0.014291</td>\n",
       "      <td>0.103602</td>\n",
       "      <td>0.089311</td>\n",
       "    </tr>\n",
       "  </tbody>\n",
       "</table>\n",
       "</div>"
      ],
      "text/plain": [
       "          negemo    posemo      diff\n",
       "i       0.079221  0.244275  0.165054\n",
       "we      0.012707  0.045835  0.033128\n",
       "you     0.143807  0.448345  0.304539\n",
       "shehe   0.137367  0.424498  0.287131\n",
       "they    0.049588  0.158149  0.108561\n",
       "family  0.011209  0.035866  0.024656\n",
       "friend  0.014291  0.103602  0.089311"
      ]
     },
     "execution_count": 7,
     "metadata": {},
     "output_type": "execute_result"
    }
   ],
   "source": [
    "## Overall person references\n",
    "sentence_polarities.ix[['i','we','you','shehe','they','family','friend']]"
   ]
  },
  {
   "cell_type": "code",
   "execution_count": 8,
   "metadata": {
    "collapsed": false,
    "deletable": true,
    "editable": true
   },
   "outputs": [
    {
     "data": {
      "text/html": [
       "<div>\n",
       "<table border=\"1\" class=\"dataframe\">\n",
       "  <thead>\n",
       "    <tr style=\"text-align: right;\">\n",
       "      <th></th>\n",
       "      <th>negemo</th>\n",
       "      <th>posemo</th>\n",
       "      <th>diff</th>\n",
       "    </tr>\n",
       "  </thead>\n",
       "  <tbody>\n",
       "    <tr>\n",
       "      <th>social</th>\n",
       "      <td>0.205809</td>\n",
       "      <td>0.656944</td>\n",
       "      <td>0.451135</td>\n",
       "    </tr>\n",
       "    <tr>\n",
       "      <th>work</th>\n",
       "      <td>0.058025</td>\n",
       "      <td>0.231757</td>\n",
       "      <td>0.173732</td>\n",
       "    </tr>\n",
       "    <tr>\n",
       "      <th>leisure</th>\n",
       "      <td>0.060556</td>\n",
       "      <td>0.226489</td>\n",
       "      <td>0.165932</td>\n",
       "    </tr>\n",
       "    <tr>\n",
       "      <th>money</th>\n",
       "      <td>0.060798</td>\n",
       "      <td>0.221013</td>\n",
       "      <td>0.160216</td>\n",
       "    </tr>\n",
       "  </tbody>\n",
       "</table>\n",
       "</div>"
      ],
      "text/plain": [
       "           negemo    posemo      diff\n",
       "social   0.205809  0.656944  0.451135\n",
       "work     0.058025  0.231757  0.173732\n",
       "leisure  0.060556  0.226489  0.165932\n",
       "money    0.060798  0.221013  0.160216"
      ]
     },
     "execution_count": 8,
     "metadata": {},
     "output_type": "execute_result"
    }
   ],
   "source": [
    "## Overall social topics\n",
    "sentence_polarities.ix[['social','work','leisure','money']]"
   ]
  },
  {
   "cell_type": "code",
   "execution_count": 9,
   "metadata": {
    "collapsed": false,
    "deletable": true,
    "editable": true
   },
   "outputs": [
    {
     "data": {
      "text/html": [
       "<div>\n",
       "<table border=\"1\" class=\"dataframe\">\n",
       "  <thead>\n",
       "    <tr style=\"text-align: right;\">\n",
       "      <th></th>\n",
       "      <th>negemo</th>\n",
       "      <th>posemo</th>\n",
       "      <th>diff</th>\n",
       "    </tr>\n",
       "  </thead>\n",
       "  <tbody>\n",
       "    <tr>\n",
       "      <th>insight</th>\n",
       "      <td>0.136937</td>\n",
       "      <td>0.452822</td>\n",
       "      <td>0.315886</td>\n",
       "    </tr>\n",
       "    <tr>\n",
       "      <th>cause</th>\n",
       "      <td>0.112435</td>\n",
       "      <td>0.368728</td>\n",
       "      <td>0.256293</td>\n",
       "    </tr>\n",
       "    <tr>\n",
       "      <th>discrep</th>\n",
       "      <td>0.137694</td>\n",
       "      <td>0.452357</td>\n",
       "      <td>0.314663</td>\n",
       "    </tr>\n",
       "    <tr>\n",
       "      <th>tentat</th>\n",
       "      <td>0.168739</td>\n",
       "      <td>0.539206</td>\n",
       "      <td>0.370467</td>\n",
       "    </tr>\n",
       "    <tr>\n",
       "      <th>certain</th>\n",
       "      <td>0.061538</td>\n",
       "      <td>0.269861</td>\n",
       "      <td>0.208323</td>\n",
       "    </tr>\n",
       "    <tr>\n",
       "      <th>inhib</th>\n",
       "      <td>0.117514</td>\n",
       "      <td>0.361014</td>\n",
       "      <td>0.243500</td>\n",
       "    </tr>\n",
       "    <tr>\n",
       "      <th>incl</th>\n",
       "      <td>0.195737</td>\n",
       "      <td>0.596594</td>\n",
       "      <td>0.400857</td>\n",
       "    </tr>\n",
       "    <tr>\n",
       "      <th>excl</th>\n",
       "      <td>0.142963</td>\n",
       "      <td>0.462774</td>\n",
       "      <td>0.319811</td>\n",
       "    </tr>\n",
       "  </tbody>\n",
       "</table>\n",
       "</div>"
      ],
      "text/plain": [
       "           negemo    posemo      diff\n",
       "insight  0.136937  0.452822  0.315886\n",
       "cause    0.112435  0.368728  0.256293\n",
       "discrep  0.137694  0.452357  0.314663\n",
       "tentat   0.168739  0.539206  0.370467\n",
       "certain  0.061538  0.269861  0.208323\n",
       "inhib    0.117514  0.361014  0.243500\n",
       "incl     0.195737  0.596594  0.400857\n",
       "excl     0.142963  0.462774  0.319811"
      ]
     },
     "execution_count": 9,
     "metadata": {},
     "output_type": "execute_result"
    }
   ],
   "source": [
    "## Overall Cognitive processes\n",
    "sentence_polarities.ix[['insight','cause','discrep','tentat','certain','inhib','incl','excl']]"
   ]
  },
  {
   "cell_type": "code",
   "execution_count": 10,
   "metadata": {
    "collapsed": false,
    "deletable": true,
    "editable": true
   },
   "outputs": [
    {
     "data": {
      "text/html": [
       "<div>\n",
       "<table border=\"1\" class=\"dataframe\">\n",
       "  <thead>\n",
       "    <tr style=\"text-align: right;\">\n",
       "      <th></th>\n",
       "      <th>negemo</th>\n",
       "      <th>posemo</th>\n",
       "      <th>diff</th>\n",
       "    </tr>\n",
       "  </thead>\n",
       "  <tbody>\n",
       "    <tr>\n",
       "      <th>posemo</th>\n",
       "      <td>0.000000</td>\n",
       "      <td>0.749750</td>\n",
       "      <td>0.749750</td>\n",
       "    </tr>\n",
       "    <tr>\n",
       "      <th>affect</th>\n",
       "      <td>0.250232</td>\n",
       "      <td>0.749699</td>\n",
       "      <td>0.499466</td>\n",
       "    </tr>\n",
       "    <tr>\n",
       "      <th>cogmech</th>\n",
       "      <td>0.235993</td>\n",
       "      <td>0.719808</td>\n",
       "      <td>0.483815</td>\n",
       "    </tr>\n",
       "    <tr>\n",
       "      <th>funct</th>\n",
       "      <td>0.241003</td>\n",
       "      <td>0.724112</td>\n",
       "      <td>0.483109</td>\n",
       "    </tr>\n",
       "    <tr>\n",
       "      <th>social</th>\n",
       "      <td>0.205809</td>\n",
       "      <td>0.656944</td>\n",
       "      <td>0.451135</td>\n",
       "    </tr>\n",
       "    <tr>\n",
       "      <th>verb</th>\n",
       "      <td>0.211474</td>\n",
       "      <td>0.654654</td>\n",
       "      <td>0.443180</td>\n",
       "    </tr>\n",
       "    <tr>\n",
       "      <th>relativ</th>\n",
       "      <td>0.222873</td>\n",
       "      <td>0.660302</td>\n",
       "      <td>0.437429</td>\n",
       "    </tr>\n",
       "    <tr>\n",
       "      <th>pronoun</th>\n",
       "      <td>0.209305</td>\n",
       "      <td>0.638503</td>\n",
       "      <td>0.429199</td>\n",
       "    </tr>\n",
       "    <tr>\n",
       "      <th>incl</th>\n",
       "      <td>0.195737</td>\n",
       "      <td>0.596594</td>\n",
       "      <td>0.400857</td>\n",
       "    </tr>\n",
       "    <tr>\n",
       "      <th>ipron</th>\n",
       "      <td>0.185475</td>\n",
       "      <td>0.575261</td>\n",
       "      <td>0.389786</td>\n",
       "    </tr>\n",
       "  </tbody>\n",
       "</table>\n",
       "</div>"
      ],
      "text/plain": [
       "           negemo    posemo      diff\n",
       "posemo   0.000000  0.749750  0.749750\n",
       "affect   0.250232  0.749699  0.499466\n",
       "cogmech  0.235993  0.719808  0.483815\n",
       "funct    0.241003  0.724112  0.483109\n",
       "social   0.205809  0.656944  0.451135\n",
       "verb     0.211474  0.654654  0.443180\n",
       "relativ  0.222873  0.660302  0.437429\n",
       "pronoun  0.209305  0.638503  0.429199\n",
       "incl     0.195737  0.596594  0.400857\n",
       "ipron    0.185475  0.575261  0.389786"
      ]
     },
     "execution_count": 10,
     "metadata": {},
     "output_type": "execute_result"
    }
   ],
   "source": [
    "## most positive\n",
    "sentence_polarities.sort_values('diff',ascending=False).head(10)"
   ]
  },
  {
   "cell_type": "code",
   "execution_count": 11,
   "metadata": {
    "collapsed": false,
    "deletable": true,
    "editable": true
   },
   "outputs": [
    {
     "data": {
      "text/html": [
       "<div>\n",
       "<table border=\"1\" class=\"dataframe\">\n",
       "  <thead>\n",
       "    <tr style=\"text-align: right;\">\n",
       "      <th></th>\n",
       "      <th>negemo</th>\n",
       "      <th>posemo</th>\n",
       "      <th>diff</th>\n",
       "    </tr>\n",
       "  </thead>\n",
       "  <tbody>\n",
       "    <tr>\n",
       "      <th>negemo</th>\n",
       "      <td>0.250250</td>\n",
       "      <td>0.000000</td>\n",
       "      <td>-0.250250</td>\n",
       "    </tr>\n",
       "    <tr>\n",
       "      <th>sad</th>\n",
       "      <td>0.118823</td>\n",
       "      <td>0.000000</td>\n",
       "      <td>-0.118823</td>\n",
       "    </tr>\n",
       "    <tr>\n",
       "      <th>anger</th>\n",
       "      <td>0.088054</td>\n",
       "      <td>0.000000</td>\n",
       "      <td>-0.088054</td>\n",
       "    </tr>\n",
       "    <tr>\n",
       "      <th>anx</th>\n",
       "      <td>0.053497</td>\n",
       "      <td>0.000499</td>\n",
       "      <td>-0.052998</td>\n",
       "    </tr>\n",
       "    <tr>\n",
       "      <th>death</th>\n",
       "      <td>0.018527</td>\n",
       "      <td>0.012311</td>\n",
       "      <td>-0.006216</td>\n",
       "    </tr>\n",
       "    <tr>\n",
       "      <th>filler</th>\n",
       "      <td>0.005527</td>\n",
       "      <td>0.015186</td>\n",
       "      <td>0.009659</td>\n",
       "    </tr>\n",
       "    <tr>\n",
       "      <th>family</th>\n",
       "      <td>0.011209</td>\n",
       "      <td>0.035866</td>\n",
       "      <td>0.024656</td>\n",
       "    </tr>\n",
       "    <tr>\n",
       "      <th>we</th>\n",
       "      <td>0.012707</td>\n",
       "      <td>0.045835</td>\n",
       "      <td>0.033128</td>\n",
       "    </tr>\n",
       "    <tr>\n",
       "      <th>health</th>\n",
       "      <td>0.048728</td>\n",
       "      <td>0.087796</td>\n",
       "      <td>0.039068</td>\n",
       "    </tr>\n",
       "    <tr>\n",
       "      <th>assent</th>\n",
       "      <td>0.006061</td>\n",
       "      <td>0.045628</td>\n",
       "      <td>0.039567</td>\n",
       "    </tr>\n",
       "  </tbody>\n",
       "</table>\n",
       "</div>"
      ],
      "text/plain": [
       "          negemo    posemo      diff\n",
       "negemo  0.250250  0.000000 -0.250250\n",
       "sad     0.118823  0.000000 -0.118823\n",
       "anger   0.088054  0.000000 -0.088054\n",
       "anx     0.053497  0.000499 -0.052998\n",
       "death   0.018527  0.012311 -0.006216\n",
       "filler  0.005527  0.015186  0.009659\n",
       "family  0.011209  0.035866  0.024656\n",
       "we      0.012707  0.045835  0.033128\n",
       "health  0.048728  0.087796  0.039068\n",
       "assent  0.006061  0.045628  0.039567"
      ]
     },
     "execution_count": 11,
     "metadata": {},
     "output_type": "execute_result"
    }
   ],
   "source": [
    "## most negative\n",
    "sentence_polarities.sort_values('diff',ascending=True).head(10)"
   ]
  },
  {
   "cell_type": "code",
   "execution_count": 13,
   "metadata": {
    "collapsed": false,
    "deletable": true,
    "editable": true
   },
   "outputs": [
    {
     "data": {
      "text/html": [
       "<div>\n",
       "<table border=\"1\" class=\"dataframe\">\n",
       "  <thead>\n",
       "    <tr style=\"text-align: right;\">\n",
       "      <th></th>\n",
       "      <th>negemo</th>\n",
       "      <th>posemo</th>\n",
       "      <th>diff</th>\n",
       "    </tr>\n",
       "  </thead>\n",
       "  <tbody>\n",
       "    <tr>\n",
       "      <th>death</th>\n",
       "      <td>0.018527</td>\n",
       "      <td>0.012311</td>\n",
       "      <td>-0.006216</td>\n",
       "    </tr>\n",
       "    <tr>\n",
       "      <th>family</th>\n",
       "      <td>0.011209</td>\n",
       "      <td>0.035866</td>\n",
       "      <td>0.024656</td>\n",
       "    </tr>\n",
       "    <tr>\n",
       "      <th>health</th>\n",
       "      <td>0.048728</td>\n",
       "      <td>0.087796</td>\n",
       "      <td>0.039068</td>\n",
       "    </tr>\n",
       "    <tr>\n",
       "      <th>work</th>\n",
       "      <td>0.058025</td>\n",
       "      <td>0.231757</td>\n",
       "      <td>0.173732</td>\n",
       "    </tr>\n",
       "    <tr>\n",
       "      <th>friend</th>\n",
       "      <td>0.014291</td>\n",
       "      <td>0.103602</td>\n",
       "      <td>0.089311</td>\n",
       "    </tr>\n",
       "  </tbody>\n",
       "</table>\n",
       "</div>"
      ],
      "text/plain": [
       "          negemo    posemo      diff\n",
       "death   0.018527  0.012311 -0.006216\n",
       "family  0.011209  0.035866  0.024656\n",
       "health  0.048728  0.087796  0.039068\n",
       "work    0.058025  0.231757  0.173732\n",
       "friend  0.014291  0.103602  0.089311"
      ]
     },
     "execution_count": 13,
     "metadata": {},
     "output_type": "execute_result"
    }
   ],
   "source": [
    "## Overall Cognitive processes\n",
    "sentence_polarities.ix[['death','family','health','work','friend']]"
   ]
  },
  {
   "cell_type": "code",
   "execution_count": null,
   "metadata": {
    "collapsed": true,
    "deletable": true,
    "editable": true
   },
   "outputs": [],
   "source": []
  }
 ],
 "metadata": {
  "kernelspec": {
   "display_name": "Python 3",
   "language": "python",
   "name": "python3"
  },
  "language_info": {
   "codemirror_mode": {
    "name": "ipython",
    "version": 3
   },
   "file_extension": ".py",
   "mimetype": "text/x-python",
   "name": "python",
   "nbconvert_exporter": "python",
   "pygments_lexer": "ipython3",
   "version": "3.5.2"
  }
 },
 "nbformat": 4,
 "nbformat_minor": 2
}
