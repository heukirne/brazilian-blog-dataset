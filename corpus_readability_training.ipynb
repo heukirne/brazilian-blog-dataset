{
 "cells": [
  {
   "cell_type": "code",
   "execution_count": 78,
   "metadata": {
    "collapsed": true
   },
   "outputs": [],
   "source": [
    "import pandas as pd\n",
    "import numpy as np\n",
    "from sklearn import svm\n",
    "from sklearn.model_selection import GridSearchCV, cross_val_score\n",
    "\n",
    "readability = pd.read_csv('corpus_readability.csv.gz', compression='gzip')\n",
    "corpus = pd.read_csv('corpus.csv.gz', compression='gzip')\n",
    "corpus = corpus[corpus['qual_a_melhor_classificao_para_esse_texto:confidence'] == 1]\n",
    "readability = readability.ix[corpus.index.values]"
   ]
  },
  {
   "cell_type": "code",
   "execution_count": 79,
   "metadata": {},
   "outputs": [
    {
     "name": "stdout",
     "output_type": "stream",
     "text": [
      "['diario' 'outro']\n",
      "466    1\n",
      "467   -1\n",
      "Name: class_, dtype: int64\n"
     ]
    }
   ],
   "source": [
    "# fix labels to binary\n",
    "def classFit(x):\n",
    "    if x['class'] == \"diario\":\n",
    "        return 1\n",
    "    else:\n",
    "        return -1\n",
    "\n",
    "readability['confidence'] = corpus['qual_a_melhor_classificao_para_esse_texto:confidence']\n",
    "readability['class_'] = readability.apply(classFit,axis=1)\n",
    "#readability = readability[readability['confidence'] == 1]\n",
    "target = readability['class_'].values\n",
    "\n",
    "print(readability['class'].values[:2])\n",
    "print(readability['class_'][:2])"
   ]
  },
  {
   "cell_type": "code",
   "execution_count": 80,
   "metadata": {
    "collapsed": true
   },
   "outputs": [],
   "source": [
    "readability.drop('class', axis=1,inplace=True)\n",
    "readability.drop('class_', axis=1,inplace=True)\n",
    "readability.drop('Unnamed: 0', axis=1,inplace=True)\n",
    "readability.drop('confidence', axis=1,inplace=True)"
   ]
  },
  {
   "cell_type": "code",
   "execution_count": 81,
   "metadata": {},
   "outputs": [],
   "source": [
    "data = readability\n",
    "data = data.apply(pd.to_numeric, args=('coerce',))\n",
    "data = data.replace('NaN',0)\n",
    "data[data < 0] = 0\n",
    "data = data.as_matrix()"
   ]
  },
  {
   "cell_type": "code",
   "execution_count": 72,
   "metadata": {},
   "outputs": [
    {
     "name": "stdout",
     "output_type": "stream",
     "text": [
      "0.73243077621\n",
      "0.62380664409\n",
      "0.663865546218\n"
     ]
    }
   ],
   "source": [
    "from sklearn.naive_bayes import MultinomialNB\n",
    "\n",
    "model = MultinomialNB(alpha=0.001)\n",
    "\n",
    "precision = cross_val_score(model, data, target, cv=10, scoring='precision').mean()\n",
    "acc = cross_val_score(model, data, target, cv=10, scoring='accuracy').mean()\n",
    "recall = cross_val_score(model, data, target, cv=10, scoring='recall').mean()\n",
    "print(precision)\n",
    "print(acc)\n",
    "print(recall)"
   ]
  },
  {
   "cell_type": "code",
   "execution_count": 76,
   "metadata": {},
   "outputs": [
    {
     "name": "stdout",
     "output_type": "stream",
     "text": [
      "0.688385753774\n",
      "0.573351072408\n",
      "0.592100840336\n"
     ]
    }
   ],
   "source": [
    "model = svm.LinearSVC(C=2.15)\n",
    "\n",
    "precision = cross_val_score(model, data, target, cv=10, scoring='precision').mean()\n",
    "acc = cross_val_score(model, data, target, cv=10, scoring='accuracy').mean()\n",
    "recall = cross_val_score(model, data, target, cv=10, scoring='recall').mean()\n",
    "print(precision)\n",
    "print(acc)\n",
    "print(recall)"
   ]
  },
  {
   "cell_type": "code",
   "execution_count": 7,
   "metadata": {},
   "outputs": [
    {
     "name": "stdout",
     "output_type": "stream",
     "text": [
      "Fitting 10 folds for each of 14 candidates, totalling 140 fits\n",
      "[CV] C=0.001, kernel=rbf .............................................\n",
      "[CV] C=0.001, kernel=rbf .............................................\n",
      "[CV] C=0.001, kernel=rbf .............................................\n",
      "[CV] C=0.001, kernel=rbf .............................................\n",
      "[CV] C=0.001, kernel=rbf .............................................\n",
      "[CV] C=0.001, kernel=rbf .............................................\n",
      "[CV] .............. C=0.001, kernel=rbf, score=0.648148, total=   0.0s\n",
      "[CV] C=0.001, kernel=rbf .............................................\n",
      "[CV] C=0.001, kernel=rbf .............................................\n",
      "[CV] C=0.001, kernel=rbf .............................................\n",
      "[CV] .............. C=0.001, kernel=rbf, score=0.648148, total=   0.0s\n",
      "[CV] C=0.001, kernel=rbf .............................................\n",
      "[CV] C=0.001, kernel=linear ..........................................\n",
      "[CV] C=0.001, kernel=linear ..........................................\n",
      "[CV] .............. C=0.001, kernel=rbf, score=0.648148, total=   0.1s\n",
      "[CV] .............. C=0.001, kernel=rbf, score=0.648148, total=   0.2s\n",
      "[CV] C=0.001, kernel=linear ..........................................\n",
      "[CV] .............. C=0.001, kernel=rbf, score=0.641509, total=   0.1s\n",
      "[CV] .............. C=0.001, kernel=rbf, score=0.653846, total=   0.1s\n",
      "[CV] C=0.001, kernel=linear ..........................................\n",
      "[CV] .............. C=0.001, kernel=rbf, score=0.648148, total=   0.1s\n",
      "[CV] C=0.001, kernel=linear ..........................................\n",
      "[CV] .............. C=0.001, kernel=rbf, score=0.641509, total=   0.1s\n",
      "[CV] C=0.001, kernel=linear ..........................................\n",
      "[CV] .............. C=0.001, kernel=rbf, score=0.641509, total=   0.1s\n",
      "[CV] C=0.001, kernel=linear ..........................................\n",
      "[CV] .............. C=0.001, kernel=rbf, score=0.641509, total=   0.1s\n",
      "[CV] C=0.001, kernel=linear ..........................................\n",
      "[CV] C=0.001, kernel=linear ..........................................\n",
      "[CV] C=0.001, kernel=linear ..........................................\n",
      "[CV] ........... C=0.001, kernel=linear, score=0.722222, total=   0.5s\n",
      "[CV] C=0.01, kernel=rbf ..............................................\n",
      "[CV] ........... C=0.001, kernel=linear, score=0.703704, total=   0.5s\n",
      "[CV] C=0.01, kernel=rbf ..............................................\n",
      "[CV] ........... C=0.001, kernel=linear, score=0.740741, total=   0.4s\n",
      "[CV] C=0.01, kernel=rbf ..............................................\n",
      "[CV] ............... C=0.01, kernel=rbf, score=0.648148, total=   0.1s\n",
      "[CV] ........... C=0.001, kernel=linear, score=0.666667, total=   0.5s\n"
     ]
    },
    {
     "name": "stderr",
     "output_type": "stream",
     "text": [
      "[Parallel(n_jobs=10)]: Done  12 tasks      | elapsed:    0.7s\n"
     ]
    },
    {
     "name": "stdout",
     "output_type": "stream",
     "text": [
      "[CV] C=0.01, kernel=rbf ..............................................\n",
      "[CV] ........... C=0.001, kernel=linear, score=0.740741, total=   0.5s\n",
      "[CV] C=0.01, kernel=rbf ..............................................\n",
      "[CV] C=0.01, kernel=rbf ..............................................\n",
      "[CV] ............... C=0.01, kernel=rbf, score=0.648148, total=   0.2s\n",
      "[CV] C=0.01, kernel=rbf ..............................................\n",
      "[CV] ............... C=0.01, kernel=rbf, score=0.648148, total=   0.1s\n",
      "[CV] C=0.01, kernel=rbf ..............................................\n",
      "[CV] ........... C=0.001, kernel=linear, score=0.826923, total=   0.6s\n",
      "[CV] ............... C=0.01, kernel=rbf, score=0.641509, total=   0.1s\n",
      "[CV] ............... C=0.01, kernel=rbf, score=0.641509, total=   0.1s\n",
      "[CV] C=0.01, kernel=rbf ..............................................\n",
      "[CV] C=0.01, kernel=linear ...........................................\n",
      "[CV] C=0.01, kernel=rbf ..............................................\n",
      "[CV] ........... C=0.001, kernel=linear, score=0.698113, total=   0.7s\n",
      "[CV] C=0.01, kernel=linear ...........................................\n",
      "[CV] ............... C=0.01, kernel=rbf, score=0.648148, total=   0.1s\n",
      "[CV] C=0.01, kernel=linear ...........................................\n",
      "[CV] ............... C=0.01, kernel=rbf, score=0.648148, total=   0.1s\n",
      "[CV] C=0.01, kernel=linear ...........................................\n",
      "[CV] ........... C=0.001, kernel=linear, score=0.830189, total=   0.9s\n",
      "[CV] C=0.01, kernel=linear ...........................................\n",
      "[CV] ........... C=0.001, kernel=linear, score=0.773585, total=   1.0s\n",
      "[CV] ............... C=0.01, kernel=rbf, score=0.641509, total=   0.1s\n",
      "[CV] ............... C=0.01, kernel=rbf, score=0.641509, total=   0.2s\n",
      "[CV] C=0.1, kernel=rbf ...............................................\n",
      "[CV] C=0.1, kernel=rbf ...............................................\n",
      "[CV] C=0.1, kernel=rbf ...............................................\n",
      "[CV] ............... C=0.01, kernel=rbf, score=0.653846, total=   0.1s\n",
      "[CV] C=0.1, kernel=rbf ...............................................\n",
      "[CV] ........... C=0.001, kernel=linear, score=0.698113, total=   1.1s\n",
      "[CV] C=0.1, kernel=rbf ...............................................\n",
      "[CV] ................ C=0.1, kernel=rbf, score=0.648148, total=   0.1s\n",
      "[CV] ................ C=0.1, kernel=rbf, score=0.648148, total=   0.1s\n",
      "[CV] ................ C=0.1, kernel=rbf, score=0.648148, total=   0.1s\n",
      "[CV] C=0.1, kernel=rbf ...............................................\n",
      "[CV] C=0.1, kernel=rbf ...............................................\n",
      "[CV] ................ C=0.1, kernel=rbf, score=0.641509, total=   0.1s\n",
      "[CV] C=0.1, kernel=rbf ...............................................\n",
      "[CV] C=0.1, kernel=rbf ...............................................\n",
      "[CV] ................ C=0.1, kernel=rbf, score=0.641509, total=   0.1s\n",
      "[CV] C=0.1, kernel=rbf ...............................................\n",
      "[CV] ................ C=0.1, kernel=rbf, score=0.641509, total=   0.1s\n",
      "[CV] ................ C=0.1, kernel=rbf, score=0.648148, total=   0.1s\n",
      "[CV] ................ C=0.1, kernel=rbf, score=0.641509, total=   0.2s\n",
      "[CV] ................ C=0.1, kernel=rbf, score=0.648148, total=   0.1s\n",
      "[CV] C=0.1, kernel=linear ............................................\n",
      "[CV] C=0.1, kernel=linear ............................................\n",
      "[CV] C=0.1, kernel=linear ............................................\n",
      "[CV] C=0.1, kernel=linear ............................................\n",
      "[CV] ................ C=0.1, kernel=rbf, score=0.653846, total=   0.0s\n",
      "[CV] C=0.1, kernel=linear ............................................\n",
      "[CV] ............ C=0.01, kernel=linear, score=0.740741, total=   5.1s\n",
      "[CV] C=0.01, kernel=linear ...........................................\n",
      "[CV] ............ C=0.01, kernel=linear, score=0.777778, total=   6.0s\n",
      "[CV] C=0.01, kernel=linear ...........................................\n",
      "[CV] ............ C=0.01, kernel=linear, score=0.830189, total=   6.2s\n",
      "[CV] C=0.01, kernel=linear ...........................................\n",
      "[CV] ............ C=0.01, kernel=linear, score=0.703704, total=   8.0s\n",
      "[CV] C=0.01, kernel=linear ...........................................\n",
      "[CV] ............ C=0.01, kernel=linear, score=0.679245, total=  11.3s\n",
      "[CV] C=0.01, kernel=linear ...........................................\n",
      "[CV] ............ C=0.01, kernel=linear, score=0.735849, total=   6.8s\n",
      "[CV] C=1.0, kernel=rbf ...............................................\n",
      "[CV] ................ C=1.0, kernel=rbf, score=0.648148, total=   0.2s\n",
      "[CV] C=1.0, kernel=rbf ...............................................\n",
      "[CV] ................ C=1.0, kernel=rbf, score=0.648148, total=   0.1s\n",
      "[CV] C=1.0, kernel=rbf ...............................................\n",
      "[CV] ................ C=1.0, kernel=rbf, score=0.648148, total=   0.1s\n",
      "[CV] C=1.0, kernel=rbf ...............................................\n",
      "[CV] ................ C=1.0, kernel=rbf, score=0.648148, total=   0.1s\n",
      "[CV] C=1.0, kernel=rbf ...............................................\n",
      "[CV] ................ C=1.0, kernel=rbf, score=0.648148, total=   0.1s\n",
      "[CV] C=1.0, kernel=rbf ...............................................\n",
      "[CV] ................ C=1.0, kernel=rbf, score=0.641509, total=   0.1s\n",
      "[CV] C=1.0, kernel=rbf ...............................................\n",
      "[CV] ................ C=1.0, kernel=rbf, score=0.641509, total=   0.1s\n",
      "[CV] C=1.0, kernel=rbf ...............................................\n",
      "[CV] ............ C=0.01, kernel=linear, score=0.703704, total=   9.7s\n",
      "[CV] ................ C=1.0, kernel=rbf, score=0.641509, total=   0.1s\n",
      "[CV] C=1.0, kernel=rbf ...............................................\n",
      "[CV] C=1.0, kernel=linear ............................................\n",
      "[CV] ................ C=1.0, kernel=rbf, score=0.641509, total=   0.1s\n",
      "[CV] C=1.0, kernel=rbf ...............................................\n",
      "[CV] ................ C=1.0, kernel=rbf, score=0.653846, total=   0.1s\n",
      "[CV] C=1.0, kernel=linear ............................................\n",
      "[CV] ............ C=0.01, kernel=linear, score=0.826923, total=   9.8s\n",
      "[CV] C=1.0, kernel=linear ............................................\n",
      "[CV] ............ C=0.01, kernel=linear, score=0.722222, total=  12.8s\n",
      "[CV] C=1.0, kernel=linear ............................................\n",
      "[CV] ............ C=0.01, kernel=linear, score=0.735849, total=  17.0s\n",
      "[CV] C=1.0, kernel=linear ............................................\n",
      "[CV] ............. C=0.1, kernel=linear, score=0.666667, total=  39.5s\n",
      "[CV] C=0.1, kernel=linear ............................................\n",
      "[CV] ............. C=0.1, kernel=linear, score=0.740741, total=  54.2s\n",
      "[CV] C=0.1, kernel=linear ............................................\n",
      "[CV] ............. C=0.1, kernel=linear, score=0.740741, total= 1.0min\n",
      "[CV] C=0.1, kernel=linear ............................................\n",
      "[CV] ............. C=0.1, kernel=linear, score=0.716981, total= 1.0min\n",
      "[CV] C=0.1, kernel=linear ............................................\n",
      "[CV] ............. C=0.1, kernel=linear, score=0.792453, total= 1.7min\n",
      "[CV] C=0.1, kernel=linear ............................................\n",
      "[CV] ............. C=0.1, kernel=linear, score=0.735849, total=  54.6s\n",
      "[CV] C=10.0, kernel=rbf ..............................................\n",
      "[CV] ............... C=10.0, kernel=rbf, score=0.648148, total=   0.1s\n",
      "[CV] C=10.0, kernel=rbf ..............................................\n",
      "[CV] ............... C=10.0, kernel=rbf, score=0.648148, total=   0.1s\n",
      "[CV] C=10.0, kernel=rbf ..............................................\n",
      "[CV] ............... C=10.0, kernel=rbf, score=0.648148, total=   0.1s\n",
      "[CV] C=10.0, kernel=rbf ..............................................\n",
      "[CV] ............... C=10.0, kernel=rbf, score=0.648148, total=   0.1s\n",
      "[CV] C=10.0, kernel=rbf ..............................................\n",
      "[CV] ............... C=10.0, kernel=rbf, score=0.648148, total=   0.1s\n",
      "[CV] C=10.0, kernel=rbf ..............................................\n",
      "[CV] ............... C=10.0, kernel=rbf, score=0.641509, total=   0.1s\n",
      "[CV] C=10.0, kernel=rbf ..............................................\n"
     ]
    },
    {
     "name": "stdout",
     "output_type": "stream",
     "text": [
      "[CV] ............... C=10.0, kernel=rbf, score=0.641509, total=   0.1s\n",
      "[CV] C=10.0, kernel=rbf ..............................................\n",
      "[CV] ............... C=10.0, kernel=rbf, score=0.641509, total=   0.1s\n",
      "[CV] C=10.0, kernel=rbf ..............................................\n",
      "[CV] ............... C=10.0, kernel=rbf, score=0.641509, total=   0.1s\n",
      "[CV] C=10.0, kernel=rbf ..............................................\n",
      "[CV] ............... C=10.0, kernel=rbf, score=0.653846, total=   0.1s\n",
      "[CV] C=10.0, kernel=linear ...........................................\n",
      "[CV] ............. C=0.1, kernel=linear, score=0.754717, total=  51.5s\n",
      "[CV] C=10.0, kernel=linear ...........................................\n",
      "[CV] ............. C=0.1, kernel=linear, score=0.740741, total= 1.4min\n",
      "[CV] C=10.0, kernel=linear ...........................................\n",
      "[CV] ............. C=0.1, kernel=linear, score=0.648148, total= 1.6min\n",
      "[CV] C=10.0, kernel=linear ...........................................\n",
      "[CV] ............. C=0.1, kernel=linear, score=0.788462, total= 1.4min\n",
      "[CV] C=10.0, kernel=linear ...........................................\n",
      "[CV] ............. C=1.0, kernel=linear, score=0.811321, total= 4.5min\n",
      "[CV] C=1.0, kernel=linear ............................................\n",
      "[CV] ............. C=1.0, kernel=linear, score=0.759259, total= 5.8min\n",
      "[CV] C=1.0, kernel=linear ............................................\n",
      "[CV] ............. C=1.0, kernel=linear, score=0.703704, total= 8.7min\n",
      "[CV] C=1.0, kernel=linear ............................................\n",
      "[CV] ............. C=1.0, kernel=linear, score=0.769231, total= 5.7min\n",
      "[CV] C=10.0, kernel=linear ...........................................\n",
      "[CV] ............. C=1.0, kernel=linear, score=0.660377, total=12.3min\n",
      "[CV] C=1.0, kernel=linear ............................................\n",
      "[CV] ............ C=10.0, kernel=linear, score=0.648148, total=11.1min\n",
      "[CV] C=10.0, kernel=linear ...........................................\n",
      "[CV] ............ C=10.0, kernel=linear, score=0.685185, total=11.8min\n",
      "[CV] C=10.0, kernel=linear ...........................................\n",
      "[CV] ............. C=1.0, kernel=linear, score=0.759259, total= 4.9min\n",
      "[CV] C=10.0, kernel=linear ...........................................\n",
      "[CV] ............. C=1.0, kernel=linear, score=0.754717, total= 7.8min\n",
      "[CV] C=10.0, kernel=linear ...........................................\n",
      "[CV] ............. C=1.0, kernel=linear, score=0.685185, total=15.9min\n",
      "[CV] C=1.0, kernel=linear ............................................\n",
      "[CV] ............ C=10.0, kernel=linear, score=0.685185, total=16.1min\n",
      "[CV] C=100.0, kernel=rbf .............................................\n",
      "[CV] .............. C=100.0, kernel=rbf, score=0.648148, total=   0.1s\n",
      "[CV] C=100.0, kernel=rbf .............................................\n",
      "[CV] .............. C=100.0, kernel=rbf, score=0.648148, total=   0.1s\n",
      "[CV] C=100.0, kernel=rbf .............................................\n",
      "[CV] .............. C=100.0, kernel=rbf, score=0.648148, total=   0.1s\n",
      "[CV] C=100.0, kernel=rbf .............................................\n",
      "[CV] .............. C=100.0, kernel=rbf, score=0.648148, total=   0.1s\n",
      "[CV] C=100.0, kernel=rbf .............................................\n",
      "[CV] .............. C=100.0, kernel=rbf, score=0.648148, total=   0.1s\n",
      "[CV] C=100.0, kernel=rbf .............................................\n",
      "[CV] .............. C=100.0, kernel=rbf, score=0.641509, total=   0.1s\n",
      "[CV] C=100.0, kernel=rbf .............................................\n",
      "[CV] .............. C=100.0, kernel=rbf, score=0.641509, total=   0.1s\n",
      "[CV] C=100.0, kernel=rbf .............................................\n",
      "[CV] .............. C=100.0, kernel=rbf, score=0.641509, total=   0.1s\n",
      "[CV] C=100.0, kernel=rbf .............................................\n",
      "[CV] .............. C=100.0, kernel=rbf, score=0.641509, total=   0.1s\n",
      "[CV] C=100.0, kernel=rbf .............................................\n",
      "[CV] .............. C=100.0, kernel=rbf, score=0.653846, total=   0.1s\n",
      "[CV] C=100.0, kernel=linear ..........................................\n",
      "[CV] ............ C=10.0, kernel=linear, score=0.703704, total=16.7min\n",
      "[CV] C=100.0, kernel=linear ..........................................\n",
      "[CV] ............. C=1.0, kernel=linear, score=0.716981, total= 8.0min\n",
      "[CV] C=100.0, kernel=linear ..........................................\n",
      "[CV] ............ C=10.0, kernel=linear, score=0.692308, total= 7.3min\n",
      "[CV] C=100.0, kernel=linear ..........................................\n",
      "[CV] ............. C=1.0, kernel=linear, score=0.666667, total= 5.2min\n",
      "[CV] C=100.0, kernel=linear ..........................................\n",
      "[CV] ............ C=10.0, kernel=linear, score=0.735849, total=12.1min\n",
      "[CV] C=100.0, kernel=linear ..........................................\n",
      "[CV] ............ C=10.0, kernel=linear, score=0.792453, total=15.1min\n",
      "[CV] C=100.0, kernel=linear ..........................................\n",
      "[CV] ............ C=10.0, kernel=linear, score=0.740741, total=27.4min\n",
      "[CV] C=100.0, kernel=linear ..........................................\n",
      "[CV] ........... C=100.0, kernel=linear, score=0.629630, total=13.9min\n",
      "[CV] C=100.0, kernel=linear ..........................................\n",
      "[CV] ............ C=10.0, kernel=linear, score=0.566038, total=20.0min\n",
      "[CV] C=100.0, kernel=linear ..........................................\n",
      "[CV] ............ C=10.0, kernel=linear, score=0.792453, total=22.5min\n",
      "[CV] C=1000.0, kernel=rbf ............................................\n",
      "[CV] ............. C=1000.0, kernel=rbf, score=0.648148, total=   0.1s\n",
      "[CV] C=1000.0, kernel=rbf ............................................\n",
      "[CV] ............. C=1000.0, kernel=rbf, score=0.648148, total=   0.1s\n",
      "[CV] C=1000.0, kernel=rbf ............................................\n",
      "[CV] ............. C=1000.0, kernel=rbf, score=0.648148, total=   0.1s\n",
      "[CV] C=1000.0, kernel=rbf ............................................\n",
      "[CV] ............. C=1000.0, kernel=rbf, score=0.648148, total=   0.1s\n",
      "[CV] C=1000.0, kernel=rbf ............................................\n",
      "[CV] ............. C=1000.0, kernel=rbf, score=0.648148, total=   0.1s\n",
      "[CV] C=1000.0, kernel=rbf ............................................\n",
      "[CV] ............. C=1000.0, kernel=rbf, score=0.641509, total=   0.1s\n",
      "[CV] C=1000.0, kernel=rbf ............................................\n",
      "[CV] ............. C=1000.0, kernel=rbf, score=0.641509, total=   0.1s\n",
      "[CV] C=1000.0, kernel=rbf ............................................\n",
      "[CV] ............. C=1000.0, kernel=rbf, score=0.641509, total=   0.1s\n",
      "[CV] C=1000.0, kernel=rbf ............................................\n",
      "[CV] ............. C=1000.0, kernel=rbf, score=0.641509, total=   0.1s\n",
      "[CV] C=1000.0, kernel=rbf ............................................\n",
      "[CV] ............. C=1000.0, kernel=rbf, score=0.653846, total=   0.1s\n",
      "[CV] C=1000.0, kernel=linear .........................................\n",
      "[CV] ........... C=100.0, kernel=linear, score=0.722222, total=14.5min\n",
      "[CV] C=1000.0, kernel=linear .........................................\n",
      "[CV] ........... C=100.0, kernel=linear, score=0.740741, total=16.0min\n",
      "[CV] C=1000.0, kernel=linear .........................................\n",
      "[CV] ........... C=100.0, kernel=linear, score=0.685185, total=21.5min\n",
      "[CV] C=1000.0, kernel=linear .........................................\n",
      "[CV] ........... C=100.0, kernel=linear, score=0.673077, total=12.9min\n",
      "[CV] C=1000.0, kernel=linear .........................................\n",
      "[CV] ........... C=100.0, kernel=linear, score=0.735849, total=21.1min\n",
      "[CV] C=1000.0, kernel=linear .........................................\n",
      "[CV] ........... C=100.0, kernel=linear, score=0.716981, total=23.5min\n",
      "[CV] C=1000.0, kernel=linear .........................................\n",
      "[CV] ........... C=100.0, kernel=linear, score=0.830189, total=25.3min\n",
      "[CV] C=1000.0, kernel=linear .........................................\n",
      "[CV] .......... C=1000.0, kernel=linear, score=0.685185, total=22.8min\n",
      "[CV] C=1000.0, kernel=linear .........................................\n",
      "[CV] .......... C=1000.0, kernel=linear, score=0.592593, total=25.4min\n",
      "[CV] C=1000.0, kernel=linear .........................................\n"
     ]
    },
    {
     "name": "stdout",
     "output_type": "stream",
     "text": [
      "[CV] .......... C=1000.0, kernel=linear, score=0.814815, total=18.4min\n",
      "[CV] ........... C=100.0, kernel=linear, score=0.685185, total=38.6min\n",
      "[CV] ........... C=100.0, kernel=linear, score=0.641509, total=36.9min\n",
      "[CV] .......... C=1000.0, kernel=linear, score=0.634615, total= 9.6min\n",
      "[CV] .......... C=1000.0, kernel=linear, score=0.792453, total=11.8min\n",
      "[CV] .......... C=1000.0, kernel=linear, score=0.622642, total=16.7min\n",
      "[CV] .......... C=1000.0, kernel=linear, score=0.754717, total=24.6min\n",
      "[CV] .......... C=1000.0, kernel=linear, score=0.722222, total=34.7min\n",
      "[CV] .......... C=1000.0, kernel=linear, score=0.685185, total=27.8min\n",
      "[CV] .......... C=1000.0, kernel=linear, score=0.660377, total=17.1min\n"
     ]
    },
    {
     "name": "stderr",
     "output_type": "stream",
     "text": [
      "[Parallel(n_jobs=10)]: Done 140 out of 140 | elapsed: 74.5min finished\n"
     ]
    },
    {
     "data": {
      "text/plain": [
       "GridSearchCV(cv=10, error_score='raise',\n",
       "       estimator=SVC(C=1.0, cache_size=200, class_weight=None, coef0=0.0,\n",
       "  decision_function_shape=None, degree=3, gamma='auto', kernel='rbf',\n",
       "  max_iter=-1, probability=False, random_state=None, shrinking=True,\n",
       "  tol=0.001, verbose=False),\n",
       "       fit_params={}, iid=True, n_jobs=10,\n",
       "       param_grid=[{'kernel': ['rbf', 'linear'], 'C': array([  1.00000e-03,   1.00000e-02,   1.00000e-01,   1.00000e+00,\n",
       "         1.00000e+01,   1.00000e+02,   1.00000e+03])}],\n",
       "       pre_dispatch='2*n_jobs', refit=True, return_train_score=True,\n",
       "       scoring=None, verbose=3)"
      ]
     },
     "execution_count": 7,
     "metadata": {},
     "output_type": "execute_result"
    }
   ],
   "source": [
    "c_range = np.logspace(-3,3,7)\n",
    "param_grid = [\n",
    "    {'kernel': ['rbf', 'linear'], 'C': c_range},\n",
    "]\n",
    "grid_search = GridSearchCV(svm.SVC(), param_grid, cv=10, verbose=3, n_jobs=10)\n",
    "grid_search.fit(data, target)"
   ]
  },
  {
   "cell_type": "code",
   "execution_count": 8,
   "metadata": {},
   "outputs": [
    {
     "name": "stdout",
     "output_type": "stream",
     "text": [
      "SVC(C=0.01, cache_size=200, class_weight=None, coef0=0.0,\n",
      "  decision_function_shape=None, degree=3, gamma='auto', kernel='linear',\n",
      "  max_iter=-1, probability=False, random_state=None, shrinking=True,\n",
      "  tol=0.001, verbose=False)\n",
      "0.74531835206\n",
      "{'C': 0.01, 'kernel': 'linear'}\n"
     ]
    }
   ],
   "source": [
    "print(grid_search.best_estimator_)\n",
    "print(grid_search.best_score_)\n",
    "print(grid_search.best_params_)"
   ]
  },
  {
   "cell_type": "code",
   "execution_count": 82,
   "metadata": {},
   "outputs": [
    {
     "name": "stdout",
     "output_type": "stream",
     "text": [
      "P: acc(0.683857442348), prec(0.685057844774), rec(0.952522482677)\n",
      "AP: acc(0.685779175402), prec(0.70324185548), rec(0.902496674507)\n"
     ]
    },
    {
     "name": "stderr",
     "output_type": "stream",
     "text": [
      "/usr/local/lib/python3.6/site-packages/sklearn/metrics/classification.py:1113: UndefinedMetricWarning: Precision is ill-defined and being set to 0.0 due to no predicted samples.\n",
      "  'precision', 'predicted', average, warn_for)\n"
     ]
    },
    {
     "name": "stdout",
     "output_type": "stream",
     "text": [
      "CW: acc(0.353668763103), prec(0.0), rec(0.0)\n",
      "PA: acc(0.623724668064), prec(0.713477770774), rec(0.717555209883)\n",
      "PA1: acc(0.623724668064), prec(0.713477770774), rec(0.717555209883)\n",
      "PA2: acc(0.625576519916), prec(0.714627196061), rec(0.720680209883)\n",
      "PAK: acc(0.353668763103), prec(0.0), rec(0.0)\n",
      "AL: acc(0.653948287911), prec(0.65536545339), rec(0.988070175439)\n"
     ]
    }
   ],
   "source": [
    "from sklearn.model_selection import KFold\n",
    "from sklearn.metrics import accuracy_score, precision_score, recall_score\n",
    "import oll\n",
    "\n",
    "## manual 10-fold cross-validation\n",
    "kf = KFold(n_splits=10, random_state=None, shuffle=False)\n",
    "\n",
    "methods = [\"P\" ,\"AP\" ,\"CW\" ,\"PA\" ,\"PA1\",\"PA2\" ,\"PAK\" ,\"AL\"]\n",
    "\n",
    "for m in methods:\n",
    "\n",
    "    accuracy = []\n",
    "    precision = []\n",
    "    recall = []\n",
    "    \n",
    "    for train_index, test_index in kf.split(data):\n",
    "        model = oll.oll(m, C=2.15)\n",
    "        \n",
    "        X_train, X_test = data[train_index], data[test_index]\n",
    "        y_train, y_test = target[train_index], target[test_index]\n",
    "        model.fit(X_train, y_train)\n",
    "        predicted = model.predict(X_test)\n",
    "        \n",
    "        accuracy.append(accuracy_score(y_test, predicted))\n",
    "        precision.append(precision_score(y_test, predicted))\n",
    "        recall.append(recall_score(y_test, predicted))\n",
    "\n",
    "    print(m + ': acc(' + str(np.mean(accuracy)) \n",
    "          + '), prec(' + str(np.mean(precision))\n",
    "          + '), rec(' + str(np.mean(recall)) + ')'\n",
    "         )"
   ]
  },
  {
   "cell_type": "code",
   "execution_count": null,
   "metadata": {
    "collapsed": true
   },
   "outputs": [],
   "source": []
  }
 ],
 "metadata": {
  "kernelspec": {
   "display_name": "Python 3",
   "language": "python",
   "name": "python3"
  },
  "language_info": {
   "codemirror_mode": {
    "name": "ipython",
    "version": 3
   },
   "file_extension": ".py",
   "mimetype": "text/x-python",
   "name": "python",
   "nbconvert_exporter": "python",
   "pygments_lexer": "ipython3",
   "version": "3.6.1"
  }
 },
 "nbformat": 4,
 "nbformat_minor": 2
}
