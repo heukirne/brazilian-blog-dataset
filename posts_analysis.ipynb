{
 "cells": [
  {
   "cell_type": "code",
   "execution_count": 1,
   "metadata": {
    "collapsed": false
   },
   "outputs": [
    {
     "name": "stdout",
     "output_type": "stream",
     "text": [
      "Postagens: 1346858\n"
     ]
    },
    {
     "name": "stderr",
     "output_type": "stream",
     "text": [
      "/usr/local/lib/python3.5/dist-packages/IPython/core/interactiveshell.py:2717: DtypeWarning: Columns (0) have mixed types. Specify dtype option on import or set low_memory=False.\n",
      "  interactivity=interactivity, compiler=compiler, result=result)\n"
     ]
    }
   ],
   "source": [
    "import pandas as pd\n",
    "posts = pd.read_csv('posts_clean.csv.gz', compression='gzip')\n",
    "print('Postagens: %i' %len(posts))"
   ]
  },
  {
   "cell_type": "code",
   "execution_count": 2,
   "metadata": {
    "collapsed": false
   },
   "outputs": [
    {
     "name": "stdout",
     "output_type": "stream",
     "text": [
      "LIWC: 127161\n"
     ]
    }
   ],
   "source": [
    "from __future__ import unicode_literals\n",
    "import codecs\n",
    "with codecs.open('LIWC2007_Portugues_win.dic', encoding='latin1') as fp:\n",
    "        liwc = fp.readlines()\n",
    "print('LIWC: %i' %len(liwc))"
   ]
  },
  {
   "cell_type": "markdown",
   "metadata": {},
   "source": [
    "### build dictionary"
   ]
  },
  {
   "cell_type": "code",
   "execution_count": 6,
   "metadata": {
    "collapsed": false
   },
   "outputs": [],
   "source": [
    "iam = set()\n",
    "past = set()\n",
    "present = set()\n",
    "future = set()\n",
    "social = set()\n",
    "family = set()\n",
    "friend = set()\n",
    "posemo = set()\n",
    "negemo = set()\n",
    "cogmech = set()\n",
    "insight = set()\n",
    "cause = set()\n",
    "discrep = set()\n",
    "percept = set()\n",
    "feel = set()\n",
    "for line in liwc:\n",
    "    line = line.strip()\n",
    "    if line:\n",
    "        line = line.split()\n",
    "        word = line[0]\n",
    "        cat = line[1:]\n",
    "        if '4' in cat:\n",
    "            iam.add(word)\n",
    "        elif '13' in cat:\n",
    "            past.add(word)\n",
    "        elif '14' in cat:\n",
    "            present.add(word)\n",
    "        elif '15' in cat:\n",
    "            future.add(word)\n",
    "        elif '121' in cat:\n",
    "            social.add(word)\n",
    "        elif '122' in cat:\n",
    "            family.add(word)\n",
    "        elif '123' in cat:\n",
    "            friend.add(word)\n",
    "        elif '126' in cat:\n",
    "            posemo.add(word)\n",
    "        elif '127' in cat:\n",
    "            negemo.add(word)\n",
    "        elif '131' in cat:\n",
    "            cogmech.add(word)\n",
    "        elif '132' in cat:\n",
    "            insight.add(word)\n",
    "        elif '133' in cat:\n",
    "            cause.add(word)\n",
    "        elif '134' in cat:\n",
    "            discrep.add(word)\n",
    "        elif '140' in cat:\n",
    "            percept.add(word)\n",
    "        elif '143' in cat:\n",
    "            feel.add(word)"
   ]
  },
  {
   "cell_type": "markdown",
   "metadata": {},
   "source": [
    "### split data"
   ]
  },
  {
   "cell_type": "code",
   "execution_count": 7,
   "metadata": {
    "collapsed": false
   },
   "outputs": [
    {
     "name": "stdout",
     "output_type": "stream",
     "text": [
      "Posts Reflexivos: 13881\n"
     ]
    }
   ],
   "source": [
    "posts = posts.fillna('')\n",
    "postsReflexivos = posts[posts['content'].str.contains(\"eu sinto|eu penso|eu acredito\")]\n",
    "print('Posts Reflexivos: %i' %len(postsReflexivos))"
   ]
  },
  {
   "cell_type": "code",
   "execution_count": 10,
   "metadata": {
    "collapsed": false
   },
   "outputs": [
    {
     "name": "stderr",
     "output_type": "stream",
     "text": [
      "/usr/local/lib/python3.5/dist-packages/ipykernel/__main__.py:12: SettingWithCopyWarning: \n",
      "A value is trying to be set on a copy of a slice from a DataFrame.\n",
      "Try using .loc[row_indexer,col_indexer] = value instead\n",
      "\n",
      "See the caveats in the documentation: http://pandas.pydata.org/pandas-docs/stable/indexing.html#indexing-view-versus-copy\n"
     ]
    }
   ],
   "source": [
    "def iamCheck(x): \n",
    "    try:\n",
    "        count = 0\n",
    "        text = x['content'].split()\n",
    "        for token in text:\n",
    "            if token in pos:\n",
    "                count += 1\n",
    "        return count\n",
    "    except:\n",
    "        return 0\n",
    "\n",
    "postsReflexivos['iam'] = posts.apply(iamCheck,axis=1)"
   ]
  },
  {
   "cell_type": "code",
   "execution_count": 11,
   "metadata": {
    "collapsed": false
   },
   "outputs": [
    {
     "data": {
      "text/plain": [
       "<matplotlib.axes._subplots.AxesSubplot at 0x7f02b0f36f60>"
      ]
     },
     "execution_count": 11,
     "metadata": {},
     "output_type": "execute_result"
    },
    {
     "data": {
      "image/png": "[encoded data removed]",
      "text/plain": [
       "<matplotlib.figure.Figure at 0x7f02bad0a048>"
      ]
     },
     "metadata": {},
     "output_type": "display_data"
    }
   ],
   "source": [
    "%matplotlib inline\n",
    "postsReflexivos['iam'].plot.hist(bins=40)"
   ]
  },
  {
   "cell_type": "code",
   "execution_count": null,
   "metadata": {
    "collapsed": true
   },
   "outputs": [],
   "source": []
  }
 ],
 "metadata": {
  "kernelspec": {
   "display_name": "Python 3",
   "language": "python",
   "name": "python3"
  },
  "language_info": {
   "codemirror_mode": {
    "name": "ipython",
    "version": 3
   },
   "file_extension": ".py",
   "mimetype": "text/x-python",
   "name": "python",
   "nbconvert_exporter": "python",
   "pygments_lexer": "ipython3",
   "version": "3.5.2"
  }
 },
 "nbformat": 4,
 "nbformat_minor": 2
}
