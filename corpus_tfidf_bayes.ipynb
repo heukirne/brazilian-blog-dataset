{
 "cells": [
  {
   "cell_type": "code",
   "execution_count": 1,
   "metadata": {
    "collapsed": false,
    "deletable": true,
    "editable": true
   },
   "outputs": [],
   "source": [
    "import pandas as pd\n",
    "import numpy as np\n",
    "from sklearn import preprocessing\n",
    "from sklearn.model_selection import cross_val_score\n",
    "from sklearn.feature_extraction.text import TfidfVectorizer\n",
    "from sklearn.naive_bayes import MultinomialNB, GaussianNB\n",
    "from nltk.corpus import stopwords\n",
    "\n",
    "corpus = pd.read_csv('corpus.csv.gz', compression='gzip')\n",
    "stopwords = stopwords.words(\"portuguese\")"
   ]
  },
  {
   "cell_type": "code",
   "execution_count": 2,
   "metadata": {
    "collapsed": false,
    "deletable": true,
    "editable": true
   },
   "outputs": [
    {
     "data": {
      "text/plain": [
       "(496, 28)"
      ]
     },
     "execution_count": 2,
     "metadata": {},
     "output_type": "execute_result"
    }
   ],
   "source": [
    "#corpus = corpus[corpus['_golden'] == False]\n",
    "corpus = corpus[corpus['qual_a_melhor_classificao_para_esse_texto:confidence'] == 1]\n",
    "corpus = corpus[corpus['_trusted_judgments'] == 3]\n",
    "corpus = corpus.reset_index()\n",
    "corpus.shape"
   ]
  },
  {
   "cell_type": "code",
   "execution_count": 3,
   "metadata": {
    "collapsed": true,
    "deletable": true,
    "editable": true
   },
   "outputs": [],
   "source": [
    "# fix labels to binary\n",
    "lb = preprocessing.LabelBinarizer(neg_label=1, pos_label=2)\n",
    "target = lb.fit_transform(corpus['qual_a_melhor_classificao_para_esse_texto'].values)\n",
    "c, r = target.shape\n",
    "target = target.reshape(c,)\n",
    "\n",
    "model = MultinomialNB()"
   ]
  },
  {
   "cell_type": "code",
   "execution_count": 4,
   "metadata": {
    "collapsed": false,
    "deletable": true,
    "editable": true
   },
   "outputs": [],
   "source": [
    "import nltk.stem\n",
    "portuguese_stemmer = nltk.stem.RSLPStemmer()\n",
    "class StemmedTfidfVectorizer(TfidfVectorizer):\n",
    "    def build_analyzer(self):\n",
    "        analyzer = super(TfidfVectorizer,self).build_analyzer()\n",
    "        return lambda doc: (portuguese_stemmer.stem(w) for w in analyzer(doc))"
   ]
  },
  {
   "cell_type": "code",
   "execution_count": 5,
   "metadata": {
    "collapsed": false,
    "deletable": true,
    "editable": true,
    "scrolled": true
   },
   "outputs": [
    {
     "name": "stdout",
     "output_type": "stream",
     "text": [
      "500: f1(0.8304), acc(0.7418), precision(0.7306), recall(0.963)\n",
      "600: f1(0.8331), acc(0.7439), precision(0.7297), recall(0.9723)\n",
      "700: f1(0.8329), acc(0.7439), precision(0.7291), recall(0.9723)\n",
      "800: f1(0.836), acc(0.7499), precision(0.7338), recall(0.9723)\n",
      "900: f1(0.8329), acc(0.744), precision(0.7291), recall(0.9723)\n",
      "1000: f1(0.8359), acc(0.748), precision(0.7303), recall(0.9784)\n",
      "1100: f1(0.8402), acc(0.754), precision(0.7335), recall(0.9846)\n",
      "1200: f1(0.8359), acc(0.7459), precision(0.7272), recall(0.9845)\n",
      "1300: f1(0.8335), acc(0.7417), precision(0.7253), recall(0.9814)\n",
      "1400: f1(0.8343), acc(0.7438), precision(0.7263), recall(0.9814)\n",
      "1500: f1(0.8327), acc(0.7398), precision(0.7222), recall(0.9846)\n",
      "1600: f1(0.832), acc(0.7378), precision(0.7194), recall(0.9876)\n",
      "1700: f1(0.8298), acc(0.7337), precision(0.7161), recall(0.9876)\n",
      "1800: f1(0.8309), acc(0.7358), precision(0.7178), recall(0.9876)\n",
      "1900: f1(0.8272), acc(0.7297), precision(0.7138), recall(0.9846)\n",
      "2000: f1(0.8265), acc(0.7277), precision(0.7112), recall(0.9876)\n",
      "2100: f1(0.8266), acc(0.7277), precision(0.7114), recall(0.9876)\n",
      "2200: f1(0.8223), acc(0.7197), precision(0.7051), recall(0.9876)\n",
      "2300: f1(0.8213), acc(0.7177), precision(0.7035), recall(0.9876)\n",
      "2400: f1(0.8206), acc(0.7157), precision(0.7009), recall(0.9906)\n",
      "2500: f1(0.818), acc(0.7116), precision(0.6985), recall(0.9876)\n",
      "2600: f1(0.8176), acc(0.7096), precision(0.6963), recall(0.9907)\n",
      "2700: f1(0.8176), acc(0.7096), precision(0.6963), recall(0.9907)\n",
      "2800: f1(0.8166), acc(0.7076), precision(0.6949), recall(0.9907)\n",
      "2900: f1(0.8166), acc(0.7076), precision(0.6949), recall(0.9907)\n",
      "3000: f1(0.8181), acc(0.7096), precision(0.6956), recall(0.9938)\n",
      "3100: f1(0.8181), acc(0.7096), precision(0.6956), recall(0.9938)\n",
      "3200: f1(0.817), acc(0.7076), precision(0.694), recall(0.9938)\n",
      "3300: f1(0.817), acc(0.7076), precision(0.694), recall(0.9938)\n",
      "3400: f1(0.8185), acc(0.7096), precision(0.6946), recall(0.9969)\n",
      "3500: f1(0.8164), acc(0.7056), precision(0.6916), recall(0.9969)\n",
      "3600: f1(0.8153), acc(0.7036), precision(0.6899), recall(0.9969)\n",
      "3700: f1(0.8153), acc(0.7036), precision(0.6899), recall(0.9969)\n",
      "3800: f1(0.8153), acc(0.7036), precision(0.6899), recall(0.9969)\n",
      "3900: f1(0.8143), acc(0.7016), precision(0.6886), recall(0.9969)\n",
      "4000: f1(0.8143), acc(0.7016), precision(0.6886), recall(0.9969)\n",
      "4100: f1(0.8123), acc(0.6976), precision(0.6856), recall(0.9969)\n",
      "4200: f1(0.8123), acc(0.6976), precision(0.6856), recall(0.9969)\n",
      "4300: f1(0.8112), acc(0.6955), precision(0.684), recall(0.9969)\n",
      "4400: f1(0.8112), acc(0.6955), precision(0.684), recall(0.9969)\n",
      "4500: f1(0.8082), acc(0.6895), precision(0.6799), recall(0.9969)\n",
      "4600: f1(0.8081), acc(0.6895), precision(0.6797), recall(0.9969)\n",
      "4700: f1(0.8072), acc(0.6874), precision(0.6783), recall(0.9969)\n",
      "4800: f1(0.8062), acc(0.6854), precision(0.677), recall(0.9969)\n",
      "4900: f1(0.8062), acc(0.6854), precision(0.677), recall(0.9969)\n"
     ]
    }
   ],
   "source": [
    "for i in range(500,5000,100):\n",
    "    data = TfidfVectorizer(max_features=i, strip_accents='unicode', stop_words=stopwords).fit_transform(corpus.content)\n",
    "\n",
    "    f1 = cross_val_score(model, data.toarray(), target, cv=10, scoring='f1').mean()\n",
    "    acc = cross_val_score(model, data.toarray(), target, cv=10, scoring='accuracy').mean()\n",
    "    recall = cross_val_score(model, data.toarray(), target, cv=10, scoring='recall').mean()\n",
    "    precision = cross_val_score(model, data.toarray(), target, cv=10, scoring='precision').mean()\n",
    "    \n",
    "    print(str(i) + ': ' + 'f1(' + str(round(f1,4)) \n",
    "          + '), acc(' + str(round(acc,4)) \n",
    "          + '), precision(' + str(round(precision,4)) \n",
    "          + '), recall(' + str(round(recall,4)) + ')') "
   ]
  },
  {
   "cell_type": "code",
   "execution_count": 6,
   "metadata": {
    "collapsed": false,
    "deletable": true,
    "editable": true
   },
   "outputs": [
    {
     "name": "stdout",
     "output_type": "stream",
     "text": [
      "1100: f1(0.84), acc(0.75), recall(0.98)\n"
     ]
    }
   ],
   "source": [
    "vectorizer = TfidfVectorizer(max_features=1100, ngram_range=(1,1), \n",
    "                             strip_accents='unicode', stop_words=stopwords)\n",
    "data = vectorizer.fit_transform(corpus.content)\n",
    "\n",
    "f1 = cross_val_score(model, data.toarray(), target, cv=10, scoring='f1').mean()\n",
    "acc = cross_val_score(model, data.toarray(), target, cv=10, scoring='accuracy').mean()\n",
    "recall = cross_val_score(model, data.toarray(), target, cv=10, scoring='recall').mean()\n",
    "\n",
    "print(str(len(vectorizer.get_feature_names())) + ': ' + 'f1(' + str(round(f1,2)) \n",
    "      + '), acc(' + str(round(acc,2)) \n",
    "          + '), recall(' + str(round(recall,2)) + ')') "
   ]
  },
  {
   "cell_type": "code",
   "execution_count": 7,
   "metadata": {
    "collapsed": false,
    "deletable": true,
    "editable": true
   },
   "outputs": [
    {
     "name": "stdout",
     "output_type": "stream",
     "text": [
      "outro -7.74422554188 argila\n",
      "outro -7.74422554188 chorei\n",
      "outro -7.72677609178 conversando\n",
      "outro -7.72176894178 look\n",
      "outro -7.7194942341 vc\n",
      "outro -7.70313391712 decidi\n",
      "outro -7.68997116739 aulas\n",
      "outro -7.68717598913 estavamos\n",
      "outro -7.68274339436 voltei\n",
      "outro -7.67484173552 antiga\n",
      "outro -7.67255919657 confesso\n",
      "outro -7.67072366437 pq\n",
      "outro -7.662440396 roupa\n",
      "outro -7.65687078523 bolsa\n",
      "outro -7.6444918728 manga\n",
      "\n",
      "diario -4.81661701098 nao\n",
      "diario -5.38366401185 voce\n",
      "diario -5.38778789457 deus\n",
      "diario -5.74824233259 ser\n",
      "diario -5.80614988863 vida\n",
      "diario -5.83152803134 senhor\n",
      "diario -5.84590104802 sao\n",
      "diario -5.93211670774 dia\n",
      "diario -5.94944110256 sobre\n",
      "diario -6.00312170711 tambem\n",
      "diario -6.00822310276 pra\n",
      "diario -6.01884216113 ja\n",
      "diario -6.03747837896 jesus\n",
      "diario -6.05110053498 vai\n",
      "diario -6.05155231736 bem\n"
     ]
    }
   ],
   "source": [
    "model.fit(data.toarray(),target)\n",
    "n = 15 \n",
    "\n",
    "class_labels = ['outro','diario']\n",
    "feature_names = vectorizer.get_feature_names()\n",
    "topn_class1 = sorted(zip(model.coef_[0], feature_names))[:n]\n",
    "topn_class2 = sorted(zip(model.coef_[0], feature_names))[-n:]\n",
    "\n",
    "for coef, feat in topn_class1:\n",
    "    print (class_labels[0], coef, feat)\n",
    "\n",
    "print()\n",
    "\n",
    "for coef, feat in reversed(topn_class2):\n",
    "    print (class_labels[1], coef, feat)"
   ]
  },
  {
   "cell_type": "code",
   "execution_count": 8,
   "metadata": {
    "collapsed": false,
    "deletable": true,
    "editable": true
   },
   "outputs": [
    {
     "name": "stdout",
     "output_type": "stream",
     "text": [
      "800: f1(0.84), acc(0.76), recall(0.97)\n"
     ]
    }
   ],
   "source": [
    "vectorizer = TfidfVectorizer(max_features=1100, ngram_range=(1,1), \n",
    "                             strip_accents='unicode', stop_words=stopwords)\n",
    "data = vectorizer.fit_transform(corpus.content)\n",
    "\n",
    "model.fit(data.toarray(),target)\n",
    "n = 400 \n",
    "\n",
    "class_labels = ['outro','diario']\n",
    "feature_names = vectorizer.get_feature_names()\n",
    "topn_class1 = sorted(zip(model.coef_[0], feature_names))[:n]\n",
    "topn_class2 = sorted(zip(model.coef_[0], feature_names))[-n:]\n",
    "\n",
    "vocabulary = []\n",
    "\n",
    "for coef, feat in topn_class1:\n",
    "    if feat not in vocabulary: \n",
    "        vocabulary.append(feat)\n",
    "for coef, feat in reversed(topn_class2):\n",
    "    if feat not in vocabulary: \n",
    "        vocabulary.append(feat)\n",
    "    \n",
    "vectorizer = TfidfVectorizer(ngram_range=(1,1), strip_accents='unicode', \n",
    "                             stop_words=stopwords, vocabulary=vocabulary)\n",
    "data = vectorizer.fit_transform(corpus.content)\n",
    "\n",
    "f1 = cross_val_score(model, data.toarray(), target, cv=10, scoring='f1').mean()\n",
    "acc = cross_val_score(model, data.toarray(), target, cv=10, scoring='accuracy').mean()\n",
    "recall = cross_val_score(model, data.toarray(), target, cv=10, scoring='recall').mean()\n",
    "\n",
    "print(str(len(vectorizer.get_feature_names())) + ': ' + 'f1(' + str(round(f1,2)) \n",
    "      + '), acc(' + str(round(acc,2)) \n",
    "          + '), recall(' + str(round(recall,2)) + ')') "
   ]
  },
  {
   "cell_type": "code",
   "execution_count": 9,
   "metadata": {
    "collapsed": false,
    "deletable": true,
    "editable": true
   },
   "outputs": [
    {
     "name": "stdout",
     "output_type": "stream",
     "text": [
      "outro -7.54447756112 argila\n",
      "outro -7.54447756112 chorei\n",
      "outro -7.51989601982 conversando\n",
      "outro -7.51942717661 vc\n",
      "outro -7.51509042099 look\n",
      "outro -7.5011637049 decidi\n",
      "outro -7.48683537044 aulas\n",
      "outro -7.47357190688 voltei\n",
      "outro -7.47021031394 estavamos\n",
      "outro -7.47005032276 pq\n",
      "outro -7.45595183547 antiga\n",
      "outro -7.45474685532 confesso\n",
      "outro -7.4502548188 bolsa\n",
      "outro -7.44049125571 manga\n",
      "outro -7.42998615274 roupa\n",
      "\n",
      "diario -4.49473800204 nao\n",
      "diario -5.0522965882 voce\n",
      "diario -5.12066520556 deus\n",
      "diario -5.44148558974 ser\n",
      "diario -5.50255986074 vida\n",
      "diario -5.53508327053 sao\n",
      "diario -5.54459172381 senhor\n",
      "diario -5.60108253307 dia\n",
      "diario -5.63829309562 sobre\n",
      "diario -5.68715235505 tambem\n",
      "diario -5.68911175799 pra\n",
      "diario -5.70453103937 ja\n",
      "diario -5.71444744759 vai\n",
      "diario -5.75375333114 bem\n",
      "diario -5.76293665763 pode\n"
     ]
    }
   ],
   "source": [
    "model.fit(data.toarray(),target)\n",
    "n = 15 \n",
    "\n",
    "class_labels = ['outro','diario']\n",
    "feature_names = vectorizer.get_feature_names()\n",
    "topn_class1 = sorted(zip(model.coef_[0], feature_names))[:n]\n",
    "topn_class2 = sorted(zip(model.coef_[0], feature_names))[-n:]\n",
    "\n",
    "for coef, feat in topn_class1:\n",
    "    print (class_labels[0], coef, feat)\n",
    "\n",
    "print()\n",
    "\n",
    "for coef, feat in reversed(topn_class2):\n",
    "    print (class_labels[1], coef, feat)"
   ]
  },
  {
   "cell_type": "code",
   "execution_count": 10,
   "metadata": {
    "collapsed": true,
    "deletable": true,
    "editable": true
   },
   "outputs": [],
   "source": [
    "pd.DataFrame(feature_names).to_csv('feature_names.csv')"
   ]
  },
  {
   "cell_type": "code",
   "execution_count": null,
   "metadata": {
    "collapsed": true,
    "deletable": true,
    "editable": true
   },
   "outputs": [],
   "source": []
  }
 ],
 "metadata": {
  "kernelspec": {
   "display_name": "Python 3",
   "language": "python",
   "name": "python3"
  },
  "language_info": {
   "codemirror_mode": {
    "name": "ipython",
    "version": 3
   },
   "file_extension": ".py",
   "mimetype": "text/x-python",
   "name": "python",
   "nbconvert_exporter": "python",
   "pygments_lexer": "ipython3",
   "version": "3.5.2"
  }
 },
 "nbformat": 4,
 "nbformat_minor": 0
}
