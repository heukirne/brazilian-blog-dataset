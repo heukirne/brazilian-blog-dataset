{
 "cells": [
  {
   "cell_type": "code",
   "execution_count": null,
   "metadata": {
    "collapsed": false,
    "scrolled": true
   },
   "outputs": [],
   "source": [
    "import pandas as pd\n",
    "import numpy as np\n",
    "import re\n",
    "posts = pd.read_csv('posts.csv.gz', compression='gzip', error_bad_lines=False)"
   ]
  },
  {
   "cell_type": "markdown",
   "metadata": {},
   "source": [
    "## Contagens"
   ]
  },
  {
   "cell_type": "code",
   "execution_count": 2,
   "metadata": {
    "collapsed": false
   },
   "outputs": [
    {
     "name": "stdout",
     "output_type": "stream",
     "text": [
      "Postagens: 820869\n",
      "Blogs: 87857\n",
      "Autores: 95774\n"
     ]
    }
   ],
   "source": [
    "blogs = posts[['posts.csv']].groupby(['posts.csv'])\n",
    "autores = posts[['authorID']].groupby(['authorID'])\n",
    "print('Postagens: %i' %len(posts))\n",
    "print('Blogs: %i' %len(blogs))\n",
    "print('Autores: %i' %len(autores))"
   ]
  },
  {
   "cell_type": "markdown",
   "metadata": {},
   "source": [
    "## Médias"
   ]
  },
  {
   "cell_type": "code",
   "execution_count": 3,
   "metadata": {
    "collapsed": true
   },
   "outputs": [],
   "source": [
    "def titleCount(x): \n",
    "    try:\n",
    "        return len(re.findall(r'\\w+', x['title']))\n",
    "    except:\n",
    "        return 0\n",
    "    \n",
    "def contentCount(x): \n",
    "    try:\n",
    "        return len(re.findall(r'\\w+', x['content']))\n",
    "    except:\n",
    "        return 0\n",
    "    \n",
    "posts['titleCount'] = posts.apply(titleCount,axis=1)\n",
    "posts['contentCount'] = posts.apply(contentCount,axis=1)"
   ]
  },
  {
   "cell_type": "code",
   "execution_count": 4,
   "metadata": {
    "collapsed": false
   },
   "outputs": [
    {
     "data": {
      "text/plain": [
       "4.732660144310481"
      ]
     },
     "execution_count": 4,
     "metadata": {},
     "output_type": "execute_result"
    }
   ],
   "source": [
    "np.mean(posts['titleCount'])"
   ]
  },
  {
   "cell_type": "code",
   "execution_count": 5,
   "metadata": {
    "collapsed": false
   },
   "outputs": [
    {
     "data": {
      "text/plain": [
       "267.14916143745228"
      ]
     },
     "execution_count": 5,
     "metadata": {},
     "output_type": "execute_result"
    }
   ],
   "source": [
    "np.mean(posts['contentCount'])"
   ]
  },
  {
   "cell_type": "markdown",
   "metadata": {},
   "source": [
    "## Blogs mais densos"
   ]
  },
  {
   "cell_type": "code",
   "execution_count": 6,
   "metadata": {
    "collapsed": false
   },
   "outputs": [
    {
     "data": {
      "text/html": [
       "<div>\n",
       "<table border=\"1\" class=\"dataframe\">\n",
       "  <thead>\n",
       "    <tr style=\"text-align: right;\">\n",
       "      <th></th>\n",
       "      <th>count</th>\n",
       "      <th>mean</th>\n",
       "    </tr>\n",
       "    <tr>\n",
       "      <th>posts.csv</th>\n",
       "      <th></th>\n",
       "      <th></th>\n",
       "    </tr>\n",
       "  </thead>\n",
       "  <tbody>\n",
       "    <tr>\n",
       "      <th>1717983962433433360</th>\n",
       "      <td>10</td>\n",
       "      <td>62653.500000</td>\n",
       "    </tr>\n",
       "    <tr>\n",
       "      <th>1881440988280989601</th>\n",
       "      <td>10</td>\n",
       "      <td>31458.200000</td>\n",
       "    </tr>\n",
       "    <tr>\n",
       "      <th>1174338327883930016</th>\n",
       "      <td>10</td>\n",
       "      <td>23428.800000</td>\n",
       "    </tr>\n",
       "    <tr>\n",
       "      <th>1156787905348184307</th>\n",
       "      <td>9</td>\n",
       "      <td>22866.555556</td>\n",
       "    </tr>\n",
       "    <tr>\n",
       "      <th>1636456055145665266</th>\n",
       "      <td>4</td>\n",
       "      <td>21417.250000</td>\n",
       "    </tr>\n",
       "    <tr>\n",
       "      <th>1582126559606127684</th>\n",
       "      <td>10</td>\n",
       "      <td>19176.800000</td>\n",
       "    </tr>\n",
       "    <tr>\n",
       "      <th>1024539391998378333</th>\n",
       "      <td>10</td>\n",
       "      <td>19084.000000</td>\n",
       "    </tr>\n",
       "    <tr>\n",
       "      <th>1244416782248253699</th>\n",
       "      <td>10</td>\n",
       "      <td>18028.000000</td>\n",
       "    </tr>\n",
       "    <tr>\n",
       "      <th>1829942138433192009</th>\n",
       "      <td>10</td>\n",
       "      <td>17691.500000</td>\n",
       "    </tr>\n",
       "    <tr>\n",
       "      <th>1847664394751676609</th>\n",
       "      <td>4</td>\n",
       "      <td>16524.000000</td>\n",
       "    </tr>\n",
       "  </tbody>\n",
       "</table>\n",
       "</div>"
      ],
      "text/plain": [
       "                     count          mean\n",
       "posts.csv                               \n",
       "1717983962433433360     10  62653.500000\n",
       "1881440988280989601     10  31458.200000\n",
       "1174338327883930016     10  23428.800000\n",
       "1156787905348184307      9  22866.555556\n",
       "1636456055145665266      4  21417.250000\n",
       "1582126559606127684     10  19176.800000\n",
       "1024539391998378333     10  19084.000000\n",
       "1244416782248253699     10  18028.000000\n",
       "1829942138433192009     10  17691.500000\n",
       "1847664394751676609      4  16524.000000"
      ]
     },
     "execution_count": 6,
     "metadata": {},
     "output_type": "execute_result"
    }
   ],
   "source": [
    "blogLen = posts[['posts.csv','contentCount']].groupby(['posts.csv']).agg(['count','mean'])\n",
    "blogLen['contentCount'].sort_values('mean',ascending=False).head(10)"
   ]
  },
  {
   "cell_type": "markdown",
   "metadata": {},
   "source": [
    "## Posts mais comentados"
   ]
  },
  {
   "cell_type": "code",
   "execution_count": 7,
   "metadata": {
    "collapsed": false,
    "scrolled": true
   },
   "outputs": [
    {
     "data": {
      "text/html": [
       "<div>\n",
       "<table border=\"1\" class=\"dataframe\">\n",
       "  <thead>\n",
       "    <tr style=\"text-align: right;\">\n",
       "      <th></th>\n",
       "      <th>title</th>\n",
       "      <th>replies</th>\n",
       "    </tr>\n",
       "  </thead>\n",
       "  <tbody>\n",
       "    <tr>\n",
       "      <th>229668</th>\n",
       "      <td>Urgente! Publicado o Edital do Concurso da PME...</td>\n",
       "      <td>1102</td>\n",
       "    </tr>\n",
       "    <tr>\n",
       "      <th>683601</th>\n",
       "      <td>Deixe seu Recado no meu Guestbook</td>\n",
       "      <td>695</td>\n",
       "    </tr>\n",
       "    <tr>\n",
       "      <th>577222</th>\n",
       "      <td>Sorteio</td>\n",
       "      <td>553</td>\n",
       "    </tr>\n",
       "    <tr>\n",
       "      <th>162172</th>\n",
       "      <td>FÓRUM 3 ANO 3 BIMESTRE 2015</td>\n",
       "      <td>528</td>\n",
       "    </tr>\n",
       "    <tr>\n",
       "      <th>455884</th>\n",
       "      <td>Recife - PE</td>\n",
       "      <td>509</td>\n",
       "    </tr>\n",
       "    <tr>\n",
       "      <th>598118</th>\n",
       "      <td>Olá, BEM VINDOS !</td>\n",
       "      <td>508</td>\n",
       "    </tr>\n",
       "    <tr>\n",
       "      <th>719739</th>\n",
       "      <td>2 - EXPRESSÕES NUMÉRICAS</td>\n",
       "      <td>494</td>\n",
       "    </tr>\n",
       "    <tr>\n",
       "      <th>810996</th>\n",
       "      <td>Bate-papo com Atendimento Publicitário</td>\n",
       "      <td>489</td>\n",
       "    </tr>\n",
       "    <tr>\n",
       "      <th>97779</th>\n",
       "      <td>Universidade da Flórida descobre cura para o L...</td>\n",
       "      <td>486</td>\n",
       "    </tr>\n",
       "    <tr>\n",
       "      <th>5693</th>\n",
       "      <td>Chá de folha de oliveira - Adorei!!!</td>\n",
       "      <td>479</td>\n",
       "    </tr>\n",
       "  </tbody>\n",
       "</table>\n",
       "</div>"
      ],
      "text/plain": [
       "                                                    title  replies\n",
       "229668  Urgente! Publicado o Edital do Concurso da PME...     1102\n",
       "683601                  Deixe seu Recado no meu Guestbook      695\n",
       "577222                                            Sorteio      553\n",
       "162172                        FÓRUM 3 ANO 3 BIMESTRE 2015      528\n",
       "455884                                        Recife - PE      509\n",
       "598118                                  Olá, BEM VINDOS !      508\n",
       "719739                           2 - EXPRESSÕES NUMÉRICAS      494\n",
       "810996             Bate-papo com Atendimento Publicitário      489\n",
       "97779   Universidade da Flórida descobre cura para o L...      486\n",
       "5693                 Chá de folha de oliveira - Adorei!!!      479"
      ]
     },
     "execution_count": 7,
     "metadata": {},
     "output_type": "execute_result"
    }
   ],
   "source": [
    "posts[['title','replies']].sort_values('replies',ascending=False).head(10)"
   ]
  },
  {
   "cell_type": "markdown",
   "metadata": {},
   "source": [
    "## Posts Auto-Reflexivos"
   ]
  },
  {
   "cell_type": "code",
   "execution_count": 8,
   "metadata": {
    "collapsed": false
   },
   "outputs": [
    {
     "name": "stdout",
     "output_type": "stream",
     "text": [
      "Posts Reflexivos: 8428\n",
      "Total de Posts: 820869\n",
      "Percentual: 1.000000\n"
     ]
    }
   ],
   "source": [
    "posts = posts.fillna('')\n",
    "postsReflexivos = posts[posts['content'].str.contains(\"eu sinto|eu penso|eu acredito\")]\n",
    "\n",
    "print('Posts Reflexivos: %i' %len(postsReflexivos))\n",
    "print('Total de Posts: %i' %len(posts))\n",
    "print('Percentual: %f' %round(100 * len(postsReflexivos) / len(posts),3))"
   ]
  },
  {
   "cell_type": "markdown",
   "metadata": {},
   "source": [
    "## Blogs Auto-Reflexivos"
   ]
  },
  {
   "cell_type": "code",
   "execution_count": 9,
   "metadata": {
    "collapsed": false
   },
   "outputs": [
    {
     "data": {
      "text/html": [
       "<div>\n",
       "<table border=\"1\" class=\"dataframe\">\n",
       "  <thead>\n",
       "    <tr style=\"text-align: right;\">\n",
       "      <th></th>\n",
       "      <th>count</th>\n",
       "      <th>mean</th>\n",
       "    </tr>\n",
       "    <tr>\n",
       "      <th>posts.csv</th>\n",
       "      <th></th>\n",
       "      <th></th>\n",
       "    </tr>\n",
       "  </thead>\n",
       "  <tbody>\n",
       "    <tr>\n",
       "      <th>1717983962433433360</th>\n",
       "      <td>8</td>\n",
       "      <td>77737.750000</td>\n",
       "    </tr>\n",
       "    <tr>\n",
       "      <th>118502485184438267</th>\n",
       "      <td>7</td>\n",
       "      <td>562.714286</td>\n",
       "    </tr>\n",
       "    <tr>\n",
       "      <th>1450650900147172667</th>\n",
       "      <td>6</td>\n",
       "      <td>247.500000</td>\n",
       "    </tr>\n",
       "    <tr>\n",
       "      <th>1314320197865475641</th>\n",
       "      <td>6</td>\n",
       "      <td>8515.000000</td>\n",
       "    </tr>\n",
       "    <tr>\n",
       "      <th>1588511966346755811</th>\n",
       "      <td>6</td>\n",
       "      <td>293.500000</td>\n",
       "    </tr>\n",
       "    <tr>\n",
       "      <th>1661881252606013579</th>\n",
       "      <td>6</td>\n",
       "      <td>1627.000000</td>\n",
       "    </tr>\n",
       "    <tr>\n",
       "      <th>1347353377192780674</th>\n",
       "      <td>5</td>\n",
       "      <td>6499.200000</td>\n",
       "    </tr>\n",
       "    <tr>\n",
       "      <th>1874640306506119445</th>\n",
       "      <td>5</td>\n",
       "      <td>642.600000</td>\n",
       "    </tr>\n",
       "    <tr>\n",
       "      <th>1634538776961954258</th>\n",
       "      <td>5</td>\n",
       "      <td>1262.400000</td>\n",
       "    </tr>\n",
       "    <tr>\n",
       "      <th>1020865592664340334</th>\n",
       "      <td>5</td>\n",
       "      <td>374.800000</td>\n",
       "    </tr>\n",
       "  </tbody>\n",
       "</table>\n",
       "</div>"
      ],
      "text/plain": [
       "                     count          mean\n",
       "posts.csv                               \n",
       "1717983962433433360      8  77737.750000\n",
       "118502485184438267       7    562.714286\n",
       "1450650900147172667      6    247.500000\n",
       "1314320197865475641      6   8515.000000\n",
       "1588511966346755811      6    293.500000\n",
       "1661881252606013579      6   1627.000000\n",
       "1347353377192780674      5   6499.200000\n",
       "1874640306506119445      5    642.600000\n",
       "1634538776961954258      5   1262.400000\n",
       "1020865592664340334      5    374.800000"
      ]
     },
     "execution_count": 9,
     "metadata": {},
     "output_type": "execute_result"
    }
   ],
   "source": [
    "groupReflex = postsReflexivos[['posts.csv','contentCount']].groupby(['posts.csv']).agg(['count','mean'])\n",
    "groupReflex['contentCount'].sort_values('count',ascending=False).head(10)"
   ]
  }
 ],
 "metadata": {
  "kernelspec": {
   "display_name": "Python 2",
   "language": "python",
   "name": "python2"
  },
  "language_info": {
   "codemirror_mode": {
    "name": "ipython",
    "version": 2
   },
   "file_extension": ".py",
   "mimetype": "text/x-python",
   "name": "python",
   "nbconvert_exporter": "python",
   "pygments_lexer": "ipython2",
   "version": "2.7.11"
  }
 },
 "nbformat": 4,
 "nbformat_minor": 2
}
