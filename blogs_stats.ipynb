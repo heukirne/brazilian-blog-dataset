{
 "cells": [
  {
   "cell_type": "code",
   "execution_count": null,
   "metadata": {
    "collapsed": false,
    "scrolled": true
   },
   "outputs": [],
   "source": [
    "import pandas as pd\n",
    "import numpy as np\n",
    "import re\n",
    "posts = pd.read_csv('posts.csv.gz', compression='gzip', error_bad_lines=False)"
   ]
  },
  {
   "cell_type": "markdown",
   "metadata": {},
   "source": [
    "## Contagens"
   ]
  },
  {
   "cell_type": "code",
   "execution_count": 2,
   "metadata": {
    "collapsed": false
   },
   "outputs": [
    {
     "name": "stdout",
     "output_type": "stream",
     "text": [
      "Postagens: 1346851\n",
      "Blogs: 144043\n",
      "Autores: 154787\n"
     ]
    }
   ],
   "source": [
    "blogs = posts[['posts.csv']].groupby(['posts.csv'])\n",
    "autores = posts[['authorID']].groupby(['authorID'])\n",
    "print('Postagens: %i' %len(posts))\n",
    "print('Blogs: %i' %len(blogs))\n",
    "print('Autores: %i' %len(autores))"
   ]
  },
  {
   "cell_type": "markdown",
   "metadata": {},
   "source": [
    "## Ano de Publicação"
   ]
  },
  {
   "cell_type": "code",
   "execution_count": 15,
   "metadata": {
    "collapsed": false
   },
   "outputs": [],
   "source": [
    "posts['date'] = pd.to_datetime(posts['published'], errors='coerce')\n",
    "posts['year'] = posts['date'].dt.year"
   ]
  },
  {
   "cell_type": "code",
   "execution_count": 35,
   "metadata": {
    "collapsed": false
   },
   "outputs": [
    {
     "data": {
      "text/plain": [
       "<matplotlib.axes._subplots.AxesSubplot at 0x13ecc6e90>"
      ]
     },
     "execution_count": 35,
     "metadata": {},
     "output_type": "execute_result"
    },
    {
     "data": {
      "image/png": "[encoded data removed]",
      "text/plain": [
       "<matplotlib.figure.Figure at 0x1169b1b10>"
      ]
     },
     "metadata": {},
     "output_type": "display_data"
    }
   ],
   "source": [
    "%matplotlib inline\n",
    "year = posts['year']\n",
    "year = year[year > 2000]\n",
    "year = year[year < 2018]\n",
    "year.plot.hist(bins=40)"
   ]
  },
  {
   "cell_type": "markdown",
   "metadata": {},
   "source": [
    "## Médias"
   ]
  },
  {
   "cell_type": "code",
   "execution_count": 3,
   "metadata": {
    "collapsed": true
   },
   "outputs": [],
   "source": [
    "def titleCount(x): \n",
    "    try:\n",
    "        return len(re.findall(r'\\w+', x['title']))\n",
    "    except:\n",
    "        return 0\n",
    "    \n",
    "def contentCount(x): \n",
    "    try:\n",
    "        return len(re.findall(r'\\w+', x['content']))\n",
    "    except:\n",
    "        return 0\n",
    "    \n",
    "posts['titleCount'] = posts.apply(titleCount,axis=1)\n",
    "posts['contentCount'] = posts.apply(contentCount,axis=1)"
   ]
  },
  {
   "cell_type": "code",
   "execution_count": 4,
   "metadata": {
    "collapsed": false
   },
   "outputs": [
    {
     "data": {
      "text/plain": [
       "4.7375151371606803"
      ]
     },
     "execution_count": 4,
     "metadata": {},
     "output_type": "execute_result"
    }
   ],
   "source": [
    "np.mean(posts['titleCount'])"
   ]
  },
  {
   "cell_type": "code",
   "execution_count": 5,
   "metadata": {
    "collapsed": false
   },
   "outputs": [
    {
     "data": {
      "text/plain": [
       "266.26412127250899"
      ]
     },
     "execution_count": 5,
     "metadata": {},
     "output_type": "execute_result"
    }
   ],
   "source": [
    "np.mean(posts['contentCount'])"
   ]
  },
  {
   "cell_type": "markdown",
   "metadata": {},
   "source": [
    "## Blogs mais densos"
   ]
  },
  {
   "cell_type": "code",
   "execution_count": 6,
   "metadata": {
    "collapsed": false
   },
   "outputs": [
    {
     "data": {
      "text/html": [
       "<div>\n",
       "<table border=\"1\" class=\"dataframe\">\n",
       "  <thead>\n",
       "    <tr style=\"text-align: right;\">\n",
       "      <th></th>\n",
       "      <th>count</th>\n",
       "      <th>mean</th>\n",
       "    </tr>\n",
       "    <tr>\n",
       "      <th>posts.csv</th>\n",
       "      <th></th>\n",
       "      <th></th>\n",
       "    </tr>\n",
       "  </thead>\n",
       "  <tbody>\n",
       "    <tr>\n",
       "      <th>1717983962433433360</th>\n",
       "      <td>10</td>\n",
       "      <td>62653.500000</td>\n",
       "    </tr>\n",
       "    <tr>\n",
       "      <th>232972331800590580</th>\n",
       "      <td>10</td>\n",
       "      <td>37916.000000</td>\n",
       "    </tr>\n",
       "    <tr>\n",
       "      <th>1881440988280989601</th>\n",
       "      <td>10</td>\n",
       "      <td>31458.200000</td>\n",
       "    </tr>\n",
       "    <tr>\n",
       "      <th>2294213915837175178</th>\n",
       "      <td>10</td>\n",
       "      <td>26657.100000</td>\n",
       "    </tr>\n",
       "    <tr>\n",
       "      <th>1174338327883930016</th>\n",
       "      <td>10</td>\n",
       "      <td>23428.800000</td>\n",
       "    </tr>\n",
       "    <tr>\n",
       "      <th>1156787905348184307</th>\n",
       "      <td>9</td>\n",
       "      <td>22866.555556</td>\n",
       "    </tr>\n",
       "    <tr>\n",
       "      <th>1636456055145665266</th>\n",
       "      <td>4</td>\n",
       "      <td>21417.250000</td>\n",
       "    </tr>\n",
       "    <tr>\n",
       "      <th>2083400985795782700</th>\n",
       "      <td>10</td>\n",
       "      <td>20506.200000</td>\n",
       "    </tr>\n",
       "    <tr>\n",
       "      <th>2071340128786344525</th>\n",
       "      <td>10</td>\n",
       "      <td>19200.300000</td>\n",
       "    </tr>\n",
       "    <tr>\n",
       "      <th>1582126559606127684</th>\n",
       "      <td>10</td>\n",
       "      <td>19176.800000</td>\n",
       "    </tr>\n",
       "  </tbody>\n",
       "</table>\n",
       "</div>"
      ],
      "text/plain": [
       "                     count          mean\n",
       "posts.csv                               \n",
       "1717983962433433360     10  62653.500000\n",
       "232972331800590580      10  37916.000000\n",
       "1881440988280989601     10  31458.200000\n",
       "2294213915837175178     10  26657.100000\n",
       "1174338327883930016     10  23428.800000\n",
       "1156787905348184307      9  22866.555556\n",
       "1636456055145665266      4  21417.250000\n",
       "2083400985795782700     10  20506.200000\n",
       "2071340128786344525     10  19200.300000\n",
       "1582126559606127684     10  19176.800000"
      ]
     },
     "execution_count": 6,
     "metadata": {},
     "output_type": "execute_result"
    }
   ],
   "source": [
    "blogLen = posts[['posts.csv','contentCount']].groupby(['posts.csv']).agg(['count','mean'])\n",
    "blogLen['contentCount'].sort_values('mean',ascending=False).head(10)"
   ]
  },
  {
   "cell_type": "markdown",
   "metadata": {},
   "source": [
    "## Posts mais comentados"
   ]
  },
  {
   "cell_type": "code",
   "execution_count": 7,
   "metadata": {
    "collapsed": false,
    "scrolled": true
   },
   "outputs": [
    {
     "data": {
      "text/html": [
       "<div>\n",
       "<table border=\"1\" class=\"dataframe\">\n",
       "  <thead>\n",
       "    <tr style=\"text-align: right;\">\n",
       "      <th></th>\n",
       "      <th>title</th>\n",
       "      <th>replies</th>\n",
       "    </tr>\n",
       "  </thead>\n",
       "  <tbody>\n",
       "    <tr>\n",
       "      <th>890163</th>\n",
       "      <td>Aprenda a usar o novo orkut!</td>\n",
       "      <td>1938</td>\n",
       "    </tr>\n",
       "    <tr>\n",
       "      <th>977139</th>\n",
       "      <td>TUDO SOBRE LÉO SANTANA</td>\n",
       "      <td>1232</td>\n",
       "    </tr>\n",
       "    <tr>\n",
       "      <th>890165</th>\n",
       "      <td>Miedi que eu respondo!</td>\n",
       "      <td>1135</td>\n",
       "    </tr>\n",
       "    <tr>\n",
       "      <th>890162</th>\n",
       "      <td>Ely Kim, o melhor dançarino do mundo</td>\n",
       "      <td>1129</td>\n",
       "    </tr>\n",
       "    <tr>\n",
       "      <th>890169</th>\n",
       "      <td>O fim do Concurso Cultural</td>\n",
       "      <td>1108</td>\n",
       "    </tr>\n",
       "    <tr>\n",
       "      <th>229668</th>\n",
       "      <td>Urgente! Publicado o Edital do Concurso da PME...</td>\n",
       "      <td>1102</td>\n",
       "    </tr>\n",
       "    <tr>\n",
       "      <th>683601</th>\n",
       "      <td>Deixe seu Recado no meu Guestbook</td>\n",
       "      <td>695</td>\n",
       "    </tr>\n",
       "    <tr>\n",
       "      <th>577222</th>\n",
       "      <td>Sorteio</td>\n",
       "      <td>553</td>\n",
       "    </tr>\n",
       "    <tr>\n",
       "      <th>1248763</th>\n",
       "      <td>Need for Speed: The Run (ISO) [MediaFire] + Cr...</td>\n",
       "      <td>531</td>\n",
       "    </tr>\n",
       "    <tr>\n",
       "      <th>162172</th>\n",
       "      <td>FÓRUM 3 ANO 3 BIMESTRE 2015</td>\n",
       "      <td>528</td>\n",
       "    </tr>\n",
       "  </tbody>\n",
       "</table>\n",
       "</div>"
      ],
      "text/plain": [
       "                                                     title  replies\n",
       "890163                        Aprenda a usar o novo orkut!     1938\n",
       "977139                              TUDO SOBRE LÉO SANTANA     1232\n",
       "890165                              Miedi que eu respondo!     1135\n",
       "890162                Ely Kim, o melhor dançarino do mundo     1129\n",
       "890169                          O fim do Concurso Cultural     1108\n",
       "229668   Urgente! Publicado o Edital do Concurso da PME...     1102\n",
       "683601                   Deixe seu Recado no meu Guestbook      695\n",
       "577222                                             Sorteio      553\n",
       "1248763  Need for Speed: The Run (ISO) [MediaFire] + Cr...      531\n",
       "162172                         FÓRUM 3 ANO 3 BIMESTRE 2015      528"
      ]
     },
     "execution_count": 7,
     "metadata": {},
     "output_type": "execute_result"
    }
   ],
   "source": [
    "posts[['title','replies']].sort_values('replies',ascending=False).head(10)"
   ]
  },
  {
   "cell_type": "markdown",
   "metadata": {},
   "source": [
    "## Posts Auto-Reflexivos"
   ]
  },
  {
   "cell_type": "code",
   "execution_count": 8,
   "metadata": {
    "collapsed": false
   },
   "outputs": [
    {
     "name": "stdout",
     "output_type": "stream",
     "text": [
      "Posts Reflexivos: 13881\n",
      "Total de Posts: 1346851\n",
      "Percentual: 1.000000\n"
     ]
    }
   ],
   "source": [
    "posts = posts.fillna('')\n",
    "postsReflexivos = posts[posts['content'].str.contains(\"eu sinto|eu penso|eu acredito\")]\n",
    "\n",
    "print('Posts Reflexivos: %i' %len(postsReflexivos))\n",
    "print('Total de Posts: %i' %len(posts))\n",
    "print('Percentual: %f' %round(100 * len(postsReflexivos) / len(posts),3))"
   ]
  },
  {
   "cell_type": "markdown",
   "metadata": {},
   "source": [
    "## Blogs Auto-Reflexivos"
   ]
  },
  {
   "cell_type": "code",
   "execution_count": 9,
   "metadata": {
    "collapsed": false
   },
   "outputs": [
    {
     "data": {
      "text/html": [
       "<div>\n",
       "<table border=\"1\" class=\"dataframe\">\n",
       "  <thead>\n",
       "    <tr style=\"text-align: right;\">\n",
       "      <th></th>\n",
       "      <th>count</th>\n",
       "      <th>mean</th>\n",
       "    </tr>\n",
       "    <tr>\n",
       "      <th>posts.csv</th>\n",
       "      <th></th>\n",
       "      <th></th>\n",
       "    </tr>\n",
       "  </thead>\n",
       "  <tbody>\n",
       "    <tr>\n",
       "      <th>1717983962433433360</th>\n",
       "      <td>8</td>\n",
       "      <td>77737.750000</td>\n",
       "    </tr>\n",
       "    <tr>\n",
       "      <th>242410630245328495</th>\n",
       "      <td>8</td>\n",
       "      <td>323.375000</td>\n",
       "    </tr>\n",
       "    <tr>\n",
       "      <th>2376002203817739048</th>\n",
       "      <td>7</td>\n",
       "      <td>196.000000</td>\n",
       "    </tr>\n",
       "    <tr>\n",
       "      <th>1978371034383717143</th>\n",
       "      <td>7</td>\n",
       "      <td>2226.000000</td>\n",
       "    </tr>\n",
       "    <tr>\n",
       "      <th>2299697280975917640</th>\n",
       "      <td>7</td>\n",
       "      <td>255.428571</td>\n",
       "    </tr>\n",
       "    <tr>\n",
       "      <th>118502485184438267</th>\n",
       "      <td>7</td>\n",
       "      <td>562.714286</td>\n",
       "    </tr>\n",
       "    <tr>\n",
       "      <th>1914884416849928157</th>\n",
       "      <td>6</td>\n",
       "      <td>635.500000</td>\n",
       "    </tr>\n",
       "    <tr>\n",
       "      <th>1588511966346755811</th>\n",
       "      <td>6</td>\n",
       "      <td>293.500000</td>\n",
       "    </tr>\n",
       "    <tr>\n",
       "      <th>2145477216130713949</th>\n",
       "      <td>6</td>\n",
       "      <td>789.500000</td>\n",
       "    </tr>\n",
       "    <tr>\n",
       "      <th>1903048977906924491</th>\n",
       "      <td>6</td>\n",
       "      <td>463.500000</td>\n",
       "    </tr>\n",
       "  </tbody>\n",
       "</table>\n",
       "</div>"
      ],
      "text/plain": [
       "                     count          mean\n",
       "posts.csv                               \n",
       "1717983962433433360      8  77737.750000\n",
       "242410630245328495       8    323.375000\n",
       "2376002203817739048      7    196.000000\n",
       "1978371034383717143      7   2226.000000\n",
       "2299697280975917640      7    255.428571\n",
       "118502485184438267       7    562.714286\n",
       "1914884416849928157      6    635.500000\n",
       "1588511966346755811      6    293.500000\n",
       "2145477216130713949      6    789.500000\n",
       "1903048977906924491      6    463.500000"
      ]
     },
     "execution_count": 9,
     "metadata": {},
     "output_type": "execute_result"
    }
   ],
   "source": [
    "groupReflex = postsReflexivos[['posts.csv','contentCount']].groupby(['posts.csv']).agg(['count','mean'])\n",
    "groupReflex['contentCount'].sort_values('count',ascending=False).head(10)"
   ]
  }
 ],
 "metadata": {
  "kernelspec": {
   "display_name": "Python 2",
   "language": "python",
   "name": "python2"
  },
  "language_info": {
   "codemirror_mode": {
    "name": "ipython",
    "version": 2
   },
   "file_extension": ".py",
   "mimetype": "text/x-python",
   "name": "python",
   "nbconvert_exporter": "python",
   "pygments_lexer": "ipython2",
   "version": "2.7.11"
  }
 },
 "nbformat": 4,
 "nbformat_minor": 2
}
