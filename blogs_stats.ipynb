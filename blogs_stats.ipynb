{
 "cells": [
  {
   "cell_type": "code",
   "execution_count": 1,
   "metadata": {
    "collapsed": false,
    "deletable": true,
    "editable": true,
    "scrolled": true
   },
   "outputs": [
    {
     "name": "stderr",
     "output_type": "stream",
     "text": [
      "/usr/local/lib/python3.5/dist-packages/IPython/core/interactiveshell.py:2717: DtypeWarning: Columns (0) have mixed types. Specify dtype option on import or set low_memory=False.\n",
      "  interactivity=interactivity, compiler=compiler, result=result)\n"
     ]
    }
   ],
   "source": [
    "import pandas as pd\n",
    "import numpy as np\n",
    "import re\n",
    "posts = pd.read_csv('posts_clean.csv.gz', compression='gzip', error_bad_lines=False)"
   ]
  },
  {
   "cell_type": "markdown",
   "metadata": {
    "deletable": true,
    "editable": true
   },
   "source": [
    "## Contagens"
   ]
  },
  {
   "cell_type": "code",
   "execution_count": 2,
   "metadata": {
    "collapsed": false,
    "deletable": true,
    "editable": true
   },
   "outputs": [
    {
     "name": "stdout",
     "output_type": "stream",
     "text": [
      "Postagens: 1346858\n",
      "Blogs: 144045\n",
      "Autores: 154787\n"
     ]
    }
   ],
   "source": [
    "blogs = posts[['posts.csv']].groupby(['posts.csv'])\n",
    "autores = posts[['authorID']].groupby(['authorID'])\n",
    "print('Postagens: %i' %len(posts))\n",
    "print('Blogs: %i' %len(blogs))\n",
    "print('Autores: %i' %len(autores))"
   ]
  },
  {
   "cell_type": "markdown",
   "metadata": {
    "deletable": true,
    "editable": true
   },
   "source": [
    "## Ano de Publicação"
   ]
  },
  {
   "cell_type": "code",
   "execution_count": 3,
   "metadata": {
    "collapsed": false,
    "deletable": true,
    "editable": true
   },
   "outputs": [],
   "source": [
    "posts['date'] = pd.to_datetime(posts['published'], errors='coerce')\n",
    "posts['year'] = posts['date'].dt.year"
   ]
  },
  {
   "cell_type": "code",
   "execution_count": 4,
   "metadata": {
    "collapsed": false,
    "deletable": true,
    "editable": true
   },
   "outputs": [
    {
     "data": {
      "text/plain": [
       "<matplotlib.axes._subplots.AxesSubplot at 0x7ff992900550>"
      ]
     },
     "execution_count": 4,
     "metadata": {},
     "output_type": "execute_result"
    },
    {
     "data": {
      "image/png": "[encoded data removed]",
      "text/plain": [
       "<matplotlib.figure.Figure at 0x7ff9928dda20>"
      ]
     },
     "metadata": {},
     "output_type": "display_data"
    }
   ],
   "source": [
    "%matplotlib inline\n",
    "year = posts['year']\n",
    "year = year[year > 2000]\n",
    "year = year[year < 2018]\n",
    "year.plot.hist(bins=40)"
   ]
  },
  {
   "cell_type": "markdown",
   "metadata": {
    "deletable": true,
    "editable": true
   },
   "source": [
    "## Médias"
   ]
  },
  {
   "cell_type": "code",
   "execution_count": 73,
   "metadata": {
    "collapsed": true,
    "deletable": true,
    "editable": true
   },
   "outputs": [],
   "source": [
    "def titleCount(x): \n",
    "    try:\n",
    "        return len(re.findall(r'\\w+', x['title']))\n",
    "    except:\n",
    "        return 0\n",
    "    \n",
    "def contentCount(x): \n",
    "    try:\n",
    "        return len(re.findall(r'\\w+', x['content']))\n",
    "    except:\n",
    "        return 0\n",
    "\n",
    "posts['titleCount'] = posts.apply(titleCount,axis=1)\n",
    "posts['contentCount'] = posts.apply(contentCount,axis=1)"
   ]
  },
  {
   "cell_type": "code",
   "execution_count": 6,
   "metadata": {
    "collapsed": false,
    "deletable": true,
    "editable": true
   },
   "outputs": [
    {
     "data": {
      "text/plain": [
       "4.3452457497375372"
      ]
     },
     "execution_count": 6,
     "metadata": {},
     "output_type": "execute_result"
    }
   ],
   "source": [
    "np.mean(posts['titleCount'])"
   ]
  },
  {
   "cell_type": "code",
   "execution_count": 7,
   "metadata": {
    "collapsed": false,
    "deletable": true,
    "editable": true
   },
   "outputs": [
    {
     "data": {
      "text/plain": [
       "245.77212965286614"
      ]
     },
     "execution_count": 7,
     "metadata": {},
     "output_type": "execute_result"
    }
   ],
   "source": [
    "np.mean(posts['contentCount'])"
   ]
  },
  {
   "cell_type": "code",
   "execution_count": 19,
   "metadata": {
    "collapsed": false
   },
   "outputs": [
    {
     "data": {
      "text/plain": [
       "<matplotlib.axes._subplots.AxesSubplot at 0x7ff963561c50>"
      ]
     },
     "execution_count": 19,
     "metadata": {},
     "output_type": "execute_result"
    },
    {
     "data": {
      "image/png": "[encoded data removed]",
      "text/plain": [
       "<matplotlib.figure.Figure at 0x7ff9618d40b8>"
      ]
     },
     "metadata": {},
     "output_type": "display_data"
    }
   ],
   "source": [
    "%matplotlib inline\n",
    "contentCount = posts['contentCount']\n",
    "contentCount = contentCount[contentCount > 1]\n",
    "contentCount = contentCount[contentCount < 1000]\n",
    "contentCount.plot.hist(bins=40)"
   ]
  },
  {
   "cell_type": "markdown",
   "metadata": {
    "deletable": true,
    "editable": true
   },
   "source": [
    "## Blogs mais densos"
   ]
  },
  {
   "cell_type": "code",
   "execution_count": 82,
   "metadata": {
    "collapsed": false,
    "deletable": true,
    "editable": true
   },
   "outputs": [
    {
     "data": {
      "text/html": [
       "<div>\n",
       "<table border=\"1\" class=\"dataframe\">\n",
       "  <thead>\n",
       "    <tr style=\"text-align: right;\">\n",
       "      <th></th>\n",
       "      <th>count</th>\n",
       "      <th>mean</th>\n",
       "    </tr>\n",
       "    <tr>\n",
       "      <th>posts.csv</th>\n",
       "      <th></th>\n",
       "      <th></th>\n",
       "    </tr>\n",
       "  </thead>\n",
       "  <tbody>\n",
       "    <tr>\n",
       "      <th>1.717984e+18</th>\n",
       "      <td>10</td>\n",
       "      <td>59727.3</td>\n",
       "    </tr>\n",
       "    <tr>\n",
       "      <th>2.329723e+17</th>\n",
       "      <td>10</td>\n",
       "      <td>37914.3</td>\n",
       "    </tr>\n",
       "    <tr>\n",
       "      <th>1.881441e+18</th>\n",
       "      <td>10</td>\n",
       "      <td>28846.8</td>\n",
       "    </tr>\n",
       "    <tr>\n",
       "      <th>2.294214e+18</th>\n",
       "      <td>10</td>\n",
       "      <td>24485.5</td>\n",
       "    </tr>\n",
       "    <tr>\n",
       "      <th>1.174338e+18</th>\n",
       "      <td>10</td>\n",
       "      <td>21617.5</td>\n",
       "    </tr>\n",
       "    <tr>\n",
       "      <th>1.156788e+18</th>\n",
       "      <td>9</td>\n",
       "      <td>21231.0</td>\n",
       "    </tr>\n",
       "    <tr>\n",
       "      <th>1.636456e+18</th>\n",
       "      <td>4</td>\n",
       "      <td>19915.5</td>\n",
       "    </tr>\n",
       "    <tr>\n",
       "      <th>1.024539e+18</th>\n",
       "      <td>10</td>\n",
       "      <td>18299.4</td>\n",
       "    </tr>\n",
       "    <tr>\n",
       "      <th>2.083401e+18</th>\n",
       "      <td>10</td>\n",
       "      <td>18166.6</td>\n",
       "    </tr>\n",
       "    <tr>\n",
       "      <th>2.071340e+18</th>\n",
       "      <td>10</td>\n",
       "      <td>18061.9</td>\n",
       "    </tr>\n",
       "  </tbody>\n",
       "</table>\n",
       "</div>"
      ],
      "text/plain": [
       "              count     mean\n",
       "posts.csv                   \n",
       "1.717984e+18     10  59727.3\n",
       "2.329723e+17     10  37914.3\n",
       "1.881441e+18     10  28846.8\n",
       "2.294214e+18     10  24485.5\n",
       "1.174338e+18     10  21617.5\n",
       "1.156788e+18      9  21231.0\n",
       "1.636456e+18      4  19915.5\n",
       "1.024539e+18     10  18299.4\n",
       "2.083401e+18     10  18166.6\n",
       "2.071340e+18     10  18061.9"
      ]
     },
     "execution_count": 82,
     "metadata": {},
     "output_type": "execute_result"
    }
   ],
   "source": [
    "blogLen = posts[['posts.csv','contentCount']].groupby(['posts.csv']).agg(['count','mean'])\n",
    "blogLen['contentCount'].sort_values('mean',ascending=False).head(10)"
   ]
  },
  {
   "cell_type": "markdown",
   "metadata": {
    "deletable": true,
    "editable": true
   },
   "source": [
    "## Posts mais comentados"
   ]
  },
  {
   "cell_type": "code",
   "execution_count": 9,
   "metadata": {
    "collapsed": false,
    "deletable": true,
    "editable": true,
    "scrolled": true
   },
   "outputs": [
    {
     "data": {
      "text/html": [
       "<div>\n",
       "<table border=\"1\" class=\"dataframe\">\n",
       "  <thead>\n",
       "    <tr style=\"text-align: right;\">\n",
       "      <th></th>\n",
       "      <th>title</th>\n",
       "      <th>replies</th>\n",
       "    </tr>\n",
       "  </thead>\n",
       "  <tbody>\n",
       "    <tr>\n",
       "      <th>890168</th>\n",
       "      <td>Aprenda a usar o novo orkut!</td>\n",
       "      <td>1938.0</td>\n",
       "    </tr>\n",
       "    <tr>\n",
       "      <th>977144</th>\n",
       "      <td>TUDO SOBRE LÉO SANTANA</td>\n",
       "      <td>1232.0</td>\n",
       "    </tr>\n",
       "    <tr>\n",
       "      <th>890170</th>\n",
       "      <td>Miedi que eu respondo!</td>\n",
       "      <td>1135.0</td>\n",
       "    </tr>\n",
       "    <tr>\n",
       "      <th>890167</th>\n",
       "      <td>Ely Kim, o melhor dançarino do mundo</td>\n",
       "      <td>1129.0</td>\n",
       "    </tr>\n",
       "    <tr>\n",
       "      <th>890174</th>\n",
       "      <td>O fim do Concurso Cultural</td>\n",
       "      <td>1108.0</td>\n",
       "    </tr>\n",
       "    <tr>\n",
       "      <th>229670</th>\n",
       "      <td>Urgente! Publicado o Edital do Concurso da PME...</td>\n",
       "      <td>1102.0</td>\n",
       "    </tr>\n",
       "    <tr>\n",
       "      <th>683605</th>\n",
       "      <td>Deixe seu Recado no meu Guestbook</td>\n",
       "      <td>695.0</td>\n",
       "    </tr>\n",
       "    <tr>\n",
       "      <th>577225</th>\n",
       "      <td>Sorteio</td>\n",
       "      <td>553.0</td>\n",
       "    </tr>\n",
       "    <tr>\n",
       "      <th>1248769</th>\n",
       "      <td>Need for Speed: The Run (ISO) [MediaFire] + Cr...</td>\n",
       "      <td>531.0</td>\n",
       "    </tr>\n",
       "    <tr>\n",
       "      <th>162174</th>\n",
       "      <td>FÓRUM 3 ANO 3 BIMESTRE 2015</td>\n",
       "      <td>528.0</td>\n",
       "    </tr>\n",
       "  </tbody>\n",
       "</table>\n",
       "</div>"
      ],
      "text/plain": [
       "                                                     title  replies\n",
       "890168                        Aprenda a usar o novo orkut!   1938.0\n",
       "977144                              TUDO SOBRE LÉO SANTANA   1232.0\n",
       "890170                              Miedi que eu respondo!   1135.0\n",
       "890167                Ely Kim, o melhor dançarino do mundo   1129.0\n",
       "890174                          O fim do Concurso Cultural   1108.0\n",
       "229670   Urgente! Publicado o Edital do Concurso da PME...   1102.0\n",
       "683605                   Deixe seu Recado no meu Guestbook    695.0\n",
       "577225                                             Sorteio    553.0\n",
       "1248769  Need for Speed: The Run (ISO) [MediaFire] + Cr...    531.0\n",
       "162174                         FÓRUM 3 ANO 3 BIMESTRE 2015    528.0"
      ]
     },
     "execution_count": 9,
     "metadata": {},
     "output_type": "execute_result"
    }
   ],
   "source": [
    "posts[['title','replies']].sort_values('replies',ascending=False).head(10)"
   ]
  },
  {
   "cell_type": "markdown",
   "metadata": {
    "deletable": true,
    "editable": true
   },
   "source": [
    "## Posts Auto-Reflexivos"
   ]
  },
  {
   "cell_type": "code",
   "execution_count": 10,
   "metadata": {
    "collapsed": false,
    "deletable": true,
    "editable": true
   },
   "outputs": [
    {
     "name": "stdout",
     "output_type": "stream",
     "text": [
      "Posts Reflexivos: 13881\n",
      "Total de Posts: 1346858\n",
      "Percentual: 1.031000\n"
     ]
    }
   ],
   "source": [
    "posts = posts.fillna('')\n",
    "postsReflexivos = posts[posts['content'].str.contains(\"eu sinto|eu penso|eu acredito\")]\n",
    "\n",
    "print('Posts Reflexivos: %i' %len(postsReflexivos))\n",
    "print('Total de Posts: %i' %len(posts))\n",
    "print('Percentual: %f' %round(100 * len(postsReflexivos) / len(posts),3))"
   ]
  },
  {
   "cell_type": "markdown",
   "metadata": {
    "deletable": true,
    "editable": true
   },
   "source": [
    "## Blogs Auto-Reflexivos"
   ]
  },
  {
   "cell_type": "code",
   "execution_count": 84,
   "metadata": {
    "collapsed": false,
    "deletable": true,
    "editable": true
   },
   "outputs": [
    {
     "name": "stderr",
     "output_type": "stream",
     "text": [
      "/usr/local/lib/python3.5/dist-packages/ipykernel/__main__.py:1: SettingWithCopyWarning: \n",
      "A value is trying to be set on a copy of a slice from a DataFrame.\n",
      "Try using .loc[row_indexer,col_indexer] = value instead\n",
      "\n",
      "See the caveats in the documentation: http://pandas.pydata.org/pandas-docs/stable/indexing.html#indexing-view-versus-copy\n",
      "  if __name__ == '__main__':\n"
     ]
    },
    {
     "data": {
      "text/html": [
       "<div>\n",
       "<table border=\"1\" class=\"dataframe\">\n",
       "  <thead>\n",
       "    <tr style=\"text-align: right;\">\n",
       "      <th></th>\n",
       "      <th>count</th>\n",
       "      <th>mean</th>\n",
       "    </tr>\n",
       "    <tr>\n",
       "      <th>blogID</th>\n",
       "      <th></th>\n",
       "      <th></th>\n",
       "    </tr>\n",
       "  </thead>\n",
       "  <tbody>\n",
       "    <tr>\n",
       "      <th>1717983962433433088</th>\n",
       "      <td>8</td>\n",
       "      <td>74107.625000</td>\n",
       "    </tr>\n",
       "    <tr>\n",
       "      <th>242410630245328480</th>\n",
       "      <td>8</td>\n",
       "      <td>309.375000</td>\n",
       "    </tr>\n",
       "    <tr>\n",
       "      <th>2299697280975917568</th>\n",
       "      <td>7</td>\n",
       "      <td>247.000000</td>\n",
       "    </tr>\n",
       "    <tr>\n",
       "      <th>118502485184438272</th>\n",
       "      <td>7</td>\n",
       "      <td>530.428571</td>\n",
       "    </tr>\n",
       "    <tr>\n",
       "      <th>1978371034383716864</th>\n",
       "      <td>7</td>\n",
       "      <td>2115.142857</td>\n",
       "    </tr>\n",
       "    <tr>\n",
       "      <th>2376002203817739776</th>\n",
       "      <td>7</td>\n",
       "      <td>190.857143</td>\n",
       "    </tr>\n",
       "    <tr>\n",
       "      <th>1661881252606013696</th>\n",
       "      <td>6</td>\n",
       "      <td>1560.666667</td>\n",
       "    </tr>\n",
       "    <tr>\n",
       "      <th>1903048977906924288</th>\n",
       "      <td>6</td>\n",
       "      <td>439.666667</td>\n",
       "    </tr>\n",
       "    <tr>\n",
       "      <th>2134748788525575936</th>\n",
       "      <td>6</td>\n",
       "      <td>4668.333333</td>\n",
       "    </tr>\n",
       "    <tr>\n",
       "      <th>1450650900147172608</th>\n",
       "      <td>6</td>\n",
       "      <td>242.000000</td>\n",
       "    </tr>\n",
       "  </tbody>\n",
       "</table>\n",
       "</div>"
      ],
      "text/plain": [
       "                     count          mean\n",
       "blogID                                  \n",
       "1717983962433433088      8  74107.625000\n",
       "242410630245328480       8    309.375000\n",
       "2299697280975917568      7    247.000000\n",
       "118502485184438272       7    530.428571\n",
       "1978371034383716864      7   2115.142857\n",
       "2376002203817739776      7    190.857143\n",
       "1661881252606013696      6   1560.666667\n",
       "1903048977906924288      6    439.666667\n",
       "2134748788525575936      6   4668.333333\n",
       "1450650900147172608      6    242.000000"
      ]
     },
     "execution_count": 84,
     "metadata": {},
     "output_type": "execute_result"
    }
   ],
   "source": [
    "postsReflexivos['blogID'] = postsReflexivos['posts.csv'].astype(int).astype('str')\n",
    "groupReflex = postsReflexivos[['blogID','contentCount']].groupby(['blogID']).agg(['count','mean'])\n",
    "groupReflex['contentCount'].sort_values('count',ascending=False).head(10)"
   ]
  },
  {
   "cell_type": "code",
   "execution_count": 20,
   "metadata": {
    "collapsed": false
   },
   "outputs": [
    {
     "data": {
      "text/html": [
       "<div>\n",
       "<table border=\"1\" class=\"dataframe\">\n",
       "  <thead>\n",
       "    <tr style=\"text-align: right;\">\n",
       "      <th></th>\n",
       "      <th>title</th>\n",
       "      <th>replies</th>\n",
       "    </tr>\n",
       "  </thead>\n",
       "  <tbody>\n",
       "    <tr>\n",
       "      <th>1089511</th>\n",
       "      <td>Hormonios Femininos - Travestis e Transxeuais</td>\n",
       "      <td>187</td>\n",
       "    </tr>\n",
       "    <tr>\n",
       "      <th>1285737</th>\n",
       "      <td>19 de Março a 07 de Abril de 2011</td>\n",
       "      <td>177</td>\n",
       "    </tr>\n",
       "    <tr>\n",
       "      <th>1333666</th>\n",
       "      <td>Dangerous Life 3° - Capítulo 6 - Confusion</td>\n",
       "      <td>166</td>\n",
       "    </tr>\n",
       "    <tr>\n",
       "      <th>55916</th>\n",
       "      <td>Invasão para amiga</td>\n",
       "      <td>95</td>\n",
       "    </tr>\n",
       "    <tr>\n",
       "      <th>441487</th>\n",
       "      <td>Às pessoas mais importantes da minha vida.</td>\n",
       "      <td>84</td>\n",
       "    </tr>\n",
       "    <tr>\n",
       "      <th>1061746</th>\n",
       "      <td></td>\n",
       "      <td>78</td>\n",
       "    </tr>\n",
       "    <tr>\n",
       "      <th>530873</th>\n",
       "      <td>fifty ♡</td>\n",
       "      <td>78</td>\n",
       "    </tr>\n",
       "    <tr>\n",
       "      <th>1333661</th>\n",
       "      <td>The Apprentice - Fourteenth chapter</td>\n",
       "      <td>78</td>\n",
       "    </tr>\n",
       "    <tr>\n",
       "      <th>258971</th>\n",
       "      <td>thirty-first chapter</td>\n",
       "      <td>71</td>\n",
       "    </tr>\n",
       "    <tr>\n",
       "      <th>614678</th>\n",
       "      <td>Sapatos e Homens</td>\n",
       "      <td>63</td>\n",
       "    </tr>\n",
       "  </tbody>\n",
       "</table>\n",
       "</div>"
      ],
      "text/plain": [
       "                                                 title replies\n",
       "1089511  Hormonios Femininos - Travestis e Transxeuais     187\n",
       "1285737              19 de Março a 07 de Abril de 2011     177\n",
       "1333666     Dangerous Life 3° - Capítulo 6 - Confusion     166\n",
       "55916                               Invasão para amiga      95\n",
       "441487      Às pessoas mais importantes da minha vida.      84\n",
       "1061746                                                     78\n",
       "530873                                         fifty ♡      78\n",
       "1333661            The Apprentice - Fourteenth chapter      78\n",
       "258971                            thirty-first chapter      71\n",
       "614678                                Sapatos e Homens      63"
      ]
     },
     "execution_count": 20,
     "metadata": {},
     "output_type": "execute_result"
    }
   ],
   "source": [
    "postsReflexivos[['title','replies']].sort_values('replies',ascending=False).head(10)"
   ]
  },
  {
   "cell_type": "code",
   "execution_count": 22,
   "metadata": {
    "collapsed": false
   },
   "outputs": [
    {
     "data": {
      "text/plain": [
       "<matplotlib.axes._subplots.AxesSubplot at 0x7ff95d3bfdd8>"
      ]
     },
     "execution_count": 22,
     "metadata": {},
     "output_type": "execute_result"
    },
    {
     "data": {
      "image/png": "[encoded data removed]",
      "text/plain": [
       "<matplotlib.figure.Figure at 0x7ff95147f0f0>"
      ]
     },
     "metadata": {},
     "output_type": "display_data"
    }
   ],
   "source": [
    "%matplotlib inline\n",
    "contentCount = postsReflexivos['contentCount']\n",
    "contentCount = contentCount[contentCount > 1]\n",
    "contentCount = contentCount[contentCount < 2000]\n",
    "contentCount.plot.hist(bins=40)"
   ]
  }
 ],
 "metadata": {
  "kernelspec": {
   "display_name": "Python 3",
   "language": "python",
   "name": "python3"
  },
  "language_info": {
   "codemirror_mode": {
    "name": "ipython",
    "version": 3
   },
   "file_extension": ".py",
   "mimetype": "text/x-python",
   "name": "python",
   "nbconvert_exporter": "python",
   "pygments_lexer": "ipython3",
   "version": "3.5.2"
  }
 },
 "nbformat": 4,
 "nbformat_minor": 2
}
