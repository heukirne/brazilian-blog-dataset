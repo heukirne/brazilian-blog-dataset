{
 "cells": [
  {
   "cell_type": "code",
   "execution_count": 1,
   "metadata": {
    "collapsed": true
   },
   "outputs": [],
   "source": [
    "from glove import Corpus, Glove\n",
    "model_glove = Glove.load('post_glove.dic')"
   ]
  },
  {
   "cell_type": "code",
   "execution_count": 2,
   "metadata": {},
   "outputs": [
    {
     "data": {
      "text/plain": [
       "[('nascitur', 0.93965801738625909),\n",
       " ('verdadeiro', 0.84873992473690107),\n",
       " ('desejo', 0.84284382874722197),\n",
       " ('eterno', 0.83763772159997207),\n",
       " ('carinho', 0.80910023426877409),\n",
       " ('amizade', 0.80837249311052628),\n",
       " ('coracao', 0.79166351918297184),\n",
       " ('alegria', 0.78984246721340856),\n",
       " ('respeito', 0.78928467499599364)]"
      ]
     },
     "execution_count": 2,
     "metadata": {},
     "output_type": "execute_result"
    }
   ],
   "source": [
    "model_glove.most_similar('amor', number=10)"
   ]
  },
  {
   "cell_type": "code",
   "execution_count": 2,
   "metadata": {},
   "outputs": [],
   "source": [
    "from gensim.models.word2vec import KeyedVectors\n",
    "model_word2vec = KeyedVectors.load_word2vec_format('post_word2vec.bin', binary=True)"
   ]
  },
  {
   "cell_type": "code",
   "execution_count": 3,
   "metadata": {},
   "outputs": [
    {
     "data": {
      "text/plain": [
       "[('sentimento', 0.8009729385375977),\n",
       " ('afeto', 0.7898211479187012),\n",
       " ('egoismo', 0.7882105708122253),\n",
       " ('gozo', 0.7722449898719788),\n",
       " ('contentamento', 0.7682508826255798),\n",
       " ('zelo', 0.766608715057373),\n",
       " ('sofrimento', 0.7666018605232239),\n",
       " ('arrependimento', 0.7656380534172058),\n",
       " ('perdao', 0.7592653632164001),\n",
       " ('anseio', 0.7586473822593689)]"
      ]
     },
     "execution_count": 3,
     "metadata": {},
     "output_type": "execute_result"
    }
   ],
   "source": [
    "model_word2vec.most_similar_cosmul('amor',topn=10)"
   ]
  }
 ],
 "metadata": {
  "kernelspec": {
   "display_name": "Python 3",
   "language": "python",
   "name": "python3"
  },
  "language_info": {
   "codemirror_mode": {
    "name": "ipython",
    "version": 3
   },
   "file_extension": ".py",
   "mimetype": "text/x-python",
   "name": "python",
   "nbconvert_exporter": "python",
   "pygments_lexer": "ipython3",
   "version": "3.6.1"
  }
 },
 "nbformat": 4,
 "nbformat_minor": 2
}
