{
 "cells": [
  {
   "cell_type": "code",
   "execution_count": 15,
   "metadata": {},
   "outputs": [
    {
     "data": {
      "text/plain": [
       "(1000, 67)"
      ]
     },
     "execution_count": 15,
     "metadata": {},
     "output_type": "execute_result"
    }
   ],
   "source": [
    "import pandas as pd\n",
    "import numpy as np\n",
    "from sklearn import preprocessing\n",
    "from sklearn.svm import SVC, LinearSVC\n",
    "from sklearn.model_selection import GridSearchCV, cross_val_score\n",
    "\n",
    "# load corpus\n",
    "corpus = pd.read_csv('corpus.csv.gz', compression='gzip')\n",
    "corpus_feat = pd.read_csv('corpus_liwc_mtx.csv.gz', compression='gzip')\n",
    "corpus_feat.shape"
   ]
  },
  {
   "cell_type": "code",
   "execution_count": 16,
   "metadata": {},
   "outputs": [],
   "source": [
    "corpus_feat['class'] = corpus['qual_a_melhor_classificao_para_esse_texto']\n",
    "corpus_feat['confidence'] = corpus['qual_a_melhor_classificao_para_esse_texto:confidence']\n",
    "corpus_feat['wc'] = corpus['contentcount']"
   ]
  },
  {
   "cell_type": "code",
   "execution_count": 17,
   "metadata": {},
   "outputs": [],
   "source": [
    "corpus_feat.drop(corpus_feat.columns[0], axis=1,inplace=True)\n",
    "corpus_feat.drop(corpus_feat.columns[0], axis=1,inplace=True)\n",
    "corpus_feat = corpus_feat[corpus_feat.wc.apply(lambda x: str(x).isnumeric())]\n",
    "\n",
    "wc_vector = corpus_feat['wc']\n",
    "class_vector = corpus_feat['class']\n",
    "\n",
    "corpus_feat.drop('class',axis=1,inplace=True)\n",
    "corpus_feat.drop('confidence',axis=1,inplace=True)\n",
    "corpus_feat.drop('wc',axis=1,inplace=True)"
   ]
  },
  {
   "cell_type": "code",
   "execution_count": 28,
   "metadata": {},
   "outputs": [
    {
     "name": "stderr",
     "output_type": "stream",
     "text": [
      "/usr/local/lib/python3.6/site-packages/ipykernel_launcher.py:1: RuntimeWarning: divide by zero encountered in true_divide\n",
      "  \"\"\"Entry point for launching an IPython kernel.\n",
      "/usr/local/lib/python3.6/site-packages/ipykernel_launcher.py:1: RuntimeWarning: invalid value encountered in true_divide\n",
      "  \"\"\"Entry point for launching an IPython kernel.\n"
     ]
    },
    {
     "data": {
      "text/plain": [
       "(997, 64)"
      ]
     },
     "execution_count": 28,
     "metadata": {},
     "output_type": "execute_result"
    }
   ],
   "source": [
    "data = corpus_feat.as_matrix().astype(float) / wc_vector.as_matrix().astype(float)[:, np.newaxis]\n",
    "data[np.isnan(data)] = 0\n",
    "data[data >= 1E308] = 0\n",
    "data.shape"
   ]
  },
  {
   "cell_type": "code",
   "execution_count": 29,
   "metadata": {
    "collapsed": true
   },
   "outputs": [],
   "source": [
    "# fix labels to binary\n",
    "from sklearn import preprocessing\n",
    "lb = preprocessing.LabelBinarizer(neg_label=1, pos_label=2)\n",
    "target = lb.fit_transform(class_vector.values)\n",
    "c, r = target.shape\n",
    "target = target.reshape(c,)"
   ]
  },
  {
   "cell_type": "markdown",
   "metadata": {},
   "source": [
    "## Evaluating SVM"
   ]
  },
  {
   "cell_type": "code",
   "execution_count": 30,
   "metadata": {},
   "outputs": [
    {
     "name": "stdout",
     "output_type": "stream",
     "text": [
      "Fitting 3 folds for each of 4 candidates, totalling 12 fits\n",
      "[CV] C=1, kernel=linear ..............................................\n",
      "[CV] C=1, kernel=linear ..............................................\n",
      "[CV] C=1, kernel=linear ..............................................\n",
      "[CV] ............... C=1, kernel=linear, score=0.636637, total=   0.1s\n",
      "[CV] C=1, kernel=rbf .................................................\n",
      "[CV] ............... C=1, kernel=linear, score=0.635542, total=   0.1s\n",
      "[CV] C=1, kernel=rbf .................................................\n",
      "[CV] ............... C=1, kernel=linear, score=0.635542, total=   0.1s\n",
      "[CV] C=1, kernel=rbf .................................................\n",
      "[CV] .................. C=1, kernel=rbf, score=0.635542, total=   0.1s\n",
      "[CV] C=10, kernel=linear .............................................\n",
      "[CV] .................. C=1, kernel=rbf, score=0.635542, total=   0.1s\n",
      "[CV] C=10, kernel=linear .............................................\n",
      "[CV] .................. C=1, kernel=rbf, score=0.636637, total=   0.1s\n",
      "[CV] C=10, kernel=rbf ................................................\n",
      "[CV] .............. C=10, kernel=linear, score=0.615616, total=   0.1s\n",
      "[CV] C=10, kernel=linear .............................................\n",
      "[CV] .............. C=10, kernel=linear, score=0.635542, total=   0.1s\n",
      "[CV] C=10, kernel=rbf ................................................\n",
      "[CV] ................. C=10, kernel=rbf, score=0.635542, total=   0.1s\n",
      "[CV] C=10, kernel=rbf ................................................\n",
      "[CV] .............. C=10, kernel=linear, score=0.662651, total=   0.1s\n",
      "[CV] ................. C=10, kernel=rbf, score=0.636637, total=   0.1s\n",
      "[CV] ................. C=10, kernel=rbf, score=0.635542, total=   0.1s\n"
     ]
    },
    {
     "name": "stderr",
     "output_type": "stream",
     "text": [
      "[Parallel(n_jobs=3)]: Done  12 out of  12 | elapsed:    0.7s remaining:    0.0s\n",
      "[Parallel(n_jobs=3)]: Done  12 out of  12 | elapsed:    0.7s finished\n"
     ]
    },
    {
     "data": {
      "text/plain": [
       "GridSearchCV(cv=3, error_score='raise',\n",
       "       estimator=SVC(C=1.0, cache_size=200, class_weight=None, coef0=0.0,\n",
       "  decision_function_shape=None, degree=3, gamma='auto', kernel='rbf',\n",
       "  max_iter=-1, probability=False, random_state=None, shrinking=True,\n",
       "  tol=0.001, verbose=False),\n",
       "       fit_params={}, iid=True, n_jobs=3,\n",
       "       param_grid={'kernel': ('linear', 'rbf'), 'C': [1, 10]},\n",
       "       pre_dispatch='2*n_jobs', refit=True, return_train_score=True,\n",
       "       scoring='accuracy', verbose=3)"
      ]
     },
     "execution_count": 30,
     "metadata": {},
     "output_type": "execute_result"
    }
   ],
   "source": [
    "parameters = {'kernel':('linear', 'rbf'), 'C':[1, 10]}\n",
    "grid_search = GridSearchCV(SVC(), parameters, cv=3, n_jobs=3, verbose=3, scoring='accuracy')\n",
    "\n",
    "grid_search.fit(data, target)"
   ]
  },
  {
   "cell_type": "code",
   "execution_count": 31,
   "metadata": {},
   "outputs": [
    {
     "name": "stdout",
     "output_type": "stream",
     "text": [
      "SVC(C=10, cache_size=200, class_weight=None, coef0=0.0,\n",
      "  decision_function_shape=None, degree=3, gamma='auto', kernel='linear',\n",
      "  max_iter=-1, probability=False, random_state=None, shrinking=True,\n",
      "  tol=0.001, verbose=False)\n",
      "0.637913741224\n",
      "{'C': 10, 'kernel': 'linear'}\n"
     ]
    }
   ],
   "source": [
    "print(grid_search.best_estimator_)\n",
    "print(grid_search.best_score_)\n",
    "print(grid_search.best_params_)"
   ]
  },
  {
   "cell_type": "markdown",
   "metadata": {},
   "source": [
    "## Evaluating Naive Bayses"
   ]
  },
  {
   "cell_type": "code",
   "execution_count": 32,
   "metadata": {},
   "outputs": [
    {
     "name": "stdout",
     "output_type": "stream",
     "text": [
      "0.369113311331\n",
      "0.0142113095238\n"
     ]
    }
   ],
   "source": [
    "from sklearn.naive_bayes import GaussianNB\n",
    "\n",
    "model = GaussianNB()\n",
    "\n",
    "acc = cross_val_score(model, data, target, cv=10, scoring='accuracy').mean()\n",
    "recall = cross_val_score(model, data, target, cv=10, scoring='recall').mean()\n",
    "print(acc)\n",
    "print(recall)"
   ]
  },
  {
   "cell_type": "code",
   "execution_count": 33,
   "metadata": {},
   "outputs": [
    {
     "name": "stdout",
     "output_type": "stream",
     "text": [
      "0.776683575644\n",
      "0.634907090709\n",
      "0.998412698413\n"
     ]
    }
   ],
   "source": [
    "from sklearn.naive_bayes import MultinomialNB\n",
    "\n",
    "model = MultinomialNB()\n",
    "\n",
    "f1 = cross_val_score(model, data, target, cv=10, scoring='f1').mean()\n",
    "acc = cross_val_score(model, data, target, cv=10, scoring='accuracy').mean()\n",
    "recall = cross_val_score(model, data, target, cv=10, scoring='recall').mean()\n",
    "print(f1)\n",
    "print(acc)\n",
    "print(recall)"
   ]
  },
  {
   "cell_type": "code",
   "execution_count": null,
   "metadata": {
    "collapsed": true
   },
   "outputs": [],
   "source": []
  }
 ],
 "metadata": {
  "kernelspec": {
   "display_name": "Python 3",
   "language": "python",
   "name": "python3"
  },
  "language_info": {
   "codemirror_mode": {
    "name": "ipython",
    "version": 3
   },
   "file_extension": ".py",
   "mimetype": "text/x-python",
   "name": "python",
   "nbconvert_exporter": "python",
   "pygments_lexer": "ipython3",
   "version": "3.6.1"
  }
 },
 "nbformat": 4,
 "nbformat_minor": 2
}
