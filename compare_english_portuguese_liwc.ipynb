{
 "cells": [
  {
   "cell_type": "code",
   "execution_count": 18,
   "metadata": {
    "collapsed": true,
    "deletable": true,
    "editable": true
   },
   "outputs": [],
   "source": [
    "import pandas as pd\n",
    "import numpy as np\n",
    "from scipy.stats import wilcoxon\n",
    "\n",
    "portuguese_liwc = pd.read_csv('portuguese_stories_liwc.csv.gz', compression='gzip')\n",
    "english_liwc = pd.read_csv('icwsm09_stories_liwc.csv.gz', compression='gzip')"
   ]
  },
  {
   "cell_type": "code",
   "execution_count": 19,
   "metadata": {
    "collapsed": false,
    "deletable": true,
    "editable": true
   },
   "outputs": [
    {
     "name": "stdout",
     "output_type": "stream",
     "text": [
      "postuguese: 37746\n",
      "english: 383361\n"
     ]
    }
   ],
   "source": [
    "print(\"postuguese: \" + str(len(portuguese_liwc)))\n",
    "print(\"english: \" + str(len(english_liwc)))"
   ]
  },
  {
   "cell_type": "markdown",
   "metadata": {},
   "source": [
    "## Corpus Filter"
   ]
  },
  {
   "cell_type": "code",
   "execution_count": 22,
   "metadata": {
    "collapsed": false,
    "deletable": true,
    "editable": true
   },
   "outputs": [
    {
     "data": {
      "text/plain": [
       "28847"
      ]
     },
     "execution_count": 22,
     "metadata": {},
     "output_type": "execute_result"
    }
   ],
   "source": [
    "portuguese_liwc = portuguese_liwc[((portuguese_liwc['wc'] > 10) & (portuguese_liwc['wc'] < 1000))]\n",
    "portuguese_liwc = portuguese_liwc[((portuguese_liwc['wps'] > 3) & (portuguese_liwc['wps'] < 30))]\n",
    "portuguese_liwc = portuguese_liwc[portuguese_liwc['i'] > 2]\n",
    "portuguese_liwc = portuguese_liwc[(portuguese_liwc['negemo'] + portuguese_liwc['posemo']) > 2]\n",
    "portuguese_liwc = portuguese_liwc[portuguese_liwc['score'] > 0]\n",
    "len(portuguese_liwc)"
   ]
  },
  {
   "cell_type": "code",
   "execution_count": 24,
   "metadata": {
    "collapsed": false,
    "deletable": true,
    "editable": true
   },
   "outputs": [
    {
     "data": {
      "text/plain": [
       "161704"
      ]
     },
     "execution_count": 24,
     "metadata": {},
     "output_type": "execute_result"
    }
   ],
   "source": [
    "english_liwc = english_liwc[((english_liwc['wc'] > 10) & (english_liwc['wc'] < 1000))]\n",
    "english_liwc = english_liwc[((english_liwc['wps'] > 3) & (english_liwc['wps'] < 30))]\n",
    "english_liwc = english_liwc[english_liwc['i'] > 2]\n",
    "english_liwc = english_liwc[(english_liwc['negemo'] + english_liwc['posemo']) > 2]\n",
    "english_liwc = english_liwc[english_liwc['score'] > 0]\n",
    "len(english_liwc)"
   ]
  },
  {
   "cell_type": "markdown",
   "metadata": {},
   "source": [
    "## Wilcoxon Test"
   ]
  },
  {
   "cell_type": "code",
   "execution_count": 25,
   "metadata": {
    "collapsed": true
   },
   "outputs": [],
   "source": [
    "english_sample = english_liwc.sample(len(portuguese_liwc))"
   ]
  },
  {
   "cell_type": "code",
   "execution_count": 35,
   "metadata": {
    "collapsed": false
   },
   "outputs": [],
   "source": [
    "def diff(x): \n",
    "    return abs(x['portuguese_mean'] - x['english_mean'])\n",
    "\n",
    "stats = pd.DataFrame(data={'portuguese_mean': portuguese_liwc.mean(axis=0)}, index=portuguese_liwc.columns.values)\n",
    "stats['english_mean'] = english_sample.mean(axis=0)\n",
    "\n",
    "stats['diff'] = stats.apply(diff,axis=1)\n",
    "\n",
    "significance = []\n",
    "for column in list(stats.index.values):\n",
    "    a = portuguese_liwc[column]\n",
    "    b = english_sample[column]\n",
    "    t, p = wilcoxon(a, b)\n",
    "    significance.append(p)\n",
    "stats['significance'] = significance"
   ]
  },
  {
   "cell_type": "code",
   "execution_count": 36,
   "metadata": {
    "collapsed": false
   },
   "outputs": [
    {
     "data": {
      "text/html": [
       "<div>\n",
       "<table border=\"1\" class=\"dataframe\">\n",
       "  <thead>\n",
       "    <tr style=\"text-align: right;\">\n",
       "      <th></th>\n",
       "      <th>portuguese_mean</th>\n",
       "      <th>english_mean</th>\n",
       "      <th>diff</th>\n",
       "      <th>significance</th>\n",
       "    </tr>\n",
       "  </thead>\n",
       "  <tbody>\n",
       "    <tr>\n",
       "      <th>preps</th>\n",
       "      <td>50.713211</td>\n",
       "      <td>49.482095</td>\n",
       "      <td>1.231116</td>\n",
       "      <td>0.084829</td>\n",
       "    </tr>\n",
       "    <tr>\n",
       "      <th>future</th>\n",
       "      <td>2.229937</td>\n",
       "      <td>2.176864</td>\n",
       "      <td>0.053073</td>\n",
       "      <td>0.082062</td>\n",
       "    </tr>\n",
       "  </tbody>\n",
       "</table>\n",
       "</div>"
      ],
      "text/plain": [
       "        portuguese_mean  english_mean      diff  significance\n",
       "preps         50.713211     49.482095  1.231116      0.084829\n",
       "future         2.229937      2.176864  0.053073      0.082062"
      ]
     },
     "execution_count": 36,
     "metadata": {},
     "output_type": "execute_result"
    }
   ],
   "source": [
    "stats[stats.significance > 0.05].sort_values('significance',ascending=False)"
   ]
  },
  {
   "cell_type": "code",
   "execution_count": 37,
   "metadata": {
    "collapsed": false
   },
   "outputs": [
    {
     "data": {
      "text/html": [
       "<div>\n",
       "<table border=\"1\" class=\"dataframe\">\n",
       "  <thead>\n",
       "    <tr style=\"text-align: right;\">\n",
       "      <th></th>\n",
       "      <th>portuguese_mean</th>\n",
       "      <th>english_mean</th>\n",
       "      <th>diff</th>\n",
       "      <th>significance</th>\n",
       "    </tr>\n",
       "  </thead>\n",
       "  <tbody>\n",
       "    <tr>\n",
       "      <th>assent</th>\n",
       "      <td>1.062156</td>\n",
       "      <td>1.025722</td>\n",
       "      <td>0.036434</td>\n",
       "      <td>5.451402e-14</td>\n",
       "    </tr>\n",
       "    <tr>\n",
       "      <th>wps</th>\n",
       "      <td>15.950989</td>\n",
       "      <td>15.766239</td>\n",
       "      <td>0.184750</td>\n",
       "      <td>5.994626e-04</td>\n",
       "    </tr>\n",
       "    <tr>\n",
       "      <th>family</th>\n",
       "      <td>1.301487</td>\n",
       "      <td>1.570666</td>\n",
       "      <td>0.269179</td>\n",
       "      <td>4.395356e-78</td>\n",
       "    </tr>\n",
       "    <tr>\n",
       "      <th>score</th>\n",
       "      <td>0.479365</td>\n",
       "      <td>0.046262</td>\n",
       "      <td>0.433103</td>\n",
       "      <td>0.000000e+00</td>\n",
       "    </tr>\n",
       "    <tr>\n",
       "      <th>death</th>\n",
       "      <td>0.933477</td>\n",
       "      <td>0.408465</td>\n",
       "      <td>0.525011</td>\n",
       "      <td>0.000000e+00</td>\n",
       "    </tr>\n",
       "    <tr>\n",
       "      <th>anx</th>\n",
       "      <td>1.688321</td>\n",
       "      <td>1.154713</td>\n",
       "      <td>0.533608</td>\n",
       "      <td>1.071054e-243</td>\n",
       "    </tr>\n",
       "    <tr>\n",
       "      <th>home</th>\n",
       "      <td>2.091483</td>\n",
       "      <td>2.844906</td>\n",
       "      <td>0.753423</td>\n",
       "      <td>5.797805e-198</td>\n",
       "    </tr>\n",
       "    <tr>\n",
       "      <th>filler</th>\n",
       "      <td>0.495407</td>\n",
       "      <td>1.429993</td>\n",
       "      <td>0.934586</td>\n",
       "      <td>0.000000e+00</td>\n",
       "    </tr>\n",
       "    <tr>\n",
       "      <th>anger</th>\n",
       "      <td>3.075120</td>\n",
       "      <td>2.121503</td>\n",
       "      <td>0.953617</td>\n",
       "      <td>4.772740e-309</td>\n",
       "    </tr>\n",
       "    <tr>\n",
       "      <th>we</th>\n",
       "      <td>1.651506</td>\n",
       "      <td>3.167019</td>\n",
       "      <td>1.515513</td>\n",
       "      <td>0.000000e+00</td>\n",
       "    </tr>\n",
       "  </tbody>\n",
       "</table>\n",
       "</div>"
      ],
      "text/plain": [
       "        portuguese_mean  english_mean      diff   significance\n",
       "assent         1.062156      1.025722  0.036434   5.451402e-14\n",
       "wps           15.950989     15.766239  0.184750   5.994626e-04\n",
       "family         1.301487      1.570666  0.269179   4.395356e-78\n",
       "score          0.479365      0.046262  0.433103   0.000000e+00\n",
       "death          0.933477      0.408465  0.525011   0.000000e+00\n",
       "anx            1.688321      1.154713  0.533608  1.071054e-243\n",
       "home           2.091483      2.844906  0.753423  5.797805e-198\n",
       "filler         0.495407      1.429993  0.934586   0.000000e+00\n",
       "anger          3.075120      2.121503  0.953617  4.772740e-309\n",
       "we             1.651506      3.167019  1.515513   0.000000e+00"
      ]
     },
     "execution_count": 37,
     "metadata": {},
     "output_type": "execute_result"
    }
   ],
   "source": [
    "stats[stats.significance < 0.05].sort_values('diff',ascending=True).head(10)"
   ]
  },
  {
   "cell_type": "code",
   "execution_count": 38,
   "metadata": {
    "collapsed": false
   },
   "outputs": [
    {
     "data": {
      "text/html": [
       "<div>\n",
       "<table border=\"1\" class=\"dataframe\">\n",
       "  <thead>\n",
       "    <tr style=\"text-align: right;\">\n",
       "      <th></th>\n",
       "      <th>portuguese_mean</th>\n",
       "      <th>english_mean</th>\n",
       "      <th>diff</th>\n",
       "      <th>significance</th>\n",
       "    </tr>\n",
       "  </thead>\n",
       "  <tbody>\n",
       "    <tr>\n",
       "      <th>Unnamed: 0</th>\n",
       "      <td>18842.674871</td>\n",
       "      <td>198994.058758</td>\n",
       "      <td>180151.383887</td>\n",
       "      <td>0.0</td>\n",
       "    </tr>\n",
       "    <tr>\n",
       "      <th>cogmech</th>\n",
       "      <td>141.564634</td>\n",
       "      <td>59.300309</td>\n",
       "      <td>82.264326</td>\n",
       "      <td>0.0</td>\n",
       "    </tr>\n",
       "    <tr>\n",
       "      <th>social</th>\n",
       "      <td>69.569765</td>\n",
       "      <td>28.306687</td>\n",
       "      <td>41.263078</td>\n",
       "      <td>0.0</td>\n",
       "    </tr>\n",
       "    <tr>\n",
       "      <th>incl</th>\n",
       "      <td>51.971297</td>\n",
       "      <td>21.166291</td>\n",
       "      <td>30.805006</td>\n",
       "      <td>0.0</td>\n",
       "    </tr>\n",
       "    <tr>\n",
       "      <th>ipron</th>\n",
       "      <td>44.538878</td>\n",
       "      <td>17.926370</td>\n",
       "      <td>26.612507</td>\n",
       "      <td>0.0</td>\n",
       "    </tr>\n",
       "    <tr>\n",
       "      <th>tentat</th>\n",
       "      <td>34.992339</td>\n",
       "      <td>8.938954</td>\n",
       "      <td>26.053385</td>\n",
       "      <td>0.0</td>\n",
       "    </tr>\n",
       "    <tr>\n",
       "      <th>you</th>\n",
       "      <td>24.814920</td>\n",
       "      <td>1.870766</td>\n",
       "      <td>22.944154</td>\n",
       "      <td>0.0</td>\n",
       "    </tr>\n",
       "    <tr>\n",
       "      <th>relativ</th>\n",
       "      <td>79.698756</td>\n",
       "      <td>56.778521</td>\n",
       "      <td>22.920234</td>\n",
       "      <td>0.0</td>\n",
       "    </tr>\n",
       "    <tr>\n",
       "      <th>ingest</th>\n",
       "      <td>24.720699</td>\n",
       "      <td>2.327382</td>\n",
       "      <td>22.393316</td>\n",
       "      <td>0.0</td>\n",
       "    </tr>\n",
       "    <tr>\n",
       "      <th>humans</th>\n",
       "      <td>24.318161</td>\n",
       "      <td>2.371200</td>\n",
       "      <td>21.946962</td>\n",
       "      <td>0.0</td>\n",
       "    </tr>\n",
       "  </tbody>\n",
       "</table>\n",
       "</div>"
      ],
      "text/plain": [
       "            portuguese_mean   english_mean           diff  significance\n",
       "Unnamed: 0     18842.674871  198994.058758  180151.383887           0.0\n",
       "cogmech          141.564634      59.300309      82.264326           0.0\n",
       "social            69.569765      28.306687      41.263078           0.0\n",
       "incl              51.971297      21.166291      30.805006           0.0\n",
       "ipron             44.538878      17.926370      26.612507           0.0\n",
       "tentat            34.992339       8.938954      26.053385           0.0\n",
       "you               24.814920       1.870766      22.944154           0.0\n",
       "relativ           79.698756      56.778521      22.920234           0.0\n",
       "ingest            24.720699       2.327382      22.393316           0.0\n",
       "humans            24.318161       2.371200      21.946962           0.0"
      ]
     },
     "execution_count": 38,
     "metadata": {},
     "output_type": "execute_result"
    }
   ],
   "source": [
    "stats[stats.significance < 0.05].sort_values('diff',ascending=False).head(10)"
   ]
  },
  {
   "cell_type": "markdown",
   "metadata": {},
   "source": [
    "## Regression Evaluation"
   ]
  },
  {
   "cell_type": "code",
   "execution_count": null,
   "metadata": {
    "collapsed": true
   },
   "outputs": [],
   "source": []
  }
 ],
 "metadata": {
  "kernelspec": {
   "display_name": "Python 3",
   "language": "python",
   "name": "python3"
  },
  "language_info": {
   "codemirror_mode": {
    "name": "ipython",
    "version": 3
   },
   "file_extension": ".py",
   "mimetype": "text/x-python",
   "name": "python",
   "nbconvert_exporter": "python",
   "pygments_lexer": "ipython3",
   "version": "3.5.2"
  }
 },
 "nbformat": 4,
 "nbformat_minor": 2
}
