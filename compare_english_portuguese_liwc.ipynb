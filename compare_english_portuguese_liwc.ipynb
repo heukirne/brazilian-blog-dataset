{
 "cells": [
  {
   "cell_type": "code",
   "execution_count": 19,
   "metadata": {
    "collapsed": true,
    "deletable": true,
    "editable": true
   },
   "outputs": [],
   "source": [
    "import pandas as pd\n",
    "import numpy as np\n",
    "from scipy.stats import wilcoxon\n",
    "\n",
    "portuguese_liwc = pd.read_csv('portuguese_stories_liwc.csv.gz', compression='gzip')\n",
    "english_liwc = pd.read_csv('icwsm09_stories_liwc.csv.gz', compression='gzip')"
   ]
  },
  {
   "cell_type": "code",
   "execution_count": 20,
   "metadata": {
    "collapsed": false,
    "deletable": true,
    "editable": true
   },
   "outputs": [
    {
     "name": "stdout",
     "output_type": "stream",
     "text": [
      "postuguese: 37746\n",
      "english: 383361\n"
     ]
    }
   ],
   "source": [
    "print(\"postuguese: \" + str(len(portuguese_liwc)))\n",
    "print(\"english: \" + str(len(english_liwc)))"
   ]
  },
  {
   "cell_type": "markdown",
   "metadata": {
    "deletable": true,
    "editable": true
   },
   "source": [
    "## Corpus Filter"
   ]
  },
  {
   "cell_type": "code",
   "execution_count": 21,
   "metadata": {
    "collapsed": false,
    "deletable": true,
    "editable": true
   },
   "outputs": [
    {
     "data": {
      "text/plain": [
       "28847"
      ]
     },
     "execution_count": 21,
     "metadata": {},
     "output_type": "execute_result"
    }
   ],
   "source": [
    "portuguese_liwc = portuguese_liwc[((portuguese_liwc['wc'] > 10) & (portuguese_liwc['wc'] < 1000))]\n",
    "portuguese_liwc = portuguese_liwc[((portuguese_liwc['wps'] > 3) & (portuguese_liwc['wps'] < 30))]\n",
    "portuguese_liwc = portuguese_liwc[portuguese_liwc['i'] > 2]\n",
    "portuguese_liwc = portuguese_liwc[(portuguese_liwc['negemo'] + portuguese_liwc['posemo']) > 2]\n",
    "portuguese_liwc = portuguese_liwc[portuguese_liwc['score'] > 0]\n",
    "len(portuguese_liwc)"
   ]
  },
  {
   "cell_type": "code",
   "execution_count": 22,
   "metadata": {
    "collapsed": false,
    "deletable": true,
    "editable": true
   },
   "outputs": [
    {
     "data": {
      "text/plain": [
       "161704"
      ]
     },
     "execution_count": 22,
     "metadata": {},
     "output_type": "execute_result"
    }
   ],
   "source": [
    "english_liwc = english_liwc[((english_liwc['wc'] > 10) & (english_liwc['wc'] < 1000))]\n",
    "english_liwc = english_liwc[((english_liwc['wps'] > 3) & (english_liwc['wps'] < 30))]\n",
    "english_liwc = english_liwc[english_liwc['i'] > 2]\n",
    "english_liwc = english_liwc[(english_liwc['negemo'] + english_liwc['posemo']) > 2]\n",
    "english_liwc = english_liwc[english_liwc['score'] > 0]\n",
    "len(english_liwc)"
   ]
  },
  {
   "cell_type": "markdown",
   "metadata": {
    "deletable": true,
    "editable": true
   },
   "source": [
    "## Wilcoxon Test"
   ]
  },
  {
   "cell_type": "code",
   "execution_count": 23,
   "metadata": {
    "collapsed": true,
    "deletable": true,
    "editable": true
   },
   "outputs": [],
   "source": [
    "english_sample = english_liwc.sample(len(portuguese_liwc))"
   ]
  },
  {
   "cell_type": "code",
   "execution_count": 24,
   "metadata": {
    "collapsed": false,
    "deletable": true,
    "editable": true
   },
   "outputs": [],
   "source": [
    "def diff(x): \n",
    "    return abs(x['portuguese_mean'] - x['english_mean'])\n",
    "\n",
    "stats = pd.DataFrame(data={'portuguese_mean': portuguese_liwc.mean(axis=0)}, index=portuguese_liwc.columns.values)\n",
    "stats['english_mean'] = english_sample.mean(axis=0)\n",
    "\n",
    "stats['diff'] = stats.apply(diff,axis=1)\n",
    "\n",
    "significance = []\n",
    "for column in list(stats.index.values):\n",
    "    a = portuguese_liwc[column]\n",
    "    b = english_sample[column]\n",
    "    t, p = wilcoxon(a, b)\n",
    "    significance.append(p)\n",
    "stats['significance'] = significance"
   ]
  },
  {
   "cell_type": "code",
   "execution_count": 25,
   "metadata": {
    "collapsed": false,
    "deletable": true,
    "editable": true
   },
   "outputs": [
    {
     "data": {
      "text/html": [
       "<div>\n",
       "<table border=\"1\" class=\"dataframe\">\n",
       "  <thead>\n",
       "    <tr style=\"text-align: right;\">\n",
       "      <th></th>\n",
       "      <th>portuguese_mean</th>\n",
       "      <th>english_mean</th>\n",
       "      <th>diff</th>\n",
       "      <th>significance</th>\n",
       "    </tr>\n",
       "  </thead>\n",
       "  <tbody>\n",
       "  </tbody>\n",
       "</table>\n",
       "</div>"
      ],
      "text/plain": [
       "Empty DataFrame\n",
       "Columns: [portuguese_mean, english_mean, diff, significance]\n",
       "Index: []"
      ]
     },
     "execution_count": 25,
     "metadata": {},
     "output_type": "execute_result"
    }
   ],
   "source": [
    "stats[stats.significance > 0.05].sort_values('significance',ascending=False)"
   ]
  },
  {
   "cell_type": "code",
   "execution_count": 26,
   "metadata": {
    "collapsed": false,
    "deletable": true,
    "editable": true
   },
   "outputs": [
    {
     "data": {
      "text/html": [
       "<div>\n",
       "<table border=\"1\" class=\"dataframe\">\n",
       "  <thead>\n",
       "    <tr style=\"text-align: right;\">\n",
       "      <th></th>\n",
       "      <th>portuguese_mean</th>\n",
       "      <th>english_mean</th>\n",
       "      <th>diff</th>\n",
       "      <th>significance</th>\n",
       "    </tr>\n",
       "  </thead>\n",
       "  <tbody>\n",
       "    <tr>\n",
       "      <th>future</th>\n",
       "      <td>2.229937</td>\n",
       "      <td>2.170971</td>\n",
       "      <td>0.058966</td>\n",
       "      <td>1.249412e-02</td>\n",
       "    </tr>\n",
       "    <tr>\n",
       "      <th>assent</th>\n",
       "      <td>1.062156</td>\n",
       "      <td>1.001803</td>\n",
       "      <td>0.060353</td>\n",
       "      <td>4.960690e-19</td>\n",
       "    </tr>\n",
       "    <tr>\n",
       "      <th>wps</th>\n",
       "      <td>15.950989</td>\n",
       "      <td>15.761487</td>\n",
       "      <td>0.189502</td>\n",
       "      <td>1.163319e-03</td>\n",
       "    </tr>\n",
       "    <tr>\n",
       "      <th>family</th>\n",
       "      <td>1.301487</td>\n",
       "      <td>1.533990</td>\n",
       "      <td>0.232503</td>\n",
       "      <td>4.272369e-63</td>\n",
       "    </tr>\n",
       "    <tr>\n",
       "      <th>score</th>\n",
       "      <td>0.479365</td>\n",
       "      <td>0.046321</td>\n",
       "      <td>0.433044</td>\n",
       "      <td>0.000000e+00</td>\n",
       "    </tr>\n",
       "    <tr>\n",
       "      <th>death</th>\n",
       "      <td>0.933477</td>\n",
       "      <td>0.414116</td>\n",
       "      <td>0.519361</td>\n",
       "      <td>0.000000e+00</td>\n",
       "    </tr>\n",
       "    <tr>\n",
       "      <th>anx</th>\n",
       "      <td>1.688321</td>\n",
       "      <td>1.158249</td>\n",
       "      <td>0.530072</td>\n",
       "      <td>8.073989e-241</td>\n",
       "    </tr>\n",
       "    <tr>\n",
       "      <th>home</th>\n",
       "      <td>2.091483</td>\n",
       "      <td>2.773391</td>\n",
       "      <td>0.681908</td>\n",
       "      <td>1.819561e-165</td>\n",
       "    </tr>\n",
       "    <tr>\n",
       "      <th>filler</th>\n",
       "      <td>0.495407</td>\n",
       "      <td>1.403855</td>\n",
       "      <td>0.908448</td>\n",
       "      <td>0.000000e+00</td>\n",
       "    </tr>\n",
       "    <tr>\n",
       "      <th>anger</th>\n",
       "      <td>3.075120</td>\n",
       "      <td>2.108122</td>\n",
       "      <td>0.966998</td>\n",
       "      <td>0.000000e+00</td>\n",
       "    </tr>\n",
       "  </tbody>\n",
       "</table>\n",
       "</div>"
      ],
      "text/plain": [
       "        portuguese_mean  english_mean      diff   significance\n",
       "future         2.229937      2.170971  0.058966   1.249412e-02\n",
       "assent         1.062156      1.001803  0.060353   4.960690e-19\n",
       "wps           15.950989     15.761487  0.189502   1.163319e-03\n",
       "family         1.301487      1.533990  0.232503   4.272369e-63\n",
       "score          0.479365      0.046321  0.433044   0.000000e+00\n",
       "death          0.933477      0.414116  0.519361   0.000000e+00\n",
       "anx            1.688321      1.158249  0.530072  8.073989e-241\n",
       "home           2.091483      2.773391  0.681908  1.819561e-165\n",
       "filler         0.495407      1.403855  0.908448   0.000000e+00\n",
       "anger          3.075120      2.108122  0.966998   0.000000e+00"
      ]
     },
     "execution_count": 26,
     "metadata": {},
     "output_type": "execute_result"
    }
   ],
   "source": [
    "stats[stats.significance < 0.05].sort_values('diff',ascending=True).head(10)"
   ]
  },
  {
   "cell_type": "code",
   "execution_count": 27,
   "metadata": {
    "collapsed": false,
    "deletable": true,
    "editable": true
   },
   "outputs": [
    {
     "data": {
      "text/html": [
       "<div>\n",
       "<table border=\"1\" class=\"dataframe\">\n",
       "  <thead>\n",
       "    <tr style=\"text-align: right;\">\n",
       "      <th></th>\n",
       "      <th>portuguese_mean</th>\n",
       "      <th>english_mean</th>\n",
       "      <th>diff</th>\n",
       "      <th>significance</th>\n",
       "    </tr>\n",
       "  </thead>\n",
       "  <tbody>\n",
       "    <tr>\n",
       "      <th>Unnamed: 0</th>\n",
       "      <td>18842.674871</td>\n",
       "      <td>198210.061636</td>\n",
       "      <td>179367.386765</td>\n",
       "      <td>0.0</td>\n",
       "    </tr>\n",
       "    <tr>\n",
       "      <th>cogmech</th>\n",
       "      <td>141.564634</td>\n",
       "      <td>58.841162</td>\n",
       "      <td>82.723472</td>\n",
       "      <td>0.0</td>\n",
       "    </tr>\n",
       "    <tr>\n",
       "      <th>social</th>\n",
       "      <td>69.569765</td>\n",
       "      <td>28.017471</td>\n",
       "      <td>41.552293</td>\n",
       "      <td>0.0</td>\n",
       "    </tr>\n",
       "    <tr>\n",
       "      <th>incl</th>\n",
       "      <td>51.971297</td>\n",
       "      <td>21.016224</td>\n",
       "      <td>30.955073</td>\n",
       "      <td>0.0</td>\n",
       "    </tr>\n",
       "    <tr>\n",
       "      <th>ipron</th>\n",
       "      <td>44.538878</td>\n",
       "      <td>17.793289</td>\n",
       "      <td>26.745589</td>\n",
       "      <td>0.0</td>\n",
       "    </tr>\n",
       "    <tr>\n",
       "      <th>tentat</th>\n",
       "      <td>34.992339</td>\n",
       "      <td>8.863764</td>\n",
       "      <td>26.128575</td>\n",
       "      <td>0.0</td>\n",
       "    </tr>\n",
       "    <tr>\n",
       "      <th>relativ</th>\n",
       "      <td>79.698756</td>\n",
       "      <td>56.132041</td>\n",
       "      <td>23.566714</td>\n",
       "      <td>0.0</td>\n",
       "    </tr>\n",
       "    <tr>\n",
       "      <th>you</th>\n",
       "      <td>24.814920</td>\n",
       "      <td>1.833466</td>\n",
       "      <td>22.981454</td>\n",
       "      <td>0.0</td>\n",
       "    </tr>\n",
       "    <tr>\n",
       "      <th>ingest</th>\n",
       "      <td>24.720699</td>\n",
       "      <td>2.312753</td>\n",
       "      <td>22.407945</td>\n",
       "      <td>0.0</td>\n",
       "    </tr>\n",
       "    <tr>\n",
       "      <th>humans</th>\n",
       "      <td>24.318161</td>\n",
       "      <td>2.365723</td>\n",
       "      <td>21.952439</td>\n",
       "      <td>0.0</td>\n",
       "    </tr>\n",
       "  </tbody>\n",
       "</table>\n",
       "</div>"
      ],
      "text/plain": [
       "            portuguese_mean   english_mean           diff  significance\n",
       "Unnamed: 0     18842.674871  198210.061636  179367.386765           0.0\n",
       "cogmech          141.564634      58.841162      82.723472           0.0\n",
       "social            69.569765      28.017471      41.552293           0.0\n",
       "incl              51.971297      21.016224      30.955073           0.0\n",
       "ipron             44.538878      17.793289      26.745589           0.0\n",
       "tentat            34.992339       8.863764      26.128575           0.0\n",
       "relativ           79.698756      56.132041      23.566714           0.0\n",
       "you               24.814920       1.833466      22.981454           0.0\n",
       "ingest            24.720699       2.312753      22.407945           0.0\n",
       "humans            24.318161       2.365723      21.952439           0.0"
      ]
     },
     "execution_count": 27,
     "metadata": {},
     "output_type": "execute_result"
    }
   ],
   "source": [
    "stats[stats.significance < 0.05].sort_values('diff',ascending=False).head(10)"
   ]
  }
 ],
 "metadata": {
  "kernelspec": {
   "display_name": "Python 3",
   "language": "python",
   "name": "python3"
  },
  "language_info": {
   "codemirror_mode": {
    "name": "ipython",
    "version": 3
   },
   "file_extension": ".py",
   "mimetype": "text/x-python",
   "name": "python",
   "nbconvert_exporter": "python",
   "pygments_lexer": "ipython3",
   "version": "3.5.2"
  }
 },
 "nbformat": 4,
 "nbformat_minor": 2
}
